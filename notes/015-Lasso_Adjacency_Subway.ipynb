{
 "metadata": {
  "name": ""
 },
 "nbformat": 3,
 "nbformat_minor": 0,
 "worksheets": [
  {
   "cells": [
    {
     "cell_type": "code",
     "collapsed": false,
     "input": [
      "import os\n",
      "import glob\n",
      "import scipy.io as sio\n",
      "import numpy as np\n",
      "from admm.lasso import adjacency\n",
      "\n",
      "\n",
      "video_folder = os.path.abspath('/Users/x/work/thesis/notes/subway_entrance_feats/')\n",
      "\n",
      "for event_path in glob.glob(os.path.join(video_folder, '*.mat')):\n",
      "    # Load data from mat file.\n",
      "    event_data = sio.loadmat(event_path)\n",
      "\n",
      "    # Add adjacency matrix to the mat file if it does not exist.\n",
      "    if \"W\" not in event_data:\n",
      "        print(\"Adding W to %s\" % event_path)\n",
      "        event_data[\"W\"] = adjacency(event_data[\"subs\"])\n",
      "        sio.savemat(event_path, event_data)\n",
      "    else:\n",
      "        print \"Skipping %s\" % event_path"
     ],
     "language": "python",
     "metadata": {},
     "outputs": [
      {
       "output_type": "stream",
       "stream": "stdout",
       "text": [
        "Skipping /Users/x/work/thesis/notes/subway_entrance_feats/features_subway_entrance_turnstiles_01.mat\n",
        "Skipping /Users/x/work/thesis/notes/subway_entrance_feats/features_subway_entrance_turnstiles_02.mat"
       ]
      },
      {
       "output_type": "stream",
       "stream": "stdout",
       "text": [
        "\n",
        "Skipping /Users/x/work/thesis/notes/subway_entrance_feats/features_subway_entrance_turnstiles_03.mat"
       ]
      },
      {
       "output_type": "stream",
       "stream": "stdout",
       "text": [
        "\n",
        "Skipping /Users/x/work/thesis/notes/subway_entrance_feats/features_subway_entrance_turnstiles_04.mat"
       ]
      },
      {
       "output_type": "stream",
       "stream": "stdout",
       "text": [
        "\n",
        "Skipping /Users/x/work/thesis/notes/subway_entrance_feats/features_subway_entrance_turnstiles_05.mat"
       ]
      },
      {
       "output_type": "stream",
       "stream": "stdout",
       "text": [
        "\n",
        "Skipping /Users/x/work/thesis/notes/subway_entrance_feats/features_subway_entrance_turnstiles_06.mat"
       ]
      },
      {
       "output_type": "stream",
       "stream": "stdout",
       "text": [
        "\n",
        "Skipping /Users/x/work/thesis/notes/subway_entrance_feats/features_subway_entrance_turnstiles_07.mat"
       ]
      },
      {
       "output_type": "stream",
       "stream": "stdout",
       "text": [
        "\n",
        "Skipping /Users/x/work/thesis/notes/subway_entrance_feats/features_subway_entrance_turnstiles_08.mat\n",
        "Skipping /Users/x/work/thesis/notes/subway_entrance_feats/features_subway_entrance_turnstiles_09.mat"
       ]
      },
      {
       "output_type": "stream",
       "stream": "stdout",
       "text": [
        "\n",
        "Skipping /Users/x/work/thesis/notes/subway_entrance_feats/features_subway_entrance_turnstiles_10.mat"
       ]
      },
      {
       "output_type": "stream",
       "stream": "stdout",
       "text": [
        "\n",
        "Skipping /Users/x/work/thesis/notes/subway_entrance_feats/features_subway_entrance_turnstiles_100.mat"
       ]
      },
      {
       "output_type": "stream",
       "stream": "stdout",
       "text": [
        "\n",
        "Skipping /Users/x/work/thesis/notes/subway_entrance_feats/features_subway_entrance_turnstiles_11.mat\n",
        "Skipping /Users/x/work/thesis/notes/subway_entrance_feats/features_subway_entrance_turnstiles_12.mat"
       ]
      },
      {
       "output_type": "stream",
       "stream": "stdout",
       "text": [
        "\n",
        "Skipping /Users/x/work/thesis/notes/subway_entrance_feats/features_subway_entrance_turnstiles_13.mat\n",
        "Skipping /Users/x/work/thesis/notes/subway_entrance_feats/features_subway_entrance_turnstiles_14.mat\n",
        "Skipping /Users/x/work/thesis/notes/subway_entrance_feats/features_subway_entrance_turnstiles_15.mat"
       ]
      },
      {
       "output_type": "stream",
       "stream": "stdout",
       "text": [
        "\n",
        "Skipping /Users/x/work/thesis/notes/subway_entrance_feats/features_subway_entrance_turnstiles_16.mat\n",
        "Adding W to /Users/x/work/thesis/notes/subway_entrance_feats/features_subway_entrance_turnstiles_17.mat\n",
        "Adding W to /Users/x/work/thesis/notes/subway_entrance_feats/features_subway_entrance_turnstiles_18.mat"
       ]
      },
      {
       "output_type": "stream",
       "stream": "stdout",
       "text": [
        "\n",
        "Adding W to /Users/x/work/thesis/notes/subway_entrance_feats/features_subway_entrance_turnstiles_19.mat"
       ]
      },
      {
       "ename": "KeyboardInterrupt",
       "evalue": "",
       "output_type": "pyerr",
       "traceback": [
        "\u001b[0;31m---------------------------------------------------------------------------\u001b[0m\n\u001b[0;31mKeyboardInterrupt\u001b[0m                         Traceback (most recent call last)",
        "\u001b[0;32m<ipython-input-19-1b4772a7f8e2>\u001b[0m in \u001b[0;36m<module>\u001b[0;34m()\u001b[0m\n\u001b[1;32m     15\u001b[0m     \u001b[0;32mif\u001b[0m \u001b[0;34m\"W\"\u001b[0m \u001b[0;32mnot\u001b[0m \u001b[0;32min\u001b[0m \u001b[0mevent_data\u001b[0m\u001b[0;34m:\u001b[0m\u001b[0;34m\u001b[0m\u001b[0m\n\u001b[1;32m     16\u001b[0m         \u001b[0;32mprint\u001b[0m\u001b[0;34m(\u001b[0m\u001b[0;34m\"Adding W to %s\"\u001b[0m \u001b[0;34m%\u001b[0m \u001b[0mevent_path\u001b[0m\u001b[0;34m)\u001b[0m\u001b[0;34m\u001b[0m\u001b[0m\n\u001b[0;32m---> 17\u001b[0;31m         \u001b[0mevent_data\u001b[0m\u001b[0;34m[\u001b[0m\u001b[0;34m\"W\"\u001b[0m\u001b[0;34m]\u001b[0m \u001b[0;34m=\u001b[0m \u001b[0madjacency\u001b[0m\u001b[0;34m(\u001b[0m\u001b[0mevent_data\u001b[0m\u001b[0;34m[\u001b[0m\u001b[0;34m\"subs\"\u001b[0m\u001b[0;34m]\u001b[0m\u001b[0;34m)\u001b[0m\u001b[0;34m\u001b[0m\u001b[0m\n\u001b[0m\u001b[1;32m     18\u001b[0m         \u001b[0msio\u001b[0m\u001b[0;34m.\u001b[0m\u001b[0msavemat\u001b[0m\u001b[0;34m(\u001b[0m\u001b[0mevent_path\u001b[0m\u001b[0;34m,\u001b[0m \u001b[0mevent_data\u001b[0m\u001b[0;34m)\u001b[0m\u001b[0;34m\u001b[0m\u001b[0m\n\u001b[1;32m     19\u001b[0m     \u001b[0;32melse\u001b[0m\u001b[0;34m:\u001b[0m\u001b[0;34m\u001b[0m\u001b[0m\n",
        "\u001b[0;32m/Users/x/work/thesis/notes/admm/lasso.pyc\u001b[0m in \u001b[0;36madjacency\u001b[0;34m(data, delta, tau, samples)\u001b[0m\n\u001b[1;32m    336\u001b[0m             \u001b[0mxx\u001b[0m \u001b[0;34m=\u001b[0m \u001b[0;34m(\u001b[0m\u001b[0mx\u001b[0m\u001b[0;34m[\u001b[0m\u001b[0mi\u001b[0m\u001b[0;34m]\u001b[0m \u001b[0;34m-\u001b[0m \u001b[0mx\u001b[0m\u001b[0;34m[\u001b[0m\u001b[0mj\u001b[0m\u001b[0;34m]\u001b[0m\u001b[0;34m)\u001b[0m\u001b[0;34m**\u001b[0m\u001b[0;36m2.0\u001b[0m \u001b[0;34m/\u001b[0m \u001b[0;34m(\u001b[0m\u001b[0;36m2.0\u001b[0m \u001b[0;34m*\u001b[0m \u001b[0mdelta\u001b[0m \u001b[0;34m**\u001b[0m \u001b[0;36m2\u001b[0m\u001b[0;34m)\u001b[0m\u001b[0;34m\u001b[0m\u001b[0m\n\u001b[1;32m    337\u001b[0m             \u001b[0myy\u001b[0m \u001b[0;34m=\u001b[0m \u001b[0;34m(\u001b[0m\u001b[0my\u001b[0m\u001b[0;34m[\u001b[0m\u001b[0mi\u001b[0m\u001b[0;34m]\u001b[0m \u001b[0;34m-\u001b[0m \u001b[0my\u001b[0m\u001b[0;34m[\u001b[0m\u001b[0mj\u001b[0m\u001b[0;34m]\u001b[0m\u001b[0;34m)\u001b[0m\u001b[0;34m**\u001b[0m\u001b[0;36m2.0\u001b[0m \u001b[0;34m/\u001b[0m \u001b[0;34m(\u001b[0m\u001b[0;36m2.0\u001b[0m \u001b[0;34m*\u001b[0m \u001b[0mdelta\u001b[0m \u001b[0;34m**\u001b[0m \u001b[0;36m2\u001b[0m\u001b[0;34m)\u001b[0m\u001b[0;34m\u001b[0m\u001b[0m\n\u001b[0;32m--> 338\u001b[0;31m             \u001b[0mtt\u001b[0m \u001b[0;34m=\u001b[0m \u001b[0;34m(\u001b[0m\u001b[0mt\u001b[0m\u001b[0;34m[\u001b[0m\u001b[0mi\u001b[0m\u001b[0;34m]\u001b[0m \u001b[0;34m-\u001b[0m \u001b[0mt\u001b[0m\u001b[0;34m[\u001b[0m\u001b[0mj\u001b[0m\u001b[0;34m]\u001b[0m\u001b[0;34m)\u001b[0m\u001b[0;34m**\u001b[0m\u001b[0;36m2.0\u001b[0m \u001b[0;34m/\u001b[0m \u001b[0;34m(\u001b[0m\u001b[0;36m2.0\u001b[0m \u001b[0;34m*\u001b[0m \u001b[0mtau\u001b[0m \u001b[0;34m**\u001b[0m \u001b[0;36m2\u001b[0m\u001b[0;34m)\u001b[0m\u001b[0;34m\u001b[0m\u001b[0m\n\u001b[0m\u001b[1;32m    339\u001b[0m             \u001b[0mW\u001b[0m\u001b[0;34m[\u001b[0m\u001b[0mi\u001b[0m\u001b[0;34m,\u001b[0m\u001b[0mj\u001b[0m\u001b[0;34m]\u001b[0m \u001b[0;34m=\u001b[0m \u001b[0mnp\u001b[0m\u001b[0;34m.\u001b[0m\u001b[0mexp\u001b[0m\u001b[0;34m(\u001b[0m\u001b[0;34m-\u001b[0m\u001b[0mxx\u001b[0m \u001b[0;34m-\u001b[0m\u001b[0myy\u001b[0m \u001b[0;34m-\u001b[0m \u001b[0mtt\u001b[0m\u001b[0;34m)\u001b[0m\u001b[0;34m\u001b[0m\u001b[0m\n\u001b[1;32m    340\u001b[0m     \u001b[0;32mreturn\u001b[0m \u001b[0mW\u001b[0m\u001b[0;34m\u001b[0m\u001b[0m\n",
        "\u001b[0;31mKeyboardInterrupt\u001b[0m: "
       ]
      },
      {
       "output_type": "stream",
       "stream": "stdout",
       "text": [
        "\n"
       ]
      }
     ],
     "prompt_number": 19
    },
    {
     "cell_type": "code",
     "collapsed": false,
     "input": [],
     "language": "python",
     "metadata": {},
     "outputs": []
    }
   ],
   "metadata": {}
  }
 ]
}