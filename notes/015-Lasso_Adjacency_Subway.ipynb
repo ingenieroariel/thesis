{
 "metadata": {
  "name": ""
 },
 "nbformat": 3,
 "nbformat_minor": 0,
 "worksheets": [
  {
   "cells": [
    {
     "cell_type": "code",
     "collapsed": false,
     "input": [
      "import os\n",
      "import glob\n",
      "import scipy.io as sio\n",
      "import numpy as np\n",
      "from admm.lasso import adjacency\n",
      "\n",
      "\n",
      "video_folder = os.path.abspath('/Users/x/work/thesis/notes/subway_entrance_feats/')\n",
      "\n",
      "for event_path in glob.glob(os.path.join(video_folder, '*.mat')):\n",
      "    # Load data from mat file.\n",
      "    event_data = sio.loadmat(event_path)\n",
      "\n",
      "    # Add adjacency matrix to the mat file if it does not exist.\n",
      "    if \"W\" not in event_data:\n",
      "        print(\"Adding W to %s\" % event_path)\n",
      "        event_data[\"W\"] = adjacency(event_data[\"subs\"])\n",
      "        sio.savemat(event_path, event_data)\n",
      "    else:\n",
      "        print \"Skipping %s\" % event_path"
     ],
     "language": "python",
     "metadata": {},
     "outputs": [
      {
       "output_type": "stream",
       "stream": "stdout",
       "text": [
        "Skipping /Users/x/work/thesis/notes/subway_entrance_feats/features_subway_entrance_turnstiles_01.mat\n",
        "Skipping /Users/x/work/thesis/notes/subway_entrance_feats/features_subway_entrance_turnstiles_02.mat"
       ]
      },
      {
       "output_type": "stream",
       "stream": "stdout",
       "text": [
        "\n",
        "Skipping /Users/x/work/thesis/notes/subway_entrance_feats/features_subway_entrance_turnstiles_03.mat"
       ]
      },
      {
       "output_type": "stream",
       "stream": "stdout",
       "text": [
        "\n",
        "Skipping /Users/x/work/thesis/notes/subway_entrance_feats/features_subway_entrance_turnstiles_04.mat"
       ]
      },
      {
       "output_type": "stream",
       "stream": "stdout",
       "text": [
        "\n",
        "Skipping /Users/x/work/thesis/notes/subway_entrance_feats/features_subway_entrance_turnstiles_05.mat"
       ]
      },
      {
       "output_type": "stream",
       "stream": "stdout",
       "text": [
        "\n",
        "Skipping /Users/x/work/thesis/notes/subway_entrance_feats/features_subway_entrance_turnstiles_06.mat"
       ]
      },
      {
       "output_type": "stream",
       "stream": "stdout",
       "text": [
        "\n",
        "Skipping /Users/x/work/thesis/notes/subway_entrance_feats/features_subway_entrance_turnstiles_07.mat"
       ]
      },
      {
       "output_type": "stream",
       "stream": "stdout",
       "text": [
        "\n",
        "Skipping /Users/x/work/thesis/notes/subway_entrance_feats/features_subway_entrance_turnstiles_08.mat\n",
        "Skipping /Users/x/work/thesis/notes/subway_entrance_feats/features_subway_entrance_turnstiles_09.mat"
       ]
      },
      {
       "output_type": "stream",
       "stream": "stdout",
       "text": [
        "\n",
        "Skipping /Users/x/work/thesis/notes/subway_entrance_feats/features_subway_entrance_turnstiles_10.mat"
       ]
      },
      {
       "output_type": "stream",
       "stream": "stdout",
       "text": [
        "\n",
        "Skipping /Users/x/work/thesis/notes/subway_entrance_feats/features_subway_entrance_turnstiles_100.mat"
       ]
      },
      {
       "output_type": "stream",
       "stream": "stdout",
       "text": [
        "\n",
        "Skipping /Users/x/work/thesis/notes/subway_entrance_feats/features_subway_entrance_turnstiles_11.mat\n",
        "Skipping /Users/x/work/thesis/notes/subway_entrance_feats/features_subway_entrance_turnstiles_12.mat"
       ]
      },
      {
       "output_type": "stream",
       "stream": "stdout",
       "text": [
        "\n",
        "Skipping /Users/x/work/thesis/notes/subway_entrance_feats/features_subway_entrance_turnstiles_13.mat\n",
        "Skipping /Users/x/work/thesis/notes/subway_entrance_feats/features_subway_entrance_turnstiles_14.mat\n",
        "Skipping /Users/x/work/thesis/notes/subway_entrance_feats/features_subway_entrance_turnstiles_15.mat"
       ]
      },
      {
       "output_type": "stream",
       "stream": "stdout",
       "text": [
        "\n",
        "Skipping /Users/x/work/thesis/notes/subway_entrance_feats/features_subway_entrance_turnstiles_16.mat\n",
        "Adding W to /Users/x/work/thesis/notes/subway_entrance_feats/features_subway_entrance_turnstiles_17.mat\n",
        "Adding W to /Users/x/work/thesis/notes/subway_entrance_feats/features_subway_entrance_turnstiles_18.mat"
       ]
      },
      {
       "output_type": "stream",
       "stream": "stdout",
       "text": [
        "\n",
        "Adding W to /Users/x/work/thesis/notes/subway_entrance_feats/features_subway_entrance_turnstiles_19.mat"
       ]
      },
      {
       "ename": "KeyboardInterrupt",
       "evalue": "",
       "output_type": "pyerr",
       "traceback": [
        "\u001b[0;31m---------------------------------------------------------------------------\u001b[0m\n\u001b[0;31mKeyboardInterrupt\u001b[0m                         Traceback (most recent call last)",
        "\u001b[0;32m<ipython-input-19-1b4772a7f8e2>\u001b[0m in \u001b[0;36m<module>\u001b[0;34m()\u001b[0m\n\u001b[1;32m     15\u001b[0m     \u001b[0;32mif\u001b[0m \u001b[0;34m\"W\"\u001b[0m \u001b[0;32mnot\u001b[0m \u001b[0;32min\u001b[0m \u001b[0mevent_data\u001b[0m\u001b[0;34m:\u001b[0m\u001b[0;34m\u001b[0m\u001b[0m\n\u001b[1;32m     16\u001b[0m         \u001b[0;32mprint\u001b[0m\u001b[0;34m(\u001b[0m\u001b[0;34m\"Adding W to %s\"\u001b[0m \u001b[0;34m%\u001b[0m \u001b[0mevent_path\u001b[0m\u001b[0;34m)\u001b[0m\u001b[0;34m\u001b[0m\u001b[0m\n\u001b[0;32m---> 17\u001b[0;31m         \u001b[0mevent_data\u001b[0m\u001b[0;34m[\u001b[0m\u001b[0;34m\"W\"\u001b[0m\u001b[0;34m]\u001b[0m \u001b[0;34m=\u001b[0m \u001b[0madjacency\u001b[0m\u001b[0;34m(\u001b[0m\u001b[0mevent_data\u001b[0m\u001b[0;34m[\u001b[0m\u001b[0;34m\"subs\"\u001b[0m\u001b[0;34m]\u001b[0m\u001b[0;34m)\u001b[0m\u001b[0;34m\u001b[0m\u001b[0m\n\u001b[0m\u001b[1;32m     18\u001b[0m         \u001b[0msio\u001b[0m\u001b[0;34m.\u001b[0m\u001b[0msavemat\u001b[0m\u001b[0;34m(\u001b[0m\u001b[0mevent_path\u001b[0m\u001b[0;34m,\u001b[0m \u001b[0mevent_data\u001b[0m\u001b[0;34m)\u001b[0m\u001b[0;34m\u001b[0m\u001b[0m\n\u001b[1;32m     19\u001b[0m     \u001b[0;32melse\u001b[0m\u001b[0;34m:\u001b[0m\u001b[0;34m\u001b[0m\u001b[0m\n",
        "\u001b[0;32m/Users/x/work/thesis/notes/admm/lasso.pyc\u001b[0m in \u001b[0;36madjacency\u001b[0;34m(data, delta, tau, samples)\u001b[0m\n\u001b[1;32m    336\u001b[0m             \u001b[0mxx\u001b[0m \u001b[0;34m=\u001b[0m \u001b[0;34m(\u001b[0m\u001b[0mx\u001b[0m\u001b[0;34m[\u001b[0m\u001b[0mi\u001b[0m\u001b[0;34m]\u001b[0m \u001b[0;34m-\u001b[0m \u001b[0mx\u001b[0m\u001b[0;34m[\u001b[0m\u001b[0mj\u001b[0m\u001b[0;34m]\u001b[0m\u001b[0;34m)\u001b[0m\u001b[0;34m**\u001b[0m\u001b[0;36m2.0\u001b[0m \u001b[0;34m/\u001b[0m \u001b[0;34m(\u001b[0m\u001b[0;36m2.0\u001b[0m \u001b[0;34m*\u001b[0m \u001b[0mdelta\u001b[0m \u001b[0;34m**\u001b[0m \u001b[0;36m2\u001b[0m\u001b[0;34m)\u001b[0m\u001b[0;34m\u001b[0m\u001b[0m\n\u001b[1;32m    337\u001b[0m             \u001b[0myy\u001b[0m \u001b[0;34m=\u001b[0m \u001b[0;34m(\u001b[0m\u001b[0my\u001b[0m\u001b[0;34m[\u001b[0m\u001b[0mi\u001b[0m\u001b[0;34m]\u001b[0m \u001b[0;34m-\u001b[0m \u001b[0my\u001b[0m\u001b[0;34m[\u001b[0m\u001b[0mj\u001b[0m\u001b[0;34m]\u001b[0m\u001b[0;34m)\u001b[0m\u001b[0;34m**\u001b[0m\u001b[0;36m2.0\u001b[0m \u001b[0;34m/\u001b[0m \u001b[0;34m(\u001b[0m\u001b[0;36m2.0\u001b[0m \u001b[0;34m*\u001b[0m \u001b[0mdelta\u001b[0m \u001b[0;34m**\u001b[0m \u001b[0;36m2\u001b[0m\u001b[0;34m)\u001b[0m\u001b[0;34m\u001b[0m\u001b[0m\n\u001b[0;32m--> 338\u001b[0;31m             \u001b[0mtt\u001b[0m \u001b[0;34m=\u001b[0m \u001b[0;34m(\u001b[0m\u001b[0mt\u001b[0m\u001b[0;34m[\u001b[0m\u001b[0mi\u001b[0m\u001b[0;34m]\u001b[0m \u001b[0;34m-\u001b[0m \u001b[0mt\u001b[0m\u001b[0;34m[\u001b[0m\u001b[0mj\u001b[0m\u001b[0;34m]\u001b[0m\u001b[0;34m)\u001b[0m\u001b[0;34m**\u001b[0m\u001b[0;36m2.0\u001b[0m \u001b[0;34m/\u001b[0m \u001b[0;34m(\u001b[0m\u001b[0;36m2.0\u001b[0m \u001b[0;34m*\u001b[0m \u001b[0mtau\u001b[0m \u001b[0;34m**\u001b[0m \u001b[0;36m2\u001b[0m\u001b[0;34m)\u001b[0m\u001b[0;34m\u001b[0m\u001b[0m\n\u001b[0m\u001b[1;32m    339\u001b[0m             \u001b[0mW\u001b[0m\u001b[0;34m[\u001b[0m\u001b[0mi\u001b[0m\u001b[0;34m,\u001b[0m\u001b[0mj\u001b[0m\u001b[0;34m]\u001b[0m \u001b[0;34m=\u001b[0m \u001b[0mnp\u001b[0m\u001b[0;34m.\u001b[0m\u001b[0mexp\u001b[0m\u001b[0;34m(\u001b[0m\u001b[0;34m-\u001b[0m\u001b[0mxx\u001b[0m \u001b[0;34m-\u001b[0m\u001b[0myy\u001b[0m \u001b[0;34m-\u001b[0m \u001b[0mtt\u001b[0m\u001b[0;34m)\u001b[0m\u001b[0;34m\u001b[0m\u001b[0m\n\u001b[1;32m    340\u001b[0m     \u001b[0;32mreturn\u001b[0m \u001b[0mW\u001b[0m\u001b[0;34m\u001b[0m\u001b[0m\n",
        "\u001b[0;31mKeyboardInterrupt\u001b[0m: "
       ]
      },
      {
       "output_type": "stream",
       "stream": "stdout",
       "text": [
        "\n"
       ]
      }
     ],
     "prompt_number": 19
    },
    {
     "cell_type": "heading",
     "level": 1,
     "metadata": {},
     "source": [
      "Let's split the video in events"
     ]
    },
    {
     "cell_type": "markdown",
     "metadata": {},
     "source": [
      "We will do a dense partitioning using the following values for the size:"
     ]
    },
    {
     "cell_type": "code",
     "collapsed": false,
     "input": [],
     "language": "python",
     "metadata": {},
     "outputs": [],
     "prompt_number": 1
    },
    {
     "cell_type": "markdown",
     "metadata": {},
     "source": [
      "Let's look at the size of the original video."
     ]
    },
    {
     "cell_type": "raw",
     "metadata": {},
     "source": [
      "ExifTool Version Number         : 9.13\n",
      "File Name                       : subway_entrance_turnstiles.AVI\n",
      "Directory                       : .\n",
      "File Size                       : 756 MB\n",
      "File Modification Date/Time     : 2013:11:22 14:28:54-05:00\n",
      "File Access Date/Time           : 2014:03:06 14:27:09-05:00\n",
      "File Inode Change Date/Time     : 2013:11:22 14:28:54-05:00\n",
      "File Permissions                : rw-------\n",
      "File Type                       : AVI\n",
      "MIME Type                       : video/x-msvideo\n",
      "Frame Rate                      : 25\n",
      "Max Data Rate                   : 0 kB/s\n",
      "Frame Count                     : 144249\n",
      "Stream Count                    : 2\n",
      "Stream Type                     : Video\n",
      "Video Codec                     : divx\n",
      "Video Frame Rate                : 25\n",
      "Video Frame Count               : 144249\n",
      "Quality                         : 10000\n",
      "Sample Size                     : Variable\n",
      "Image Width                     : 512\n",
      "Image Height                    : 384\n",
      "Planes                          : 1\n",
      "Bit Depth                       : 24\n",
      "Compression                     : DIVX\n",
      "Image Length                    : 589824\n",
      "Pixels Per Meter X              : 0\n",
      "Pixels Per Meter Y              : 0\n",
      "Num Colors                      : Use BitDepth\n",
      "Num Important Colors            : All\n",
      "Audio Codec                     : \n",
      "Audio Sample Rate               : 31.46\n",
      "Audio Sample Count              : 192950\n",
      "Encoding                        : Intel IMA/DVI-ADPCM\n",
      "Num Channels                    : 2\n",
      "Sample Rate                     : 32000\n",
      "Avg Bytes Per Sec               : 32220\n",
      "Bits Per Sample                 : 4\n",
      "Duration                        : 1:36:09\n",
      "Image Size                      : 512x384"
     ]
    },
    {
     "cell_type": "code",
     "collapsed": false,
     "input": [],
     "language": "python",
     "metadata": {},
     "outputs": [],
     "prompt_number": 2
    },
    {
     "cell_type": "heading",
     "level": 2,
     "metadata": {},
     "source": [
      "How many windows do we need?"
     ]
    },
    {
     "cell_type": "code",
     "collapsed": false,
     "input": [
      "import pylab as P\n",
      "import os\n",
      "import glob\n",
      "import scipy.io as sio\n",
      "import numpy as np\n",
      "from admm.lasso import adjacency\n",
      "\n",
      "\n",
      "def generate_events(video_folder, overlap = (0, 0, 0), min_cuboids=0, skip=False):\n",
      "\n",
      "    window_width = 80\n",
      "    window_height = 80\n",
      "    window_frames = 40\n",
      "    \n",
      "    width = 512\n",
      "    height = 384\n",
      "    frames = 144249\n",
      "\n",
      "    x_overlap, y_overlap, t_overlap = overlap\n",
      "\n",
      "    for pth in glob.glob(os.path.join(video_folder, '*.mat')):\n",
      "        # Load data from mat file.\n",
      "        data = sio.loadmat(pth)\n",
      "        \n",
      "        if skip and \"events\" in data:\n",
      "            print \"skipping: \", pth\n",
      "            continue\n",
      "        \n",
      "        start_frame = data[\"frame1\"]\n",
      "        end_frame = data[\"frame2\"]\n",
      "        locations = data[\"subs\"]\n",
      "        \n",
      "        events = []\n",
      "        \n",
      "        t_step = int(round(window_frames * (1 - t_overlap)))\n",
      "        y_step = int(round(window_width * (1 - y_overlap)))\n",
      "        x_step = int(round( window_height * (1 - x_overlap)))\n",
      "        \n",
      "        for top_t in range(start_frame, end_frame, t_step):\n",
      "            for top_y in range(0, width, y_step):\n",
      "                for top_x in range(0, height, x_step):\n",
      "                    cuboids = []\n",
      "                    for index, (x, y, t) in enumerate(locations):\n",
      "                        if top_x <= x <= top_x + window_height:\n",
      "                            if top_y <= y <= top_y + window_width:\n",
      "                                if top_t <= t <= top_t + window_frames:\n",
      "                                    cuboids.append(index)\n",
      "    \n",
      "                    if len(cuboids) > min_cuboids:\n",
      "                        event_info = {\"path\": pth}\n",
      "                        event_info[\"limits\"] = (top_x, top_y, top_t)\n",
      "                        event_info[\"cuboids\"] = cuboids\n",
      "                        events.append(event_info)\n",
      "    \n",
      "        data[\"events\"] = events\n",
      "        sio.savemat(pth, data)\n",
      "    \n",
      "        totalizer = []\n",
      "        for event in events:\n",
      "            totalizer.append(len(event[\"cuboids\"]))\n",
      "        \n",
      "        # the histogram of the data with histtype='step'\n",
      "        n, bins, patches = P.hist(totalizer, bins=20, histtype='stepfilled')\n",
      "                \n",
      "        P.setp(patches, 'facecolor', 'g', 'alpha', 0.75)\n",
      "        P.ylabel(\"Number of events with a given number of cuboids\")\n",
      "        P.xlabel(\"Number of cuboids\")\n",
      "        #FIXME: Why did we have to set this manually? Potential bug in pylab.\n",
      "        P.ylim(0, max(n))\n",
      "        P.figure()\n",
      "        print \"The file \", pth, \"has \", len(events), \" events.\"\n",
      "        P.show()\n",
      "        \n",
      "        #FIXME: Events may be appearing at least twice due to overlapping in the input feature files\n",
      "        # this is probably affecting the calculations by double counting some of them."
     ],
     "language": "python",
     "metadata": {},
     "outputs": [],
     "prompt_number": 33
    },
    {
     "cell_type": "code",
     "collapsed": false,
     "input": [
      "video_folder = os.path.abspath('/home/x/thesis/notes/subway_entrance_feats/')"
     ],
     "language": "python",
     "metadata": {},
     "outputs": [],
     "prompt_number": 25
    },
    {
     "cell_type": "code",
     "collapsed": false,
     "input": [
      "generate_events(video_folder)"
     ],
     "language": "python",
     "metadata": {},
     "outputs": [
      {
       "output_type": "stream",
       "stream": "stdout",
       "text": [
        "The file  /home/x/thesis/notes/subway_entrance_feats/features_subway_entrance_turnstiles_01.mat has  96  events.\n"
       ]
      },
      {
       "metadata": {},
       "output_type": "display_data",
       "png": "[encoded data removed]",
       "text": [
        "<matplotlib.figure.Figure at 0x327e350>"
       ]
      },
      {
       "metadata": {},
       "output_type": "display_data",
       "text": [
        "<matplotlib.figure.Figure at 0x3251bd0>"
       ]
      }
     ],
     "prompt_number": 31
    },
    {
     "cell_type": "code",
     "collapsed": false,
     "input": [
      "generate_events(video_folder, overlap=(0.5, 0.5, 0.5), min_cuboids=20)"
     ],
     "language": "python",
     "metadata": {
      "slideshow": {
       "slide_type": "slide"
      }
     },
     "outputs": [
      {
       "output_type": "stream",
       "stream": "stdout",
       "text": [
        "The file  /home/x/thesis/notes/subway_entrance_feats/features_subway_entrance_turnstiles_01.mat has  46  events.\n"
       ]
      },
      {
       "metadata": {},
       "output_type": "display_data",
       "png": "[encoded data removed]",
       "text": [
        "<matplotlib.figure.Figure at 0x3265890>"
       ]
      },
      {
       "metadata": {},
       "output_type": "display_data",
       "text": [
        "<matplotlib.figure.Figure at 0x325dc90>"
       ]
      },
      {
       "output_type": "stream",
       "stream": "stdout",
       "text": [
        "The file  /home/x/thesis/notes/subway_entrance_feats/features_subway_entrance_turnstiles_04.mat has  578  events.\n"
       ]
      },
      {
       "metadata": {},
       "output_type": "display_data",
       "png": "[encoded data removed]",
       "text": [
        "<matplotlib.figure.Figure at 0x31ccfd0>"
       ]
      },
      {
       "metadata": {},
       "output_type": "display_data",
       "text": [
        "<matplotlib.figure.Figure at 0x3048610>"
       ]
      }
     ],
     "prompt_number": "*"
    },
    {
     "cell_type": "code",
     "collapsed": false,
     "input": [
      "generate_events(video_folder, overlap=(0.2, 0.2, 0.2), min_cuboids=50)"
     ],
     "language": "python",
     "metadata": {},
     "outputs": [],
     "prompt_number": "*"
    },
    {
     "cell_type": "code",
     "collapsed": false,
     "input": [],
     "language": "python",
     "metadata": {},
     "outputs": []
    }
   ],
   "metadata": {}
  }
 ]
}