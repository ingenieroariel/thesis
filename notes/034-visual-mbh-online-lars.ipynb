{
 "metadata": {
  "name": "",
  "signature": "sha256:146d754f96b01971787d7eda6b805feba3f440df607fcb59c71f9de4fadbe1d5"
 },
 "nbformat": 3,
 "nbformat_minor": 0,
 "worksheets": [
  {
   "cells": [
    {
     "cell_type": "code",
     "collapsed": false,
     "input": [
      "import cv2\n",
      "import matplotlib.pyplot as plt\n",
      "import numpy as np\n",
      "import matplotlib as mpl\n",
      "import matplotlib.pylab as plt\n",
      "\n",
      "%matplotlib inline"
     ],
     "language": "python",
     "metadata": {},
     "outputs": [],
     "prompt_number": 1
    },
    {
     "cell_type": "code",
     "collapsed": false,
     "input": [
      "trajectory_file = '../../subway-exit-W10-complete.txt'"
     ],
     "language": "python",
     "metadata": {},
     "outputs": [],
     "prompt_number": 2
    },
    {
     "cell_type": "markdown",
     "metadata": {},
     "source": [
      "The format of the computed features\n",
      "\n",
      "The features are computed one by one, and each one in a single line, with the following format:\n",
      "\n",
      "frameNum mean_x mean_y var_x var_y length scale x_pos y_pos t_pos Trajectory HOG HOF MBHx MBHy\n",
      "\n",
      "The first 10 elements are information about the trajectory:\n",
      "\n",
      " * frameNum:     The trajectory ends on which frame\n",
      " * mean_x:       The mean value of the x coordinates of the trajectory\n",
      " * mean_y:       The mean value of the y coordinates of the trajectory\n",
      " * var_x:        The variance of the x coordinates of the trajectory\n",
      " * var_y:        The variance of the y coordinates of the trajectory\n",
      " * length:       The length of the trajectory\n",
      " * scale:        The trajectory is computed on which scale\n",
      " * x_pos:        The normalized x position w.r.t. the video (0~0.999), for spatio-temporal pyramid \n",
      " * y_pos:        The normalized y position w.r.t. the video (0~0.999), for spatio-temporal pyramid \n",
      " * t_pos:        The normalized t position w.r.t. the video (0~0.999), for spatio-temporal pyramid\n",
      "\n",
      "The following element are five descriptors concatenated one by one:\n",
      "\n",
      " * Normalized Trajectory:    2x[trajectory length] (default 30 dimension) \n",
      " * Raw Trajectory:           2x[trajectory length] (default 30 dimension) \n",
      "\n",
      " * HOG:           8x[spatial cells]x[spatial cells]x[temporal cells] (default 96 dimension)\n",
      " * HOF:           9x[spatial cells]x[spatial cells]x[temporal cells] (default 108 dimension)\n",
      " * MBHx:          8x[spatial cells]x[spatial cells]x[temporal cells] (default 96 dimension)\n",
      " * MBHy:          8x[spatial cells]x[spatial cells]x[temporal cells] (default 96 dimension)"
     ]
    },
    {
     "cell_type": "markdown",
     "metadata": {},
     "source": [
      "This file has 466 columns"
     ]
    },
    {
     "cell_type": "code",
     "collapsed": false,
     "input": [
      "# metadata + trajectories + raw trajectories + hog + hof + mbhx + mbhy\n",
      "10+30+30+96+108+96+96"
     ],
     "language": "python",
     "metadata": {},
     "outputs": [
      {
       "metadata": {},
       "output_type": "pyout",
       "prompt_number": 3,
       "text": [
        "466"
       ]
      }
     ],
     "prompt_number": 3
    },
    {
     "cell_type": "code",
     "collapsed": false,
     "input": [
      "import pandas\n",
      "import numpy as np\n",
      "from pandas.io.parsers import read_csv\n",
      "\n",
      "metadata_fields = ['frameNum', 'mean_x', 'mean_y', 'var_x', 'var_y', 'length', 'scale', 'x_pos', 'y_pos', 't_pos']\n",
      "norm_trajectory_fields = ['norm_trajectory%s' % n for n in range(30)]\n",
      "trajectory_fields = ['trajectory%s' % n for n in range(30)]\n",
      "hog_fields = ['hog%s' % n for n in range(96)]\n",
      "hof_fields = ['hof%s' % n for n in range(108)]\n",
      "mbh_fields = ['mbh%s' % n for n in range(96+96)]\n",
      "\n",
      "fields = metadata_fields + norm_trajectory_fields + trajectory_fields + hog_fields + hof_fields + mbh_fields\n",
      "\n",
      "temp_data = read_csv(trajectory_file, delimiter='\\t', names=fields, index_col=False)"
     ],
     "language": "python",
     "metadata": {},
     "outputs": [],
     "prompt_number": 4
    },
    {
     "cell_type": "code",
     "collapsed": false,
     "input": [
      "data = pandas.concat([\n",
      "            temp_data.get(metadata_fields),\n",
      "#            pandas.Series(temp_data.get(hof_fields).values.tolist(), index=temp_data.index, name='hof'),\n",
      "#            pandas.Series(temp_data.get(hog_fields).values.tolist(), index=temp_data.index, name='hog'),\n",
      "            pandas.Series(temp_data.get(mbh_fields).values.tolist(), index=temp_data.index, name='mbh'),\n",
      "            pandas.Series(temp_data.get(trajectory_fields).values.tolist(), index=temp_data.index, name='trajectory'),\n",
      "], axis=1)"
     ],
     "language": "python",
     "metadata": {},
     "outputs": [],
     "prompt_number": 5
    },
    {
     "cell_type": "code",
     "collapsed": false,
     "input": [
      "# Clear memory after having loaded that big file, we will create a slimmer version later\n",
      "%xdel temp_data"
     ],
     "language": "python",
     "metadata": {},
     "outputs": [],
     "prompt_number": 6
    },
    {
     "cell_type": "code",
     "collapsed": false,
     "input": [
      "groundtruth = np.array( [\n",
      "[550, 780, 0],\n",
      "[2310, 2855, 0],\n",
      "[3730, 3790, 0],\n",
      "[4925, 5570, 0],\n",
      "[5650, 5750, 0],\n",
      "[9680, 9710, 0],\n",
      "[12370, 12500, 0],\n",
      "[14020, 14070, 0],\n",
      "[14760, 14816, 0],\n",
      "[15290, 15500, 1],\n",
      "[15815, 15945, 0],\n",
      "[17340, 17770, 1],\n",
      "[18150, 18970, 1],\n",
      "[18970, 19450, 1],\n",
      "[19875, 19950, 0],\n",
      "[20170, 20225, 0],\n",
      "[20560, 20738, 1],\n",
      "[21760, 21805, 0],\n",
      "[22830, 23610, 0],\n",
      "[24020, 24255, 1],\n",
      "[37185, 37267, 0],\n",
      "[37940, 38005, 0],\n",
      "[40710, 41750, 1],\n",
      "[47020, 47505, 0],\n",
      "[47670, 47910, 1],\n",
      "[49230, 49280, 0],\n",
      "[50365, 50680, 1],\n",
      "[50940, 51295, 1],\n",
      "[52230, 52395, 0],\n",
      "[52765, 53050, 1],\n",
      "[53330, 53425, 0],\n",
      "[54375, 54475, 1],\n",
      "[55315, 56065, 1],\n",
      "[57120, 57615, 0],\n",
      "[59110, 62195, 1],\n",
      "])"
     ],
     "language": "python",
     "metadata": {},
     "outputs": [],
     "prompt_number": 7
    },
    {
     "cell_type": "code",
     "collapsed": false,
     "input": [
      "from admm.dict_learning import MiniBatchDictionaryLearning"
     ],
     "language": "python",
     "metadata": {},
     "outputs": [],
     "prompt_number": 8
    },
    {
     "cell_type": "code",
     "collapsed": false,
     "input": [
      "def train(d, dico=None, components=200, alpha=1, n_iter=100, method='lars', batch_size=100, fit=True):\n",
      "    \n",
      "    if dico is None:\n",
      "        dico = MiniBatchDictionaryLearning(n_components=components, fit_algorithm=method, transform_algorithm='lasso_'+method, alpha=alpha, n_iter=n_iter, batch_size=batch_size)\n",
      "\n",
      "    if fit:\n",
      "        dico.fit(d)\n",
      "\n",
      "    dictionary = dico.components_\n",
      "        \n",
      "    code = dico.transform(d)\n",
      "    patches = np.dot(code, dictionary)\n",
      "    error = ((d - patches) ** 2).mean(axis=1)\n",
      "    \n",
      "    return dictionary, code, error, dico"
     ],
     "language": "python",
     "metadata": {},
     "outputs": [],
     "prompt_number": 9
    },
    {
     "cell_type": "code",
     "collapsed": false,
     "input": [
      "def draw_groundtruth(y, xstart, xstop, color='b'):\n",
      "    \"\"\"Plot timelines at y from xstart to xstop with given color.\"\"\"   \n",
      "    plt.hlines(y, xstart, xstop, color, lw=4)\n",
      "    plt.vlines(xstart, y+ 0.03, y-0.03, color, lw=2)\n",
      "    plt.vlines(xstop, y+0.03, y-0.03, color, lw=2)"
     ],
     "language": "python",
     "metadata": {},
     "outputs": [],
     "prompt_number": 10
    },
    {
     "cell_type": "code",
     "collapsed": false,
     "input": [
      "def check(input_data, groundtruth, error_limit=0, STEP=8000):\n",
      "\n",
      "    frames = np.array(range(1, 62000))\n",
      "\n",
      "    frame_error = input_data[input_data.error > error_limit].get(['frameNum', 'error'])\n",
      "    # frame error sum\n",
      "    fes  = frame_error.groupby(by='frameNum').agg(np.sum)\n",
      "\n",
      "\n",
      "    for index in range(0, len(frames), STEP):\n",
      "        \n",
      "        frames_vect = np.array(range(index, index + STEP+1))\n",
      "\n",
      "        values_vect = np.zeros(frames_vect.shape)\n",
      "\n",
      "        for frame, error in fes[(fes.index > index) & (fes.index < index+STEP)].itertuples():\n",
      "            values_vect[frame - index] = error\n",
      "\n",
      "        plt.figure()\n",
      "        plt.gcf().set_figwidth(15)\n",
      "\n",
      "        YLIM = 10\n",
      "\n",
      "        plt.plot(frames_vect, values_vect, color='green', label='error sum')\n",
      "        plt.hold()\n",
      "\n",
      "        for start, end, value in groundtruth:\n",
      "            color = 'red' if value == 1 else 'black'\n",
      "            height = YLIM * 0.7 if value == 1 else YLIM * 0.3\n",
      "            draw_groundtruth(height, start, end, color=color)        \n",
      "            draw_groundtruth(YLIM - height, start, end, color=color)        \n",
      "\n",
      "        plt.title(\"Frames %s to %s\" % (index, index+STEP))\n",
      "\n",
      "        plt.xlim(index, index + STEP)\n",
      "        plt.ylim((0, YLIM))"
     ],
     "language": "python",
     "metadata": {},
     "outputs": [],
     "prompt_number": 11
    },
    {
     "cell_type": "heading",
     "level": 1,
     "metadata": {},
     "source": [
      "Let's send all the normal events before the first abnormal even"
     ]
    },
    {
     "cell_type": "code",
     "collapsed": false,
     "input": [
      "normal_data = None\n",
      "\n",
      "# Create a dataset with only normal events.\n",
      "for start, end, normal in groundtruth:\n",
      "\n",
      "    tmp_data = data[(data.frameNum >= start) & (data.frameNum <= end)]\n",
      "    \n",
      "    # ignore events labeled as abnormal\n",
      "    if normal == 1:\n",
      "        break\n",
      "\n",
      "    normal_data = pandas.concat([normal_data, tmp_data])"
     ],
     "language": "python",
     "metadata": {},
     "outputs": [],
     "prompt_number": 12
    },
    {
     "cell_type": "code",
     "collapsed": false,
     "input": [
      "mbh = np.array(normal_data.mbh.values.tolist())"
     ],
     "language": "python",
     "metadata": {},
     "outputs": [],
     "prompt_number": 13
    },
    {
     "cell_type": "code",
     "collapsed": false,
     "input": [
      "mbh_reference = mbh\n",
      "intercept = mbh_reference.mean(axis=0)\n",
      "delta_reference =  mbh_reference - intercept\n",
      "deviation = delta_reference.std(axis=0)\n",
      "\n",
      "# Use the intercept and deviation from the initial values:\n",
      "delta = mbh - intercept\n",
      "d = delta / deviation"
     ],
     "language": "python",
     "metadata": {},
     "outputs": [],
     "prompt_number": 14
    },
    {
     "cell_type": "code",
     "collapsed": false,
     "input": [
      "%time dictionary, code, error, dico = train(d, alpha=1, method='lars', n_iter=10, batch_size=100, components=50)"
     ],
     "language": "python",
     "metadata": {},
     "outputs": [
      {
       "output_type": "stream",
       "stream": "stdout",
       "text": [
        "CPU times: user 1min 41s, sys: 104 ms, total: 1min 41s\n",
        "Wall time: 1min 41s\n"
       ]
      }
     ],
     "prompt_number": 15
    },
    {
     "cell_type": "code",
     "collapsed": false,
     "input": [
      "normal_data['error'] = pandas.Series(error, index=normal_data.index, name='error')"
     ],
     "language": "python",
     "metadata": {},
     "outputs": [],
     "prompt_number": 16
    },
    {
     "cell_type": "code",
     "collapsed": false,
     "input": [
      "normal_data.error.describe()"
     ],
     "language": "python",
     "metadata": {},
     "outputs": [
      {
       "metadata": {},
       "output_type": "pyout",
       "prompt_number": 17,
       "text": [
        "count    25923.000000\n",
        "mean         0.437014\n",
        "std          0.114553\n",
        "min          0.130708\n",
        "25%          0.359284\n",
        "50%          0.426233\n",
        "75%          0.503515\n",
        "max          1.118643\n",
        "Name: error, dtype: float64"
       ]
      }
     ],
     "prompt_number": 17
    },
    {
     "cell_type": "code",
     "collapsed": false,
     "input": [
      "normal_data[normal_data.error > normal_data.error.quantile(0.99)].error.describe()"
     ],
     "language": "python",
     "metadata": {},
     "outputs": [
      {
       "metadata": {},
       "output_type": "pyout",
       "prompt_number": 18,
       "text": [
        "count    260.000000\n",
        "mean       0.833628\n",
        "std        0.062032\n",
        "min        0.769191\n",
        "25%        0.787999\n",
        "50%        0.815638\n",
        "75%        0.859055\n",
        "max        1.118643\n",
        "Name: error, dtype: float64"
       ]
      }
     ]
    },
    {
     "cell_type": "markdown",
     "metadata": {},
     "source": [
      "normal_data.error.max() is our reference now"
     ]
    },
    {
     "cell_type": "code",
     "collapsed": false,
     "input": [
      "all_mbh = np.array(data.mbh.values.tolist())\n",
      "# Use the intercept and deviation from the initial values:\n",
      "delta = all_mbh - intercept\n",
      "d = delta / deviation\n",
      "\n",
      "%time code = dico.transform(d)\n",
      "patches = np.dot(code, dictionary)\n",
      "error = ((d - patches) ** 2).mean(axis=1)"
     ],
     "language": "python",
     "metadata": {},
     "outputs": []
    },
    {
     "cell_type": "markdown",
     "metadata": {},
     "source": [
      "The reconstruction with admm took about two hours!!!!!!"
     ]
    },
    {
     "cell_type": "code",
     "collapsed": false,
     "input": [
      "data['error'] = pandas.Series(error, index=data.index, name='error')"
     ],
     "language": "python",
     "metadata": {},
     "outputs": []
    },
    {
     "cell_type": "code",
     "collapsed": false,
     "input": [
      "data.error.describe()"
     ],
     "language": "python",
     "metadata": {},
     "outputs": []
    },
    {
     "cell_type": "code",
     "collapsed": false,
     "input": [
      "data[data.error > normal_data.error.quantile(0.99)].error.describe()"
     ],
     "language": "python",
     "metadata": {},
     "outputs": []
    },
    {
     "cell_type": "code",
     "collapsed": false,
     "input": [
      "def draw_trajectories(video_filename, data, groundtruth, output_video_filename, thickness=0):\n",
      "    '''Draws cuboids.\n",
      "    video_filename: string\n",
      "    data: DataFrame with frameNumber, error and trajectory\n",
      "    \n",
      "    output_video_file_name: string\n",
      "    \n",
      "    edge: width in pixels of cuboid outlines\n",
      "    outline: draws only cuboid outlines when 0, solid cuboids otherwise\n",
      "    \n",
      "    Author: Ariel Nunez, 2014\n",
      "            Juan Carlos Niebles, 2013\n",
      "    '''\n",
      "    \n",
      "    # Open input video.\n",
      "    input_video = cv2.VideoCapture(video_filename)\n",
      "    if not input_video.isOpened():\n",
      "        print \"Cannot open input video\", video_filename ,\"for reading.\"\n",
      "        return None\n",
      "    frame_width = np.uint32(input_video.get(cv2.cv.CV_CAP_PROP_FRAME_WIDTH))\n",
      "    frame_height = np.uint32(input_video.get(cv2.cv.CV_CAP_PROP_FRAME_HEIGHT))\n",
      "    \n",
      "    # Open output video.\n",
      "    output_video = cv2.VideoWriter()\n",
      "    output_video.open(output_video_filename, cv2.cv.CV_FOURCC('F','M', 'P','4'),\n",
      "                      60, (frame_width, frame_height), 1)\n",
      "    if not output_video.isOpened():\n",
      "        output_video.release()\n",
      "        print \"Cannot open output video\", output_video_filename ,\"for writing.\"\n",
      "        return None\n",
      "    \n",
      "    # Keep track of current frame number.\n",
      "    frame_number = -1\n",
      "    \n",
      "    # Loop through all frames, drawing cuboids at each frame.\n",
      "    while True:\n",
      "        retval, frame = input_video.read()\n",
      "        if (type(frame) == type(None)):\n",
      "            break\n",
      "        frame_number += 1\n",
      "        \n",
      "        ignore = True\n",
      "        usual = True\n",
      "        \n",
      "        for start, end, value in groundtruth:\n",
      "            if (frame_number > start) & (frame_number <= end):\n",
      "                if value == 1:\n",
      "                    usual = False\n",
      "                ignore = False\n",
      "                break\n",
      "        \n",
      "        # If this frame is not in the groundtruth, don't draw it.\n",
      "        if ignore:\n",
      "            continue\n",
      "            \n",
      "        # When drawing a solid cuboid, we operate on the HSV color space.\n",
      "        gray_frame = cv2.cvtColor(frame.copy(), cv2.COLOR_BGR2GRAY)\n",
      "        output_frame = np.zeros((gray_frame.shape[0], gray_frame.shape[1], 3),\n",
      "                                    dtype=np.uint8)\n",
      "        output_frame[:, :, 2] = gray_frame\n",
      "        \n",
      "        pt1 = 1, 1\n",
      "        pt2 = 200, 200\n",
      "        \n",
      "        color = (0, 255, 255)\n",
      "        \n",
      "        frame_data = data[data.frameNum == frame_number]\n",
      "        \n",
      "        for i in frame_data.index:\n",
      "            fd = frame_data[frame_data.index == i]\n",
      "            trajectory = np.array(fd.trajectory[0]).reshape(len(fd.trajectory[0])/2, 2)\n",
      "            for pt1, pt2 in trajectory:\n",
      "                cv2.line(output_frame, pt1, pt2, color, thickness=5)\n",
      "                error = fd.error\n",
      "            \n",
      "            \n",
      "        \n",
      "        cv2.line(output_frame, pt1, pt2, color, thickness=5)\n",
      "        \n",
      "        \n",
      "        # Add frame number\n",
      "        if usual:\n",
      "            text = '%s' % frame_number\n",
      "            color = (180, 0, 255)\n",
      "        else:\n",
      "            text = '%s (unusual)' % frame_number\n",
      "            color = (0, 128, 255)\n",
      "\n",
      "        cv2.putText(output_frame, text, (5, 25),\n",
      "                    cv2.FONT_HERSHEY_SIMPLEX, 1.0, color)\n",
      "        \n",
      "        output_frame[:, :, 2] = gray_frame\n",
      "        output_frame = cv2.cvtColor(output_frame, cv2.COLOR_HSV2BGR_FULL)\n",
      "        output_video.write(output_frame)\n",
      "        \n",
      "\n",
      "    print \"Done.\"\n",
      "    # Close video objects\n",
      "    input_video.release()\n",
      "    output_video.release()"
     ],
     "language": "python",
     "metadata": {},
     "outputs": []
    },
    {
     "cell_type": "code",
     "collapsed": false,
     "input": [
      "draw_trajectories('../../subway_exit_turnstiles.avi', data, groundtruth, '../../processed_subway_exit.avi')"
     ],
     "language": "python",
     "metadata": {},
     "outputs": []
    },
    {
     "cell_type": "code",
     "collapsed": false,
     "input": [
      "frame_number = 15\n",
      "frame_data = data[data.frameNum == frame_number]"
     ],
     "language": "python",
     "metadata": {},
     "outputs": [],
     "prompt_number": 34
    },
    {
     "cell_type": "code",
     "collapsed": false,
     "input": [
      "len(frame_data[frame_data.index == 0].trajectory[0])"
     ],
     "language": "python",
     "metadata": {},
     "outputs": [
      {
       "metadata": {},
       "output_type": "pyout",
       "prompt_number": 43,
       "text": [
        "60"
       ]
      }
     ],
     "prompt_number": 43
    },
    {
     "cell_type": "code",
     "collapsed": false,
     "input": [],
     "language": "python",
     "metadata": {},
     "outputs": []
    }
   ],
   "metadata": {}
  }
 ]
}