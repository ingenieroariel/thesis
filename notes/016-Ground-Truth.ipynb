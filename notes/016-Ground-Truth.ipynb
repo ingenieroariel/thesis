{
 "metadata": {
  "name": ""
 },
 "nbformat": 3,
 "nbformat_minor": 0,
 "worksheets": [
  {
   "cells": [
    {
     "cell_type": "heading",
     "level": 1,
     "metadata": {},
     "source": [
      "Groundtruth for unusual events in subway entrance video"
     ]
    },
    {
     "cell_type": "markdown",
     "metadata": {},
     "source": [
      "First, let's extract the clip numbers, start frame and end frame"
     ]
    },
    {
     "cell_type": "code",
     "collapsed": false,
     "input": [
      "import csv\n",
      "csvfile = open('ground-truth-entrance.csv', 'r')\n",
      "fieldnames = (\"clip_info\",\"loitering\",\"wrong_direction\",\"interaction\", \"etc\", \"detected_loitering\", \"detected_no_pay\", \"detected_wrong\", \"detected_interaction\", \"detected_etc\", \"false_alarm\")\n",
      "reader = csv.DictReader( csvfile, fieldnames, delimiter='\\t',)\n",
      "data = [ row for row in reader ]\n",
      "# Remove the header\n",
      "data = data[1:]\n",
      "\n",
      "# Get the frame numbers\n",
      "clip_numbers = len(data)\n",
      "\n",
      "clips = []\n",
      "\n",
      "for item in data:\n",
      "    clip_info = item[\"clip_info\"].strip()\n",
      "    clip_number, start, end = clip_info.split(\" \")\n",
      "    clips.append((int(start), int(end)))"
     ],
     "language": "python",
     "metadata": {},
     "outputs": [],
     "prompt_number": 4
    },
    {
     "cell_type": "code",
     "collapsed": false,
     "input": [
      "clips"
     ],
     "language": "python",
     "metadata": {},
     "outputs": [
      {
       "metadata": {},
       "output_type": "pyout",
       "prompt_number": 108,
       "text": [
        "[(1560, 2100),\n",
        " (2175, 2650),\n",
        " (2650, 4120),\n",
        " (4120, 5560),\n",
        " (7650, 7755),\n",
        " (8220, 9030),\n",
        " (9295, 9535),\n",
        " (10585, 11350),\n",
        " (12475, 12820),\n",
        " (12820, 13025),\n",
        " (13965, 14650),\n",
        " (16120, 16530),\n",
        " (16530, 17000),\n",
        " (17020, 17735),\n",
        " (17735, 19510),\n",
        " (19515, 20130),\n",
        " (20130, 20290),\n",
        " (20290, 20770),\n",
        " (21650, 21865),\n",
        " (21950, 26140),\n",
        " (27500, 29950),\n",
        " (29950, 31080),\n",
        " (31340, 31425),\n",
        " (32130, 32760),\n",
        " (32955, 32990),\n",
        " (33240, 35455),\n",
        " (35500, 36350),\n",
        " (36370, 36480),\n",
        " (36500, 37055),\n",
        " (37610, 37710),\n",
        " (38120, 39390),\n",
        " (39390, 39595),\n",
        " (39980, 40050),\n",
        " (40215, 40400),\n",
        " (40435, 40575),\n",
        " (40600, 41970),\n",
        " (42085, 42485),\n",
        " (44845, 48840),\n",
        " (49095, 49245),\n",
        " (49510, 49560),\n",
        " (52100, 55500),\n",
        " (55595, 57585),\n",
        " (57700, 57800),\n",
        " (58680, 59730),\n",
        " (59800, 60980),\n",
        " (61980, 67350),\n",
        " (67350, 68200),\n",
        " (68470, 69350),\n",
        " (69520, 70230),\n",
        " (70645, 70745),\n",
        " (70770, 72200),\n",
        " (72200, 72835),\n",
        " (72880, 73140),\n",
        " (73360, 74110),\n",
        " (74260, 77076),\n",
        " (79300, 79365),\n",
        " (79420, 80510),\n",
        " (80900, 80970),\n",
        " (81130, 81770),\n",
        " (82210, 82415),\n",
        " (82490, 84475),\n",
        " (84475, 89170),\n",
        " (89570, 89920),\n",
        " (90000, 94220),\n",
        " (94255, 100700),\n",
        " (101200, 102530),\n",
        " (105975, 111300),\n",
        " (111300, 111645),\n",
        " (111745, 113050),\n",
        " (114895, 116040),\n",
        " (116110, 116580),\n",
        " (117465, 117960),\n",
        " (118020, 118110),\n",
        " (118135, 119130),\n",
        " (119185, 120180),\n",
        " (120430, 121285),\n",
        " (123280, 123885),\n",
        " (124350, 124445),\n",
        " (124645, 125240),\n",
        " (127220, 127775),\n",
        " (127925, 128475),\n",
        " (130225, 130760),\n",
        " (133160, 133660),\n",
        " (134660, 135410),\n",
        " (137160, 137965),\n",
        " (138610, 139315),\n",
        " (140610, 141890),\n",
        " (142740, 143540)]"
       ]
      }
     ],
     "prompt_number": 108
    },
    {
     "cell_type": "code",
     "collapsed": false,
     "input": [
      "import os\n",
      "import glob\n",
      "import scipy.io as sio\n",
      "\n",
      "def get_events(video_folder, clips):\n",
      "    out = []\n",
      "    for pth in sorted(glob.glob(os.path.join(video_folder, '*.mat'))):\n",
      "        # Load data from mat file.\n",
      "        data = sio.loadmat(pth)\n",
      "        events = data[\"events\"]\n",
      "        for event in events:\n",
      "            event_limits, event_cuboids, event_descriptors, event_cuboid_locations, event_adjacency = event\n",
      "            out.append((event_limits, event_descriptors, event_adjacency))\n",
      "    return out"
     ],
     "language": "python",
     "metadata": {},
     "outputs": [],
     "prompt_number": 5
    },
    {
     "cell_type": "code",
     "collapsed": false,
     "input": [
      "import os\n",
      "video_folder1 = os.path.abspath('/home/x/thesis/notes/features_subway/job1')\n",
      "video_folder2 = os.path.abspath('/home/x/thesis/notes/features_subway/job2')\n",
      "video_folder3 = os.path.abspath('/home/x/thesis/notes/features_subway/job3')\n",
      "video_folder4 = os.path.abspath('/home/x/thesis/notes/features_subway/job4')"
     ],
     "language": "python",
     "metadata": {},
     "outputs": [],
     "prompt_number": 6
    },
    {
     "cell_type": "code",
     "collapsed": false,
     "input": [
      "event_info1 = get_events(video_folder1, clips)\n",
      "event_info2 = get_events(video_folder2, clips)\n",
      "event_info3 = get_events(video_folder3, clips)\n",
      "event_info4 = get_events(video_folder4, clips)"
     ],
     "language": "python",
     "metadata": {},
     "outputs": []
    },
    {
     "cell_type": "code",
     "collapsed": false,
     "input": [
      "event_info= []\n",
      "event_info.extend(event_info1)\n",
      "event_info.extend(event_info2)\n",
      "event_info.extend(event_info3)\n",
      "event_info.extend(event_info4)"
     ],
     "language": "python",
     "metadata": {},
     "outputs": [],
     "prompt_number": 69
    },
    {
     "cell_type": "code",
     "collapsed": false,
     "input": [
      "len(event_info)"
     ],
     "language": "python",
     "metadata": {},
     "outputs": [
      {
       "metadata": {},
       "output_type": "pyout",
       "prompt_number": 113,
       "text": [
        "56963"
       ]
      }
     ],
     "prompt_number": 113
    },
    {
     "cell_type": "code",
     "collapsed": false,
     "input": [
      "for start_frame, end_frame in clips:\n",
      "    event_counter = 0\n",
      "    for ((x,), (y,), (t,)), cuboid  in event_info:\n",
      "            if (t >= start_frame - 40) and (t <= end_frame + 40):\n",
      "                event_counter += 1\n",
      "    print \"Found %s events in clip starting on %s and ending on %s\" % (event_counter, start_frame, end_frame)"
     ],
     "language": "python",
     "metadata": {},
     "outputs": [
      {
       "output_type": "stream",
       "stream": "stdout",
       "text": [
        "Found 175 events in clip starting on 1560 and ending on 2100\n",
        "Found 355 events in clip starting on 2175 and ending on 2650"
       ]
      },
      {
       "output_type": "stream",
       "stream": "stdout",
       "text": [
        "\n",
        "Found 1397 events in clip starting on 2650 and ending on 4120"
       ]
      },
      {
       "output_type": "stream",
       "stream": "stdout",
       "text": [
        "\n",
        "Found 853 events in clip starting on 4120 and ending on 5560"
       ]
      },
      {
       "output_type": "stream",
       "stream": "stdout",
       "text": [
        "\n",
        "Found 242 events in clip starting on 7650 and ending on 7755"
       ]
      },
      {
       "output_type": "stream",
       "stream": "stdout",
       "text": [
        "\n",
        "Found 703 events in clip starting on 8220 and ending on 9030"
       ]
      },
      {
       "output_type": "stream",
       "stream": "stdout",
       "text": [
        "\n",
        "Found 222 events in clip starting on 9295 and ending on 9535"
       ]
      },
      {
       "output_type": "stream",
       "stream": "stdout",
       "text": [
        "\n",
        "Found 333 events in clip starting on 10585 and ending on 11350"
       ]
      },
      {
       "output_type": "stream",
       "stream": "stdout",
       "text": [
        "\n",
        "Found 346 events in clip starting on 12475 and ending on 12820"
       ]
      },
      {
       "output_type": "stream",
       "stream": "stdout",
       "text": [
        "\n",
        "Found 405 events in clip starting on 12820 and ending on 13025"
       ]
      },
      {
       "output_type": "stream",
       "stream": "stdout",
       "text": [
        "\n",
        "Found 206 events in clip starting on 13965 and ending on 14650"
       ]
      },
      {
       "output_type": "stream",
       "stream": "stdout",
       "text": [
        "\n",
        "Found 972 events in clip starting on 16120 and ending on 16530"
       ]
      },
      {
       "output_type": "stream",
       "stream": "stdout",
       "text": [
        "\n",
        "Found 627 events in clip starting on 16530 and ending on 17000"
       ]
      },
      {
       "output_type": "stream",
       "stream": "stdout",
       "text": [
        "\n",
        "Found 573 events in clip starting on 17020 and ending on 17735"
       ]
      },
      {
       "output_type": "stream",
       "stream": "stdout",
       "text": [
        "\n",
        "Found 1497 events in clip starting on 17735 and ending on 19510"
       ]
      },
      {
       "output_type": "stream",
       "stream": "stdout",
       "text": [
        "\n",
        "Found 488 events in clip starting on 19515 and ending on 20130"
       ]
      },
      {
       "output_type": "stream",
       "stream": "stdout",
       "text": [
        "\n",
        "Found 645 events in clip starting on 20130 and ending on 20290"
       ]
      },
      {
       "output_type": "stream",
       "stream": "stdout",
       "text": [
        "\n",
        "Found 551 events in clip starting on 20290 and ending on 20770"
       ]
      },
      {
       "output_type": "stream",
       "stream": "stdout",
       "text": [
        "\n",
        "Found 278 events in clip starting on 21650 and ending on 21865"
       ]
      },
      {
       "output_type": "stream",
       "stream": "stdout",
       "text": [
        "\n",
        "Found 3747 events in clip starting on 21950 and ending on 26140"
       ]
      },
      {
       "output_type": "stream",
       "stream": "stdout",
       "text": [
        "\n",
        "Found 2203 events in clip starting on 27500 and ending on 29950"
       ]
      },
      {
       "output_type": "stream",
       "stream": "stdout",
       "text": [
        "\n",
        "Found 1189 events in clip starting on 29950 and ending on 31080"
       ]
      },
      {
       "output_type": "stream",
       "stream": "stdout",
       "text": [
        "\n",
        "Found 335 events in clip starting on 31340 and ending on 31425"
       ]
      },
      {
       "output_type": "stream",
       "stream": "stdout",
       "text": [
        "\n",
        "Found 163 events in clip starting on 32130 and ending on 32760"
       ]
      },
      {
       "output_type": "stream",
       "stream": "stdout",
       "text": [
        "\n",
        "Found 1 events in clip starting on 32955 and ending on 32990"
       ]
      },
      {
       "output_type": "stream",
       "stream": "stdout",
       "text": [
        "\n",
        "Found 1271 events in clip starting on 33240 and ending on 35455"
       ]
      },
      {
       "output_type": "stream",
       "stream": "stdout",
       "text": [
        "\n",
        "Found 161 events in clip starting on 35500 and ending on 36350"
       ]
      },
      {
       "output_type": "stream",
       "stream": "stdout",
       "text": [
        "\n",
        "Found 427 events in clip starting on 36370 and ending on 36480"
       ]
      },
      {
       "output_type": "stream",
       "stream": "stdout",
       "text": [
        "\n",
        "Found 306 events in clip starting on 36500 and ending on 37055"
       ]
      },
      {
       "output_type": "stream",
       "stream": "stdout",
       "text": [
        "\n",
        "Found 361 events in clip starting on 37610 and ending on 37710"
       ]
      },
      {
       "output_type": "stream",
       "stream": "stdout",
       "text": [
        "\n",
        "Found 1021 events in clip starting on 38120 and ending on 39390"
       ]
      },
      {
       "output_type": "stream",
       "stream": "stdout",
       "text": [
        "\n",
        "Found 438 events in clip starting on 39390 and ending on 39595"
       ]
      },
      {
       "output_type": "stream",
       "stream": "stdout",
       "text": [
        "\n",
        "Found 233 events in clip starting on 39980 and ending on 40050"
       ]
      },
      {
       "output_type": "stream",
       "stream": "stdout",
       "text": [
        "\n",
        "Found 838 events in clip starting on 40215 and ending on 40400"
       ]
      },
      {
       "output_type": "stream",
       "stream": "stdout",
       "text": [
        "\n",
        "Found 505 events in clip starting on 40435 and ending on 40575"
       ]
      },
      {
       "output_type": "stream",
       "stream": "stdout",
       "text": [
        "\n",
        "Found 1514 events in clip starting on 40600 and ending on 41970"
       ]
      },
      {
       "output_type": "stream",
       "stream": "stdout",
       "text": [
        "\n",
        "Found 362 events in clip starting on 42085 and ending on 42485"
       ]
      },
      {
       "output_type": "stream",
       "stream": "stdout",
       "text": [
        "\n",
        "Found 1087 events in clip starting on 44845 and ending on 48840"
       ]
      },
      {
       "output_type": "stream",
       "stream": "stdout",
       "text": [
        "\n",
        "Found 282 events in clip starting on 49095 and ending on 49245"
       ]
      },
      {
       "output_type": "stream",
       "stream": "stdout",
       "text": [
        "\n",
        "Found 24 events in clip starting on 49510 and ending on 49560"
       ]
      },
      {
       "output_type": "stream",
       "stream": "stdout",
       "text": [
        "\n",
        "Found 548 events in clip starting on 52100 and ending on 55500"
       ]
      },
      {
       "output_type": "stream",
       "stream": "stdout",
       "text": [
        "\n",
        "Found 1569 events in clip starting on 55595 and ending on 57585"
       ]
      },
      {
       "output_type": "stream",
       "stream": "stdout",
       "text": [
        "\n",
        "Found 207 events in clip starting on 57700 and ending on 57800"
       ]
      },
      {
       "output_type": "stream",
       "stream": "stdout",
       "text": [
        "\n",
        "Found 829 events in clip starting on 58680 and ending on 59730"
       ]
      },
      {
       "output_type": "stream",
       "stream": "stdout",
       "text": [
        "\n",
        "Found 1757 events in clip starting on 59800 and ending on 60980"
       ]
      },
      {
       "output_type": "stream",
       "stream": "stdout",
       "text": [
        "\n",
        "Found 3092 events in clip starting on 61980 and ending on 67350"
       ]
      },
      {
       "output_type": "stream",
       "stream": "stdout",
       "text": [
        "\n",
        "Found 823 events in clip starting on 67350 and ending on 68200"
       ]
      },
      {
       "output_type": "stream",
       "stream": "stdout",
       "text": [
        "\n",
        "Found 1023 events in clip starting on 68470 and ending on 69350"
       ]
      },
      {
       "output_type": "stream",
       "stream": "stdout",
       "text": [
        "\n",
        "Found 1490 events in clip starting on 69520 and ending on 70230"
       ]
      },
      {
       "output_type": "stream",
       "stream": "stdout",
       "text": [
        "\n",
        "Found 331 events in clip starting on 70645 and ending on 70745"
       ]
      },
      {
       "output_type": "stream",
       "stream": "stdout",
       "text": [
        "\n",
        "Found 1927 events in clip starting on 70770 and ending on 72200"
       ]
      },
      {
       "output_type": "stream",
       "stream": "stdout",
       "text": [
        "\n",
        "Found 807 events in clip starting on 72200 and ending on 72835"
       ]
      },
      {
       "output_type": "stream",
       "stream": "stdout",
       "text": [
        "\n",
        "Found 555 events in clip starting on 72880 and ending on 73140"
       ]
      },
      {
       "output_type": "stream",
       "stream": "stdout",
       "text": [
        "\n",
        "Found 1220 events in clip starting on 73360 and ending on 74110"
       ]
      },
      {
       "output_type": "stream",
       "stream": "stdout",
       "text": [
        "\n",
        "Found 3227 events in clip starting on 74260 and ending on 77076"
       ]
      },
      {
       "output_type": "stream",
       "stream": "stdout",
       "text": [
        "\n",
        "Found 162 events in clip starting on 79300 and ending on 79365"
       ]
      },
      {
       "output_type": "stream",
       "stream": "stdout",
       "text": [
        "\n",
        "Found 986 events in clip starting on 79420 and ending on 80510"
       ]
      },
      {
       "output_type": "stream",
       "stream": "stdout",
       "text": [
        "\n",
        "Found 97 events in clip starting on 80900 and ending on 80970"
       ]
      },
      {
       "output_type": "stream",
       "stream": "stdout",
       "text": [
        "\n",
        "Found 328 events in clip starting on 81130 and ending on 81770"
       ]
      },
      {
       "output_type": "stream",
       "stream": "stdout",
       "text": [
        "\n",
        "Found 387 events in clip starting on 82210 and ending on 82415"
       ]
      },
      {
       "output_type": "stream",
       "stream": "stdout",
       "text": [
        "\n",
        "Found 4404 events in clip starting on 82490 and ending on 84475"
       ]
      },
      {
       "output_type": "stream",
       "stream": "stdout",
       "text": [
        "\n",
        "Found 5211 events in clip starting on 84475 and ending on 89170"
       ]
      },
      {
       "output_type": "stream",
       "stream": "stdout",
       "text": [
        "\n",
        "Found 0 events in clip starting on 89570 and ending on 89920"
       ]
      },
      {
       "output_type": "stream",
       "stream": "stdout",
       "text": [
        "\n",
        "Found 0 events in clip starting on 90000 and ending on 94220"
       ]
      },
      {
       "output_type": "stream",
       "stream": "stdout",
       "text": [
        "\n",
        "Found 0 events in clip starting on 94255 and ending on 100700"
       ]
      },
      {
       "output_type": "stream",
       "stream": "stdout",
       "text": [
        "\n",
        "Found 0 events in clip starting on 101200 and ending on 102530"
       ]
      },
      {
       "output_type": "stream",
       "stream": "stdout",
       "text": [
        "\n",
        "Found 0 events in clip starting on 105975 and ending on 111300"
       ]
      },
      {
       "output_type": "stream",
       "stream": "stdout",
       "text": [
        "\n",
        "Found 0 events in clip starting on 111300 and ending on 111645"
       ]
      },
      {
       "output_type": "stream",
       "stream": "stdout",
       "text": [
        "\n",
        "Found 0 events in clip starting on 111745 and ending on 113050"
       ]
      },
      {
       "output_type": "stream",
       "stream": "stdout",
       "text": [
        "\n",
        "Found 0 events in clip starting on 114895 and ending on 116040"
       ]
      },
      {
       "output_type": "stream",
       "stream": "stdout",
       "text": [
        "\n",
        "Found 0 events in clip starting on 116110 and ending on 116580"
       ]
      },
      {
       "output_type": "stream",
       "stream": "stdout",
       "text": [
        "\n",
        "Found 0 events in clip starting on 117465 and ending on 117960"
       ]
      },
      {
       "output_type": "stream",
       "stream": "stdout",
       "text": [
        "\n",
        "Found 0 events in clip starting on 118020 and ending on 118110"
       ]
      },
      {
       "output_type": "stream",
       "stream": "stdout",
       "text": [
        "\n",
        "Found 0 events in clip starting on 118135 and ending on 119130"
       ]
      },
      {
       "output_type": "stream",
       "stream": "stdout",
       "text": [
        "\n",
        "Found 0 events in clip starting on 119185 and ending on 120180"
       ]
      },
      {
       "output_type": "stream",
       "stream": "stdout",
       "text": [
        "\n",
        "Found 0 events in clip starting on 120430 and ending on 121285"
       ]
      },
      {
       "output_type": "stream",
       "stream": "stdout",
       "text": [
        "\n",
        "Found 0 events in clip starting on 123280 and ending on 123885"
       ]
      },
      {
       "output_type": "stream",
       "stream": "stdout",
       "text": [
        "\n",
        "Found 0 events in clip starting on 124350 and ending on 124445"
       ]
      },
      {
       "output_type": "stream",
       "stream": "stdout",
       "text": [
        "\n",
        "Found 0 events in clip starting on 124645 and ending on 125240"
       ]
      },
      {
       "output_type": "stream",
       "stream": "stdout",
       "text": [
        "\n",
        "Found 0 events in clip starting on 127220 and ending on 127775"
       ]
      },
      {
       "output_type": "stream",
       "stream": "stdout",
       "text": [
        "\n",
        "Found 0 events in clip starting on 127925 and ending on 128475"
       ]
      },
      {
       "output_type": "stream",
       "stream": "stdout",
       "text": [
        "\n",
        "Found 0 events in clip starting on 130225 and ending on 130760"
       ]
      },
      {
       "output_type": "stream",
       "stream": "stdout",
       "text": [
        "\n",
        "Found 0 events in clip starting on 133160 and ending on 133660"
       ]
      },
      {
       "output_type": "stream",
       "stream": "stdout",
       "text": [
        "\n",
        "Found 0 events in clip starting on 134660 and ending on 135410"
       ]
      },
      {
       "output_type": "stream",
       "stream": "stdout",
       "text": [
        "\n",
        "Found 0 events in clip starting on 137160 and ending on 137965"
       ]
      },
      {
       "output_type": "stream",
       "stream": "stdout",
       "text": [
        "\n",
        "Found 0 events in clip starting on 138610 and ending on 139315"
       ]
      },
      {
       "output_type": "stream",
       "stream": "stdout",
       "text": [
        "\n",
        "Found 0 events in clip starting on 140610 and ending on 141890"
       ]
      },
      {
       "output_type": "stream",
       "stream": "stdout",
       "text": [
        "\n",
        "Found 0 events in clip starting on 142740 and ending on 143540"
       ]
      },
      {
       "output_type": "stream",
       "stream": "stdout",
       "text": [
        "\n"
       ]
      }
     ],
     "prompt_number": 112
    }
   ],
   "metadata": {}
  }
 ]
}