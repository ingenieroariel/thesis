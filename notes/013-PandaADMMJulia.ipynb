{
 "metadata": {
  "language": "Julia",
  "name": ""
 },
 "nbformat": 3,
 "nbformat_minor": 0,
 "worksheets": [
  {
   "cells": [
    {
     "cell_type": "code",
     "collapsed": false,
     "input": [
      "using MAT\n",
      "using SparseCoding\n",
      "\n",
      "file = matopen(\"features_D-ZBcmcje_s.mat\");\n",
      "\n",
      "hogs = read(file, \"hog\");\n",
      "hofs = read(file, \"hof\");\n",
      "video = read(file, \"mov_bw\");\n",
      "data = [hogs hofs];\n",
      "\n",
      "samples, dimensions = size(data);\n",
      "components = 200;\n",
      "\n",
      "X = zeros(dimensions, samples)\n",
      "for item in 1:samples\n",
      "    X[:, item] = data[item, :][:]\n",
      "end\n",
      "\n",
      "# Take 20% of the samples for training\n",
      "training_samples = round(samples * 0.2)\n",
      "detection_samples = samples - training_samples\n",
      "\n",
      "X_training = X[:, 1:training_samples]\n",
      "X_detection = X[:, training_samples:samples]"
     ],
     "language": "python",
     "metadata": {},
     "outputs": [],
     "prompt_number": 2
    },
    {
     "cell_type": "code",
     "collapsed": false,
     "input": [
      "@time D = dictionary_learning(X_training, components)"
     ],
     "language": "python",
     "metadata": {},
     "outputs": [
      {
       "output_type": "stream",
       "stream": "stdout",
       "text": [
        "Iteration #1"
       ]
      }
     ],
     "prompt_number": "*"
    }
   ],
   "metadata": {}
  }
 ]
}