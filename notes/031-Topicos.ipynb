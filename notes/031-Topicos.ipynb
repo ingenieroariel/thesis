{
 "metadata": {
  "name": "",
  "signature": "sha256:122aaff220dae666240175b08ca31ac5b3b7c6ca012432b70e67b0d6939f25ae"
 },
 "nbformat": 3,
 "nbformat_minor": 0,
 "worksheets": [
  {
   "cells": [
    {
     "cell_type": "heading",
     "level": 1,
     "metadata": {
      "slideshow": {
       "slide_type": "slide"
      }
     },
     "source": [
      "Classifying events on a surveiliance video using Machine Learning."
     ]
    },
    {
     "cell_type": "markdown",
     "metadata": {},
     "source": [
      "There are 4 potential classes:\n",
      "    \n",
      "    * Normal\n",
      "    * Loitering\n",
      "    * Wrong direction\n",
      "    * Miscelaneous\n",
      "\n",
      "The usual way to go about unusual events is to train models with normal events and try to reconize unusual ones based on the reconstruction error.\n",
      "For this work, we will explore the use of simple classifiers over extracted features like HOG, HOF and MBH with and without sparse coding. This will help us determine if there is enough entropy in the dataset / features to perform discrimination of unusual events via other methods."
     ]
    },
    {
     "cell_type": "code",
     "collapsed": false,
     "input": [
      "import matplotlib.pyplot as plt\n",
      "import numpy as np\n",
      "import matplotlib as mpl\n",
      "\n",
      "from sklearn import cross_validation\n",
      "from sklearn import svm\n",
      "from sklearn.preprocessing import StandardScaler\n",
      "from sklearn.metrics import confusion_matrix\n",
      "from sklearn.metrics import accuracy_score\n",
      "from sklearn.metrics import average_precision_score\n",
      "\n",
      "%matplotlib inline"
     ],
     "language": "python",
     "metadata": {},
     "outputs": [],
     "prompt_number": 38
    },
    {
     "cell_type": "heading",
     "level": 2,
     "metadata": {},
     "source": [
      "Groundtruth"
     ]
    },
    {
     "cell_type": "code",
     "collapsed": false,
     "input": [
      "codebook = {0: 'normal', 1: 'loitering', 2: 'wrong direction', 3: 'miscelaneous'}\n",
      "colors = {}\n",
      "\n",
      "groundtruth = np.array( [\n",
      "[550,780,0],\n",
      "[2310,2855,0],\n",
      "[3730,3790,0],\n",
      "[4925,5570,0],\n",
      "[5650,5750,0],\n",
      "[9680,9710,0],\n",
      "[12370,12500,0],\n",
      "[14020,14070,0],\n",
      "[14760,14816,0],\n",
      "[15290,15425,3],\n",
      "[15815,15945,0],\n",
      "[17340,17700,3],\n",
      "[18150,18240,3],\n",
      "[19250,19450,2],\n",
      "[19875,19950,0],\n",
      "[20170,20225,0],\n",
      "[20560,26400,3],\n",
      "[21760,21805,0],\n",
      "[22830,23610,0],\n",
      "[24020,24100,3],\n",
      "[37185,37267,0],\n",
      "[37940,38005,0],\n",
      "[40850,40900,2],\n",
      "[41412,41500,2],\n",
      "[41500,41630,2],\n",
      "[47020,47505,0],\n",
      "[47670,47750,3],\n",
      "[49230,49280,0],\n",
      "[50365,50500,2],\n",
      "[50940,51050,2],\n",
      "[52230,52395,0],\n",
      "[52750,52860,1],\n",
      "[53330,53425,0],\n",
      "[54375,54475,3],\n",
      "[55315,55500,1],\n",
      "[57120,57615,0],\n",
      "[59500,59560,1],\n",
      "[60169,60219,2],\n",
      "[60400,60500,2],\n",
      "[60557,60600,2],\n",
      "\n",
      "])"
     ],
     "language": "python",
     "metadata": {},
     "outputs": [],
     "prompt_number": 2
    },
    {
     "cell_type": "heading",
     "level": 2,
     "metadata": {},
     "source": [
      "Features loading"
     ]
    },
    {
     "cell_type": "code",
     "collapsed": false,
     "input": [
      "import pandas\n",
      "import numpy as np\n",
      "from pandas.io.parsers import read_csv\n",
      "\n",
      "\n",
      "def get_features(trajectory_file='/home/x/traj/subway-exit-W10-complete.txt', feature='hog'):\n",
      "\n",
      "    metadata_fields = ['frameNum', 'mean_x', 'mean_y', 'var_x', 'var_y', 'length', 'scale', 'x_pos', 'y_pos', 't_pos']\n",
      "    norm_trajectory_fields = ['norm_trajectory%s' % n for n in range(60)]\n",
      "    trajectory_fields = ['trajectory%s' % n for n in range(60)]\n",
      "    hog_fields = ['hog%s' % n for n in range(96)]\n",
      "    hof_fields = ['hof%s' % n for n in range(108)]\n",
      "    mbh_fields = ['mbh%s' % n for n in range(132)]\n",
      "\n",
      "    fields = metadata_fields + norm_trajectory_fields + trajectory_fields + hog_fields + hof_fields + mbh_fields\n",
      "\n",
      "    temp_data = read_csv(trajectory_file, delimiter='\\t', names=fields, index_col=False)\n",
      "\n",
      "    VALID_FEATURES =  ['hog', 'hof', 'mbh', 'trajectory']\n",
      "    assert feature in VALID_FEATURES, '%s is not one of %s' % (feature, VALID_FEATURES)\n",
      "\n",
      "    feature_fields = locals()['%s_fields' % feature]\n",
      "\n",
      "    data = pandas.concat([\n",
      "                temp_data.get(['frameNum', 'var_x', 'var_y', 'length', 'x_pos', 'y_pos',]),\n",
      "#                pandas.Series(temp_data.get(feature_fields).values.tolist(), index=temp_data.index, name='features'),\n",
      "    ], axis=1)\n",
      "\n",
      "    return data"
     ],
     "language": "python",
     "metadata": {},
     "outputs": [],
     "prompt_number": 3
    },
    {
     "cell_type": "heading",
     "level": 2,
     "metadata": {},
     "source": [
      "Normalizing event duration (every SAMPLE_LENGTH items)"
     ]
    },
    {
     "cell_type": "code",
     "collapsed": false,
     "input": [
      "def sample_and_label(data, SAMPLE_LENGTH=400):\n",
      "    \n",
      "    labeled_data = None\n",
      "    \n",
      "    # Create a dataset with only normal events.\n",
      "    for start, end, label in groundtruth:\n",
      "\n",
      "        sliced_data = data[(data.frameNum >= start) & (data.frameNum <= end)]\n",
      "        samples_number = len(sliced_data) / SAMPLE_LENGTH\n",
      "        \n",
      "        for i in range(1, samples_number):\n",
      "            tmp_data = sliced_data[(i-1)*SAMPLE_LENGTH:i*SAMPLE_LENGTH]\n",
      "            \n",
      "            new_data = pandas.concat([tmp_data,\n",
      "                                    pandas.Series([codebook[label] for x in np.ones(SAMPLE_LENGTH)], index=tmp_data.index, name='label'),\n",
      "                                    pandas.Series(label * np.ones(SAMPLE_LENGTH), index=tmp_data.index, name='label_code'),\n",
      "                                    pandas.Series(['' for x in np.ones(SAMPLE_LENGTH)], index=tmp_data.index, name='position'),\n",
      "                                    ], axis=1)\n",
      "            \n",
      "            if labeled_data is not None:\n",
      "                labeled_data = pandas.concat([labeled_data, new_data])\n",
      "            else:\n",
      "                labeled_data = new_data\n",
      "        \n",
      "    return labeled_data"
     ],
     "language": "python",
     "metadata": {},
     "outputs": [],
     "prompt_number": 4
    },
    {
     "cell_type": "code",
     "collapsed": false,
     "input": [
      "SAMPLE_LENGTH=100\n",
      "%time data = sample_and_label(get_features(feature='trajectory'), SAMPLE_LENGTH=SAMPLE_LENGTH)"
     ],
     "language": "python",
     "metadata": {},
     "outputs": [
      {
       "output_type": "stream",
       "stream": "stdout",
       "text": [
        "CPU times: user 31.9 s, sys: 670 ms, total: 32.5 s\n",
        "Wall time: 32.5 s\n"
       ]
      }
     ],
     "prompt_number": 5
    },
    {
     "cell_type": "heading",
     "level": 2,
     "metadata": {},
     "source": [
      "Splitting in four regions (LR, UR, LL, UL)"
     ]
    },
    {
     "cell_type": "code",
     "collapsed": false,
     "input": [
      "data.loc[(data['x_pos'] >= 0.5) & (data['y_pos'] >= 0.5), 'position'] = 'LR'\n",
      "data.loc[(data['x_pos'] >= 0.5) & (data['y_pos'] < 0.5), 'position'] = 'UR'\n",
      "data.loc[(data['x_pos'] < 0.5) & (data['y_pos'] >= 0.5), 'position'] = 'LL'\n",
      "data.loc[(data['x_pos'] < 0.5) & (data['y_pos'] < 0.5), 'position'] = 'UL'"
     ],
     "language": "python",
     "metadata": {},
     "outputs": [],
     "prompt_number": 6
    },
    {
     "cell_type": "code",
     "collapsed": false,
     "input": [
      "data.head()"
     ],
     "language": "python",
     "metadata": {},
     "outputs": [
      {
       "html": [
        "<div style=\"max-height:1000px;max-width:1500px;overflow:auto;\">\n",
        "<table border=\"1\" class=\"dataframe\">\n",
        "  <thead>\n",
        "    <tr style=\"text-align: right;\">\n",
        "      <th></th>\n",
        "      <th>frameNum</th>\n",
        "      <th>var_x</th>\n",
        "      <th>var_y</th>\n",
        "      <th>length</th>\n",
        "      <th>x_pos</th>\n",
        "      <th>y_pos</th>\n",
        "      <th>label</th>\n",
        "      <th>label_code</th>\n",
        "      <th>position</th>\n",
        "    </tr>\n",
        "  </thead>\n",
        "  <tbody>\n",
        "    <tr>\n",
        "      <th>122</th>\n",
        "      <td> 551</td>\n",
        "      <td> 1.970675</td>\n",
        "      <td> 0.221718</td>\n",
        "      <td> 14.859676</td>\n",
        "      <td> 0.347564</td>\n",
        "      <td> 0.039932</td>\n",
        "      <td> normal</td>\n",
        "      <td> 0</td>\n",
        "      <td> UL</td>\n",
        "    </tr>\n",
        "    <tr>\n",
        "      <th>123</th>\n",
        "      <td> 551</td>\n",
        "      <td> 1.750449</td>\n",
        "      <td> 0.196637</td>\n",
        "      <td> 10.768030</td>\n",
        "      <td> 0.755198</td>\n",
        "      <td> 0.975507</td>\n",
        "      <td> normal</td>\n",
        "      <td> 0</td>\n",
        "      <td> LR</td>\n",
        "    </tr>\n",
        "    <tr>\n",
        "      <th>124</th>\n",
        "      <td> 552</td>\n",
        "      <td> 0.041337</td>\n",
        "      <td> 2.641906</td>\n",
        "      <td> 12.221544</td>\n",
        "      <td> 0.615084</td>\n",
        "      <td> 0.895425</td>\n",
        "      <td> normal</td>\n",
        "      <td> 0</td>\n",
        "      <td> LR</td>\n",
        "    </tr>\n",
        "    <tr>\n",
        "      <th>125</th>\n",
        "      <td> 554</td>\n",
        "      <td> 0.496617</td>\n",
        "      <td> 2.427464</td>\n",
        "      <td>  8.764465</td>\n",
        "      <td> 0.769969</td>\n",
        "      <td> 0.492969</td>\n",
        "      <td> normal</td>\n",
        "      <td> 0</td>\n",
        "      <td> UR</td>\n",
        "    </tr>\n",
        "    <tr>\n",
        "      <th>126</th>\n",
        "      <td> 555</td>\n",
        "      <td> 0.258067</td>\n",
        "      <td> 5.514802</td>\n",
        "      <td> 16.312119</td>\n",
        "      <td> 0.621280</td>\n",
        "      <td> 0.892157</td>\n",
        "      <td> normal</td>\n",
        "      <td> 0</td>\n",
        "      <td> LR</td>\n",
        "    </tr>\n",
        "  </tbody>\n",
        "</table>\n",
        "</div>"
       ],
       "metadata": {},
       "output_type": "pyout",
       "prompt_number": 7,
       "text": [
        "     frameNum     var_x     var_y     length     x_pos     y_pos   label  \\\n",
        "122       551  1.970675  0.221718  14.859676  0.347564  0.039932  normal   \n",
        "123       551  1.750449  0.196637  10.768030  0.755198  0.975507  normal   \n",
        "124       552  0.041337  2.641906  12.221544  0.615084  0.895425  normal   \n",
        "125       554  0.496617  2.427464   8.764465  0.769969  0.492969  normal   \n",
        "126       555  0.258067  5.514802  16.312119  0.621280  0.892157  normal   \n",
        "\n",
        "     label_code position  \n",
        "122           0       UL  \n",
        "123           0       LR  \n",
        "124           0       LR  \n",
        "125           0       UR  \n",
        "126           0       LR  "
       ]
      }
     ],
     "prompt_number": 7
    },
    {
     "cell_type": "heading",
     "level": 2,
     "metadata": {},
     "source": [
      "Quantization (8 bins for length, var x and var y)"
     ]
    },
    {
     "cell_type": "code",
     "collapsed": false,
     "input": [
      "from scipy.stats import histogram\n",
      "from sklearn.neighbors import NearestNeighbors\n",
      "\n",
      "\n",
      "numbins=8\n",
      "new_data = None\n",
      "\n",
      "for position in ['LL', 'LR', 'UL', 'UR']:\n",
      "    temp_data = data[data.position==position]\n",
      "\n",
      "    for variable in ['length', 'var_x', 'var_y']:\n",
      "        _, _, bin_size, _ = histogram(temp_data.get(variable), numbins=numbins)\n",
      "        bin_limits = np.array([x*bin_size for x in range(0,numbins)]).reshape(numbins, 1)\n",
      "        nbrs = NearestNeighbors(n_neighbors=1, algorithm='ball_tree').fit(bin_limits)\n",
      "\n",
      "        temp_variable = temp_data.get(variable)\n",
      "        temp_variable = temp_variable.reshape(len(temp_variable), 1)\n",
      "\n",
      "        distance, index = nbrs.kneighbors(temp_variable)\n",
      "        binn = [bin_limits[x][0][0] for x in index]\n",
      "\n",
      "        data.loc[data.position==position,'%s_quantized' % variable] = binn"
     ],
     "language": "python",
     "metadata": {},
     "outputs": [],
     "prompt_number": 8
    },
    {
     "cell_type": "code",
     "collapsed": false,
     "input": [
      "labels = []\n",
      "features = []\n",
      "\n",
      "for i in range(1, len(data)-1, SAMPLE_LENGTH):\n",
      "    data_slice = data[i:(i+SAMPLE_LENGTH)]\n",
      "    feature = data_slice.get(['length_quantized', 'var_x_quantized', 'var_y_quantized']).as_matrix().flatten()\n",
      "    if len(data_slice) != SAMPLE_LENGTH:\n",
      "        print 'Discarded: len(data_slice) is %s for i=%s' % (len(data_slice), i)\n",
      "        continue\n",
      "    label =  data_slice[0:1].get(['label_code']).as_matrix().flatten()[0]\n",
      "    labels.append(label)\n",
      "    features.append(feature)"
     ],
     "language": "python",
     "metadata": {},
     "outputs": [
      {
       "output_type": "stream",
       "stream": "stdout",
       "text": [
        "Discarded: len(data_slice) is 99 for i=112501\n"
       ]
      }
     ],
     "prompt_number": 9
    },
    {
     "cell_type": "code",
     "collapsed": false,
     "input": [
      "features[0:1]"
     ],
     "language": "python",
     "metadata": {},
     "outputs": [
      {
       "metadata": {},
       "output_type": "pyout",
       "prompt_number": 41,
       "text": [
        "[array([  0.        ,   0.        ,   0.        ,   0.        ,\n",
        "          0.        ,   3.14472457,  12.01925757,   0.        ,\n",
        "          2.57108014,  24.72802057,   0.        ,   6.28944914,\n",
        "         24.72802057,   7.14014843,   0.        ,  49.45604114,\n",
        "         14.28029686,   3.14472457,  24.72802057,   7.14014843,\n",
        "          3.14472457,  24.72802057,   7.14014843,   0.        ,\n",
        "         49.45604114,  14.28029686,   9.43417371,  24.72802057,\n",
        "          7.14014843,   0.        ,  24.72802057,   7.14014843,\n",
        "          0.        ,  24.72802057,   7.14014843,   6.28944914,\n",
        "         22.63089686,   0.        ,   0.        ,  49.45604114,\n",
        "         14.28029686,   3.14472457,  24.72802057,   7.14014843,\n",
        "          6.28944914,  24.72802057,  14.28029686,   0.        ,\n",
        "         49.45604114,   7.14014843,   9.43417371,  24.72802057,\n",
        "          7.14014843,   6.28944914,  24.72802057,   7.14014843,\n",
        "          3.14472457,  24.72802057,   7.14014843,   3.14472457])]"
       ]
      }
     ],
     "prompt_number": 41
    },
    {
     "cell_type": "heading",
     "level": 2,
     "metadata": {},
     "source": [
      "Cross Validation"
     ]
    },
    {
     "cell_type": "code",
     "collapsed": false,
     "input": [
      "X_train, X_test, y_train, y_test = cross_validation.train_test_split(np.array(features),\n",
      "                                                                     np.array(labels),\n",
      "                                                                     test_size=0.25,\n",
      "                                                                     random_state=0)"
     ],
     "language": "python",
     "metadata": {},
     "outputs": [],
     "prompt_number": 10
    },
    {
     "cell_type": "code",
     "collapsed": false,
     "input": [
      "X_test.shape"
     ],
     "language": "python",
     "metadata": {},
     "outputs": [
      {
       "metadata": {},
       "output_type": "pyout",
       "prompt_number": 11,
       "text": [
        "(282, 300)"
       ]
      }
     ],
     "prompt_number": 11
    },
    {
     "cell_type": "code",
     "collapsed": false,
     "input": [
      "y_train.shape"
     ],
     "language": "python",
     "metadata": {},
     "outputs": [
      {
       "metadata": {},
       "output_type": "pyout",
       "prompt_number": 12,
       "text": [
        "(843,)"
       ]
      }
     ],
     "prompt_number": 12
    },
    {
     "cell_type": "heading",
     "level": 2,
     "metadata": {},
     "source": [
      "Classification using SVM"
     ]
    },
    {
     "cell_type": "code",
     "collapsed": false,
     "input": [
      "clf = svm.SVC(kernel='linear', C=1).fit(X_train, y_train)"
     ],
     "language": "python",
     "metadata": {},
     "outputs": [],
     "prompt_number": 13
    },
    {
     "cell_type": "code",
     "collapsed": false,
     "input": [
      "cm = confusion_matrix(y_test, clf.predict(X_test))"
     ],
     "language": "python",
     "metadata": {},
     "outputs": [],
     "prompt_number": 14
    },
    {
     "cell_type": "code",
     "collapsed": false,
     "input": [
      "cm"
     ],
     "language": "python",
     "metadata": {},
     "outputs": [
      {
       "metadata": {},
       "output_type": "pyout",
       "prompt_number": 15,
       "text": [
        "array([[82,  5, 20, 31],\n",
        "       [ 2,  0,  0,  3],\n",
        "       [33,  0, 31,  8],\n",
        "       [37,  5, 10, 15]])"
       ]
      }
     ],
     "prompt_number": 15
    },
    {
     "cell_type": "code",
     "collapsed": false,
     "input": [
      "normalized_cm = cm.astype('float') / cm.sum(axis=1)\n",
      "\n",
      "print 'Performance1: ' + str(((np.sum(normalized_cm.diagonal()))*100/(4-1))) + ' %'\n",
      "\n",
      "plt.matshow(normalized_cm)\n",
      "plt.title('Confusion matrix')\n",
      "plt.colorbar()\n",
      "plt.ylabel('True label')\n",
      "plt.xlabel('Predicted label')"
     ],
     "language": "python",
     "metadata": {},
     "outputs": [
      {
       "output_type": "stream",
       "stream": "stdout",
       "text": [
        "Performance1: 41.621301704 %\n"
       ]
      },
      {
       "metadata": {},
       "output_type": "pyout",
       "prompt_number": 16,
       "text": [
        "<matplotlib.text.Text at 0x7f3b4d4169d0>"
       ]
      },
      {
       "metadata": {},
       "output_type": "display_data",
       "png": "[encoded data removed]",
       "text": [
        "<matplotlib.figure.Figure at 0x7f3b4d463f10>"
       ]
      }
     ],
     "prompt_number": 16
    },
    {
     "cell_type": "code",
     "collapsed": false,
     "input": [
      "accuracy_score(y_test, clf.predict(X_test))"
     ],
     "language": "python",
     "metadata": {},
     "outputs": [
      {
       "metadata": {},
       "output_type": "pyout",
       "prompt_number": 17,
       "text": [
        "0.45390070921985815"
       ]
      }
     ],
     "prompt_number": 17
    },
    {
     "cell_type": "code",
     "collapsed": false,
     "input": [
      "print(cm)"
     ],
     "language": "python",
     "metadata": {},
     "outputs": [
      {
       "output_type": "stream",
       "stream": "stdout",
       "text": [
        "[[82  5 20 31]\n",
        " [ 2  0  0  3]\n",
        " [33  0 31  8]\n",
        " [37  5 10 15]]\n"
       ]
      }
     ],
     "prompt_number": 18
    },
    {
     "cell_type": "code",
     "collapsed": false,
     "input": [
      "clf = svm.SVC(kernel='linear', C=1, class_weight='auto').fit(X_train, y_train)"
     ],
     "language": "python",
     "metadata": {},
     "outputs": [],
     "prompt_number": 19
    },
    {
     "cell_type": "code",
     "collapsed": false,
     "input": [
      "cm = confusion_matrix(y_test, clf.predict(X_test))\n",
      "print cm"
     ],
     "language": "python",
     "metadata": {},
     "outputs": [
      {
       "output_type": "stream",
       "stream": "stdout",
       "text": [
        "[[84  5 20 29]\n",
        " [ 2  0  0  3]\n",
        " [32  0 31  9]\n",
        " [40  4 10 13]]\n"
       ]
      }
     ],
     "prompt_number": 20
    },
    {
     "cell_type": "code",
     "collapsed": false,
     "input": [
      "clf = svm.SVC(kernel='rbf', C=1, class_weight='auto').fit(X_train, y_train)"
     ],
     "language": "python",
     "metadata": {},
     "outputs": [],
     "prompt_number": 21
    },
    {
     "cell_type": "code",
     "collapsed": false,
     "input": [
      "cm = confusion_matrix(y_test, clf.predict(X_test))\n",
      "print cm"
     ],
     "language": "python",
     "metadata": {},
     "outputs": [
      {
       "output_type": "stream",
       "stream": "stdout",
       "text": [
        "[[  0   0   0 138]\n",
        " [  0   0   0   5]\n",
        " [  0   0   0  72]\n",
        " [  0   0   0  67]]\n"
       ]
      }
     ],
     "prompt_number": 22
    },
    {
     "cell_type": "code",
     "collapsed": false,
     "input": [
      "scaler = StandardScaler().fit(X_train)"
     ],
     "language": "python",
     "metadata": {},
     "outputs": [],
     "prompt_number": 23
    },
    {
     "cell_type": "code",
     "collapsed": false,
     "input": [
      "scaler"
     ],
     "language": "python",
     "metadata": {},
     "outputs": [
      {
       "metadata": {},
       "output_type": "pyout",
       "prompt_number": 24,
       "text": [
        "StandardScaler(copy=True, with_mean=True, with_std=True)"
       ]
      }
     ],
     "prompt_number": 24
    },
    {
     "cell_type": "code",
     "collapsed": false,
     "input": [
      "clf = svm.SVC(kernel='linear', C=1, class_weight='auto').fit(scaler.transform(X_train), y_train)"
     ],
     "language": "python",
     "metadata": {},
     "outputs": [],
     "prompt_number": 25
    },
    {
     "cell_type": "code",
     "collapsed": false,
     "input": [
      "cm = confusion_matrix(y_test, clf.predict(scaler.transform(X_test)))\n",
      "print cm"
     ],
     "language": "python",
     "metadata": {},
     "outputs": [
      {
       "output_type": "stream",
       "stream": "stdout",
       "text": [
        "[[66  5 18 49]\n",
        " [ 1  0  0  4]\n",
        " [30  1 33  8]\n",
        " [28  3 12 24]]\n"
       ]
      }
     ],
     "prompt_number": 26
    },
    {
     "cell_type": "code",
     "collapsed": false,
     "input": [
      "normalized_cm = cm.astype('float') / cm.sum(axis=1)\n",
      "\n",
      "print 'Performance1: ' + str(((np.sum(normalized_cm.diagonal()))*100/(4-1))) + ' %'\n",
      "\n",
      "plt.matshow(normalized_cm)\n",
      "plt.title('Confusion matrix')\n",
      "plt.colorbar()\n",
      "plt.ylabel('True label')\n",
      "plt.xlabel('Predicted label')"
     ],
     "language": "python",
     "metadata": {},
     "outputs": [
      {
       "output_type": "stream",
       "stream": "stdout",
       "text": [
        "Performance1: 43.1601052707 %\n"
       ]
      },
      {
       "metadata": {},
       "output_type": "pyout",
       "prompt_number": 27,
       "text": [
        "<matplotlib.text.Text at 0x7f3b4caafcd0>"
       ]
      },
      {
       "metadata": {},
       "output_type": "display_data",
       "png": "[encoded data removed]",
       "text": [
        "<matplotlib.figure.Figure at 0x7f3b4d463dd0>"
       ]
      }
     ],
     "prompt_number": 27
    },
    {
     "cell_type": "code",
     "collapsed": false,
     "input": [
      "accuracy_score(y_test,  clf.predict(scaler.transform(X_test)))"
     ],
     "language": "python",
     "metadata": {},
     "outputs": [
      {
       "metadata": {},
       "output_type": "pyout",
       "prompt_number": 28,
       "text": [
        "0.43617021276595747"
       ]
      }
     ],
     "prompt_number": 28
    },
    {
     "cell_type": "code",
     "collapsed": false,
     "input": [
      "SAMPLE_LENGTH=20\n",
      "\n",
      "%time data = sample_and_label(get_features(feature='trajectory'), SAMPLE_LENGTH=SAMPLE_LENGTH)"
     ],
     "language": "python",
     "metadata": {},
     "outputs": [
      {
       "output_type": "stream",
       "stream": "stdout",
       "text": [
        "CPU times: user 1min 40s, sys: 681 ms, total: 1min 41s\n",
        "Wall time: 1min 41s\n"
       ]
      }
     ],
     "prompt_number": 29
    },
    {
     "cell_type": "code",
     "collapsed": false,
     "input": [
      "data.loc[(data['x_pos'] >= 0.5) & (data['y_pos'] >= 0.5), 'position'] = 'LR'\n",
      "data.loc[(data['x_pos'] >= 0.5) & (data['y_pos'] < 0.5), 'position'] = 'UR'\n",
      "data.loc[(data['x_pos'] < 0.5) & (data['y_pos'] >= 0.5), 'position'] = 'LL'\n",
      "data.loc[(data['x_pos'] < 0.5) & (data['y_pos'] < 0.5), 'position'] = 'UL'"
     ],
     "language": "python",
     "metadata": {},
     "outputs": [],
     "prompt_number": 30
    },
    {
     "cell_type": "code",
     "collapsed": false,
     "input": [
      "from scipy.stats import histogram\n",
      "from sklearn.neighbors import NearestNeighbors\n",
      "\n",
      "numbins=8\n",
      "new_data = None\n",
      "\n",
      "for position in ['LL', 'LR', 'UL', 'UR']:\n",
      "    temp_data = data[data.position==position]\n",
      "\n",
      "    for variable in ['length', 'var_x', 'var_y']:\n",
      "        _, _, bin_size, _ = histogram(temp_data.get(variable), numbins=numbins)\n",
      "        bin_limits = np.array([x*bin_size for x in range(0,numbins)]).reshape(numbins, 1)\n",
      "        nbrs = NearestNeighbors(n_neighbors=1, algorithm='ball_tree').fit(bin_limits)\n",
      "\n",
      "        temp_variable = temp_data.get(variable)\n",
      "        temp_variable = temp_variable.reshape(len(temp_variable), 1)\n",
      "\n",
      "        distance, index = nbrs.kneighbors(temp_variable)\n",
      "        binn = [bin_limits[x][0][0] for x in index]\n",
      "\n",
      "        data.loc[data.position==position,'%s_quantized' % variable] = binn"
     ],
     "language": "python",
     "metadata": {},
     "outputs": [],
     "prompt_number": 31
    },
    {
     "cell_type": "code",
     "collapsed": false,
     "input": [
      "labels = []\n",
      "features = []\n",
      "\n",
      "for i in range(1, len(data)-1, SAMPLE_LENGTH):\n",
      "    data_slice = data[i:(i+SAMPLE_LENGTH)]\n",
      "    feature = data_slice.get(['length_quantized', 'var_x_quantized', 'var_y_quantized']).as_matrix().flatten()\n",
      "    if len(data_slice) != SAMPLE_LENGTH:\n",
      "        print 'Discarded: len(data_slice) is %s for i=%s' % (len(data_slice), i)\n",
      "        continue\n",
      "    label =  data_slice[0:1].get(['label_code']).as_matrix().flatten()[0]\n",
      "    labels.append(label)\n",
      "    features.append(feature)"
     ],
     "language": "python",
     "metadata": {},
     "outputs": [
      {
       "output_type": "stream",
       "stream": "stdout",
       "text": [
        "Discarded: len(data_slice) is 19 for i=117081\n"
       ]
      }
     ],
     "prompt_number": 32
    },
    {
     "cell_type": "code",
     "collapsed": false,
     "input": [
      "X_train, X_test, y_train, y_test = cross_validation.train_test_split(np.array(features), np.array(labels), test_size=0.9, random_state=0)"
     ],
     "language": "python",
     "metadata": {},
     "outputs": [],
     "prompt_number": 33
    },
    {
     "cell_type": "code",
     "collapsed": false,
     "input": [
      "clf = svm.SVC(kernel='linear', C=1, class_weight='auto').fit(X_train, y_train)"
     ],
     "language": "python",
     "metadata": {},
     "outputs": [],
     "prompt_number": 34
    },
    {
     "cell_type": "code",
     "collapsed": false,
     "input": [
      "cm = confusion_matrix(y_test, clf.predict(X_test))\n",
      "print cm"
     ],
     "language": "python",
     "metadata": {},
     "outputs": [
      {
       "output_type": "stream",
       "stream": "stdout",
       "text": [
        "[[1182  142  570  907]\n",
        " [  40    4   14   38]\n",
        " [ 334   14  540  237]\n",
        " [ 473   83  222  469]]\n"
       ]
      }
     ],
     "prompt_number": 35
    },
    {
     "cell_type": "code",
     "collapsed": false,
     "input": [
      "normalized_cm = cm.astype('float') / cm.sum(axis=1)\n",
      "\n",
      "print 'Performance1: ' + str(((np.sum(normalized_cm.diagonal()))*100/(4-1))) + ' %'\n",
      "\n",
      "plt.matshow(normalized_cm)\n",
      "plt.title('Confusion matrix')\n",
      "plt.colorbar()\n",
      "plt.ylabel('True label')\n",
      "plt.xlabel('Predicted label')"
     ],
     "language": "python",
     "metadata": {},
     "outputs": [
      {
       "output_type": "stream",
       "stream": "stdout",
       "text": [
        "Performance1: 43.9920486227 %\n"
       ]
      },
      {
       "metadata": {},
       "output_type": "pyout",
       "prompt_number": 36,
       "text": [
        "<matplotlib.text.Text at 0x7f3b4d416310>"
       ]
      },
      {
       "metadata": {},
       "output_type": "display_data",
       "png": "[encoded data removed]",
       "text": [
        "<matplotlib.figure.Figure at 0x7f3b4c838110>"
       ]
      }
     ],
     "prompt_number": 36
    },
    {
     "cell_type": "code",
     "collapsed": false,
     "input": [],
     "language": "python",
     "metadata": {},
     "outputs": [],
     "prompt_number": 36
    },
    {
     "cell_type": "code",
     "collapsed": false,
     "input": [
      "accuracy_score(y_test, clf.predict(X_test))"
     ],
     "language": "python",
     "metadata": {},
     "outputs": [
      {
       "metadata": {},
       "output_type": "pyout",
       "prompt_number": 37,
       "text": [
        "0.41658758777756688"
       ]
      }
     ],
     "prompt_number": 37
    },
    {
     "cell_type": "code",
     "collapsed": false,
     "input": [],
     "language": "python",
     "metadata": {},
     "outputs": []
    }
   ],
   "metadata": {}
  }
 ]
}