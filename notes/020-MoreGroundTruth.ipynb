{
 "metadata": {
  "name": ""
 },
 "nbformat": 3,
 "nbformat_minor": 0,
 "worksheets": [
  {
   "cells": [
    {
     "cell_type": "code",
     "collapsed": false,
     "input": [
      "ls"
     ],
     "language": "python",
     "metadata": {},
     "outputs": [
      {
       "output_type": "stream",
       "stream": "stdout",
       "text": [
        "\u001b[0m\u001b[01;32m001-Sparse-coding.ipynb\u001b[0m*     011-Zhao-reloaded.ipynb           \u001b[01;34madmm\u001b[0m/\r\n",
        "002-Sparse-Sneeze.ipynb      012-PandaADMMZhao.ipynb           \u001b[01;34mcuboids\u001b[0m/\r\n",
        "003-Cuboid-Display.ipynb     013-PandaADMMJulia.ipynb          ffmpeg-split.py\r\n",
        "004-ADMM.ipynb               014-Adjacency.ipynb               generate_cuboids.m\r\n",
        "005-sklearn and admm.ipynb   015-Lasso_Adjacency_Subway.ipynb  ground-truth-entrance.csv\r\n",
        "006-Panda-ADMM.ipynb         016-Ground-Truth.ipynb            \u001b[01;35mpaper-results.png\u001b[0m\r\n",
        "007-Running-ADMM.ipynb       017-Results.ipynb                 run.job\r\n",
        "008-Math-ADMM.ipynb          018-WIthMakefiles.ipynb           run.py\r\n",
        "009-Zhao-verification.ipynb  020-MoreGroundTruth.ipynb         \u001b[01;34mtoolbox\u001b[0m/\r\n",
        "010-Math-ADMM-Zhao.ipynb     021-Least squares.ipynb           Untitled0.ipynb\r\n",
        "\u001b[m"
       ]
      }
     ],
     "prompt_number": 1
    },
    {
     "cell_type": "code",
     "collapsed": false,
     "input": [
      "cd ~/subway/work"
     ],
     "language": "python",
     "metadata": {},
     "outputs": [
      {
       "output_type": "stream",
       "stream": "stdout",
       "text": [
        "/share/storage/vision/subway/work\n"
       ]
      }
     ],
     "prompt_number": 2
    },
    {
     "cell_type": "code",
     "collapsed": false,
     "input": [
      "ls\n"
     ],
     "language": "python",
     "metadata": {},
     "outputs": [
      {
       "output_type": "stream",
       "stream": "stdout",
       "text": [
        "decode.job  \u001b[0m\u001b[01;34mlogs\u001b[0m/     slice.job  \u001b[01;35msubway-entrance.avi\u001b[0m             \u001b[01;35msubway-entrance-short.avi\u001b[0m\r\n",
        "encode.job  Makefile  \u001b[01;34mslices\u001b[0m/    \u001b[01;35msubway-entrance-downloaded.avi\u001b[0m  subway-entrance.slice\r\n",
        "\u001b[m"
       ]
      }
     ],
     "prompt_number": 3
    },
    {
     "cell_type": "code",
     "collapsed": false,
     "input": [
      "cd logs"
     ],
     "language": "python",
     "metadata": {},
     "outputs": [
      {
       "output_type": "stream",
       "stream": "stdout",
       "text": [
        "/share/storage/vision/subway/work/logs\n"
       ]
      }
     ],
     "prompt_number": 4
    },
    {
     "cell_type": "code",
     "collapsed": false,
     "input": [
      "ls\n"
     ],
     "language": "python",
     "metadata": {},
     "outputs": [
      {
       "output_type": "stream",
       "stream": "stdout",
       "text": [
        "slice.log-1    slice.log-118  slice.log-137  slice.log-25  slice.log-44  slice.log-63  slice.log-82\r\n",
        "slice.log-10   slice.log-119  slice.log-138  slice.log-26  slice.log-45  slice.log-64  slice.log-83\r\n",
        "slice.log-100  slice.log-12   slice.log-139  slice.log-27  slice.log-46  slice.log-65  slice.log-84\r\n",
        "slice.log-101  slice.log-120  slice.log-14   slice.log-28  slice.log-47  slice.log-66  slice.log-85\r\n",
        "slice.log-102  slice.log-121  slice.log-140  slice.log-29  slice.log-48  slice.log-67  slice.log-86\r\n",
        "slice.log-103  slice.log-122  slice.log-141  slice.log-3   slice.log-49  slice.log-68  slice.log-87\r\n",
        "slice.log-104  slice.log-123  slice.log-142  slice.log-30  slice.log-5   slice.log-69  slice.log-88\r\n",
        "slice.log-105  slice.log-124  slice.log-143  slice.log-31  slice.log-50  slice.log-7   slice.log-89\r\n",
        "slice.log-106  slice.log-125  slice.log-144  slice.log-32  slice.log-51  slice.log-70  slice.log-9\r\n",
        "slice.log-107  slice.log-126  slice.log-145  slice.log-33  slice.log-52  slice.log-71  slice.log-90\r\n",
        "slice.log-108  slice.log-127  slice.log-15   slice.log-34  slice.log-53  slice.log-72  slice.log-91\r\n",
        "slice.log-109  slice.log-128  slice.log-16   slice.log-35  slice.log-54  slice.log-73  slice.log-92\r\n",
        "slice.log-11   slice.log-129  slice.log-17   slice.log-36  slice.log-55  slice.log-74  slice.log-93\r\n",
        "slice.log-110  slice.log-13   slice.log-18   slice.log-37  slice.log-56  slice.log-75  slice.log-94\r\n",
        "slice.log-111  slice.log-130  slice.log-19   slice.log-38  slice.log-57  slice.log-76  slice.log-95\r\n",
        "slice.log-112  slice.log-131  slice.log-2    slice.log-39  slice.log-58  slice.log-77  slice.log-96\r\n",
        "slice.log-113  slice.log-132  slice.log-20   slice.log-4   slice.log-59  slice.log-78  slice.log-97\r\n",
        "slice.log-114  slice.log-133  slice.log-21   slice.log-40  slice.log-6   slice.log-79  slice.log-98\r\n",
        "slice.log-115  slice.log-134  slice.log-22   slice.log-41  slice.log-60  slice.log-8   slice.log-99\r\n",
        "slice.log-116  slice.log-135  slice.log-23   slice.log-42  slice.log-61  slice.log-80\r\n",
        "slice.log-117  slice.log-136  slice.log-24   slice.log-43  slice.log-62  slice.log-81\r\n"
       ]
      }
     ],
     "prompt_number": 5
    },
    {
     "cell_type": "code",
     "collapsed": false,
     "input": [
      "cat slice.log-1"
     ],
     "language": "python",
     "metadata": {},
     "outputs": [
      {
       "output_type": "stream",
       "stream": "stdout",
       "text": [
        "FRAMES 1 1001 2001 3001 4001 5001 6001 7001 8001 9001 10001 11001 12001 13001 14001 15001 16001 17001 18001 19001 20001 21001 22001 23001 24001 25001 26001 27001 28001 29001 30001 31001 32001 33001 34001 35001 36001 37001 38001 39001 40001 41001 42001 43001 44001 45001 46001 47001 48001 49001 50001 51001 52001 53001 54001 55001 56001 57001 58001 59001 60001 61001 62001 63001 64001 65001 66001 67001 68001 69001 70001 71001 72001 73001 74001 75001 76001 77001 78001 79001 80001 81001 82001 83001 84001 85001 86001 87001 88001 89001 90001 91001 92001 93001 94001 95001 96001 97001 98001 99001 100001 101001 102001 103001 104001 105001 106001 107001 108001 109001 110001 111001 112001 113001 114001 115001 116001 117001 118001 119001 120001 121001 122001 123001 124001 125001 126001 127001 128001 129001 130001 131001 132001 133001 134001 135001 136001 137001 138001 139001 140001 141001 142001 143001 144001\r\n",
        "index_number 0\r\n",
        "frames_array 1\r\n",
        "frame_number 1\r\n",
        "[1] Processing video subway-entrance.avi from frame 1\r\n",
        "generate_cuboids('/home/x/subway/work/subway-entrance.avi', '/home/x/subway/work/slices/subway-entrance.avi.1.mat', 1, 1 + 1000, 100)\r\n",
        "Warning: Unable to open display 'localhost:10.0'.  You will not be able to display graphics on the screen.\r\n",
        "Warning: No window system found.  Java option 'MWT' ignored.\r\n",
        "\r\n",
        "                            < M A T L A B (R) >\r\n",
        "                  Copyright 1984-2013 The MathWorks, Inc.\r\n",
        "                    R2013b (8.2.0.701) 64-bit (glnxa64)\r\n",
        "                              August 13, 2013\r\n",
        "\r\n",
        "No window system found.  Java option 'MWT' ignored.\r\n",
        " \r\n",
        "To get started, type one of these: helpwin, helpdesk, or demo.\r\n",
        "For product information, visit www.mathworks.com.\r\n",
        " \r\n",
        "Loading in clip\r\n",
        "/home/x/subway/work/subway-entrance.avi\r\n",
        "Processing only frames within the following boundaries\r\n",
        "           1        1101      144246\r\n",
        "\r\n",
        "Converting to grayscale\r\n",
        "Detecting features\r\n",
        "Computing descriptors\r\n",
        "\r\n",
        "fevalArrays   completed=1.4% [elapsed=1.1s / remaining~=80.3s]\b\b\b\b\b\b\b\b\b\b\b\b\b\b\b\b\b\b\b\b\b\b\b\b\b\b\b\b\b\b\b\b\b\b\b\b\b\b\b\b\b\b\b\b\b\b\b\b\b\b\b\b\b\b\b\b\b\b\b\b\b\bfevalArrays   completed=2.7% [elapsed=2.2s / remaining~=79.3s]\b\b\b\b\b\b\b\b\b\b\b\b\b\b\b\b\b\b\b\b\b\b\b\b\b\b\b\b\b\b\b\b\b\b\b\b\b\b\b\b\b\b\b\b\b\b\b\b\b\b\b\b\b\b\b\b\b\b\b\b\b\bfevalArrays   completed=4.1% [elapsed=3.3s / remaining~=76.6s]\b\b\b\b\b\b\b\b\b\b\b\b\b\b\b\b\b\b\b\b\b\b\b\b\b\b\b\b\b\b\b\b\b\b\b\b\b\b\b\b\b\b\b\b\b\b\b\b\b\b\b\b\b\b\b\b\b\b\b\b\b\bfevalArrays   completed=5.5% [elapsed=4.3s / remaining~=74.6s]\b\b\b\b\b\b\b\b\b\b\b\b\b\b\b\b\b\b\b\b\b\b\b\b\b\b\b\b\b\b\b\b\b\b\b\b\b\b\b\b\b\b\b\b\b\b\b\b\b\b\b\b\b\b\b\b\b\b\b\b\b\bfevalArrays   completed=6.8% [elapsed=5.3s / remaining~=72.6s]\b\b\b\b\b\b\b\b\b\b\b\b\b\b\b\b\b\b\b\b\b\b\b\b\b\b\b\b\b\b\b\b\b\b\b\b\b\b\b\b\b\b\b\b\b\b\b\b\b\b\b\b\b\b\b\b\b\b\b\b\b\bfevalArrays   completed=8.2% [elapsed=6.3s / remaining~=70.9s]\b\b\b\b\b\b\b\b\b\b\b\b\b\b\b\b\b\b\b\b\b\b\b\b\b\b\b\b\b\b\b\b\b\b\b\b\b\b\b\b\b\b\b\b\b\b\b\b\b\b\b\b\b\b\b\b\b\b\b\b\b\bfevalArrays   completed=9.6% [elapsed=7.4s / remaining~=69.7s]\b\b\b\b\b\b\b\b\b\b\b\b\b\b\b\b\b\b\b\b\b\b\b\b\b\b\b\b\b\b\b\b\b\b\b\b\b\b\b\b\b\b\b\b\b\b\b\b\b\b\b\b\b\b\b\b\b\b\b\b\b\bfevalArrays   completed=11.0% [elapsed=8.4s / remaining~=68.3s]\b\b\b\b\b\b\b\b\b\b\b\b\b\b\b\b\b\b\b\b\b\b\b\b\b\b\b\b\b\b\b\b\b\b\b\b\b\b\b\b\b\b\b\b\b\b\b\b\b\b\b\b\b\b\b\b\b\b\b\b\b\b\bfevalArrays   completed=12.3% [elapsed=9.4s / remaining~=67.0s]\b\b\b\b\b\b\b\b\b\b\b\b\b\b\b\b\b\b\b\b\b\b\b\b\b\b\b\b\b\b\b\b\b\b\b\b\b\b\b\b\b\b\b\b\b\b\b\b\b\b\b\b\b\b\b\b\b\b\b\b\b\b\bfevalArrays   completed=13.7% [elapsed=10.5s / remaining~=65.9s]\b\b\b\b\b\b\b\b\b\b\b\b\b\b\b\b\b\b\b\b\b\b\b\b\b\b\b\b\b\b\b\b\b\b\b\b\b\b\b\b\b\b\b\b\b\b\b\b\b\b\b\b\b\b\b\b\b\b\b\b\b\b\b\bfevalArrays   completed=15.1% [elapsed=11.5s / remaining~=64.7s]\b\b\b\b\b\b\b\b\b\b\b\b\b\b\b\b\b\b\b\b\b\b\b\b\b\b\b\b\b\b\b\b\b\b\b\b\b\b\b\b\b\b\b\b\b\b\b\b\b\b\b\b\b\b\b\b\b\b\b\b\b\b\b\bfevalArrays   completed=16.4% [elapsed=12.5s / remaining~=63.5s]\b\b\b\b\b\b\b\b\b\b\b\b\b\b\b\b\b\b\b\b\b\b\b\b\b\b\b\b\b\b\b\b\b\b\b\b\b\b\b\b\b\b\b\b\b\b\b\b\b\b\b\b\b\b\b\b\b\b\b\b\b\b\b\bfevalArrays   completed=17.8% [elapsed=13.5s / remaining~=62.4s]\b\b\b\b\b\b\b\b\b\b\b\b\b\b\b\b\b\b\b\b\b\b\b\b\b\b\b\b\b\b\b\b\b\b\b\b\b\b\b\b\b\b\b\b\b\b\b\b\b\b\b\b\b\b\b\b\b\b\b\b\b\b\b\bfevalArrays   completed=19.2% [elapsed=14.5s / remaining~=61.2s]\b\b\b\b\b\b\b\b\b\b\b\b\b\b\b\b\b\b\b\b\b\b\b\b\b\b\b\b\b\b\b\b\b\b\b\b\b\b\b\b\b\b\b\b\b\b\b\b\b\b\b\b\b\b\b\b\b\b\b\b\b\b\b\bfevalArrays   completed=20.5% [elapsed=15.5s / remaining~=60.1s]\b\b\b\b\b\b\b\b\b\b\b\b\b\b\b\b\b\b\b\b\b\b\b\b\b\b\b\b\b\b\b\b\b\b\b\b\b\b\b\b\b\b\b\b\b\b\b\b\b\b\b\b\b\b\b\b\b\b\b\b\b\b\b\bfevalArrays   completed=22.1% [elapsed=16.6s / remaining~=58.7s]\b\b\b\b\b\b\b\b\b\b\b\b\b\b\b\b\b\b\b\b\b\b\b\b\b\b\b\b\b\b\b\b\b\b\b\b\b\b\b\b\b\b\b\b\b\b\b\b\b\b\b\b\b\b\b\b\b\b\b\b\b\b\b\bfevalArrays   completed=23.6% [elapsed=17.7s / remaining~=57.3s]\b\b\b\b\b\b\b\b\b\b\b\b\b\b\b\b\b\b\b\b\b\b\b\b\b\b\b\b\b\b\b\b\b\b\b\b\b\b\b\b\b\b\b\b\b\b\b\b\b\b\b\b\b\b\b\b\b\b\b\b\b\b\b\bfevalArrays   completed=25.2% [elapsed=18.8s / remaining~=56.0s]\b\b\b\b\b\b\b\b\b\b\b\b\b\b\b\b\b\b\b\b\b\b\b\b\b\b\b\b\b\b\b\b\b\b\b\b\b\b\b\b\b\b\b\b\b\b\b\b\b\b\b\b\b\b\b\b\b\b\b\b\b\b\b\bfevalArrays   completed=26.7% [elapsed=19.9s / remaining~=54.7s]\b\b\b\b\b\b\b\b\b\b\b\b\b\b\b\b\b\b\b\b\b\b\b\b\b\b\b\b\b\b\b\b\b\b\b\b\b\b\b\b\b\b\b\b\b\b\b\b\b\b\b\b\b\b\b\b\b\b\b\b\b\b\b\bfevalArrays   completed=28.3% [elapsed=21.0s / remaining~=53.4s]\b\b\b\b\b\b\b\b\b\b\b\b\b\b\b\b\b\b\b\b\b\b\b\b\b\b\b\b\b\b\b\b\b\b\b\b\b\b\b\b\b\b\b\b\b\b\b\b\b\b\b\b\b\b\b\b\b\b\b\b\b\b\b\bfevalArrays   completed=29.8% [elapsed=22.1s / remaining~=52.1s]\b\b\b\b\b\b\b\b\b\b\b\b\b\b\b\b\b\b\b\b\b\b\b\b\b\b\b\b\b\b\b\b\b\b\b\b\b\b\b\b\b\b\b\b\b\b\b\b\b\b\b\b\b\b\b\b\b\b\b\b\b\b\b\bfevalArrays   completed=31.3% [elapsed=23.2s / remaining~=50.9s]\b\b\b\b\b\b\b\b\b\b\b\b\b\b\b\b\b\b\b\b\b\b\b\b\b\b\b\b\b\b\b\b\b\b\b\b\b\b\b\b\b\b\b\b\b\b\b\b\b\b\b\b\b\b\b\b\b\b\b\b\b\b\b\bfevalArrays   completed=32.9% [elapsed=24.3s / remaining~=49.7s]\b\b\b\b\b\b\b\b\b\b\b\b\b\b\b\b\b\b\b\b\b\b\b\b\b\b\b\b\b\b\b\b\b\b\b\b\b\b\b\b\b\b\b\b\b\b\b\b\b\b\b\b\b\b\b\b\b\b\b\b\b\b\b\bfevalArrays   completed=34.4% [elapsed=25.4s / remaining~=48.5s]\b\b\b\b\b\b\b\b\b\b\b\b\b\b\b\b\b\b\b\b\b\b\b\b\b\b\b\b\b\b\b\b\b\b\b\b\b\b\b\b\b\b\b\b\b\b\b\b\b\b\b\b\b\b\b\b\b\b\b\b\b\b\b\bfevalArrays   completed=36.0% [elapsed=26.5s / remaining~=47.2s]\b\b\b\b\b\b\b\b\b\b\b\b\b\b\b\b\b\b\b\b\b\b\b\b\b\b\b\b\b\b\b\b\b\b\b\b\b\b\b\b\b\b\b\b\b\b\b\b\b\b\b\b\b\b\b\b\b\b\b\b\b\b\b\bfevalArrays   completed=37.5% [elapsed=27.6s / remaining~=46.0s]\b\b\b\b\b\b\b\b\b\b\b\b\b\b\b\b\b\b\b\b\b\b\b\b\b\b\b\b\b\b\b\b\b\b\b\b\b\b\b\b\b\b\b\b\b\b\b\b\b\b\b\b\b\b\b\b\b\b\b\b\b\b\b\bfevalArrays   completed=39.0% [elapsed=28.7s / remaining~=44.8s]\b\b\b\b\b\b\b\b\b\b\b\b\b\b\b\b\b\b\b\b\b\b\b\b\b\b\b\b\b\b\b\b\b\b\b\b\b\b\b\b\b\b\b\b\b\b\b\b\b\b\b\b\b\b\b\b\b\b\b\b\b\b\b\bfevalArrays   completed=40.6% [elapsed=29.8s / remaining~=43.7s]\b\b\b\b\b\b\b\b\b\b\b\b\b\b\b\b\b\b\b\b\b\b\b\b\b\b\b\b\b\b\b\b\b\b\b\b\b\b\b\b\b\b\b\b\b\b\b\b\b\b\b\b\b\b\b\b\b\b\b\b\b\b\b\bfevalArrays   completed=42.1% [elapsed=30.9s / remaining~=42.5s]\b\b\b\b\b\b\b\b\b\b\b\b\b\b\b\b\b\b\b\b\b\b\b\b\b\b\b\b\b\b\b\b\b\b\b\b\b\b\b\b\b\b\b\b\b\b\b\b\b\b\b\b\b\b\b\b\b\b\b\b\b\b\b\bfevalArrays   completed=43.7% [elapsed=32.0s / remaining~=41.3s]\b\b\b\b\b\b\b\b\b\b\b\b\b\b\b\b\b\b\b\b\b\b\b\b\b\b\b\b\b\b\b\b\b\b\b\b\b\b\b\b\b\b\b\b\b\b\b\b\b\b\b\b\b\b\b\b\b\b\b\b\b\b\b\bfevalArrays   completed=45.2% [elapsed=33.1s / remaining~=40.1s]\b\b\b\b\b\b\b\b\b\b\b\b\b\b\b\b\b\b\b\b\b\b\b\b\b\b\b\b\b\b\b\b\b\b\b\b\b\b\b\b\b\b\b\b\b\b\b\b\b\b\b\b\b\b\b\b\b\b\b\b\b\b\b\bfevalArrays   completed=46.7% [elapsed=34.2s / remaining~=39.0s]\b\b\b\b\b\b\b\b\b\b\b\b\b\b\b\b\b\b\b\b\b\b\b\b\b\b\b\b\b\b\b\b\b\b\b\b\b\b\b\b\b\b\b\b\b\b\b\b\b\b\b\b\b\b\b\b\b\b\b\b\b\b\b\bfevalArrays   completed=48.1% [elapsed=35.2s / remaining~=38.0s]\b\b\b\b\b\b\b\b\b\b\b\b\b\b\b\b\b\b\b\b\b\b\b\b\b\b\b\b\b\b\b\b\b\b\b\b\b\b\b\b\b\b\b\b\b\b\b\b\b\b\b\b\b\b\b\b\b\b\b\b\b\b\b\bfevalArrays   completed=49.7% [elapsed=36.3s / remaining~=36.8s]\b\b\b\b\b\b\b\b\b\b\b\b\b\b\b\b\b\b\b\b\b\b\b\b\b\b\b\b\b\b\b\b\b\b\b\b\b\b\b\b\b\b\b\b\b\b\b\b\b\b\b\b\b\b\b\b\b\b\b\b\b\b\b\bfevalArrays   completed=51.2% [elapsed=37.4s / remaining~=35.6s]\b\b\b\b\b\b\b\b\b\b\b\b\b\b\b\b\b\b\b\b\b\b\b\b\b\b\b\b\b\b\b\b\b\b\b\b\b\b\b\b\b\b\b\b\b\b\b\b\b\b\b\b\b\b\b\b\b\b\b\b\b\b\b\bfevalArrays   completed=52.7% [elapsed=38.5s / remaining~=34.5s]\b\b\b\b\b\b\b\b\b\b\b\b\b\b\b\b\b\b\b\b\b\b\b\b\b\b\b\b\b\b\b\b\b\b\b\b\b\b\b\b\b\b\b\b\b\b\b\b\b\b\b\b\b\b\b\b\b\b\b\b\b\b\b\bfevalArrays   completed=54.3% [elapsed=39.5s / remaining~=33.3s]\b\b\b\b\b\b\b\b\b\b\b\b\b\b\b\b\b\b\b\b\b\b\b\b\b\b\b\b\b\b\b\b\b\b\b\b\b\b\b\b\b\b\b\b\b\b\b\b\b\b\b\b\b\b\b\b\b\b\b\b\b\b\b\bfevalArrays   completed=55.8% [elapsed=40.6s / remaining~=32.1s]\b\b\b\b\b\b\b\b\b\b\b\b\b\b\b\b\b\b\b\b\b\b\b\b\b\b\b\b\b\b\b\b\b\b\b\b\b\b\b\b\b\b\b\b\b\b\b\b\b\b\b\b\b\b\b\b\b\b\b\b\b\b\b\bfevalArrays   completed=57.4% [elapsed=41.7s / remaining~=31.0s]\b\b\b\b\b\b\b\b\b\b\b\b\b\b\b\b\b\b\b\b\b\b\b\b\b\b\b\b\b\b\b\b\b\b\b\b\b\b\b\b\b\b\b\b\b\b\b\b\b\b\b\b\b\b\b\b\b\b\b\b\b\b\b\bfevalArrays   completed=58.9% [elapsed=42.7s / remaining~=29.8s]\b\b\b\b\b\b\b\b\b\b\b\b\b\b\b\b\b\b\b\b\b\b\b\b\b\b\b\b\b\b\b\b\b\b\b\b\b\b\b\b\b\b\b\b\b\b\b\b\b\b\b\b\b\b\b\b\b\b\b\b\b\b\b\bfevalArrays   completed=60.4% [elapsed=43.8s / remaining~=28.7s]\b\b\b\b\b\b\b\b\b\b\b\b\b\b\b\b\b\b\b\b\b\b\b\b\b\b\b\b\b\b\b\b\b\b\b\b\b\b\b\b\b\b\b\b\b\b\b\b\b\b\b\b\b\b\b\b\b\b\b\b\b\b\b\bfevalArrays   completed=62.0% [elapsed=44.9s / remaining~=27.5s]\b\b\b\b\b\b\b\b\b\b\b\b\b\b\b\b\b\b\b\b\b\b\b\b\b\b\b\b\b\b\b\b\b\b\b\b\b\b\b\b\b\b\b\b\b\b\b\b\b\b\b\b\b\b\b\b\b\b\b\b\b\b\b\bfevalArrays   completed=63.5% [elapsed=45.9s / remaining~=26.4s]\b\b\b\b\b\b\b\b\b\b\b\b\b\b\b\b\b\b\b\b\b\b\b\b\b\b\b\b\b\b\b\b\b\b\b\b\b\b\b\b\b\b\b\b\b\b\b\b\b\b\b\b\b\b\b\b\b\b\b\b\b\b\b\bfevalArrays   completed=65.1% [elapsed=47.0s / remaining~=25.2s]\b\b\b\b\b\b\b\b\b\b\b\b\b\b\b\b\b\b\b\b\b\b\b\b\b\b\b\b\b\b\b\b\b\b\b\b\b\b\b\b\b\b\b\b\b\b\b\b\b\b\b\b\b\b\b\b\b\b\b\b\b\b\b\bfevalArrays   completed=66.6% [elapsed=48.1s / remaining~=24.1s]\b\b\b\b\b\b\b\b\b\b\b\b\b\b\b\b\b\b\b\b\b\b\b\b\b\b\b\b\b\b\b\b\b\b\b\b\b\b\b\b\b\b\b\b\b\b\b\b\b\b\b\b\b\b\b\b\b\b\b\b\b\b\b\bfevalArrays   completed=68.2% [elapsed=49.2s / remaining~=23.0s]\b\b\b\b\b\b\b\b\b\b\b\b\b\b\b\b\b\b\b\b\b\b\b\b\b\b\b\b\b\b\b\b\b\b\b\b\b\b\b\b\b\b\b\b\b\b\b\b\b\b\b\b\b\b\b\b\b\b\b\b\b\b\b\bfevalArrays   completed=69.7% [elapsed=50.2s / remaining~=21.8s]\b\b\b\b\b\b\b\b\b\b\b\b\b\b\b\b\b\b\b\b\b\b\b\b\b\b\b\b\b\b\b\b\b\b\b\b\b\b\b\b\b\b\b\b\b\b\b\b\b\b\b\b\b\b\b\b\b\b\b\b\b\b\b\bfevalArrays   completed=71.2% [elapsed=51.3s / remaining~=20.7s]\b\b\b\b\b\b\b\b\b\b\b\b\b\b\b\b\b\b\b\b\b\b\b\b\b\b\b\b\b\b\b\b\b\b\b\b\b\b\b\b\b\b\b\b\b\b\b\b\b\b\b\b\b\b\b\b\b\b\b\b\b\b\b\bfevalArrays   completed=72.8% [elapsed=52.3s / remaining~=19.6s]\b\b\b\b\b\b\b\b\b\b\b\b\b\b\b\b\b\b\b\b\b\b\b\b\b\b\b\b\b\b\b\b\b\b\b\b\b\b\b\b\b\b\b\b\b\b\b\b\b\b\b\b\b\b\b\b\b\b\b\b\b\b\b\bfevalArrays   completed=74.3% [elapsed=53.4s / remaining~=18.4s]\b\b\b\b\b\b\b\b\b\b\b\b\b\b\b\b\b\b\b\b\b\b\b\b\b\b\b\b\b\b\b\b\b\b\b\b\b\b\b\b\b\b\b\b\b\b\b\b\b\b\b\b\b\b\b\b\b\b\b\b\b\b\b\bfevalArrays   completed=75.9% [elapsed=54.4s / remaining~=17.3s]\b\b\b\b\b\b\b\b\b\b\b\b\b\b\b\b\b\b\b\b\b\b\b\b\b\b\b\b\b\b\b\b\b\b\b\b\b\b\b\b\b\b\b\b\b\b\b\b\b\b\b\b\b\b\b\b\b\b\b\b\b\b\b\bfevalArrays   completed=77.4% [elapsed=55.5s / remaining~=16.2s]\b\b\b\b\b\b\b\b\b\b\b\b\b\b\b\b\b\b\b\b\b\b\b\b\b\b\b\b\b\b\b\b\b\b\b\b\b\b\b\b\b\b\b\b\b\b\b\b\b\b\b\b\b\b\b\b\b\b\b\b\b\b\b\bfevalArrays   completed=78.9% [elapsed=56.5s / remaining~=15.1s]\b\b\b\b\b\b\b\b\b\b\b\b\b\b\b\b\b\b\b\b\b\b\b\b\b\b\b\b\b\b\b\b\b\b\b\b\b\b\b\b\b\b\b\b\b\b\b\b\b\b\b\b\b\b\b\b\b\b\b\b\b\b\b\bfevalArrays   completed=80.5% [elapsed=57.6s / remaining~=14.0s]\b\b\b\b\b\b\b\b\b\b\b\b\b\b\b\b\b\b\b\b\b\b\b\b\b\b\b\b\b\b\b\b\b\b\b\b\b\b\b\b\b\b\b\b\b\b\b\b\b\b\b\b\b\b\b\b\b\b\b\b\b\b\b\bfevalArrays   completed=82.0% [elapsed=58.6s / remaining~=12.9s]\b\b\b\b\b\b\b\b\b\b\b\b\b\b\b\b\b\b\b\b\b\b\b\b\b\b\b\b\b\b\b\b\b\b\b\b\b\b\b\b\b\b\b\b\b\b\b\b\b\b\b\b\b\b\b\b\b\b\b\b\b\b\b\bfevalArrays   completed=83.6% [elapsed=59.7s / remaining~=11.7s]\b\b\b\b\b\b\b\b\b\b\b\b\b\b\b\b\b\b\b\b\b\b\b\b\b\b\b\b\b\b\b\b\b\b\b\b\b\b\b\b\b\b\b\b\b\b\b\b\b\b\b\b\b\b\b\b\b\b\b\b\b\b\b\bfevalArrays   completed=85.1% [elapsed=60.7s / remaining~=10.6s]\b\b\b\b\b\b\b\b\b\b\b\b\b\b\b\b\b\b\b\b\b\b\b\b\b\b\b\b\b\b\b\b\b\b\b\b\b\b\b\b\b\b\b\b\b\b\b\b\b\b\b\b\b\b\b\b\b\b\b\b\b\b\b\bfevalArrays   completed=86.6% [elapsed=61.8s / remaining~=9.5s]\b\b\b\b\b\b\b\b\b\b\b\b\b\b\b\b\b\b\b\b\b\b\b\b\b\b\b\b\b\b\b\b\b\b\b\b\b\b\b\b\b\b\b\b\b\b\b\b\b\b\b\b\b\b\b\b\b\b\b\b\b\b\bfevalArrays   completed=88.2% [elapsed=62.8s / remaining~=8.4s]\b\b\b\b\b\b\b\b\b\b\b\b\b\b\b\b\b\b\b\b\b\b\b\b\b\b\b\b\b\b\b\b\b\b\b\b\b\b\b\b\b\b\b\b\b\b\b\b\b\b\b\b\b\b\b\b\b\b\b\b\b\b\bfevalArrays   completed=89.7% [elapsed=63.9s / remaining~=7.3s]\b\b\b\b\b\b\b\b\b\b\b\b\b\b\b\b\b\b\b\b\b\b\b\b\b\b\b\b\b\b\b\b\b\b\b\b\b\b\b\b\b\b\b\b\b\b\b\b\b\b\b\b\b\b\b\b\b\b\b\b\b\b\bfevalArrays   completed=91.3% [elapsed=65.0s / remaining~=6.2s]\b\b\b\b\b\b\b\b\b\b\b\b\b\b\b\b\b\b\b\b\b\b\b\b\b\b\b\b\b\b\b\b\b\b\b\b\b\b\b\b\b\b\b\b\b\b\b\b\b\b\b\b\b\b\b\b\b\b\b\b\b\b\bfevalArrays   completed=92.8% [elapsed=66.0s / remaining~=5.1s]\b\b\b\b\b\b\b\b\b\b\b\b\b\b\b\b\b\b\b\b\b\b\b\b\b\b\b\b\b\b\b\b\b\b\b\b\b\b\b\b\b\b\b\b\b\b\b\b\b\b\b\b\b\b\b\b\b\b\b\b\b\b\bfevalArrays   completed=94.3% [elapsed=67.1s / remaining~=4.0s]\b\b\b\b\b\b\b\b\b\b\b\b\b\b\b\b\b\b\b\b\b\b\b\b\b\b\b\b\b\b\b\b\b\b\b\b\b\b\b\b\b\b\b\b\b\b\b\b\b\b\b\b\b\b\b\b\b\b\b\b\b\b\bfevalArrays   completed=95.9% [elapsed=68.1s / remaining~=2.9s]\b\b\b\b\b\b\b\b\b\b\b\b\b\b\b\b\b\b\b\b\b\b\b\b\b\b\b\b\b\b\b\b\b\b\b\b\b\b\b\b\b\b\b\b\b\b\b\b\b\b\b\b\b\b\b\b\b\b\b\b\b\b\bfevalArrays   completed=97.4% [elapsed=69.2s / remaining~=1.8s]\b\b\b\b\b\b\b\b\b\b\b\b\b\b\b\b\b\b\b\b\b\b\b\b\b\b\b\b\b\b\b\b\b\b\b\b\b\b\b\b\b\b\b\b\b\b\b\b\b\b\b\b\b\b\b\b\b\b\b\b\b\b\bfevalArrays   completed=99.0% [elapsed=70.2s / remaining~=0.7s]\b\b\b\b\b\b\b\b\b\b\b\b\b\b\b\b\b\b\b\b\b\b\b\b\b\b\b\b\b\b\b\b\b\b\b\b\b\b\b\b\b\b\b\b\b\b\b\b\b\b\b\b\b\b\b\b\b\b\b\b\b\b\bfevalArrays   completed=100.0% [elapsed=71.0s / remaining~=0.0s]\r\n"
       ]
      }
     ],
     "prompt_number": 6
    },
    {
     "cell_type": "code",
     "collapsed": false,
     "input": [
      "cd .."
     ],
     "language": "python",
     "metadata": {},
     "outputs": [
      {
       "output_type": "stream",
       "stream": "stdout",
       "text": [
        "/share/storage/vision/subway/work\n"
       ]
      }
     ],
     "prompt_number": 7
    },
    {
     "cell_type": "code",
     "collapsed": false,
     "input": [
      "cd slices"
     ],
     "language": "python",
     "metadata": {},
     "outputs": [
      {
       "output_type": "stream",
       "stream": "stdout",
       "text": [
        "/share/storage/vision/subway/work/slices\n"
       ]
      }
     ],
     "prompt_number": 8
    },
    {
     "cell_type": "code",
     "collapsed": false,
     "input": [
      "ls"
     ],
     "language": "python",
     "metadata": {},
     "outputs": [
      {
       "output_type": "stream",
       "stream": "stdout",
       "text": [
        "legend.html                     subway-entrance.avi.142001.mat  subway-entrance.avi.56001.mat\r\n",
        "subway-entrance.avi.100001.mat  subway-entrance.avi.143001.mat  subway-entrance.avi.57001.mat\r\n",
        "subway-entrance.avi.10001.mat   subway-entrance.avi.144001.mat  subway-entrance.avi.58001.mat\r\n",
        "subway-entrance.avi.1001.mat    subway-entrance.avi.15001.mat   subway-entrance.avi.59001.mat\r\n",
        "subway-entrance.avi.101001.mat  subway-entrance.avi.16001.mat   subway-entrance.avi.60001.mat\r\n",
        "subway-entrance.avi.102001.mat  subway-entrance.avi.17001.mat   subway-entrance.avi.6001.mat\r\n",
        "subway-entrance.avi.103001.mat  subway-entrance.avi.18001.mat   subway-entrance.avi.61001.mat\r\n",
        "subway-entrance.avi.104001.mat  subway-entrance.avi.19001.mat   subway-entrance.avi.62001.mat\r\n",
        "subway-entrance.avi.105001.mat  subway-entrance.avi.1.mat       subway-entrance.avi.63001.mat\r\n",
        "subway-entrance.avi.106001.mat  subway-entrance.avi.20001.mat   subway-entrance.avi.64001.mat\r\n",
        "subway-entrance.avi.107001.mat  subway-entrance.avi.2001.mat    subway-entrance.avi.65001.mat\r\n",
        "subway-entrance.avi.108001.mat  subway-entrance.avi.21001.mat   subway-entrance.avi.66001.mat\r\n",
        "subway-entrance.avi.109001.mat  subway-entrance.avi.22001.mat   subway-entrance.avi.67001.mat\r\n",
        "subway-entrance.avi.110001.mat  subway-entrance.avi.23001.mat   subway-entrance.avi.68001.mat\r\n",
        "subway-entrance.avi.11001.mat   subway-entrance.avi.24001.mat   subway-entrance.avi.69001.mat\r\n",
        "subway-entrance.avi.111001.mat  subway-entrance.avi.25001.mat   subway-entrance.avi.70001.mat\r\n",
        "subway-entrance.avi.112001.mat  subway-entrance.avi.26001.mat   subway-entrance.avi.7001.mat\r\n",
        "subway-entrance.avi.113001.mat  subway-entrance.avi.27001.mat   subway-entrance.avi.71001.mat\r\n",
        "subway-entrance.avi.114001.mat  subway-entrance.avi.28001.mat   subway-entrance.avi.72001.mat\r\n",
        "subway-entrance.avi.115001.mat  subway-entrance.avi.29001.mat   subway-entrance.avi.73001.mat\r\n",
        "subway-entrance.avi.116001.mat  subway-entrance.avi.30001.mat   subway-entrance.avi.74001.mat\r\n",
        "subway-entrance.avi.117001.mat  subway-entrance.avi.3001.mat    subway-entrance.avi.75001.mat\r\n",
        "subway-entrance.avi.118001.mat  subway-entrance.avi.31001.mat   subway-entrance.avi.76001.mat\r\n",
        "subway-entrance.avi.119001.mat  subway-entrance.avi.32001.mat   subway-entrance.avi.77001.mat\r\n",
        "subway-entrance.avi.120001.mat  subway-entrance.avi.33001.mat   subway-entrance.avi.78001.mat\r\n",
        "subway-entrance.avi.12001.mat   subway-entrance.avi.34001.mat   subway-entrance.avi.79001.mat\r\n",
        "subway-entrance.avi.121001.mat  subway-entrance.avi.35001.mat   subway-entrance.avi.80001.mat\r\n",
        "subway-entrance.avi.122001.mat  subway-entrance.avi.36001.mat   subway-entrance.avi.8001.mat\r\n",
        "subway-entrance.avi.123001.mat  subway-entrance.avi.37001.mat   subway-entrance.avi.81001.mat\r\n",
        "subway-entrance.avi.124001.mat  subway-entrance.avi.38001.mat   subway-entrance.avi.82001.mat\r\n",
        "subway-entrance.avi.125001.mat  subway-entrance.avi.39001.mat   subway-entrance.avi.83001.mat\r\n",
        "subway-entrance.avi.126001.mat  subway-entrance.avi.40001.mat   subway-entrance.avi.84001.mat\r\n",
        "subway-entrance.avi.127001.mat  subway-entrance.avi.4001.mat    subway-entrance.avi.85001.mat\r\n",
        "subway-entrance.avi.128001.mat  subway-entrance.avi.41001.mat   subway-entrance.avi.86001.mat\r\n",
        "subway-entrance.avi.129001.mat  subway-entrance.avi.42001.mat   subway-entrance.avi.87001.mat\r\n",
        "subway-entrance.avi.130001.mat  subway-entrance.avi.43001.mat   subway-entrance.avi.88001.mat\r\n",
        "subway-entrance.avi.13001.mat   subway-entrance.avi.44001.mat   subway-entrance.avi.89001.mat\r\n",
        "subway-entrance.avi.131001.mat  subway-entrance.avi.45001.mat   subway-entrance.avi.90001.mat\r\n",
        "subway-entrance.avi.132001.mat  subway-entrance.avi.46001.mat   subway-entrance.avi.9001.mat\r\n",
        "subway-entrance.avi.133001.mat  subway-entrance.avi.47001.mat   subway-entrance.avi.91001.mat\r\n",
        "subway-entrance.avi.134001.mat  subway-entrance.avi.48001.mat   subway-entrance.avi.92001.mat\r\n",
        "subway-entrance.avi.135001.mat  subway-entrance.avi.49001.mat   subway-entrance.avi.93001.mat\r\n",
        "subway-entrance.avi.136001.mat  subway-entrance.avi.50001.mat   subway-entrance.avi.94001.mat\r\n",
        "subway-entrance.avi.137001.mat  subway-entrance.avi.5001.mat    subway-entrance.avi.95001.mat\r\n",
        "subway-entrance.avi.138001.mat  subway-entrance.avi.51001.mat   subway-entrance.avi.96001.mat\r\n",
        "subway-entrance.avi.139001.mat  subway-entrance.avi.52001.mat   subway-entrance.avi.97001.mat\r\n",
        "subway-entrance.avi.140001.mat  subway-entrance.avi.53001.mat   subway-entrance.avi.98001.mat\r\n",
        "subway-entrance.avi.14001.mat   subway-entrance.avi.54001.mat   subway-entrance.avi.99001.mat\r\n",
        "subway-entrance.avi.141001.mat  subway-entrance.avi.55001.mat\r\n"
       ]
      }
     ],
     "prompt_number": 9
    },
    {
     "cell_type": "code",
     "collapsed": false,
     "input": [
      "%%bash\n",
      "ls -la | grep 200 | wc -l"
     ],
     "language": "python",
     "metadata": {},
     "outputs": [
      {
       "output_type": "stream",
       "stream": "stdout",
       "text": [
        "18\n"
       ]
      }
     ],
     "prompt_number": 10
    },
    {
     "cell_type": "code",
     "collapsed": false,
     "input": [
      "from scipy.io import loadmat"
     ],
     "language": "python",
     "metadata": {},
     "outputs": [],
     "prompt_number": 11
    },
    {
     "cell_type": "code",
     "collapsed": false,
     "input": [
      "data = loadmat('subway-entrance.avi.127001.mat')"
     ],
     "language": "python",
     "metadata": {},
     "outputs": [],
     "prompt_number": 12
    },
    {
     "cell_type": "code",
     "collapsed": false,
     "input": [
      "data.keys()"
     ],
     "language": "python",
     "metadata": {},
     "outputs": [
      {
       "metadata": {},
       "output_type": "pyout",
       "prompt_number": 13,
       "text": [
        "['subs',\n",
        " '__header__',\n",
        " '__globals__',\n",
        " 'desc_hog',\n",
        " 'desc_hof',\n",
        " 'vals',\n",
        " 'frame2',\n",
        " 'frame1',\n",
        " '__version__']"
       ]
      }
     ],
     "prompt_number": 13
    },
    {
     "cell_type": "code",
     "collapsed": false,
     "input": [
      "original_hog = data['desc_hog']\n",
      "original_hof = data['desc_hof']\n",
      "original_vals = data['vals']\n",
      "original_locs = data['subs']\n",
      "frame1 = data['frame1'][0][0]\n",
      "frame2 = data['frame2'][0][0]"
     ],
     "language": "python",
     "metadata": {},
     "outputs": [],
     "prompt_number": 14
    },
    {
     "cell_type": "code",
     "collapsed": false,
     "input": [
      "import numpy as np\n",
      "sort_order = np.argsort(original_locs[:,2])\n",
      "\n",
      "locs = original_locs[sort_order, :]\n",
      "vals = original_vals[sort_order, :]\n",
      "hogs = original_hog[sort_order, :]\n",
      "hofs = original_hof[sort_order, :]"
     ],
     "language": "python",
     "metadata": {},
     "outputs": [],
     "prompt_number": 15
    },
    {
     "cell_type": "code",
     "collapsed": false,
     "input": [
      "locs.shape"
     ],
     "language": "python",
     "metadata": {},
     "outputs": [
      {
       "metadata": {},
       "output_type": "pyout",
       "prompt_number": 16,
       "text": [
        "(4491, 3)"
       ]
      }
     ],
     "prompt_number": 16
    },
    {
     "cell_type": "code",
     "collapsed": false,
     "input": [
      "vals.shape"
     ],
     "language": "python",
     "metadata": {},
     "outputs": [
      {
       "metadata": {},
       "output_type": "pyout",
       "prompt_number": 17,
       "text": [
        "(4491, 1)"
       ]
      }
     ],
     "prompt_number": 17
    },
    {
     "cell_type": "code",
     "collapsed": false,
     "input": [
      "hogs.shape"
     ],
     "language": "python",
     "metadata": {},
     "outputs": [
      {
       "metadata": {},
       "output_type": "pyout",
       "prompt_number": 18,
       "text": [
        "(4491, 180)"
       ]
      }
     ],
     "prompt_number": 18
    },
    {
     "cell_type": "code",
     "collapsed": false,
     "input": [
      "hofs.shape"
     ],
     "language": "python",
     "metadata": {},
     "outputs": [
      {
       "metadata": {},
       "output_type": "pyout",
       "prompt_number": 19,
       "text": [
        "(4491, 198)"
       ]
      }
     ],
     "prompt_number": 19
    },
    {
     "cell_type": "code",
     "collapsed": false,
     "input": [
      "X = np.hstack((hogs, hofs))"
     ],
     "language": "python",
     "metadata": {},
     "outputs": [],
     "prompt_number": 20
    },
    {
     "cell_type": "code",
     "collapsed": false,
     "input": [
      "X.shape"
     ],
     "language": "python",
     "metadata": {},
     "outputs": [
      {
       "metadata": {},
       "output_type": "pyout",
       "prompt_number": 21,
       "text": [
        "(4491, 378)"
       ]
      }
     ],
     "prompt_number": 21
    },
    {
     "cell_type": "code",
     "collapsed": false,
     "input": [
      "frame1"
     ],
     "language": "python",
     "metadata": {},
     "outputs": [
      {
       "metadata": {},
       "output_type": "pyout",
       "prompt_number": 22,
       "text": [
        "126901"
       ]
      }
     ],
     "prompt_number": 22
    },
    {
     "cell_type": "code",
     "collapsed": false,
     "input": [
      "frame2"
     ],
     "language": "python",
     "metadata": {},
     "outputs": [
      {
       "metadata": {},
       "output_type": "pyout",
       "prompt_number": 23,
       "text": [
        "128101"
       ]
      }
     ],
     "prompt_number": 23
    },
    {
     "cell_type": "code",
     "collapsed": false,
     "input": [
      "from scipy.io import loadmat\n",
      "import numpy as np\n",
      "\n",
      "\n",
      "def get_data(matfile):\n",
      "    \"\"\"Get the hog+hof vector from a matfile.\n",
      "    \"\"\"\n",
      "    \n",
      "    data = loadmat(matfile)\n",
      "    \n",
      "    original_hog = data['desc_hog']\n",
      "    original_hof = data['desc_hof']\n",
      "    original_vals = data['vals']\n",
      "    original_locs = data['subs']\n",
      "    frame1 = data['frame1'][0][0]\n",
      "    frame2 = data['frame2'][0][0]\n",
      "    \n",
      "    # Sort them correctly.\n",
      "    sort_order = np.argsort(original_locs[:,2])\n",
      "    \n",
      "    locs = original_locs[sort_order, :]\n",
      "    vals = original_vals[sort_order, :]\n",
      "    hogs = original_hog[sort_order, :]\n",
      "    hofs = original_hof[sort_order, :]\n",
      "    \n",
      "    # Stack hog and hof on a single vector.\n",
      "    hoghof = np.hstack((hogs, hofs))\n",
      "    \n",
      "    return hoghof, locs, vals"
     ],
     "language": "python",
     "metadata": {},
     "outputs": [],
     "prompt_number": 24
    },
    {
     "cell_type": "code",
     "collapsed": false,
     "input": [
      "X, locs, vals = get_data('subway-entrance.avi.1.mat')"
     ],
     "language": "python",
     "metadata": {},
     "outputs": [],
     "prompt_number": 25
    },
    {
     "cell_type": "code",
     "collapsed": false,
     "input": [
      "X.shape"
     ],
     "language": "python",
     "metadata": {},
     "outputs": [
      {
       "metadata": {},
       "output_type": "pyout",
       "prompt_number": 26,
       "text": [
        "(584, 378)"
       ]
      }
     ],
     "prompt_number": 26
    },
    {
     "cell_type": "code",
     "collapsed": false,
     "input": [
      "import glob\n",
      "\n",
      "# Get all .mat\n",
      "matfiles = glob.glob('*.mat')\n",
      "\n",
      "# Sort by frame\n",
      "matfiles.sort(key=lambda matfile: int(matfile.split('.')[2])) "
     ],
     "language": "python",
     "metadata": {},
     "outputs": [],
     "prompt_number": 27
    },
    {
     "cell_type": "code",
     "collapsed": false,
     "input": [
      "len(matfiles)"
     ],
     "language": "python",
     "metadata": {},
     "outputs": [
      {
       "metadata": {},
       "output_type": "pyout",
       "prompt_number": 28,
       "text": [
        "145"
       ]
      }
     ],
     "prompt_number": 28
    },
    {
     "cell_type": "code",
     "collapsed": false,
     "input": [
      "total_files = len(matfiles)"
     ],
     "language": "python",
     "metadata": {},
     "outputs": [],
     "prompt_number": 29
    },
    {
     "cell_type": "code",
     "collapsed": false,
     "input": [
      "# Trainig will go for 5 minutes (~8000 frames), the rest is detection"
     ],
     "language": "python",
     "metadata": {},
     "outputs": [],
     "prompt_number": 30
    },
    {
     "cell_type": "code",
     "collapsed": false,
     "input": [
      "trainingmats = matfiles[:9]\n",
      "detectionmats = matfiles[10:]"
     ],
     "language": "python",
     "metadata": {},
     "outputs": [],
     "prompt_number": 31
    },
    {
     "cell_type": "code",
     "collapsed": false,
     "input": [
      "def extract_data(matfiles):\n",
      "    X_concat = None\n",
      "    locs_concat = None\n",
      "    \n",
      "    for matfile in matfiles:\n",
      "        X_new, locs_new, __ = get_data(matfile)\n",
      "        \n",
      "        if X_concat is None:\n",
      "            X_concat = X_new\n",
      "            locs_concat = locs_new\n",
      "        else:\n",
      "            X_concat = np.vstack((X_concat, X_new))\n",
      "            locs_concat = np.vstack((locs_concat, locs_new))\n",
      "    \n",
      "    return X_concat, locs_concat"
     ],
     "language": "python",
     "metadata": {},
     "outputs": [],
     "prompt_number": 79
    },
    {
     "cell_type": "code",
     "collapsed": false,
     "input": [
      "training, training_locs = extract_data(trainingmats)"
     ],
     "language": "python",
     "metadata": {},
     "outputs": [],
     "prompt_number": 91
    },
    {
     "cell_type": "code",
     "collapsed": false,
     "input": [
      "training.shape"
     ],
     "language": "python",
     "metadata": {},
     "outputs": [
      {
       "metadata": {},
       "output_type": "pyout",
       "prompt_number": 92,
       "text": [
        "(30126, 378)"
       ]
      }
     ],
     "prompt_number": 92
    },
    {
     "cell_type": "code",
     "collapsed": false,
     "input": [
      "intercept = training.mean(axis=0)"
     ],
     "language": "python",
     "metadata": {},
     "outputs": [],
     "prompt_number": 93
    },
    {
     "cell_type": "code",
     "collapsed": false,
     "input": [
      "delta = training - intercept"
     ],
     "language": "python",
     "metadata": {},
     "outputs": [],
     "prompt_number": 94
    },
    {
     "cell_type": "code",
     "collapsed": false,
     "input": [
      "deviation = delta.std(axis=0)"
     ],
     "language": "python",
     "metadata": {},
     "outputs": [],
     "prompt_number": 95
    },
    {
     "cell_type": "code",
     "collapsed": false,
     "input": [
      "d = delta / deviation"
     ],
     "language": "python",
     "metadata": {},
     "outputs": [],
     "prompt_number": 96
    },
    {
     "cell_type": "code",
     "collapsed": false,
     "input": [
      "d.mean()"
     ],
     "language": "python",
     "metadata": {},
     "outputs": [
      {
       "metadata": {},
       "output_type": "pyout",
       "prompt_number": 97,
       "text": [
        "-1.3319827877905462e-13"
       ]
      }
     ],
     "prompt_number": 97
    },
    {
     "cell_type": "code",
     "collapsed": false,
     "input": [
      "d.std()"
     ],
     "language": "python",
     "metadata": {},
     "outputs": [
      {
       "metadata": {},
       "output_type": "pyout",
       "prompt_number": 98,
       "text": [
        "1.000000000001428"
       ]
      }
     ],
     "prompt_number": 98
    },
    {
     "cell_type": "markdown",
     "metadata": {},
     "source": [
      "d is the normalized dataset, we store delta and deviation to be able to apply it to the detection phase."
     ]
    },
    {
     "cell_type": "code",
     "collapsed": false,
     "input": [
      "d.shape"
     ],
     "language": "python",
     "metadata": {},
     "outputs": [
      {
       "metadata": {},
       "output_type": "pyout",
       "prompt_number": 99,
       "text": [
        "(30126, 378)"
       ]
      }
     ],
     "prompt_number": 99
    },
    {
     "cell_type": "code",
     "collapsed": false,
     "input": [
      "from admm.lasso import adjacency"
     ],
     "language": "python",
     "metadata": {},
     "outputs": [],
     "prompt_number": 100
    },
    {
     "cell_type": "code",
     "collapsed": false,
     "input": [
      "%time W = adjacency(training_locs)"
     ],
     "language": "python",
     "metadata": {},
     "outputs": [
      {
       "output_type": "stream",
       "stream": "stdout",
       "text": [
        "CPU times: user 1h 48min 14s, sys: 1min 29s, total: 1h 49min 44s\n",
        "Wall time: 1h 49min 23s\n"
       ]
      }
     ],
     "prompt_number": 101
    },
    {
     "cell_type": "code",
     "collapsed": false,
     "input": [
      "%time W = adjacency(training_locs[1000:2000])"
     ],
     "language": "python",
     "metadata": {},
     "outputs": [
      {
       "output_type": "stream",
       "stream": "stdout",
       "text": [
        "CPU times: user 7.09 s, sys: 20 ms, total: 7.11 s\n",
        "Wall time: 7.08 s\n"
       ]
      }
     ],
     "prompt_number": 196
    },
    {
     "cell_type": "code",
     "collapsed": false,
     "input": [
      "W = W.astype(np.float16, copy=False)"
     ],
     "language": "python",
     "metadata": {},
     "outputs": [],
     "prompt_number": 110
    },
    {
     "cell_type": "code",
     "collapsed": false,
     "input": [
      "W.shape, W.dtype"
     ],
     "language": "python",
     "metadata": {},
     "outputs": [
      {
       "metadata": {},
       "output_type": "pyout",
       "prompt_number": 111,
       "text": [
        "((30126, 30126), dtype('float16'))"
       ]
      }
     ],
     "prompt_number": 111
    },
    {
     "cell_type": "code",
     "collapsed": false,
     "input": [
      "W[1][4]"
     ],
     "language": "python",
     "metadata": {},
     "outputs": [
      {
       "metadata": {},
       "output_type": "pyout",
       "prompt_number": 108,
       "text": [
        "0.71177032276260965"
       ]
      }
     ],
     "prompt_number": 108
    },
    {
     "cell_type": "code",
     "collapsed": false,
     "input": [
      "W.nbytes"
     ],
     "language": "python",
     "metadata": {},
     "outputs": [
      {
       "metadata": {},
       "output_type": "pyout",
       "prompt_number": 114,
       "text": [
        "1815151752"
       ]
      }
     ],
     "prompt_number": 114
    },
    {
     "cell_type": "code",
     "collapsed": false,
     "input": [
      "from admm.dict_learning15 import MiniBatchDictionaryLearning"
     ],
     "language": "python",
     "metadata": {},
     "outputs": [],
     "prompt_number": 189
    },
    {
     "cell_type": "markdown",
     "metadata": {},
     "source": [
      "Here we see that changing the number of jobs yields worse performance, why?"
     ]
    },
    {
     "cell_type": "code",
     "collapsed": false,
     "input": [
      "def train(d, components=100, alpha=1, n_iter=100, method='lars', batch_size=3, weights=None):\n",
      "    dico = MiniBatchDictionaryLearning(n_components=components, alpha=alpha, n_iter=n_iter, batch_size=batch_size, weights=weights)\n",
      "\n",
      "    dictionary = dico.fit(d).components_\n",
      "\n",
      "    code = dico.transform(d)\n",
      "    patches = np.dot(code, dictionary)\n",
      "    error = ((d - patches) ** 2).mean(axis=1)\n",
      "    \n",
      "    return dictionary, code, error, dico"
     ],
     "language": "python",
     "metadata": {},
     "outputs": [],
     "prompt_number": 190
    },
    {
     "cell_type": "code",
     "collapsed": false,
     "input": [
      "%time dictionary_admm_20, code_admm_20, error_admm_20, dico_admm_20 = train(d[:100], alpha=0.8, method='admm', n_iter=20, batch_size=10, weights=W[100:100])"
     ],
     "language": "python",
     "metadata": {},
     "outputs": [
      {
       "output_type": "stream",
       "stream": "stdout",
       "text": [
        "10 378\n",
        "10"
       ]
      },
      {
       "output_type": "stream",
       "stream": "stdout",
       "text": [
        " 378\n",
        "10"
       ]
      },
      {
       "output_type": "stream",
       "stream": "stdout",
       "text": [
        " 378\n",
        "10"
       ]
      },
      {
       "output_type": "stream",
       "stream": "stdout",
       "text": [
        " 378\n",
        "10"
       ]
      },
      {
       "output_type": "stream",
       "stream": "stdout",
       "text": [
        " 378\n",
        "10"
       ]
      },
      {
       "output_type": "stream",
       "stream": "stdout",
       "text": [
        " 378\n",
        "10"
       ]
      },
      {
       "output_type": "stream",
       "stream": "stdout",
       "text": [
        " 378\n",
        "10"
       ]
      },
      {
       "output_type": "stream",
       "stream": "stdout",
       "text": [
        " 378\n",
        "10"
       ]
      },
      {
       "output_type": "stream",
       "stream": "stdout",
       "text": [
        " 378\n",
        "10"
       ]
      },
      {
       "output_type": "stream",
       "stream": "stdout",
       "text": [
        " 378\n",
        "10"
       ]
      },
      {
       "output_type": "stream",
       "stream": "stdout",
       "text": [
        " 378\n",
        "10"
       ]
      },
      {
       "output_type": "stream",
       "stream": "stdout",
       "text": [
        " 378\n",
        "10"
       ]
      },
      {
       "output_type": "stream",
       "stream": "stdout",
       "text": [
        " 378\n",
        "10"
       ]
      },
      {
       "output_type": "stream",
       "stream": "stdout",
       "text": [
        " 378\n",
        "10"
       ]
      },
      {
       "output_type": "stream",
       "stream": "stdout",
       "text": [
        " 378\n",
        "10"
       ]
      },
      {
       "output_type": "stream",
       "stream": "stdout",
       "text": [
        " 378\n",
        "10"
       ]
      },
      {
       "output_type": "stream",
       "stream": "stdout",
       "text": [
        " 378\n",
        "10"
       ]
      },
      {
       "output_type": "stream",
       "stream": "stdout",
       "text": [
        " 378\n",
        "10"
       ]
      },
      {
       "output_type": "stream",
       "stream": "stdout",
       "text": [
        " 378\n",
        "10"
       ]
      },
      {
       "output_type": "stream",
       "stream": "stdout",
       "text": [
        " 378\n",
        "100"
       ]
      },
      {
       "output_type": "stream",
       "stream": "stdout",
       "text": [
        " 378\n",
        "CPU times: user 2.2 s, sys: 11 ms, total: 2.21 s"
       ]
      },
      {
       "output_type": "stream",
       "stream": "stdout",
       "text": [
        "\n",
        "Wall time: 2.14 s\n"
       ]
      }
     ],
     "prompt_number": 191
    },
    {
     "cell_type": "code",
     "collapsed": false,
     "input": [
      "%time dictionary_admm_20, code_admm_20, error_admm_20, dico_admm_20 = train(d[:100], alpha=0.8, method='admm', n_iter=20, batch_size=50, weights=W[100:100])"
     ],
     "language": "python",
     "metadata": {},
     "outputs": [
      {
       "output_type": "stream",
       "stream": "stdout",
       "text": [
        "50 378\n",
        "50"
       ]
      },
      {
       "output_type": "stream",
       "stream": "stdout",
       "text": [
        " 378\n",
        "50"
       ]
      },
      {
       "output_type": "stream",
       "stream": "stdout",
       "text": [
        " 378\n",
        "50"
       ]
      },
      {
       "output_type": "stream",
       "stream": "stdout",
       "text": [
        " 378\n",
        "50"
       ]
      },
      {
       "output_type": "stream",
       "stream": "stdout",
       "text": [
        " 378\n",
        "50"
       ]
      },
      {
       "output_type": "stream",
       "stream": "stdout",
       "text": [
        " 378\n",
        "50"
       ]
      },
      {
       "output_type": "stream",
       "stream": "stdout",
       "text": [
        " 378\n",
        "50"
       ]
      },
      {
       "output_type": "stream",
       "stream": "stdout",
       "text": [
        " 378\n",
        "50"
       ]
      },
      {
       "output_type": "stream",
       "stream": "stdout",
       "text": [
        " 378\n",
        "50"
       ]
      },
      {
       "output_type": "stream",
       "stream": "stdout",
       "text": [
        " 378\n",
        "50"
       ]
      },
      {
       "output_type": "stream",
       "stream": "stdout",
       "text": [
        " 378\n",
        "50"
       ]
      },
      {
       "output_type": "stream",
       "stream": "stdout",
       "text": [
        " 378\n",
        "50"
       ]
      },
      {
       "output_type": "stream",
       "stream": "stdout",
       "text": [
        " 378\n",
        "50"
       ]
      },
      {
       "output_type": "stream",
       "stream": "stdout",
       "text": [
        " 378\n",
        "50"
       ]
      },
      {
       "output_type": "stream",
       "stream": "stdout",
       "text": [
        " 378\n",
        "50"
       ]
      },
      {
       "output_type": "stream",
       "stream": "stdout",
       "text": [
        " 378\n",
        "50"
       ]
      },
      {
       "output_type": "stream",
       "stream": "stdout",
       "text": [
        " 378\n",
        "50"
       ]
      },
      {
       "output_type": "stream",
       "stream": "stdout",
       "text": [
        " 378\n",
        "50"
       ]
      },
      {
       "output_type": "stream",
       "stream": "stdout",
       "text": [
        " 378\n",
        "50"
       ]
      },
      {
       "output_type": "stream",
       "stream": "stdout",
       "text": [
        " 378\n",
        "100"
       ]
      },
      {
       "output_type": "stream",
       "stream": "stdout",
       "text": [
        " 378\n",
        "CPU times: user 5.46 s, sys: 15 ms, total: 5.48 s"
       ]
      },
      {
       "output_type": "stream",
       "stream": "stdout",
       "text": [
        "\n",
        "Wall time: 5.38 s\n"
       ]
      }
     ],
     "prompt_number": 192
    },
    {
     "cell_type": "code",
     "collapsed": false,
     "input": [
      "%time dictionary_admm_20, code_admm_20, error_admm_20, dico_admm_20 = train(d[:100], alpha=0.8, method='admm', n_iter=20, weights=W[100:100])"
     ],
     "language": "python",
     "metadata": {},
     "outputs": [
      {
       "output_type": "stream",
       "stream": "stdout",
       "text": [
        "4 378\n",
        "3"
       ]
      },
      {
       "output_type": "stream",
       "stream": "stdout",
       "text": [
        " 378\n",
        "3 378\n",
        "3"
       ]
      },
      {
       "output_type": "stream",
       "stream": "stdout",
       "text": [
        " 378\n",
        "3 378\n",
        "3"
       ]
      },
      {
       "output_type": "stream",
       "stream": "stdout",
       "text": [
        " 378\n",
        "3 378\n",
        "3"
       ]
      },
      {
       "output_type": "stream",
       "stream": "stdout",
       "text": [
        " 378\n",
        "3 378\n",
        "3"
       ]
      },
      {
       "output_type": "stream",
       "stream": "stdout",
       "text": [
        " 378\n",
        "3 378\n",
        "3"
       ]
      },
      {
       "output_type": "stream",
       "stream": "stdout",
       "text": [
        " 378\n",
        "3 378\n",
        "3"
       ]
      },
      {
       "output_type": "stream",
       "stream": "stdout",
       "text": [
        " 378\n",
        "3 378\n",
        "3"
       ]
      },
      {
       "output_type": "stream",
       "stream": "stdout",
       "text": [
        " 378\n",
        "3 378\n",
        "3"
       ]
      },
      {
       "output_type": "stream",
       "stream": "stdout",
       "text": [
        " 378\n",
        "3 378\n",
        "3"
       ]
      },
      {
       "output_type": "stream",
       "stream": "stdout",
       "text": [
        " 378\n",
        "100 378\n",
        "CPU times: user 1.24 s, sys: 10 ms, total: 1.25 s"
       ]
      },
      {
       "output_type": "stream",
       "stream": "stdout",
       "text": [
        "\n",
        "Wall time: 1.19 s\n"
       ]
      }
     ],
     "prompt_number": 193
    },
    {
     "cell_type": "code",
     "collapsed": false,
     "input": [],
     "language": "python",
     "metadata": {},
     "outputs": []
    },
    {
     "cell_type": "code",
     "collapsed": false,
     "input": [
      "%time dictionary_lars, code_lars, error_lars, dico_lars = train(d, alpha=0.8, method='lars', n_iter=100)"
     ],
     "language": "python",
     "metadata": {},
     "outputs": [
      {
       "output_type": "stream",
       "stream": "stdout",
       "text": [
        "3 378\n",
        "3"
       ]
      },
      {
       "output_type": "stream",
       "stream": "stdout",
       "text": [
        " 378\n",
        "3 378\n",
        "3"
       ]
      },
      {
       "output_type": "stream",
       "stream": "stdout",
       "text": [
        " 378\n",
        "3 378\n",
        "3"
       ]
      },
      {
       "output_type": "stream",
       "stream": "stdout",
       "text": [
        " 378\n",
        "3 378\n",
        "3"
       ]
      },
      {
       "output_type": "stream",
       "stream": "stdout",
       "text": [
        " 378\n",
        "3 378\n",
        "3"
       ]
      },
      {
       "output_type": "stream",
       "stream": "stdout",
       "text": [
        " 378\n",
        "3 378\n",
        "3"
       ]
      },
      {
       "output_type": "stream",
       "stream": "stdout",
       "text": [
        " 378\n",
        "3 378\n",
        "3"
       ]
      },
      {
       "output_type": "stream",
       "stream": "stdout",
       "text": [
        " 378\n",
        "3 378\n",
        "3"
       ]
      },
      {
       "output_type": "stream",
       "stream": "stdout",
       "text": [
        " 378\n",
        "3 378\n",
        "3"
       ]
      },
      {
       "output_type": "stream",
       "stream": "stdout",
       "text": [
        " 378\n",
        "3 378\n",
        "3"
       ]
      },
      {
       "output_type": "stream",
       "stream": "stdout",
       "text": [
        " 378\n",
        "3 378\n",
        "3"
       ]
      },
      {
       "output_type": "stream",
       "stream": "stdout",
       "text": [
        " 378\n",
        "3 378\n",
        "3"
       ]
      },
      {
       "output_type": "stream",
       "stream": "stdout",
       "text": [
        " 378\n",
        "3 378\n",
        "3"
       ]
      },
      {
       "output_type": "stream",
       "stream": "stdout",
       "text": [
        " 378\n",
        "3 378\n",
        "3"
       ]
      },
      {
       "output_type": "stream",
       "stream": "stdout",
       "text": [
        " 378\n",
        "3 378\n",
        "3"
       ]
      },
      {
       "output_type": "stream",
       "stream": "stdout",
       "text": [
        " 378\n",
        "3 378\n",
        "3"
       ]
      },
      {
       "output_type": "stream",
       "stream": "stdout",
       "text": [
        " 378\n",
        "3 378\n",
        "3"
       ]
      },
      {
       "output_type": "stream",
       "stream": "stdout",
       "text": [
        " 378\n",
        "3 378\n",
        "3"
       ]
      },
      {
       "output_type": "stream",
       "stream": "stdout",
       "text": [
        " 378\n",
        "3 378\n",
        "3"
       ]
      },
      {
       "output_type": "stream",
       "stream": "stdout",
       "text": [
        " 378\n",
        "3 378\n",
        "3"
       ]
      },
      {
       "output_type": "stream",
       "stream": "stdout",
       "text": [
        " 378\n",
        "3 378\n",
        "3"
       ]
      },
      {
       "output_type": "stream",
       "stream": "stdout",
       "text": [
        " 378\n",
        "3 378\n",
        "3"
       ]
      },
      {
       "output_type": "stream",
       "stream": "stdout",
       "text": [
        " 378\n",
        "3 378\n",
        "3"
       ]
      },
      {
       "output_type": "stream",
       "stream": "stdout",
       "text": [
        " 378\n",
        "3 378\n",
        "3"
       ]
      },
      {
       "output_type": "stream",
       "stream": "stdout",
       "text": [
        " 378\n",
        "3 378\n",
        "3"
       ]
      },
      {
       "output_type": "stream",
       "stream": "stdout",
       "text": [
        " 378\n",
        "3 378\n",
        "3"
       ]
      },
      {
       "output_type": "stream",
       "stream": "stdout",
       "text": [
        " 378\n",
        "3 378\n",
        "3"
       ]
      },
      {
       "output_type": "stream",
       "stream": "stdout",
       "text": [
        " 378\n",
        "3 378\n",
        "3"
       ]
      },
      {
       "output_type": "stream",
       "stream": "stdout",
       "text": [
        " 378\n",
        "3 378\n",
        "3"
       ]
      },
      {
       "output_type": "stream",
       "stream": "stdout",
       "text": [
        " 378\n",
        "3 378\n",
        "3"
       ]
      },
      {
       "output_type": "stream",
       "stream": "stdout",
       "text": [
        " 378\n",
        "3 378\n",
        "3"
       ]
      },
      {
       "output_type": "stream",
       "stream": "stdout",
       "text": [
        " 378\n",
        "3 378\n",
        "3"
       ]
      },
      {
       "output_type": "stream",
       "stream": "stdout",
       "text": [
        " 378\n",
        "3 378\n",
        "3"
       ]
      },
      {
       "output_type": "stream",
       "stream": "stdout",
       "text": [
        " 378\n",
        "3 378\n",
        "3"
       ]
      },
      {
       "output_type": "stream",
       "stream": "stdout",
       "text": [
        " 378\n",
        "3 378\n",
        "3"
       ]
      },
      {
       "output_type": "stream",
       "stream": "stdout",
       "text": [
        " 378\n",
        "3 378\n",
        "3"
       ]
      },
      {
       "output_type": "stream",
       "stream": "stdout",
       "text": [
        " 378\n",
        "3 378\n",
        "3"
       ]
      },
      {
       "output_type": "stream",
       "stream": "stdout",
       "text": [
        " 378\n",
        "3 378\n",
        "3"
       ]
      },
      {
       "output_type": "stream",
       "stream": "stdout",
       "text": [
        " 378\n",
        "3 378\n",
        "3"
       ]
      },
      {
       "output_type": "stream",
       "stream": "stdout",
       "text": [
        " 378\n",
        "3 378\n",
        "3"
       ]
      },
      {
       "output_type": "stream",
       "stream": "stdout",
       "text": [
        " 378\n",
        "3 378\n",
        "3"
       ]
      },
      {
       "output_type": "stream",
       "stream": "stdout",
       "text": [
        " 378\n",
        "3 378\n",
        "3"
       ]
      },
      {
       "output_type": "stream",
       "stream": "stdout",
       "text": [
        " 378\n",
        "3 378\n",
        "3"
       ]
      },
      {
       "output_type": "stream",
       "stream": "stdout",
       "text": [
        " 378\n",
        "3 378\n",
        "3"
       ]
      },
      {
       "output_type": "stream",
       "stream": "stdout",
       "text": [
        " 378\n",
        "3 378\n",
        "3"
       ]
      },
      {
       "output_type": "stream",
       "stream": "stdout",
       "text": [
        " 378\n",
        "3 378\n",
        "3"
       ]
      },
      {
       "output_type": "stream",
       "stream": "stdout",
       "text": [
        " 378\n",
        "3 378\n",
        "3"
       ]
      },
      {
       "output_type": "stream",
       "stream": "stdout",
       "text": [
        " 378\n",
        "3 378\n",
        "3"
       ]
      },
      {
       "output_type": "stream",
       "stream": "stdout",
       "text": [
        " 378\n",
        "3 378\n",
        "3"
       ]
      },
      {
       "output_type": "stream",
       "stream": "stdout",
       "text": [
        " 378\n",
        "3 378\n",
        "3"
       ]
      },
      {
       "output_type": "stream",
       "stream": "stdout",
       "text": [
        " 378\n",
        "30126"
       ]
      },
      {
       "output_type": "stream",
       "stream": "stdout",
       "text": [
        " 378\n",
        "CPU times: user 2min 24s, sys: 163 ms, total: 2min 24s"
       ]
      },
      {
       "output_type": "stream",
       "stream": "stdout",
       "text": [
        "\n",
        "Wall time: 2min 22s\n"
       ]
      }
     ],
     "prompt_number": 194
    },
    {
     "cell_type": "code",
     "collapsed": false,
     "input": [
      "%time dictionary_cd, code_cd, error_cd, dico_cd = train(d, alpha=0.8, method='cd', n_iter=200)"
     ],
     "language": "python",
     "metadata": {},
     "outputs": [
      {
       "output_type": "stream",
       "stream": "stdout",
       "text": [
        "CPU times: user 2min 27s, sys: 451 ms, total: 2min 27s\n",
        "Wall time: 2min 25s\n"
       ]
      }
     ],
     "prompt_number": 47
    },
    {
     "cell_type": "code",
     "collapsed": false,
     "input": [
      "%time dictionary_admm_20, code_admm_20, error_admm_20, dico_admm_20 = train(d, alpha=0.8, method='admm', n_iter=20)"
     ],
     "language": "python",
     "metadata": {},
     "outputs": [
      {
       "output_type": "stream",
       "stream": "stdout",
       "text": [
        "CPU times: user 2min 19s, sys: 2.71 s, total: 2min 22s\n",
        "Wall time: 2min 20s\n"
       ]
      }
     ],
     "prompt_number": 69
    },
    {
     "cell_type": "code",
     "collapsed": false,
     "input": [
      "%time dictionary_admm_50, code_admm_50, error_admm_50, dico_admm_50 = train(d, alpha=0.8, method='admm', n_iter=50)"
     ],
     "language": "python",
     "metadata": {},
     "outputs": [
      {
       "output_type": "stream",
       "stream": "stdout",
       "text": [
        "CPU times: user 2min 22s, sys: 5.03 s, total: 2min 27s\n",
        "Wall time: 2min 25s\n"
       ]
      }
     ],
     "prompt_number": 70
    },
    {
     "cell_type": "code",
     "collapsed": false,
     "input": [
      "%time dictionary_admm_100, code_admm_100, error_admm_100, dico_admm_100 = train(d, alpha=0.8, method='admm', n_iter=100)"
     ],
     "language": "python",
     "metadata": {},
     "outputs": [
      {
       "output_type": "stream",
       "stream": "stdout",
       "text": [
        "CPU times: user 2min 22s, sys: 144 ms, total: 2min 22s\n",
        "Wall time: 2min 20s\n"
       ]
      }
     ],
     "prompt_number": 71
    },
    {
     "cell_type": "code",
     "collapsed": false,
     "input": [
      "#dictionary_lars, code_lars, error_lars, dico_lars = train(d, method='lars', n_iter=100)\n",
      "#dictionary_cd, code_cd, error_cd, dico_cd = train(d, method='cd', n_iter=200)\n",
      "#dictionary_admm_20, code_admm_20, error_admm_20, dico_admm_20 = train(d, method='admm', n_iter=20)\n",
      "#dictionary_admm_100, code_admm_100, error_admm_100, dico_admm_100 = train(d, method='admm', n_iter=100)\n",
      "\n",
      "figure()\n",
      "plot(error_admm_100)\n",
      "figure()\n",
      "plot(error_admm_20)\n",
      "figure()\n",
      "plot(error_lars)\n",
      "figure()\n",
      "plot(error_cd)\n"
     ],
     "language": "python",
     "metadata": {},
     "outputs": [
      {
       "metadata": {},
       "output_type": "pyout",
       "prompt_number": 78,
       "text": [
        "[<matplotlib.lines.Line2D at 0x2b136942a590>]"
       ]
      },
      {
       "metadata": {},
       "output_type": "display_data",
       "png": "[encoded data removed]",
       "text": [
        "<matplotlib.figure.Figure at 0x2b1369688a50>"
       ]
      },
      {
       "metadata": {},
       "output_type": "display_data",
       "png": "[encoded data removed]",
       "text": [
        "<matplotlib.figure.Figure at 0x2b1369349590>"
       ]
      },
      {
       "metadata": {},
       "output_type": "display_data",
       "png": "[encoded data removed]",
       "text": [
        "<matplotlib.figure.Figure at 0x2b1369314ad0>"
       ]
      },
      {
       "metadata": {},
       "output_type": "display_data",
       "png": "[encoded data removed]",
       "text": [
        "<matplotlib.figure.Figure at 0x2b1369582b50>"
       ]
      }
     ],
     "prompt_number": 78
    },
    {
     "cell_type": "code",
     "collapsed": false,
     "input": [],
     "language": "python",
     "metadata": {},
     "outputs": []
    },
    {
     "cell_type": "code",
     "collapsed": false,
     "input": [
      "\n"
     ],
     "language": "python",
     "metadata": {},
     "outputs": []
    },
    {
     "cell_type": "code",
     "collapsed": false,
     "input": [],
     "language": "python",
     "metadata": {},
     "outputs": []
    },
    {
     "cell_type": "code",
     "collapsed": false,
     "input": [
      "# Mental note: Use more than 100 iterations for 'cd' (200 works)."
     ],
     "language": "python",
     "metadata": {},
     "outputs": [],
     "prompt_number": 49
    },
    {
     "cell_type": "code",
     "collapsed": false,
     "input": [],
     "language": "python",
     "metadata": {},
     "outputs": [
      {
       "ename": "ImportError",
       "evalue": "No module named mock",
       "output_type": "pyerr",
       "traceback": [
        "\u001b[1;31m---------------------------------------------------------------------------\u001b[0m\n\u001b[1;31mImportError\u001b[0m                               Traceback (most recent call last)",
        "\u001b[1;32m<ipython-input-53-cfb57b0376ce>\u001b[0m in \u001b[0;36m<module>\u001b[1;34m()\u001b[0m\n\u001b[1;32m----> 1\u001b[1;33m \u001b[1;32mimport\u001b[0m \u001b[0mmock\u001b[0m\u001b[1;33m\u001b[0m\u001b[0m\n\u001b[0m",
        "\u001b[1;31mImportError\u001b[0m: No module named mock"
       ]
      }
     ],
     "prompt_number": 53
    },
    {
     "cell_type": "code",
     "collapsed": false,
     "input": [
      "V.shape"
     ],
     "language": "python",
     "metadata": {},
     "outputs": [
      {
       "metadata": {},
       "output_type": "pyout",
       "prompt_number": 43,
       "text": [
        "(100, 378)"
       ]
      }
     ],
     "prompt_number": 43
    },
    {
     "cell_type": "code",
     "collapsed": false,
     "input": [
      "X_sample, locs_sample, vals_sample = get_data(detectionmats[11])"
     ],
     "language": "python",
     "metadata": {},
     "outputs": [],
     "prompt_number": 44
    },
    {
     "cell_type": "code",
     "collapsed": false,
     "input": [
      "X_sample.shape"
     ],
     "language": "python",
     "metadata": {},
     "outputs": [
      {
       "metadata": {},
       "output_type": "pyout",
       "prompt_number": 45,
       "text": [
        "(3827, 378)"
       ]
      }
     ],
     "prompt_number": 45
    },
    {
     "cell_type": "code",
     "collapsed": false,
     "input": [
      "locs_sample.shape"
     ],
     "language": "python",
     "metadata": {},
     "outputs": [
      {
       "metadata": {},
       "output_type": "pyout",
       "prompt_number": 46,
       "text": [
        "(3827, 3)"
       ]
      }
     ],
     "prompt_number": 46
    },
    {
     "cell_type": "code",
     "collapsed": false,
     "input": [
      "vals_sample.shape"
     ],
     "language": "python",
     "metadata": {},
     "outputs": [
      {
       "metadata": {},
       "output_type": "pyout",
       "prompt_number": 47,
       "text": [
        "(3827, 1)"
       ]
      }
     ],
     "prompt_number": 47
    },
    {
     "cell_type": "heading",
     "level": 2,
     "metadata": {},
     "source": [
      "Let's start by plotting the highest cuboid value per frame"
     ]
    },
    {
     "cell_type": "markdown",
     "metadata": {},
     "source": [
      "Making sure to note the intervals marked by the ground truth as unusual"
     ]
    },
    {
     "cell_type": "code",
     "collapsed": false,
     "input": [
      "groundtruth = np.array( [\n",
      "[1560, 2100, 0],\n",
      "[2175, 2650, 1],\n",
      "[2650, 4120, 0],\n",
      "[4120, 5560, 1],\n",
      "[7650, 7755, 0],\n",
      "[8220, 9030, 0],\n",
      "[9295, 9535, 0],\n",
      "[10585, 11350, 0],\n",
      "[12475, 12820, 0],\n",
      "[12820, 13025, 1],\n",
      "[13965, 14650, 0],\n",
      "[16120, 16530, 1],\n",
      "[16530, 17000, 0],\n",
      "[17020, 17735, 1],\n",
      "[17735, 19510, 0],\n",
      "[19515, 20130, 0],\n",
      "[20130, 20290, 1],\n",
      "[20290, 20770, 1],\n",
      "[21650, 21865, 1],\n",
      "[21950, 26140, 0],\n",
      "[27500, 29950, 1],\n",
      "[29950, 31080, 0],\n",
      "[31340, 31425, 0],\n",
      "[32130, 32760, 0],\n",
      "[32955, 32990, 0],\n",
      "[33240, 35455, 1],\n",
      "[35500, 36350, 0],\n",
      "[36370, 36480, 0],\n",
      "[36500, 37055, 1],\n",
      "[37610, 37710, 0],\n",
      "[38120, 39390, 0],\n",
      "[39390, 39595, 1],\n",
      "[39980, 40050, 0],\n",
      "[40215, 40400, 0],\n",
      "[40435, 40575, 0],\n",
      "[40600, 41970, 1],\n",
      "[42085, 42485, 0],\n",
      "[44845, 48840, 1],\n",
      "[49095, 49245, 0],\n",
      "[49510, 49560, 0],\n",
      "[52100, 55500, 1],\n",
      "[55595, 57585, 1],\n",
      "[57700, 57800, 0],\n",
      "[58680, 59730, 0],\n",
      "[59800, 60980, 1],\n",
      "[61980, 67350, 0],\n",
      "[67350, 68200, 1],\n",
      "[68470, 69350, 1],\n",
      "[69520, 70230, 1],\n",
      "[70645, 70745, 0],\n",
      "[70770, 72200, 1],\n",
      "[72200, 72835, 0],\n",
      "[72880, 73140, 1],\n",
      "[73360, 74110, 1],\n",
      "[74260, 77076, 0],\n",
      "[79300, 79365, 0],\n",
      "[79420, 80510, 1],\n",
      "[80900, 80970, 0],\n",
      "[81130, 81770, 1],\n",
      "[82210, 82415, 1],\n",
      "[82490, 84475, 1],\n",
      "[84475, 89170, 1],\n",
      "[89570, 89920, 1],\n",
      "[90000, 94220, 1],\n",
      "[94255, 100700, 1],\n",
      "[101200, 102530, 0],\n",
      "[105975, 111300, 0],\n",
      "[111300, 111645, 1],\n",
      "[111745, 113050, 0],\n",
      "[114895, 116040, 1],\n",
      "[116110, 116580, 1],\n",
      "[117465, 117960, 1],\n",
      "[118020, 118110, 0],\n",
      "[118135, 119130, 1],\n",
      "[119185, 120180, 1],\n",
      "[120430, 121285, 0],\n",
      "[123280, 123885, 0],\n",
      "[124350, 124445, 0],\n",
      "[124645, 125240, 1],\n",
      "[127220, 127775, 0],\n",
      "[127925, 128475, 1],\n",
      "[130225, 130760, 1],\n",
      "[133160, 133660, 0],\n",
      "[134660, 135410, 0],\n",
      "[137160, 137965, 0],\n",
      "[138610, 139315, 0],\n",
      "[140610, 141890, 0],\n",
      "[142740, 143540, 0],\n",
      "])"
     ],
     "language": "python",
     "metadata": {},
     "outputs": [],
     "prompt_number": 360
    },
    {
     "cell_type": "markdown",
     "metadata": {},
     "source": [
      "Let's plot the groundtruth"
     ]
    },
    {
     "cell_type": "code",
     "collapsed": false,
     "input": [
      "import matplotlib as mpl\n",
      "import matplotlib.pylab as plt"
     ],
     "language": "python",
     "metadata": {},
     "outputs": [],
     "prompt_number": 49
    },
    {
     "cell_type": "code",
     "collapsed": false,
     "input": [
      "frame_number = 144249\n",
      "\n",
      "frames = np.array(range(1, 144249))"
     ],
     "language": "python",
     "metadata": {},
     "outputs": [],
     "prompt_number": 50
    },
    {
     "cell_type": "code",
     "collapsed": false,
     "input": [
      "frames"
     ],
     "language": "python",
     "metadata": {},
     "outputs": [
      {
       "metadata": {},
       "output_type": "pyout",
       "prompt_number": 51,
       "text": [
        "array([     1,      2,      3, ..., 144246, 144247, 144248])"
       ]
      }
     ],
     "prompt_number": 51
    },
    {
     "cell_type": "code",
     "collapsed": false,
     "input": [
      "x = np.zeros(frames.shape)"
     ],
     "language": "python",
     "metadata": {},
     "outputs": [],
     "prompt_number": 345
    },
    {
     "cell_type": "code",
     "collapsed": false,
     "input": [
      "for item in groundtruth:\n",
      "    x[item[0]:item[1]] = item[2] * 0.5 + 0.25"
     ],
     "language": "python",
     "metadata": {},
     "outputs": [],
     "prompt_number": 346
    },
    {
     "cell_type": "code",
     "collapsed": false,
     "input": [
      "x.shape"
     ],
     "language": "python",
     "metadata": {},
     "outputs": [
      {
       "metadata": {},
       "output_type": "pyout",
       "prompt_number": 351,
       "text": [
        "(144248,)"
       ]
      }
     ],
     "prompt_number": 351
    },
    {
     "cell_type": "code",
     "collapsed": false,
     "input": [
      "frames.shape"
     ],
     "language": "python",
     "metadata": {},
     "outputs": [
      {
       "metadata": {},
       "output_type": "pyout",
       "prompt_number": 352,
       "text": [
        "(144248,)"
       ]
      }
     ],
     "prompt_number": 352
    },
    {
     "cell_type": "code",
     "collapsed": false,
     "input": [
      "val = np.zeros(frames.shape)"
     ],
     "language": "python",
     "metadata": {},
     "outputs": [],
     "prompt_number": 57
    },
    {
     "cell_type": "code",
     "collapsed": false,
     "input": [
      "import pandas as pnd"
     ],
     "language": "python",
     "metadata": {},
     "outputs": [],
     "prompt_number": 58
    },
    {
     "cell_type": "code",
     "collapsed": false,
     "input": [
      "cuboid_vals = pnd.DataFrame({'frame': pnd.Series(), 'vals': pnd.Series()})\n",
      "for matfile in detectionmats:\n",
      "    hoghof, locs, vals = get_data(matfile)\n",
      "    df = pnd.DataFrame({'frame': pnd.Series(locs[:, 2]), 'vals': pnd.Series(vals[:,0])})\n",
      "    cuboid_vals = cuboid_vals.append(df)"
     ],
     "language": "python",
     "metadata": {},
     "outputs": [],
     "prompt_number": 59
    },
    {
     "cell_type": "code",
     "collapsed": false,
     "input": [
      "cuboid_vals"
     ],
     "language": "python",
     "metadata": {},
     "outputs": [
      {
       "html": [
        "<div style=\"max-height:1000px;max-width:1500px;overflow:auto;\">\n",
        "<table border=\"1\" class=\"dataframe\">\n",
        "  <thead>\n",
        "    <tr style=\"text-align: right;\">\n",
        "      <th></th>\n",
        "      <th>frame</th>\n",
        "      <th>vals</th>\n",
        "    </tr>\n",
        "  </thead>\n",
        "  <tbody>\n",
        "    <tr>\n",
        "      <th>0   </th>\n",
        "      <td>  9913</td>\n",
        "      <td> 0.023934</td>\n",
        "    </tr>\n",
        "    <tr>\n",
        "      <th>1   </th>\n",
        "      <td>  9913</td>\n",
        "      <td> 0.022816</td>\n",
        "    </tr>\n",
        "    <tr>\n",
        "      <th>2   </th>\n",
        "      <td>  9913</td>\n",
        "      <td> 0.014067</td>\n",
        "    </tr>\n",
        "    <tr>\n",
        "      <th>3   </th>\n",
        "      <td>  9913</td>\n",
        "      <td> 0.017411</td>\n",
        "    </tr>\n",
        "    <tr>\n",
        "      <th>4   </th>\n",
        "      <td>  9913</td>\n",
        "      <td> 0.022706</td>\n",
        "    </tr>\n",
        "    <tr>\n",
        "      <th>5   </th>\n",
        "      <td>  9913</td>\n",
        "      <td> 0.025012</td>\n",
        "    </tr>\n",
        "    <tr>\n",
        "      <th>6   </th>\n",
        "      <td>  9913</td>\n",
        "      <td> 0.064762</td>\n",
        "    </tr>\n",
        "    <tr>\n",
        "      <th>7   </th>\n",
        "      <td>  9913</td>\n",
        "      <td> 0.010559</td>\n",
        "    </tr>\n",
        "    <tr>\n",
        "      <th>8   </th>\n",
        "      <td>  9913</td>\n",
        "      <td> 0.025418</td>\n",
        "    </tr>\n",
        "    <tr>\n",
        "      <th>9   </th>\n",
        "      <td>  9918</td>\n",
        "      <td> 0.022762</td>\n",
        "    </tr>\n",
        "    <tr>\n",
        "      <th>10  </th>\n",
        "      <td>  9918</td>\n",
        "      <td> 0.014347</td>\n",
        "    </tr>\n",
        "    <tr>\n",
        "      <th>11  </th>\n",
        "      <td>  9918</td>\n",
        "      <td> 0.065008</td>\n",
        "    </tr>\n",
        "    <tr>\n",
        "      <th>12  </th>\n",
        "      <td>  9918</td>\n",
        "      <td> 0.017971</td>\n",
        "    </tr>\n",
        "    <tr>\n",
        "      <th>13  </th>\n",
        "      <td>  9918</td>\n",
        "      <td> 0.010716</td>\n",
        "    </tr>\n",
        "    <tr>\n",
        "      <th>14  </th>\n",
        "      <td>  9918</td>\n",
        "      <td> 0.024922</td>\n",
        "    </tr>\n",
        "    <tr>\n",
        "      <th>15  </th>\n",
        "      <td>  9918</td>\n",
        "      <td> 0.023146</td>\n",
        "    </tr>\n",
        "    <tr>\n",
        "      <th>16  </th>\n",
        "      <td>  9918</td>\n",
        "      <td> 0.025305</td>\n",
        "    </tr>\n",
        "    <tr>\n",
        "      <th>17  </th>\n",
        "      <td>  9938</td>\n",
        "      <td> 0.086792</td>\n",
        "    </tr>\n",
        "    <tr>\n",
        "      <th>18  </th>\n",
        "      <td>  9938</td>\n",
        "      <td> 0.046651</td>\n",
        "    </tr>\n",
        "    <tr>\n",
        "      <th>19  </th>\n",
        "      <td>  9938</td>\n",
        "      <td> 0.069699</td>\n",
        "    </tr>\n",
        "    <tr>\n",
        "      <th>20  </th>\n",
        "      <td>  9938</td>\n",
        "      <td> 0.034802</td>\n",
        "    </tr>\n",
        "    <tr>\n",
        "      <th>21  </th>\n",
        "      <td>  9938</td>\n",
        "      <td> 0.011583</td>\n",
        "    </tr>\n",
        "    <tr>\n",
        "      <th>22  </th>\n",
        "      <td>  9938</td>\n",
        "      <td> 0.016854</td>\n",
        "    </tr>\n",
        "    <tr>\n",
        "      <th>23  </th>\n",
        "      <td>  9943</td>\n",
        "      <td> 0.011803</td>\n",
        "    </tr>\n",
        "    <tr>\n",
        "      <th>24  </th>\n",
        "      <td>  9943</td>\n",
        "      <td> 0.046458</td>\n",
        "    </tr>\n",
        "    <tr>\n",
        "      <th>25  </th>\n",
        "      <td>  9943</td>\n",
        "      <td> 0.068693</td>\n",
        "    </tr>\n",
        "    <tr>\n",
        "      <th>26  </th>\n",
        "      <td>  9943</td>\n",
        "      <td> 0.087148</td>\n",
        "    </tr>\n",
        "    <tr>\n",
        "      <th>27  </th>\n",
        "      <td>  9943</td>\n",
        "      <td> 0.016908</td>\n",
        "    </tr>\n",
        "    <tr>\n",
        "      <th>28  </th>\n",
        "      <td>  9943</td>\n",
        "      <td> 0.034510</td>\n",
        "    </tr>\n",
        "    <tr>\n",
        "      <th>29  </th>\n",
        "      <td>  9963</td>\n",
        "      <td> 0.046518</td>\n",
        "    </tr>\n",
        "    <tr>\n",
        "      <th>...</th>\n",
        "      <td>...</td>\n",
        "      <td>...</td>\n",
        "    </tr>\n",
        "    <tr>\n",
        "      <th>4926</th>\n",
        "      <td> 13038</td>\n",
        "      <td> 0.070195</td>\n",
        "    </tr>\n",
        "    <tr>\n",
        "      <th>4927</th>\n",
        "      <td> 13038</td>\n",
        "      <td> 0.071511</td>\n",
        "    </tr>\n",
        "    <tr>\n",
        "      <th>4928</th>\n",
        "      <td> 13043</td>\n",
        "      <td> 0.077679</td>\n",
        "    </tr>\n",
        "    <tr>\n",
        "      <th>4929</th>\n",
        "      <td> 13043</td>\n",
        "      <td> 0.067597</td>\n",
        "    </tr>\n",
        "    <tr>\n",
        "      <th>4930</th>\n",
        "      <td> 13043</td>\n",
        "      <td> 0.078347</td>\n",
        "    </tr>\n",
        "    <tr>\n",
        "      <th>4931</th>\n",
        "      <td> 13043</td>\n",
        "      <td> 0.069220</td>\n",
        "    </tr>\n",
        "    <tr>\n",
        "      <th>4932</th>\n",
        "      <td> 13043</td>\n",
        "      <td> 0.071734</td>\n",
        "    </tr>\n",
        "    <tr>\n",
        "      <th>4933</th>\n",
        "      <td> 13043</td>\n",
        "      <td> 0.069079</td>\n",
        "    </tr>\n",
        "    <tr>\n",
        "      <th>4934</th>\n",
        "      <td> 13044</td>\n",
        "      <td> 0.001286</td>\n",
        "    </tr>\n",
        "    <tr>\n",
        "      <th>4935</th>\n",
        "      <td> 13044</td>\n",
        "      <td> 0.002583</td>\n",
        "    </tr>\n",
        "    <tr>\n",
        "      <th>4936</th>\n",
        "      <td> 13044</td>\n",
        "      <td> 0.003935</td>\n",
        "    </tr>\n",
        "    <tr>\n",
        "      <th>4937</th>\n",
        "      <td> 13063</td>\n",
        "      <td> 0.044068</td>\n",
        "    </tr>\n",
        "    <tr>\n",
        "      <th>4938</th>\n",
        "      <td> 13063</td>\n",
        "      <td> 0.077127</td>\n",
        "    </tr>\n",
        "    <tr>\n",
        "      <th>4939</th>\n",
        "      <td> 13063</td>\n",
        "      <td> 0.037115</td>\n",
        "    </tr>\n",
        "    <tr>\n",
        "      <th>4940</th>\n",
        "      <td> 13063</td>\n",
        "      <td> 0.057781</td>\n",
        "    </tr>\n",
        "    <tr>\n",
        "      <th>4941</th>\n",
        "      <td> 13063</td>\n",
        "      <td> 0.070777</td>\n",
        "    </tr>\n",
        "    <tr>\n",
        "      <th>4942</th>\n",
        "      <td> 13063</td>\n",
        "      <td> 0.042931</td>\n",
        "    </tr>\n",
        "    <tr>\n",
        "      <th>4943</th>\n",
        "      <td> 13066</td>\n",
        "      <td> 0.001694</td>\n",
        "    </tr>\n",
        "    <tr>\n",
        "      <th>4944</th>\n",
        "      <td> 13068</td>\n",
        "      <td> 0.077479</td>\n",
        "    </tr>\n",
        "    <tr>\n",
        "      <th>4945</th>\n",
        "      <td> 13068</td>\n",
        "      <td> 0.043748</td>\n",
        "    </tr>\n",
        "    <tr>\n",
        "      <th>4946</th>\n",
        "      <td> 13068</td>\n",
        "      <td> 0.057691</td>\n",
        "    </tr>\n",
        "    <tr>\n",
        "      <th>4947</th>\n",
        "      <td> 13068</td>\n",
        "      <td> 0.037767</td>\n",
        "    </tr>\n",
        "    <tr>\n",
        "      <th>4948</th>\n",
        "      <td> 13068</td>\n",
        "      <td> 0.069429</td>\n",
        "    </tr>\n",
        "    <tr>\n",
        "      <th>4949</th>\n",
        "      <td> 13068</td>\n",
        "      <td> 0.042456</td>\n",
        "    </tr>\n",
        "    <tr>\n",
        "      <th>4950</th>\n",
        "      <td> 13072</td>\n",
        "      <td> 0.001194</td>\n",
        "    </tr>\n",
        "    <tr>\n",
        "      <th>4951</th>\n",
        "      <td> 13088</td>\n",
        "      <td> 0.002299</td>\n",
        "    </tr>\n",
        "    <tr>\n",
        "      <th>4952</th>\n",
        "      <td> 13088</td>\n",
        "      <td> 0.011435</td>\n",
        "    </tr>\n",
        "    <tr>\n",
        "      <th>4953</th>\n",
        "      <td> 13088</td>\n",
        "      <td> 0.015512</td>\n",
        "    </tr>\n",
        "    <tr>\n",
        "      <th>4954</th>\n",
        "      <td> 13088</td>\n",
        "      <td> 0.055049</td>\n",
        "    </tr>\n",
        "    <tr>\n",
        "      <th>4955</th>\n",
        "      <td> 13088</td>\n",
        "      <td> 0.067407</td>\n",
        "    </tr>\n",
        "  </tbody>\n",
        "</table>\n",
        "<p>1359967 rows \u00d7 2 columns</p>\n",
        "</div>"
       ],
       "metadata": {},
       "output_type": "pyout",
       "prompt_number": 212,
       "text": [
        "      frame      vals\n",
        "0      9913  0.023934\n",
        "1      9913  0.022816\n",
        "2      9913  0.014067\n",
        "3      9913  0.017411\n",
        "4      9913  0.022706\n",
        "5      9913  0.025012\n",
        "6      9913  0.064762\n",
        "7      9913  0.010559\n",
        "8      9913  0.025418\n",
        "9      9918  0.022762\n",
        "10     9918  0.014347\n",
        "11     9918  0.065008\n",
        "12     9918  0.017971\n",
        "13     9918  0.010716\n",
        "14     9918  0.024922\n",
        "15     9918  0.023146\n",
        "16     9918  0.025305\n",
        "17     9938  0.086792\n",
        "18     9938  0.046651\n",
        "19     9938  0.069699\n",
        "20     9938  0.034802\n",
        "21     9938  0.011583\n",
        "22     9938  0.016854\n",
        "23     9943  0.011803\n",
        "24     9943  0.046458\n",
        "25     9943  0.068693\n",
        "26     9943  0.087148\n",
        "27     9943  0.016908\n",
        "28     9943  0.034510\n",
        "29     9963  0.046518\n",
        "...     ...       ...\n",
        "4926  13038  0.070195\n",
        "4927  13038  0.071511\n",
        "4928  13043  0.077679\n",
        "4929  13043  0.067597\n",
        "4930  13043  0.078347\n",
        "4931  13043  0.069220\n",
        "4932  13043  0.071734\n",
        "4933  13043  0.069079\n",
        "4934  13044  0.001286\n",
        "4935  13044  0.002583\n",
        "4936  13044  0.003935\n",
        "4937  13063  0.044068\n",
        "4938  13063  0.077127\n",
        "4939  13063  0.037115\n",
        "4940  13063  0.057781\n",
        "4941  13063  0.070777\n",
        "4942  13063  0.042931\n",
        "4943  13066  0.001694\n",
        "4944  13068  0.077479\n",
        "4945  13068  0.043748\n",
        "4946  13068  0.057691\n",
        "4947  13068  0.037767\n",
        "4948  13068  0.069429\n",
        "4949  13068  0.042456\n",
        "4950  13072  0.001194\n",
        "4951  13088  0.002299\n",
        "4952  13088  0.011435\n",
        "4953  13088  0.015512\n",
        "4954  13088  0.055049\n",
        "4955  13088  0.067407\n",
        "\n",
        "[1359967 rows x 2 columns]"
       ]
      }
     ],
     "prompt_number": 212
    },
    {
     "cell_type": "code",
     "collapsed": false,
     "input": [
      "cuboid_count = cuboid_vals.frame.value_counts(ascending=True)"
     ],
     "language": "python",
     "metadata": {},
     "outputs": [],
     "prompt_number": 213
    },
    {
     "cell_type": "code",
     "collapsed": false,
     "input": [
      "cuboid_count"
     ],
     "language": "python",
     "metadata": {},
     "outputs": [
      {
       "metadata": {},
       "output_type": "pyout",
       "prompt_number": 214,
       "text": [
        "39584     2\n",
        "142213    2\n",
        "139172    2\n",
        "139169    2\n",
        "142205    2\n",
        "89616     2\n",
        "142202    2\n",
        "142200    2\n",
        "89608     2\n",
        "142198    2\n",
        "89601     2\n",
        "139163    2\n",
        "142196    2\n",
        "139162    2\n",
        "139160    2\n",
        "...\n",
        "143597    554\n",
        "143547    554\n",
        "143630    554\n",
        "143591    554\n",
        "143561    556\n",
        "143563    556\n",
        "143629    556\n",
        "143631    558\n",
        "143654    562\n",
        "143542    582\n",
        "143588    590\n",
        "143541    594\n",
        "143655    606\n",
        "143612    630\n",
        "143649    762\n",
        "Length: 71466, dtype: int64"
       ]
      }
     ],
     "prompt_number": 214
    },
    {
     "cell_type": "code",
     "collapsed": false,
     "input": [
      "# Let's plot the first 10000 frames"
     ],
     "language": "python",
     "metadata": {},
     "outputs": []
    },
    {
     "cell_type": "code",
     "collapsed": false,
     "input": [
      "cuboid_count.filter(items=range(10000,20000))"
     ],
     "language": "python",
     "metadata": {},
     "outputs": [
      {
       "metadata": {},
       "output_type": "pyout",
       "prompt_number": 77,
       "text": [
        "10013    12\n",
        "10018    12\n",
        "10028     1\n",
        "10038     5\n",
        "10043     5\n",
        "10063     7\n",
        "10068     7\n",
        "10088     4\n",
        "10093     4\n",
        "10113     8\n",
        "10118     8\n",
        "10138     9\n",
        "10143     9\n",
        "10147     1\n",
        "10163     9\n",
        "...\n",
        "19982    12\n",
        "19983    12\n",
        "19985     4\n",
        "19986     6\n",
        "19987     8\n",
        "19988    16\n",
        "19989     8\n",
        "19991     8\n",
        "19992     6\n",
        "19993    10\n",
        "19994     8\n",
        "19995     8\n",
        "19996     6\n",
        "19997    12\n",
        "19999     8\n",
        "Length: 5100, dtype: int64"
       ]
      }
     ],
     "prompt_number": 77
    },
    {
     "cell_type": "code",
     "collapsed": false,
     "input": [
      "cuboid_vals.head()"
     ],
     "language": "python",
     "metadata": {},
     "outputs": [
      {
       "html": [
        "<div style=\"max-height:1000px;max-width:1500px;overflow:auto;\">\n",
        "<table border=\"1\" class=\"dataframe\">\n",
        "  <thead>\n",
        "    <tr style=\"text-align: right;\">\n",
        "      <th></th>\n",
        "      <th>frame</th>\n",
        "      <th>vals</th>\n",
        "    </tr>\n",
        "  </thead>\n",
        "  <tbody>\n",
        "    <tr>\n",
        "      <th>0</th>\n",
        "      <td> 9913</td>\n",
        "      <td> 0.023934</td>\n",
        "    </tr>\n",
        "    <tr>\n",
        "      <th>1</th>\n",
        "      <td> 9913</td>\n",
        "      <td> 0.022816</td>\n",
        "    </tr>\n",
        "    <tr>\n",
        "      <th>2</th>\n",
        "      <td> 9913</td>\n",
        "      <td> 0.014067</td>\n",
        "    </tr>\n",
        "    <tr>\n",
        "      <th>3</th>\n",
        "      <td> 9913</td>\n",
        "      <td> 0.017411</td>\n",
        "    </tr>\n",
        "    <tr>\n",
        "      <th>4</th>\n",
        "      <td> 9913</td>\n",
        "      <td> 0.022706</td>\n",
        "    </tr>\n",
        "  </tbody>\n",
        "</table>\n",
        "</div>"
       ],
       "metadata": {},
       "output_type": "pyout",
       "prompt_number": 133,
       "text": [
        "   frame      vals\n",
        "0   9913  0.023934\n",
        "1   9913  0.022816\n",
        "2   9913  0.014067\n",
        "3   9913  0.017411\n",
        "4   9913  0.022706"
       ]
      }
     ],
     "prompt_number": 133
    },
    {
     "cell_type": "code",
     "collapsed": false,
     "input": [
      "frame_reconstruction = pnd.DataFrame({'frame': pnd.Series(), 'error': pnd.Series()})\n",
      "\n",
      "for matfile in detectionmats:\n",
      "    hoghof, locs, vals = get_data(matfile)\n",
      "    \n",
      "    # normalize data\n",
      "    detection = (hoghof - intercept) / deviation\n",
      "    \n",
      "    # Reconstruct with trained dictionary\n",
      "    dico.set_params(transform_algorithm='lars', transform_n_nonzero_coefs=5)\n",
      "    code = dico.transform(detection)\n",
      "    patches = np.dot(code, V)\n",
      "    \n",
      "    # Calculate reconstruction error\n",
      "    error = ((detection - patches) ** 2).mean(axis=1)\n",
      "    \n",
      "    df = pnd.DataFrame({'frame': pnd.Series(locs[:, 2]), 'error': pnd.Series(error) })\n",
      "    frame_reconstruction = frame_reconstruction.append(df)"
     ],
     "language": "python",
     "metadata": {},
     "outputs": [],
     "prompt_number": 335
    },
    {
     "cell_type": "code",
     "collapsed": false,
     "input": [
      "frame_reconstruction.head()"
     ],
     "language": "python",
     "metadata": {},
     "outputs": [
      {
       "html": [
        "<div style=\"max-height:1000px;max-width:1500px;overflow:auto;\">\n",
        "<table border=\"1\" class=\"dataframe\">\n",
        "  <thead>\n",
        "    <tr style=\"text-align: right;\">\n",
        "      <th></th>\n",
        "      <th>error</th>\n",
        "      <th>frame</th>\n",
        "    </tr>\n",
        "  </thead>\n",
        "  <tbody>\n",
        "    <tr>\n",
        "      <th>0</th>\n",
        "      <td> 0.184500</td>\n",
        "      <td> 9913</td>\n",
        "    </tr>\n",
        "    <tr>\n",
        "      <th>1</th>\n",
        "      <td> 0.773682</td>\n",
        "      <td> 9913</td>\n",
        "    </tr>\n",
        "    <tr>\n",
        "      <th>2</th>\n",
        "      <td> 0.688337</td>\n",
        "      <td> 9913</td>\n",
        "    </tr>\n",
        "    <tr>\n",
        "      <th>3</th>\n",
        "      <td> 0.228696</td>\n",
        "      <td> 9913</td>\n",
        "    </tr>\n",
        "    <tr>\n",
        "      <th>4</th>\n",
        "      <td> 0.189350</td>\n",
        "      <td> 9913</td>\n",
        "    </tr>\n",
        "  </tbody>\n",
        "</table>\n",
        "</div>"
       ],
       "metadata": {},
       "output_type": "pyout",
       "prompt_number": 336,
       "text": [
        "      error  frame\n",
        "0  0.184500   9913\n",
        "1  0.773682   9913\n",
        "2  0.688337   9913\n",
        "3  0.228696   9913\n",
        "4  0.189350   9913"
       ]
      }
     ],
     "prompt_number": 336
    },
    {
     "cell_type": "code",
     "collapsed": false,
     "input": [
      "frame_reconstruction.error = np.square(frame_reconstruction.error)"
     ],
     "language": "python",
     "metadata": {},
     "outputs": [],
     "prompt_number": 337
    },
    {
     "cell_type": "code",
     "collapsed": false,
     "input": [
      "frame_reconstruction.head()"
     ],
     "language": "python",
     "metadata": {},
     "outputs": [
      {
       "html": [
        "<div style=\"max-height:1000px;max-width:1500px;overflow:auto;\">\n",
        "<table border=\"1\" class=\"dataframe\">\n",
        "  <thead>\n",
        "    <tr style=\"text-align: right;\">\n",
        "      <th></th>\n",
        "      <th>error</th>\n",
        "      <th>frame</th>\n",
        "    </tr>\n",
        "  </thead>\n",
        "  <tbody>\n",
        "    <tr>\n",
        "      <th>0</th>\n",
        "      <td> 0.034040</td>\n",
        "      <td> 9913</td>\n",
        "    </tr>\n",
        "    <tr>\n",
        "      <th>1</th>\n",
        "      <td> 0.598583</td>\n",
        "      <td> 9913</td>\n",
        "    </tr>\n",
        "    <tr>\n",
        "      <th>2</th>\n",
        "      <td> 0.473807</td>\n",
        "      <td> 9913</td>\n",
        "    </tr>\n",
        "    <tr>\n",
        "      <th>3</th>\n",
        "      <td> 0.052302</td>\n",
        "      <td> 9913</td>\n",
        "    </tr>\n",
        "    <tr>\n",
        "      <th>4</th>\n",
        "      <td> 0.035853</td>\n",
        "      <td> 9913</td>\n",
        "    </tr>\n",
        "  </tbody>\n",
        "</table>\n",
        "</div>"
       ],
       "metadata": {},
       "output_type": "pyout",
       "prompt_number": 338,
       "text": [
        "      error  frame\n",
        "0  0.034040   9913\n",
        "1  0.598583   9913\n",
        "2  0.473807   9913\n",
        "3  0.052302   9913\n",
        "4  0.035853   9913"
       ]
      }
     ],
     "prompt_number": 338
    },
    {
     "cell_type": "code",
     "collapsed": false,
     "input": [
      "frame_error_sum_sq  = frame_reconstruction.groupby(by='frame').agg(np.sum)"
     ],
     "language": "python",
     "metadata": {},
     "outputs": [],
     "prompt_number": 376
    },
    {
     "cell_type": "code",
     "collapsed": false,
     "input": [
      "frame_error_mean_sq  = frame_reconstruction.groupby(by='frame').agg(np.mean)"
     ],
     "language": "python",
     "metadata": {},
     "outputs": [],
     "prompt_number": 377
    },
    {
     "cell_type": "code",
     "collapsed": false,
     "input": [
      "frame_error_max_sq  = frame_reconstruction.groupby(by='frame').agg(np.amax)"
     ],
     "language": "python",
     "metadata": {},
     "outputs": [],
     "prompt_number": 378
    },
    {
     "cell_type": "code",
     "collapsed": false,
     "input": [
      "frame_error_sum_sq.head()"
     ],
     "language": "python",
     "metadata": {},
     "outputs": [
      {
       "html": [
        "<div style=\"max-height:1000px;max-width:1500px;overflow:auto;\">\n",
        "<table border=\"1\" class=\"dataframe\">\n",
        "  <thead>\n",
        "    <tr style=\"text-align: right;\">\n",
        "      <th></th>\n",
        "      <th>error</th>\n",
        "    </tr>\n",
        "    <tr>\n",
        "      <th>frame</th>\n",
        "      <th></th>\n",
        "    </tr>\n",
        "  </thead>\n",
        "  <tbody>\n",
        "    <tr>\n",
        "      <th>9913</th>\n",
        "      <td> 4.148233</td>\n",
        "    </tr>\n",
        "    <tr>\n",
        "      <th>9918</th>\n",
        "      <td> 1.767074</td>\n",
        "    </tr>\n",
        "    <tr>\n",
        "      <th>9938</th>\n",
        "      <td> 0.694062</td>\n",
        "    </tr>\n",
        "    <tr>\n",
        "      <th>9943</th>\n",
        "      <td> 0.893404</td>\n",
        "    </tr>\n",
        "    <tr>\n",
        "      <th>9963</th>\n",
        "      <td> 1.134184</td>\n",
        "    </tr>\n",
        "  </tbody>\n",
        "</table>\n",
        "</div>"
       ],
       "metadata": {},
       "output_type": "pyout",
       "prompt_number": 379,
       "text": [
        "          error\n",
        "frame          \n",
        "9913   4.148233\n",
        "9918   1.767074\n",
        "9938   0.694062\n",
        "9943   0.893404\n",
        "9963   1.134184"
       ]
      }
     ],
     "prompt_number": 379
    },
    {
     "cell_type": "code",
     "collapsed": false,
     "input": [
      "def draw_groundtruth(y, xstart, xstop, color='b'):\n",
      "    \"\"\"Plot timelines at y from xstart to xstop with given color.\"\"\"   \n",
      "    plt.hlines(y, xstart, xstop, color, lw=4)\n",
      "    plt.vlines(xstart, y+ 0.03, y-0.03, color, lw=2)\n",
      "    plt.vlines(xstop, y+0.03, y-0.03, color, lw=2)"
     ],
     "language": "python",
     "metadata": {},
     "outputs": [],
     "prompt_number": 367
    },
    {
     "cell_type": "code",
     "collapsed": false,
     "input": [
      "for start, end, value in groundtruth:\n",
      "    color = 'red' if value == 1 else 'black'\n",
      "    draw_groundtruth(20, start, end, color=color)\n"
     ],
     "language": "python",
     "metadata": {},
     "outputs": [
      {
       "metadata": {},
       "output_type": "display_data",
       "png": "[encoded data removed]",
       "text": [
        "<matplotlib.figure.Figure at 0x33b06b10>"
       ]
      }
     ],
     "prompt_number": 368
    },
    {
     "cell_type": "code",
     "collapsed": false,
     "input": [
      "STEP = 10000\n",
      "frames = np.array(range(1, 144249))\n",
      "\n",
      "for index in range(STEP, len(frames), STEP):\n",
      "\n",
      "    frames_vect = np.array(range(index, index + STEP+1))\n",
      "    values_vect_mean = np.zeros(frames_vect.shape)\n",
      "    values_vect_sum = np.zeros(frames_vect.shape)\n",
      "    values_vect_max = np.zeros(frames_vect.shape)\n",
      "    \n",
      "    for frame, error in frame_error_sum_sq[index:index+STEP].itertuples():\n",
      "        values_vect_sum[frame - index] = error\n",
      "\n",
      "    for frame, error in frame_error_mean_sq[index:index+STEP].itertuples():\n",
      "        values_vect_mean[frame - index] = error\n",
      " \n",
      "    for frame, error in frame_error_max_sq[index:index+STEP].itertuples():\n",
      "        values_vect_max[frame - index] = error\n",
      "        \n",
      "    figure()\n",
      "    gcf().set_figwidth(15)\n",
      "\n",
      "    YLIM = 10\n",
      "    \n",
      "    #hold()\n",
      "    #plot(frames_vect, values_vect_sum, color='gray', label='sum error')\n",
      "    #hold()\n",
      "    plot(frames_vect, values_vect_mean, color='green', label='mean error')\n",
      "    hold()\n",
      "    #plot(frames_vect, values_vect_max, color='blue', label='max error')\n",
      "    #legend()\n",
      "    \n",
      "    for start, end, value in groundtruth:\n",
      "        color = 'red' if value == 1 else 'black'\n",
      "        height = YLIM * 0.8 if value == 1 else YLIM * 0.2\n",
      "        draw_groundtruth(height, start, end, color=color)        \n",
      "        draw_groundtruth(YLIM - height, start, end, color=color)        \n",
      "    \n",
      "    title(\"Frames %s to %s\" % (index, index+STEP))\n",
      "\n",
      "    xlim(index, index + STEP)\n",
      "    ylim((0, YLIM))"
     ],
     "language": "python",
     "metadata": {},
     "outputs": [
      {
       "metadata": {},
       "output_type": "display_data",
       "png": "[encoded data removed]",
       "text": [
        "<matplotlib.figure.Figure at 0x5e856a90>"
       ]
      },
      {
       "metadata": {},
       "output_type": "display_data",
       "png": "[encoded data removed]",
       "text": [
        "<matplotlib.figure.Figure at 0x395a6090>"
       ]
      },
      {
       "metadata": {},
       "output_type": "display_data",
       "png": "[encoded data removed]",
       "text": [
        "<matplotlib.figure.Figure at 0x580d77d0>"
       ]
      },
      {
       "metadata": {},
       "output_type": "display_data",
       "png": "[encoded data removed]",
       "text": [
        "<matplotlib.figure.Figure at 0x4a80f9d0>"
       ]
      },
      {
       "metadata": {},
       "output_type": "display_data",
       "png": "[encoded data removed]",
       "text": [
        "<matplotlib.figure.Figure at 0x62f345d0>"
       ]
      },
      {
       "metadata": {},
       "output_type": "display_data",
       "png": "[encoded data removed]",
       "text": [
        "<matplotlib.figure.Figure at 0x4a7fff10>"
       ]
      },
      {
       "metadata": {},
       "output_type": "display_data",
       "png": "[encoded data removed]",
       "text": [
        "<matplotlib.figure.Figure at 0x57205690>"
       ]
      },
      {
       "metadata": {},
       "output_type": "display_data",
       "png": "[encoded data removed]",
       "text": [
        "<matplotlib.figure.Figure at 0x45eb6dd0>"
       ]
      },
      {
       "metadata": {},
       "output_type": "display_data",
       "png": "[encoded data removed]",
       "text": [
        "<matplotlib.figure.Figure at 0x45bb2550>"
       ]
      },
      {
       "metadata": {},
       "output_type": "display_data",
       "png": "[encoded data removed]",
       "text": [
        "<matplotlib.figure.Figure at 0x6319cc90>"
       ]
      },
      {
       "metadata": {},
       "output_type": "display_data",
       "png": "[encoded data removed]",
       "text": [
        "<matplotlib.figure.Figure at 0x57f62410>"
       ]
      },
      {
       "metadata": {},
       "output_type": "display_data",
       "png": "[encoded data removed]",
       "text": [
        "<matplotlib.figure.Figure at 0x4aecfb50>"
       ]
      },
      {
       "metadata": {},
       "output_type": "display_data",
       "png": "[encoded data removed]",
       "text": [
        "<matplotlib.figure.Figure at 0x472792d0>"
       ]
      },
      {
       "metadata": {},
       "output_type": "display_data",
       "png": "[encoded data removed]",
       "text": [
        "<matplotlib.figure.Figure at 0x5d5bfa10>"
       ]
      }
     ],
     "prompt_number": 389
    },
    {
     "cell_type": "heading",
     "level": 3,
     "metadata": {},
     "source": [
      "Running with Lasso and ADMM"
     ]
    },
    {
     "cell_type": "code",
     "collapsed": false,
     "input": [
      "from admm.lasso import dict_learning\n",
      "\n",
      "intercept = training.mean(axis=0)\n",
      "delta = training - intercept\n",
      "deviation = delta.std(axis=0)\n",
      "d = delta / deviation"
     ],
     "language": "python",
     "metadata": {},
     "outputs": [],
     "prompt_number": 44
    },
    {
     "cell_type": "code",
     "collapsed": false,
     "input": [
      "%%bash\n",
      "date"
     ],
     "language": "python",
     "metadata": {},
     "outputs": []
    },
    {
     "cell_type": "code",
     "collapsed": false,
     "input": [],
     "language": "python",
     "metadata": {},
     "outputs": []
    }
   ],
   "metadata": {}
  }
 ]
}