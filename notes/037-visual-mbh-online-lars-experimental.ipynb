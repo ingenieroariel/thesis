{
 "metadata": {
  "name": "",
  "signature": "sha256:1dd30a30a67ffbc3ef696b2a3ffd80d77ef55dfdfb322c5476ae9df768693535"
 },
 "nbformat": 3,
 "nbformat_minor": 0,
 "worksheets": [
  {
   "cells": [
    {
     "cell_type": "code",
     "collapsed": false,
     "input": [
      "import cv2\n",
      "import matplotlib.pyplot as plt\n",
      "import numpy as np\n",
      "import matplotlib as mpl\n",
      "import matplotlib.pylab as plt\n",
      "\n",
      "%matplotlib inline"
     ],
     "language": "python",
     "metadata": {},
     "outputs": [],
     "prompt_number": 1
    },
    {
     "cell_type": "code",
     "collapsed": false,
     "input": [
      "trajectory_file = '../../subway-exit-W10-complete.txt'"
     ],
     "language": "python",
     "metadata": {},
     "outputs": [],
     "prompt_number": 2
    },
    {
     "cell_type": "markdown",
     "metadata": {},
     "source": [
      "The format of the computed features\n",
      "\n",
      "The features are computed one by one, and each one in a single line, with the following format:\n",
      "\n",
      "frameNum mean_x mean_y var_x var_y length scale x_pos y_pos t_pos Trajectory HOG HOF MBHx MBHy\n",
      "\n",
      "The first 10 elements are information about the trajectory:\n",
      "\n",
      " * frameNum:     The trajectory ends on which frame\n",
      " * mean_x:       The mean value of the x coordinates of the trajectory\n",
      " * mean_y:       The mean value of the y coordinates of the trajectory\n",
      " * var_x:        The variance of the x coordinates of the trajectory\n",
      " * var_y:        The variance of the y coordinates of the trajectory\n",
      " * length:       The length of the trajectory\n",
      " * scale:        The trajectory is computed on which scale\n",
      " * x_pos:        The normalized x position w.r.t. the video (0~0.999), for spatio-temporal pyramid \n",
      " * y_pos:        The normalized y position w.r.t. the video (0~0.999), for spatio-temporal pyramid \n",
      " * t_pos:        The normalized t position w.r.t. the video (0~0.999), for spatio-temporal pyramid\n",
      "\n",
      "The following element are five descriptors concatenated one by one:\n",
      "\n",
      " * Normalized Trajectory:    2x[trajectory length] (default 30 dimension) \n",
      " * Raw Trajectory:           2x[trajectory length] (default 30 dimension) \n",
      "\n",
      " * HOG:           8x[spatial cells]x[spatial cells]x[temporal cells] (default 96 dimension)\n",
      " * HOF:           9x[spatial cells]x[spatial cells]x[temporal cells] (default 108 dimension)\n",
      " * MBHx:          8x[spatial cells]x[spatial cells]x[temporal cells] (default 96 dimension)\n",
      " * MBHy:          8x[spatial cells]x[spatial cells]x[temporal cells] (default 96 dimension)"
     ]
    },
    {
     "cell_type": "markdown",
     "metadata": {},
     "source": [
      "This file has 466 columns"
     ]
    },
    {
     "cell_type": "code",
     "collapsed": false,
     "input": [
      "# metadata + trajectories + raw trajectories + hog + hof + mbhx + mbhy\n",
      "10+30+30+96+108+96+96"
     ],
     "language": "python",
     "metadata": {},
     "outputs": [
      {
       "metadata": {},
       "output_type": "pyout",
       "prompt_number": 3,
       "text": [
        "466"
       ]
      }
     ],
     "prompt_number": 3
    },
    {
     "cell_type": "code",
     "collapsed": false,
     "input": [
      "import pandas\n",
      "import numpy as np\n",
      "from pandas.io.parsers import read_csv\n",
      "\n",
      "metadata_fields = ['frameNum', 'mean_x', 'mean_y', 'var_x', 'var_y', 'length', 'scale', 'x_pos', 'y_pos', 't_pos']\n",
      "norm_trajectory_fields = ['norm_trajectory%s' % n for n in range(30)]\n",
      "trajectory_fields = ['trajectory%s' % n for n in range(30)]\n",
      "hog_fields = ['hog%s' % n for n in range(96)]\n",
      "hof_fields = ['hof%s' % n for n in range(108)]\n",
      "mbh_fields = ['mbh%s' % n for n in range(96+96)]\n",
      "\n",
      "fields = metadata_fields + norm_trajectory_fields + trajectory_fields + hog_fields + hof_fields + mbh_fields\n",
      "\n",
      "temp_data = read_csv(trajectory_file, delimiter='\\t', names=fields, index_col=False)"
     ],
     "language": "python",
     "metadata": {},
     "outputs": [],
     "prompt_number": 4
    },
    {
     "cell_type": "code",
     "collapsed": false,
     "input": [
      "data = pandas.concat([\n",
      "            temp_data.get(metadata_fields),\n",
      "#            pandas.Series(temp_data.get(hof_fields).values.tolist(), index=temp_data.index, name='hof'),\n",
      "#            pandas.Series(temp_data.get(hog_fields).values.tolist(), index=temp_data.index, name='hog'),\n",
      "            pandas.Series(temp_data.get(mbh_fields).values.tolist(), index=temp_data.index, name='mbh'),\n",
      "            pandas.Series(temp_data.get(trajectory_fields).values.tolist(), index=temp_data.index, name='trajectory'),\n",
      "], axis=1)"
     ],
     "language": "python",
     "metadata": {},
     "outputs": [],
     "prompt_number": 5
    },
    {
     "cell_type": "code",
     "collapsed": false,
     "input": [
      "# Clear memory after having loaded that big file, we will create a slimmer version later\n",
      "%xdel temp_data"
     ],
     "language": "python",
     "metadata": {},
     "outputs": [],
     "prompt_number": 6
    },
    {
     "cell_type": "code",
     "collapsed": false,
     "input": [
      "groundtruth = np.array( [\n",
      "[550, 780, 0],\n",
      "[2310, 2855, 0],\n",
      "[3730, 3790, 0],\n",
      "[4925, 5570, 0],\n",
      "[5650, 5750, 0],\n",
      "[9680, 9710, 0],\n",
      "[12370, 12500, 0],\n",
      "[14020, 14070, 0],\n",
      "[14760, 14816, 0],\n",
      "[15290, 15500, 1],\n",
      "[15815, 15945, 0],\n",
      "[17340, 17770, 1],\n",
      "[18150, 18970, 1],\n",
      "[18970, 19450, 1],\n",
      "[19875, 19950, 0],\n",
      "[20170, 20225, 0],\n",
      "[20560, 20738, 1],\n",
      "[21760, 21805, 0],\n",
      "[22830, 23610, 0],\n",
      "[24020, 24255, 1],\n",
      "[37185, 37267, 0],\n",
      "[37940, 38005, 0],\n",
      "[40710, 41750, 1],\n",
      "[47020, 47505, 0],\n",
      "[47670, 47910, 1],\n",
      "[49230, 49280, 0],\n",
      "[50365, 50680, 1],\n",
      "[50940, 51295, 1],\n",
      "[52230, 52395, 0],\n",
      "[52765, 53050, 1],\n",
      "[53330, 53425, 0],\n",
      "[54375, 54475, 1],\n",
      "[55315, 56065, 1],\n",
      "[57120, 57615, 0],\n",
      "[59110, 62195, 1],\n",
      "])"
     ],
     "language": "python",
     "metadata": {},
     "outputs": [],
     "prompt_number": 7
    },
    {
     "cell_type": "code",
     "collapsed": false,
     "input": [
      "from admm.dict_learning import MiniBatchDictionaryLearning"
     ],
     "language": "python",
     "metadata": {},
     "outputs": [],
     "prompt_number": 8
    },
    {
     "cell_type": "code",
     "collapsed": false,
     "input": [
      "def train(d, dico=None, components=200, alpha=1, n_iter=100, method='lars', batch_size=100, fit=True):\n",
      "    \n",
      "    if dico is None:\n",
      "        dico = MiniBatchDictionaryLearning(n_components=components, fit_algorithm=method, transform_algorithm='lasso_'+method, alpha=alpha, n_iter=n_iter, batch_size=batch_size)\n",
      "\n",
      "    if fit:\n",
      "        dico.fit(d)\n",
      "\n",
      "    dictionary = dico.components_\n",
      "        \n",
      "    code = dico.transform(d)\n",
      "    patches = np.dot(code, dictionary)\n",
      "    error = ((d - patches) ** 2).mean(axis=1)\n",
      "    \n",
      "    return dictionary, code, error, dico"
     ],
     "language": "python",
     "metadata": {},
     "outputs": [],
     "prompt_number": 9
    },
    {
     "cell_type": "code",
     "collapsed": false,
     "input": [
      "def draw_groundtruth(y, xstart, xstop, color='b'):\n",
      "    \"\"\"Plot timelines at y from xstart to xstop with given color.\"\"\"   \n",
      "    plt.hlines(y, xstart, xstop, color, lw=4)\n",
      "    plt.vlines(xstart, y+ 0.03, y-0.03, color, lw=2)\n",
      "    plt.vlines(xstop, y+0.03, y-0.03, color, lw=2)"
     ],
     "language": "python",
     "metadata": {},
     "outputs": [],
     "prompt_number": 10
    },
    {
     "cell_type": "code",
     "collapsed": false,
     "input": [
      "def check(input_data, groundtruth, error_limit=0, STEP=8000):\n",
      "\n",
      "    frames = np.array(range(1, 62000))\n",
      "\n",
      "    frame_error = input_data[input_data.error > error_limit].get(['frameNum', 'error'])\n",
      "    # frame error sum\n",
      "    fes  = frame_error.groupby(by='frameNum').agg(np.sum)\n",
      "\n",
      "\n",
      "    for index in range(0, len(frames), STEP):\n",
      "        \n",
      "        frames_vect = np.array(range(index, index + STEP+1))\n",
      "\n",
      "        values_vect = np.zeros(frames_vect.shape)\n",
      "\n",
      "        for frame, error in fes[(fes.index > index) & (fes.index < index+STEP)].itertuples():\n",
      "            values_vect[frame - index] = error\n",
      "\n",
      "        plt.figure()\n",
      "        plt.gcf().set_figwidth(15)\n",
      "\n",
      "        YLIM = 10\n",
      "\n",
      "        plt.plot(frames_vect, values_vect, color='green', label='error sum')\n",
      "        plt.hold()\n",
      "\n",
      "        for start, end, value in groundtruth:\n",
      "            color = 'red' if value == 1 else 'black'\n",
      "            height = YLIM * 0.7 if value == 1 else YLIM * 0.3\n",
      "            draw_groundtruth(height, start, end, color=color)        \n",
      "            draw_groundtruth(YLIM - height, start, end, color=color)        \n",
      "\n",
      "        plt.title(\"Frames %s to %s\" % (index, index+STEP))\n",
      "\n",
      "        plt.xlim(index, index + STEP)\n",
      "        plt.ylim((0, YLIM))\n",
      "        \n",
      "    return fes"
     ],
     "language": "python",
     "metadata": {},
     "outputs": [],
     "prompt_number": 11
    },
    {
     "cell_type": "heading",
     "level": 1,
     "metadata": {},
     "source": [
      "Let's send all the normal events before sending the first abnormal event"
     ]
    },
    {
     "cell_type": "code",
     "collapsed": false,
     "input": [
      "normal_data = None\n",
      "\n",
      "# Create a dataset with only normal events.\n",
      "for start, end, normal in groundtruth:\n",
      "\n",
      "    tmp_data = data[(data.frameNum >= start) & (data.frameNum <= end)]\n",
      "    \n",
      "    # ignore events labeled as abnormal\n",
      "    if normal == 1:\n",
      "        break\n",
      "\n",
      "    normal_data = pandas.concat([normal_data, tmp_data])"
     ],
     "language": "python",
     "metadata": {},
     "outputs": [],
     "prompt_number": 12
    },
    {
     "cell_type": "code",
     "collapsed": false,
     "input": [
      "mbh = np.array(normal_data.mbh.values.tolist())"
     ],
     "language": "python",
     "metadata": {},
     "outputs": [],
     "prompt_number": 13
    },
    {
     "cell_type": "code",
     "collapsed": false,
     "input": [
      "mbh_reference = mbh\n",
      "intercept = mbh_reference.mean(axis=0)\n",
      "delta_reference =  mbh_reference - intercept\n",
      "deviation = delta_reference.std(axis=0)\n",
      "\n",
      "# Use the intercept and deviation from the initial values:\n",
      "delta = mbh - intercept\n",
      "d = delta / deviation"
     ],
     "language": "python",
     "metadata": {},
     "outputs": [],
     "prompt_number": 14
    },
    {
     "cell_type": "code",
     "collapsed": false,
     "input": [
      "%time dictionary, code, error, dico = train(d, alpha=1, method='lars', n_iter=10, batch_size=100, components=50)"
     ],
     "language": "python",
     "metadata": {},
     "outputs": [
      {
       "output_type": "stream",
       "stream": "stdout",
       "text": [
        "CPU times: user 1min 31s, sys: 505 ms, total: 1min 32s\n",
        "Wall time: 1min 32s\n"
       ]
      }
     ],
     "prompt_number": 15
    },
    {
     "cell_type": "code",
     "collapsed": false,
     "input": [
      "normal_data['error'] = pandas.Series(error, index=normal_data.index, name='error')"
     ],
     "language": "python",
     "metadata": {},
     "outputs": [],
     "prompt_number": 16
    },
    {
     "cell_type": "code",
     "collapsed": false,
     "input": [
      "normal_data.error.describe()"
     ],
     "language": "python",
     "metadata": {},
     "outputs": [
      {
       "metadata": {},
       "output_type": "pyout",
       "prompt_number": 17,
       "text": [
        "count    25923.000000\n",
        "mean         0.434941\n",
        "std          0.114567\n",
        "min          0.125927\n",
        "25%          0.356667\n",
        "50%          0.424242\n",
        "75%          0.501646\n",
        "max          1.151868\n",
        "dtype: float64"
       ]
      }
     ],
     "prompt_number": 17
    },
    {
     "cell_type": "code",
     "collapsed": false,
     "input": [
      "normal_data[normal_data.error > normal_data.error.quantile(0.99)].error.describe()"
     ],
     "language": "python",
     "metadata": {},
     "outputs": [
      {
       "metadata": {},
       "output_type": "pyout",
       "prompt_number": 18,
       "text": [
        "count    260.000000\n",
        "mean       0.826015\n",
        "std        0.062536\n",
        "min        0.757872\n",
        "25%        0.779701\n",
        "50%        0.808602\n",
        "75%        0.854870\n",
        "max        1.151868\n",
        "dtype: float64"
       ]
      }
     ],
     "prompt_number": 18
    },
    {
     "cell_type": "markdown",
     "metadata": {},
     "source": [
      "normal_data.error.max() is our reference now"
     ]
    },
    {
     "cell_type": "code",
     "collapsed": false,
     "input": [
      "all_mbh = np.array(data.mbh.values.tolist())\n",
      "# Use the intercept and deviation from the initial values:\n",
      "delta = all_mbh - intercept\n",
      "d = delta / deviation\n",
      "\n",
      "%time code = dico.transform(d)\n",
      "patches = np.dot(code, dictionary)\n",
      "error = ((d - patches) ** 2).mean(axis=1)"
     ],
     "language": "python",
     "metadata": {},
     "outputs": [
      {
       "output_type": "stream",
       "stream": "stdout",
       "text": [
        "CPU times: user 10min 50s, sys: 972 ms, total: 10min 51s\n",
        "Wall time: 10min 52s\n"
       ]
      }
     ],
     "prompt_number": 19
    },
    {
     "cell_type": "markdown",
     "metadata": {},
     "source": [
      "The reconstruction with admm took about two hours!!!!!!"
     ]
    },
    {
     "cell_type": "code",
     "collapsed": false,
     "input": [
      "data['error'] = pandas.Series(error, index=data.index, name='error')"
     ],
     "language": "python",
     "metadata": {},
     "outputs": [],
     "prompt_number": 20
    },
    {
     "cell_type": "code",
     "collapsed": false,
     "input": [
      "data.error.describe()"
     ],
     "language": "python",
     "metadata": {},
     "outputs": [
      {
       "metadata": {},
       "output_type": "pyout",
       "prompt_number": 21,
       "text": [
        "count    194235.000000\n",
        "mean          0.421390\n",
        "std           0.133825\n",
        "min           0.107842\n",
        "25%           0.330938\n",
        "50%           0.414691\n",
        "75%           0.502212\n",
        "max           1.439229\n",
        "dtype: float64"
       ]
      }
     ],
     "prompt_number": 21
    },
    {
     "cell_type": "code",
     "collapsed": false,
     "input": [
      "data[data.error > normal_data.error.quantile(0.99)].error.describe()"
     ],
     "language": "python",
     "metadata": {},
     "outputs": [
      {
       "metadata": {},
       "output_type": "pyout",
       "prompt_number": 22,
       "text": [
        "count    2782.000000\n",
        "mean        0.835339\n",
        "std         0.074841\n",
        "min         0.757845\n",
        "25%         0.781100\n",
        "50%         0.812904\n",
        "75%         0.868045\n",
        "max         1.439229\n",
        "dtype: float64"
       ]
      }
     ],
     "prompt_number": 22
    },
    {
     "cell_type": "code",
     "collapsed": false,
     "input": [
      "def draw_trajectories(video_filename, data, groundtruth, output_video_filename, thickness=0):\n",
      "    '''Draws cuboids.\n",
      "    video_filename: string\n",
      "    data: DataFrame with frameNumber, error and trajectory\n",
      "    \n",
      "    output_video_file_name: string\n",
      "    \n",
      "    edge: width in pixels of cuboid outlines\n",
      "    outline: draws only cuboid outlines when 0, solid cuboids otherwise\n",
      "    \n",
      "    Author: Ariel Nunez, 2014\n",
      "            Juan Carlos Niebles, 2013\n",
      "    '''\n",
      "    \n",
      "    # Open input video.\n",
      "    input_video = cv2.VideoCapture(video_filename)\n",
      "    if not input_video.isOpened():\n",
      "        print \"Cannot open input video\", video_filename ,\"for reading.\"\n",
      "        return None\n",
      "    frame_width = np.uint32(input_video.get(cv2.cv.CV_CAP_PROP_FRAME_WIDTH))\n",
      "    frame_height = np.uint32(input_video.get(cv2.cv.CV_CAP_PROP_FRAME_HEIGHT))\n",
      "    \n",
      "    # Open output video.\n",
      "    output_video = cv2.VideoWriter()\n",
      "    output_video.open(output_video_filename, cv2.cv.CV_FOURCC('F','M', 'P','4'),\n",
      "                      60, (frame_width, frame_height), 1)\n",
      "    if not output_video.isOpened():\n",
      "        output_video.release()\n",
      "        print \"Cannot open output video\", output_video_filename ,\"for writing.\"\n",
      "        return None\n",
      "    \n",
      "    # Keep track of current frame number.\n",
      "    frame_number = -1\n",
      "    \n",
      "    min_error = data.error.min()\n",
      "    max_error = data.error.max()\n",
      "    \n",
      "    # Loop through all frames, drawing cuboids at each frame.\n",
      "    while True:\n",
      "        retval, frame = input_video.read()\n",
      "        if (type(frame) == type(None)):\n",
      "            break\n",
      "        frame_number += 1\n",
      "        \n",
      "        ignore = True\n",
      "        usual = True\n",
      "        \n",
      "        for start, end, value in groundtruth:\n",
      "            if (frame_number > start) & (frame_number <= end):\n",
      "                if value == 1:\n",
      "                    usual = False\n",
      "                ignore = False\n",
      "                break\n",
      "        \n",
      "        # If this frame is not in the groundtruth, don't draw it.\n",
      "        if ignore:\n",
      "            continue\n",
      "\n",
      "        # When drawing a solid cuboid, we operate on the HSV color space.\n",
      "        gray_frame = cv2.cvtColor(frame.copy(), cv2.COLOR_BGR2GRAY)\n",
      "        output_frame = np.zeros((gray_frame.shape[0], gray_frame.shape[1], 3),\n",
      "                                    dtype=np.uint8)\n",
      "        output_frame[:, :, 2] = gray_frame\n",
      "        \n",
      "        # Add trajectories\n",
      "        filtered = data[(data.frameNum > frame_number) & (data.frameNum < frame_number + 15)]\n",
      "                \n",
      "        for index, row in filtered.iterrows():\n",
      "            trajectory = np.array(row.trajectory).reshape((15, 2))\n",
      "            x_last = None\n",
      "            y_last = None\n",
      "            \n",
      "            difference = row.frameNum - frame_number\n",
      "\n",
      "            for x, y in trajectory:\n",
      "                max_error, min_error, row.error\n",
      "                level = (row.error - min_error ) / (max_error - min_error)\n",
      "                color = np.array([  0.,   (level-0.2)*255., 255., 255.])\n",
      "                \n",
      "                if x_last is not None and level > 0.2:\n",
      "                    cv2.line(output_frame, (int(x_last), int(y_last)), (int(x), int(y)), color, thickness=2, lineType=cv2.CV_AA)                    \n",
      "                    \n",
      "                x_last = x\n",
      "                y_last = y\n",
      "        \n",
      "        # Add frame number\n",
      "        if usual:\n",
      "            text = '%s' % frame_number\n",
      "            color = (180, 0, 255)\n",
      "        else:\n",
      "            text = '%s (unusual)' % frame_number\n",
      "            color = (0, 128, 255)\n",
      "                    \n",
      "        cv2.putText(output_frame, text, (5, 25),\n",
      "                    cv2.FONT_HERSHEY_SIMPLEX, 1.0, color)\n",
      "        \n",
      "        output_frame = cv2.cvtColor(output_frame, cv2.COLOR_HSV2BGR_FULL)\n",
      "        output_video.write(output_frame)\n",
      "        \n",
      "\n",
      "    print \"Done.\"\n",
      "    # Close video objects\n",
      "    input_video.release()\n",
      "    output_video.release()"
     ],
     "language": "python",
     "metadata": {},
     "outputs": [],
     "prompt_number": 144
    },
    {
     "cell_type": "code",
     "collapsed": false,
     "input": [
      "%time draw_trajectories('../../subway_exit_turnstiles.avi', data, groundtruth, '../../processed_subway_exit.avi')"
     ],
     "language": "python",
     "metadata": {},
     "outputs": [
      {
       "output_type": "stream",
       "stream": "stdout",
       "text": [
        "Done.\n",
        "CPU times: user 26min 20s, sys: 7.34 s, total: 26min 27s\n",
        "Wall time: 25min 30s\n"
       ]
      }
     ],
     "prompt_number": 145
    },
    {
     "cell_type": "code",
     "collapsed": false,
     "input": [
      "%%bash\n",
      "exiftool ../../processed_subway_exit.avi"
     ],
     "language": "python",
     "metadata": {},
     "outputs": []
    },
    {
     "cell_type": "code",
     "collapsed": false,
     "input": [
      "groundtruth = np.array( [\n",
      "[37940, 38005, 0],\n",
      "[40710, 41750, 1],\n",
      "#[47020, 47505, 0],\n",
      "#[47670, 47910, 1],\n",
      "#[49230, 49280, 0],\n",
      "])"
     ],
     "language": "python",
     "metadata": {},
     "outputs": [],
     "prompt_number": 25
    },
    {
     "cell_type": "code",
     "collapsed": false,
     "input": [
      "fes = check(data, groundtruth, error_limit=normal_data.error.quantile(0.992))"
     ],
     "language": "python",
     "metadata": {},
     "outputs": [
      {
       "metadata": {},
       "output_type": "display_data",
       "png": "[encoded data removed]",
       "text": [
        "<matplotlib.figure.Figure at 0x7f48c33b9050>"
       ]
      },
      {
       "metadata": {},
       "output_type": "display_data",
       "png": "[encoded data removed]",
       "text": [
        "<matplotlib.figure.Figure at 0x7f48c2db2ad0>"
       ]
      },
      {
       "metadata": {},
       "output_type": "display_data",
       "png": "[encoded data removed]",
       "text": [
        "<matplotlib.figure.Figure at 0x7f48c3424190>"
       ]
      },
      {
       "metadata": {},
       "output_type": "display_data",
       "png": "[encoded data removed]",
       "text": [
        "<matplotlib.figure.Figure at 0x7f48c4893550>"
       ]
      },
      {
       "metadata": {},
       "output_type": "display_data",
       "png": "[encoded data removed]",
       "text": [
        "<matplotlib.figure.Figure at 0x7f48c4ef8a90>"
       ]
      },
      {
       "metadata": {},
       "output_type": "display_data",
       "png": "[encoded data removed]",
       "text": [
        "<matplotlib.figure.Figure at 0x7f48c4a4a110>"
       ]
      },
      {
       "metadata": {},
       "output_type": "display_data",
       "png": "[encoded data removed]",
       "text": [
        "<matplotlib.figure.Figure at 0x7f48c44cf650>"
       ]
      },
      {
       "metadata": {},
       "output_type": "display_data",
       "png": "[encoded data removed]",
       "text": [
        "<matplotlib.figure.Figure at 0x7f48c3700c90>"
       ]
      }
     ],
     "prompt_number": 31
    },
    {
     "cell_type": "code",
     "collapsed": false,
     "input": [
      "from pandas.stats.moments import rolling_apply\n",
      "mad = lambda x: np.fabs(x - x.mean()).mean()\n",
      "moving_window_frames = 10\n",
      "smooth_error = rolling_apply(fes, moving_window_frames, mad)\n",
      "smooth_error.plot(style='k')"
     ],
     "language": "python",
     "metadata": {},
     "outputs": [
      {
       "metadata": {},
       "output_type": "pyout",
       "prompt_number": 37,
       "text": [
        "<matplotlib.axes.AxesSubplot at 0x7f48c50222d0>"
       ]
      },
      {
       "metadata": {},
       "output_type": "display_data",
       "png": "[encoded data removed]",
       "text": [
        "<matplotlib.figure.Figure at 0x7f48c2e70b50>"
       ]
      }
     ],
     "prompt_number": 37
    },
    {
     "cell_type": "code",
     "collapsed": false,
     "input": [
      "error_peaks = smooth_error[smooth_error.error >= 0.7]"
     ],
     "language": "python",
     "metadata": {},
     "outputs": [],
     "prompt_number": 139
    },
    {
     "cell_type": "code",
     "collapsed": false,
     "input": [
      "error_peaks.plot(kind='line')"
     ],
     "language": "python",
     "metadata": {},
     "outputs": [
      {
       "metadata": {},
       "output_type": "pyout",
       "prompt_number": 140,
       "text": [
        "<matplotlib.axes.AxesSubplot at 0x7f48c48e9cd0>"
       ]
      },
      {
       "metadata": {},
       "output_type": "display_data",
       "png": "[encoded data removed]",
       "text": [
        "<matplotlib.figure.Figure at 0x7f48c4b7f650>"
       ]
      }
     ],
     "prompt_number": 140
    },
    {
     "cell_type": "code",
     "collapsed": false,
     "input": [
      "smooth_error.plot(kind='line')"
     ],
     "language": "python",
     "metadata": {},
     "outputs": [
      {
       "metadata": {},
       "output_type": "pyout",
       "prompt_number": 141,
       "text": [
        "<matplotlib.axes.AxesSubplot at 0x7f48c46c1550>"
       ]
      },
      {
       "metadata": {},
       "output_type": "display_data",
       "png": "[encoded data removed]",
       "text": [
        "<matplotlib.figure.Figure at 0x7f48c4a88850>"
       ]
      }
     ],
     "prompt_number": 141
    },
    {
     "cell_type": "code",
     "collapsed": false,
     "input": [
      "error_peaks"
     ],
     "language": "python",
     "metadata": {},
     "outputs": [
      {
       "html": [
        "<div style=\"max-height:1000px;max-width:1500px;overflow:auto;\">\n",
        "<table border=\"1\" class=\"dataframe\">\n",
        "  <thead>\n",
        "    <tr style=\"text-align: right;\">\n",
        "      <th></th>\n",
        "      <th>error</th>\n",
        "    </tr>\n",
        "    <tr>\n",
        "      <th>frameNum</th>\n",
        "      <th></th>\n",
        "    </tr>\n",
        "  </thead>\n",
        "  <tbody>\n",
        "    <tr>\n",
        "      <th>2735 </th>\n",
        "      <td> 0.749538</td>\n",
        "    </tr>\n",
        "    <tr>\n",
        "      <th>2739 </th>\n",
        "      <td> 0.708729</td>\n",
        "    </tr>\n",
        "    <tr>\n",
        "      <th>2749 </th>\n",
        "      <td> 0.827773</td>\n",
        "    </tr>\n",
        "    <tr>\n",
        "      <th>2750 </th>\n",
        "      <td> 0.815819</td>\n",
        "    </tr>\n",
        "    <tr>\n",
        "      <th>2751 </th>\n",
        "      <td> 0.887679</td>\n",
        "    </tr>\n",
        "    <tr>\n",
        "      <th>2752 </th>\n",
        "      <td> 0.877200</td>\n",
        "    </tr>\n",
        "    <tr>\n",
        "      <th>2754 </th>\n",
        "      <td> 0.877856</td>\n",
        "    </tr>\n",
        "    <tr>\n",
        "      <th>2755 </th>\n",
        "      <td> 0.881030</td>\n",
        "    </tr>\n",
        "    <tr>\n",
        "      <th>2756 </th>\n",
        "      <td> 0.718276</td>\n",
        "    </tr>\n",
        "    <tr>\n",
        "      <th>2761 </th>\n",
        "      <td> 0.843636</td>\n",
        "    </tr>\n",
        "    <tr>\n",
        "      <th>2763 </th>\n",
        "      <td> 0.816362</td>\n",
        "    </tr>\n",
        "    <tr>\n",
        "      <th>15309</th>\n",
        "      <td> 0.713665</td>\n",
        "    </tr>\n",
        "    <tr>\n",
        "      <th>15312</th>\n",
        "      <td> 0.782880</td>\n",
        "    </tr>\n",
        "    <tr>\n",
        "      <th>15315</th>\n",
        "      <td> 0.835225</td>\n",
        "    </tr>\n",
        "    <tr>\n",
        "      <th>15317</th>\n",
        "      <td> 0.708683</td>\n",
        "    </tr>\n",
        "    <tr>\n",
        "      <th>15318</th>\n",
        "      <td> 0.741129</td>\n",
        "    </tr>\n",
        "    <tr>\n",
        "      <th>15319</th>\n",
        "      <td> 0.744788</td>\n",
        "    </tr>\n",
        "    <tr>\n",
        "      <th>15320</th>\n",
        "      <td> 1.119173</td>\n",
        "    </tr>\n",
        "    <tr>\n",
        "      <th>15323</th>\n",
        "      <td> 1.166529</td>\n",
        "    </tr>\n",
        "    <tr>\n",
        "      <th>15324</th>\n",
        "      <td> 1.469637</td>\n",
        "    </tr>\n",
        "    <tr>\n",
        "      <th>15325</th>\n",
        "      <td> 1.514475</td>\n",
        "    </tr>\n",
        "    <tr>\n",
        "      <th>15326</th>\n",
        "      <td> 1.613668</td>\n",
        "    </tr>\n",
        "    <tr>\n",
        "      <th>15327</th>\n",
        "      <td> 1.780761</td>\n",
        "    </tr>\n",
        "    <tr>\n",
        "      <th>15328</th>\n",
        "      <td> 1.968204</td>\n",
        "    </tr>\n",
        "    <tr>\n",
        "      <th>15329</th>\n",
        "      <td> 1.781551</td>\n",
        "    </tr>\n",
        "    <tr>\n",
        "      <th>15330</th>\n",
        "      <td> 1.562285</td>\n",
        "    </tr>\n",
        "    <tr>\n",
        "      <th>15331</th>\n",
        "      <td> 1.457072</td>\n",
        "    </tr>\n",
        "    <tr>\n",
        "      <th>15332</th>\n",
        "      <td> 1.454188</td>\n",
        "    </tr>\n",
        "    <tr>\n",
        "      <th>15334</th>\n",
        "      <td> 1.367426</td>\n",
        "    </tr>\n",
        "    <tr>\n",
        "      <th>15335</th>\n",
        "      <td> 1.338082</td>\n",
        "    </tr>\n",
        "    <tr>\n",
        "      <th>...</th>\n",
        "      <td>...</td>\n",
        "    </tr>\n",
        "    <tr>\n",
        "      <th>60783</th>\n",
        "      <td> 1.310464</td>\n",
        "    </tr>\n",
        "    <tr>\n",
        "      <th>60784</th>\n",
        "      <td> 1.272679</td>\n",
        "    </tr>\n",
        "    <tr>\n",
        "      <th>60799</th>\n",
        "      <td> 1.441631</td>\n",
        "    </tr>\n",
        "    <tr>\n",
        "      <th>60804</th>\n",
        "      <td> 1.485530</td>\n",
        "    </tr>\n",
        "    <tr>\n",
        "      <th>60852</th>\n",
        "      <td> 1.490027</td>\n",
        "    </tr>\n",
        "    <tr>\n",
        "      <th>61198</th>\n",
        "      <td> 1.491295</td>\n",
        "    </tr>\n",
        "    <tr>\n",
        "      <th>61441</th>\n",
        "      <td> 1.488992</td>\n",
        "    </tr>\n",
        "    <tr>\n",
        "      <th>61475</th>\n",
        "      <td> 1.535911</td>\n",
        "    </tr>\n",
        "    <tr>\n",
        "      <th>61505</th>\n",
        "      <td> 0.812058</td>\n",
        "    </tr>\n",
        "    <tr>\n",
        "      <th>61878</th>\n",
        "      <td> 0.780288</td>\n",
        "    </tr>\n",
        "    <tr>\n",
        "      <th>63087</th>\n",
        "      <td> 0.707219</td>\n",
        "    </tr>\n",
        "    <tr>\n",
        "      <th>63088</th>\n",
        "      <td> 0.803502</td>\n",
        "    </tr>\n",
        "    <tr>\n",
        "      <th>63089</th>\n",
        "      <td> 0.813944</td>\n",
        "    </tr>\n",
        "    <tr>\n",
        "      <th>63900</th>\n",
        "      <td> 0.730782</td>\n",
        "    </tr>\n",
        "    <tr>\n",
        "      <th>63904</th>\n",
        "      <td> 0.706898</td>\n",
        "    </tr>\n",
        "    <tr>\n",
        "      <th>63908</th>\n",
        "      <td> 0.742537</td>\n",
        "    </tr>\n",
        "    <tr>\n",
        "      <th>64269</th>\n",
        "      <td> 0.744035</td>\n",
        "    </tr>\n",
        "    <tr>\n",
        "      <th>64270</th>\n",
        "      <td> 0.703627</td>\n",
        "    </tr>\n",
        "    <tr>\n",
        "      <th>64275</th>\n",
        "      <td> 0.705972</td>\n",
        "    </tr>\n",
        "    <tr>\n",
        "      <th>64276</th>\n",
        "      <td> 0.732410</td>\n",
        "    </tr>\n",
        "    <tr>\n",
        "      <th>64547</th>\n",
        "      <td> 0.948962</td>\n",
        "    </tr>\n",
        "    <tr>\n",
        "      <th>64548</th>\n",
        "      <td> 0.950330</td>\n",
        "    </tr>\n",
        "    <tr>\n",
        "      <th>64551</th>\n",
        "      <td> 0.951660</td>\n",
        "    </tr>\n",
        "    <tr>\n",
        "      <th>64552</th>\n",
        "      <td> 0.901321</td>\n",
        "    </tr>\n",
        "    <tr>\n",
        "      <th>64556</th>\n",
        "      <td> 0.952328</td>\n",
        "    </tr>\n",
        "    <tr>\n",
        "      <th>64559</th>\n",
        "      <td> 0.903784</td>\n",
        "    </tr>\n",
        "    <tr>\n",
        "      <th>64560</th>\n",
        "      <td> 0.898855</td>\n",
        "    </tr>\n",
        "    <tr>\n",
        "      <th>64569</th>\n",
        "      <td> 0.895193</td>\n",
        "    </tr>\n",
        "    <tr>\n",
        "      <th>64573</th>\n",
        "      <td> 0.942621</td>\n",
        "    </tr>\n",
        "    <tr>\n",
        "      <th>64575</th>\n",
        "      <td> 0.905195</td>\n",
        "    </tr>\n",
        "  </tbody>\n",
        "</table>\n",
        "<p>388 rows \u00d7 1 columns</p>\n",
        "</div>"
       ],
       "metadata": {},
       "output_type": "pyout",
       "prompt_number": 142,
       "text": [
        "             error\n",
        "frameNum          \n",
        "2735      0.749538\n",
        "2739      0.708729\n",
        "2749      0.827773\n",
        "2750      0.815819\n",
        "2751      0.887679\n",
        "2752      0.877200\n",
        "2754      0.877856\n",
        "2755      0.881030\n",
        "2756      0.718276\n",
        "2761      0.843636\n",
        "2763      0.816362\n",
        "15309     0.713665\n",
        "15312     0.782880\n",
        "15315     0.835225\n",
        "15317     0.708683\n",
        "15318     0.741129\n",
        "15319     0.744788\n",
        "15320     1.119173\n",
        "15323     1.166529\n",
        "15324     1.469637\n",
        "15325     1.514475\n",
        "15326     1.613668\n",
        "15327     1.780761\n",
        "15328     1.968204\n",
        "15329     1.781551\n",
        "15330     1.562285\n",
        "15331     1.457072\n",
        "15332     1.454188\n",
        "15334     1.367426\n",
        "15335     1.338082\n",
        "...            ...\n",
        "60783     1.310464\n",
        "60784     1.272679\n",
        "60799     1.441631\n",
        "60804     1.485530\n",
        "60852     1.490027\n",
        "61198     1.491295\n",
        "61441     1.488992\n",
        "61475     1.535911\n",
        "61505     0.812058\n",
        "61878     0.780288\n",
        "63087     0.707219\n",
        "63088     0.803502\n",
        "63089     0.813944\n",
        "63900     0.730782\n",
        "63904     0.706898\n",
        "63908     0.742537\n",
        "64269     0.744035\n",
        "64270     0.703627\n",
        "64275     0.705972\n",
        "64276     0.732410\n",
        "64547     0.948962\n",
        "64548     0.950330\n",
        "64551     0.951660\n",
        "64552     0.901321\n",
        "64556     0.952328\n",
        "64559     0.903784\n",
        "64560     0.898855\n",
        "64569     0.895193\n",
        "64573     0.942621\n",
        "64575     0.905195\n",
        "\n",
        "[388 rows x 1 columns]"
       ]
      }
     ],
     "prompt_number": 142
    },
    {
     "cell_type": "heading",
     "level": 3,
     "metadata": {},
     "source": [
      "Now let's go over all the groundtruth intervals and find which ones have unusual peaks."
     ]
    },
    {
     "cell_type": "code",
     "collapsed": false,
     "input": [
      "result = pandas.DataFrame({\n",
      "                'start': pandas.Series(groundtruth[:,0]),\n",
      "                'end':  pandas.Series(groundtruth[:,1]),\n",
      "                'raw_reference': pandas.Series(groundtruth[:,2]),\n",
      "})\n",
      "\n",
      "detected = []\n",
      "for start, end, value in groundtruth:\n",
      "    detected_value = len(error_peaks[(error_peaks.index > start) & (error_peaks.index < end)])\n",
      "    detected.append(detected_value)\n",
      "\n",
      "detection = pandas.Series(detected, index=result.index)\n",
      "\n",
      "result['raw_detection'] = detection\n",
      "result['reference'] = [x==0 for x in result.raw_reference]\n",
      "result['detection'] = [x==0 for x in result.raw_detection]"
     ],
     "language": "python",
     "metadata": {},
     "outputs": [],
     "prompt_number": 143
    },
    {
     "cell_type": "code",
     "collapsed": false,
     "input": [
      "result"
     ],
     "language": "python",
     "metadata": {},
     "outputs": [
      {
       "html": [
        "<div style=\"max-height:1000px;max-width:1500px;overflow:auto;\">\n",
        "<table border=\"1\" class=\"dataframe\">\n",
        "  <thead>\n",
        "    <tr style=\"text-align: right;\">\n",
        "      <th></th>\n",
        "      <th>end</th>\n",
        "      <th>raw_reference</th>\n",
        "      <th>start</th>\n",
        "      <th>raw_detection</th>\n",
        "      <th>reference</th>\n",
        "      <th>detection</th>\n",
        "    </tr>\n",
        "  </thead>\n",
        "  <tbody>\n",
        "    <tr>\n",
        "      <th>0 </th>\n",
        "      <td>   780</td>\n",
        "      <td> 0</td>\n",
        "      <td>   550</td>\n",
        "      <td>  0</td>\n",
        "      <td>  True</td>\n",
        "      <td>  True</td>\n",
        "    </tr>\n",
        "    <tr>\n",
        "      <th>1 </th>\n",
        "      <td>  2855</td>\n",
        "      <td> 0</td>\n",
        "      <td>  2310</td>\n",
        "      <td> 11</td>\n",
        "      <td>  True</td>\n",
        "      <td> False</td>\n",
        "    </tr>\n",
        "    <tr>\n",
        "      <th>2 </th>\n",
        "      <td>  3790</td>\n",
        "      <td> 0</td>\n",
        "      <td>  3730</td>\n",
        "      <td>  0</td>\n",
        "      <td>  True</td>\n",
        "      <td>  True</td>\n",
        "    </tr>\n",
        "    <tr>\n",
        "      <th>3 </th>\n",
        "      <td>  5570</td>\n",
        "      <td> 0</td>\n",
        "      <td>  4925</td>\n",
        "      <td>  0</td>\n",
        "      <td>  True</td>\n",
        "      <td>  True</td>\n",
        "    </tr>\n",
        "    <tr>\n",
        "      <th>4 </th>\n",
        "      <td>  5750</td>\n",
        "      <td> 0</td>\n",
        "      <td>  5650</td>\n",
        "      <td>  0</td>\n",
        "      <td>  True</td>\n",
        "      <td>  True</td>\n",
        "    </tr>\n",
        "    <tr>\n",
        "      <th>5 </th>\n",
        "      <td>  9710</td>\n",
        "      <td> 0</td>\n",
        "      <td>  9680</td>\n",
        "      <td>  0</td>\n",
        "      <td>  True</td>\n",
        "      <td>  True</td>\n",
        "    </tr>\n",
        "    <tr>\n",
        "      <th>6 </th>\n",
        "      <td> 12500</td>\n",
        "      <td> 0</td>\n",
        "      <td> 12370</td>\n",
        "      <td>  0</td>\n",
        "      <td>  True</td>\n",
        "      <td>  True</td>\n",
        "    </tr>\n",
        "    <tr>\n",
        "      <th>7 </th>\n",
        "      <td> 14070</td>\n",
        "      <td> 0</td>\n",
        "      <td> 14020</td>\n",
        "      <td>  0</td>\n",
        "      <td>  True</td>\n",
        "      <td>  True</td>\n",
        "    </tr>\n",
        "    <tr>\n",
        "      <th>8 </th>\n",
        "      <td> 14816</td>\n",
        "      <td> 0</td>\n",
        "      <td> 14760</td>\n",
        "      <td>  0</td>\n",
        "      <td>  True</td>\n",
        "      <td>  True</td>\n",
        "    </tr>\n",
        "    <tr>\n",
        "      <th>9 </th>\n",
        "      <td> 15500</td>\n",
        "      <td> 1</td>\n",
        "      <td> 15290</td>\n",
        "      <td> 22</td>\n",
        "      <td> False</td>\n",
        "      <td> False</td>\n",
        "    </tr>\n",
        "    <tr>\n",
        "      <th>10</th>\n",
        "      <td> 15945</td>\n",
        "      <td> 0</td>\n",
        "      <td> 15815</td>\n",
        "      <td>  0</td>\n",
        "      <td>  True</td>\n",
        "      <td>  True</td>\n",
        "    </tr>\n",
        "    <tr>\n",
        "      <th>11</th>\n",
        "      <td> 17770</td>\n",
        "      <td> 1</td>\n",
        "      <td> 17340</td>\n",
        "      <td>  0</td>\n",
        "      <td> False</td>\n",
        "      <td>  True</td>\n",
        "    </tr>\n",
        "    <tr>\n",
        "      <th>12</th>\n",
        "      <td> 18970</td>\n",
        "      <td> 1</td>\n",
        "      <td> 18150</td>\n",
        "      <td>  0</td>\n",
        "      <td> False</td>\n",
        "      <td>  True</td>\n",
        "    </tr>\n",
        "    <tr>\n",
        "      <th>13</th>\n",
        "      <td> 19450</td>\n",
        "      <td> 1</td>\n",
        "      <td> 18970</td>\n",
        "      <td>  0</td>\n",
        "      <td> False</td>\n",
        "      <td>  True</td>\n",
        "    </tr>\n",
        "    <tr>\n",
        "      <th>14</th>\n",
        "      <td> 19950</td>\n",
        "      <td> 0</td>\n",
        "      <td> 19875</td>\n",
        "      <td>  0</td>\n",
        "      <td>  True</td>\n",
        "      <td>  True</td>\n",
        "    </tr>\n",
        "    <tr>\n",
        "      <th>15</th>\n",
        "      <td> 20225</td>\n",
        "      <td> 0</td>\n",
        "      <td> 20170</td>\n",
        "      <td>  0</td>\n",
        "      <td>  True</td>\n",
        "      <td>  True</td>\n",
        "    </tr>\n",
        "    <tr>\n",
        "      <th>16</th>\n",
        "      <td> 20738</td>\n",
        "      <td> 1</td>\n",
        "      <td> 20560</td>\n",
        "      <td>  0</td>\n",
        "      <td> False</td>\n",
        "      <td>  True</td>\n",
        "    </tr>\n",
        "    <tr>\n",
        "      <th>17</th>\n",
        "      <td> 21805</td>\n",
        "      <td> 0</td>\n",
        "      <td> 21760</td>\n",
        "      <td>  0</td>\n",
        "      <td>  True</td>\n",
        "      <td>  True</td>\n",
        "    </tr>\n",
        "    <tr>\n",
        "      <th>18</th>\n",
        "      <td> 23610</td>\n",
        "      <td> 0</td>\n",
        "      <td> 22830</td>\n",
        "      <td>  0</td>\n",
        "      <td>  True</td>\n",
        "      <td>  True</td>\n",
        "    </tr>\n",
        "    <tr>\n",
        "      <th>19</th>\n",
        "      <td> 24255</td>\n",
        "      <td> 1</td>\n",
        "      <td> 24020</td>\n",
        "      <td>  0</td>\n",
        "      <td> False</td>\n",
        "      <td>  True</td>\n",
        "    </tr>\n",
        "    <tr>\n",
        "      <th>20</th>\n",
        "      <td> 37267</td>\n",
        "      <td> 0</td>\n",
        "      <td> 37185</td>\n",
        "      <td>  0</td>\n",
        "      <td>  True</td>\n",
        "      <td>  True</td>\n",
        "    </tr>\n",
        "    <tr>\n",
        "      <th>21</th>\n",
        "      <td> 38005</td>\n",
        "      <td> 0</td>\n",
        "      <td> 37940</td>\n",
        "      <td>  0</td>\n",
        "      <td>  True</td>\n",
        "      <td>  True</td>\n",
        "    </tr>\n",
        "    <tr>\n",
        "      <th>22</th>\n",
        "      <td> 41750</td>\n",
        "      <td> 1</td>\n",
        "      <td> 40710</td>\n",
        "      <td> 74</td>\n",
        "      <td> False</td>\n",
        "      <td> False</td>\n",
        "    </tr>\n",
        "    <tr>\n",
        "      <th>23</th>\n",
        "      <td> 47505</td>\n",
        "      <td> 0</td>\n",
        "      <td> 47020</td>\n",
        "      <td> 30</td>\n",
        "      <td>  True</td>\n",
        "      <td> False</td>\n",
        "    </tr>\n",
        "    <tr>\n",
        "      <th>24</th>\n",
        "      <td> 47910</td>\n",
        "      <td> 1</td>\n",
        "      <td> 47670</td>\n",
        "      <td>  3</td>\n",
        "      <td> False</td>\n",
        "      <td> False</td>\n",
        "    </tr>\n",
        "    <tr>\n",
        "      <th>25</th>\n",
        "      <td> 49280</td>\n",
        "      <td> 0</td>\n",
        "      <td> 49230</td>\n",
        "      <td>  0</td>\n",
        "      <td>  True</td>\n",
        "      <td>  True</td>\n",
        "    </tr>\n",
        "    <tr>\n",
        "      <th>26</th>\n",
        "      <td> 50680</td>\n",
        "      <td> 1</td>\n",
        "      <td> 50365</td>\n",
        "      <td> 40</td>\n",
        "      <td> False</td>\n",
        "      <td> False</td>\n",
        "    </tr>\n",
        "    <tr>\n",
        "      <th>27</th>\n",
        "      <td> 51295</td>\n",
        "      <td> 1</td>\n",
        "      <td> 50940</td>\n",
        "      <td> 34</td>\n",
        "      <td> False</td>\n",
        "      <td> False</td>\n",
        "    </tr>\n",
        "    <tr>\n",
        "      <th>28</th>\n",
        "      <td> 52395</td>\n",
        "      <td> 0</td>\n",
        "      <td> 52230</td>\n",
        "      <td>  9</td>\n",
        "      <td>  True</td>\n",
        "      <td> False</td>\n",
        "    </tr>\n",
        "    <tr>\n",
        "      <th>29</th>\n",
        "      <td> 53050</td>\n",
        "      <td> 1</td>\n",
        "      <td> 52765</td>\n",
        "      <td>  0</td>\n",
        "      <td> False</td>\n",
        "      <td>  True</td>\n",
        "    </tr>\n",
        "    <tr>\n",
        "      <th>30</th>\n",
        "      <td> 53425</td>\n",
        "      <td> 0</td>\n",
        "      <td> 53330</td>\n",
        "      <td>  0</td>\n",
        "      <td>  True</td>\n",
        "      <td>  True</td>\n",
        "    </tr>\n",
        "    <tr>\n",
        "      <th>31</th>\n",
        "      <td> 54475</td>\n",
        "      <td> 1</td>\n",
        "      <td> 54375</td>\n",
        "      <td>  0</td>\n",
        "      <td> False</td>\n",
        "      <td>  True</td>\n",
        "    </tr>\n",
        "    <tr>\n",
        "      <th>32</th>\n",
        "      <td> 56065</td>\n",
        "      <td> 1</td>\n",
        "      <td> 55315</td>\n",
        "      <td> 17</td>\n",
        "      <td> False</td>\n",
        "      <td> False</td>\n",
        "    </tr>\n",
        "    <tr>\n",
        "      <th>33</th>\n",
        "      <td> 57615</td>\n",
        "      <td> 0</td>\n",
        "      <td> 57120</td>\n",
        "      <td> 17</td>\n",
        "      <td>  True</td>\n",
        "      <td> False</td>\n",
        "    </tr>\n",
        "    <tr>\n",
        "      <th>34</th>\n",
        "      <td> 62195</td>\n",
        "      <td> 1</td>\n",
        "      <td> 59110</td>\n",
        "      <td> 92</td>\n",
        "      <td> False</td>\n",
        "      <td> False</td>\n",
        "    </tr>\n",
        "  </tbody>\n",
        "</table>\n",
        "</div>"
       ],
       "metadata": {},
       "output_type": "pyout",
       "prompt_number": 144,
       "text": [
        "      end  raw_reference  start  raw_detection reference detection\n",
        "0     780              0    550              0      True      True\n",
        "1    2855              0   2310             11      True     False\n",
        "2    3790              0   3730              0      True      True\n",
        "3    5570              0   4925              0      True      True\n",
        "4    5750              0   5650              0      True      True\n",
        "5    9710              0   9680              0      True      True\n",
        "6   12500              0  12370              0      True      True\n",
        "7   14070              0  14020              0      True      True\n",
        "8   14816              0  14760              0      True      True\n",
        "9   15500              1  15290             22     False     False\n",
        "10  15945              0  15815              0      True      True\n",
        "11  17770              1  17340              0     False      True\n",
        "12  18970              1  18150              0     False      True\n",
        "13  19450              1  18970              0     False      True\n",
        "14  19950              0  19875              0      True      True\n",
        "15  20225              0  20170              0      True      True\n",
        "16  20738              1  20560              0     False      True\n",
        "17  21805              0  21760              0      True      True\n",
        "18  23610              0  22830              0      True      True\n",
        "19  24255              1  24020              0     False      True\n",
        "20  37267              0  37185              0      True      True\n",
        "21  38005              0  37940              0      True      True\n",
        "22  41750              1  40710             74     False     False\n",
        "23  47505              0  47020             30      True     False\n",
        "24  47910              1  47670              3     False     False\n",
        "25  49280              0  49230              0      True      True\n",
        "26  50680              1  50365             40     False     False\n",
        "27  51295              1  50940             34     False     False\n",
        "28  52395              0  52230              9      True     False\n",
        "29  53050              1  52765              0     False      True\n",
        "30  53425              0  53330              0      True      True\n",
        "31  54475              1  54375              0     False      True\n",
        "32  56065              1  55315             17     False     False\n",
        "33  57615              0  57120             17      True     False\n",
        "34  62195              1  59110             92     False     False"
       ]
      }
     ],
     "prompt_number": 144
    },
    {
     "cell_type": "code",
     "collapsed": false,
     "input": [
      "from sklearn.metrics import precision_recall_curve\n",
      "from sklearn.metrics import average_precision_score"
     ],
     "language": "python",
     "metadata": {},
     "outputs": [],
     "prompt_number": 145
    },
    {
     "cell_type": "code",
     "collapsed": false,
     "input": [
      "average_precision = average_precision_score(result.raw_reference, result.raw_detection)"
     ],
     "language": "python",
     "metadata": {},
     "outputs": [],
     "prompt_number": 146
    },
    {
     "cell_type": "code",
     "collapsed": false,
     "input": [
      "precision, recall, th = precision_recall_curve(result.raw_reference, result.raw_detection)"
     ],
     "language": "python",
     "metadata": {},
     "outputs": [],
     "prompt_number": 147
    },
    {
     "cell_type": "code",
     "collapsed": false,
     "input": [
      "# Plot Precision-Recall curve\n",
      "plt.clf()\n",
      "plt.plot(recall, precision, label='Precision-Recall curve')\n",
      "plt.xlabel('Recall')\n",
      "plt.ylabel('Precision')\n",
      "plt.ylim([0.0, 1.05])\n",
      "plt.xlim([0.0, 1.0])\n",
      "plt.title('Precision-Recall example: AUC={0:0.2f}'.format(average_precision))\n",
      "plt.legend(loc=\"upper right\")\n",
      "plt.show()"
     ],
     "language": "python",
     "metadata": {},
     "outputs": [
      {
       "metadata": {},
       "output_type": "display_data",
       "png": "[encoded data removed]",
       "text": [
        "<matplotlib.figure.Figure at 0x7f48c4b03310>"
       ]
      }
     ],
     "prompt_number": 148
    },
    {
     "cell_type": "code",
     "collapsed": false,
     "input": [
      "average_precision"
     ],
     "language": "python",
     "metadata": {},
     "outputs": [
      {
       "metadata": {},
       "output_type": "pyout",
       "prompt_number": 149,
       "text": [
        "0.70384199134199121"
       ]
      }
     ],
     "prompt_number": 149
    },
    {
     "cell_type": "code",
     "collapsed": false,
     "input": [
      "th"
     ],
     "language": "python",
     "metadata": {},
     "outputs": [
      {
       "metadata": {},
       "output_type": "pyout",
       "prompt_number": 150,
       "text": [
        "array([ 0,  3,  9, 11, 17, 22, 30, 34, 40, 74, 92])"
       ]
      }
     ],
     "prompt_number": 150
    },
    {
     "cell_type": "code",
     "collapsed": false,
     "input": [
      "code"
     ],
     "language": "python",
     "metadata": {},
     "outputs": [
      {
       "metadata": {},
       "output_type": "pyout",
       "prompt_number": 151,
       "text": [
        "array([[ 0.        , -0.8013227 ,  0.        , ...,  0.        ,\n",
        "         0.        ,  0.        ],\n",
        "       [-0.9707785 ,  2.4298817 ,  0.        , ...,  0.        ,\n",
        "        -0.85879627,  0.        ],\n",
        "       [ 0.        ,  0.        ,  0.        , ...,  0.        ,\n",
        "         0.        ,  0.        ],\n",
        "       ..., \n",
        "       [ 0.        ,  8.3818989 ,  0.        , ...,  0.        ,\n",
        "        -0.54558284,  0.        ],\n",
        "       [-2.23410355,  4.11884667,  0.        , ...,  0.        ,\n",
        "        -1.41229993,  0.90624944],\n",
        "       [-2.30645116,  1.25073739,  0.        , ...,  0.        ,\n",
        "         0.        ,  0.        ]])"
       ]
      }
     ],
     "prompt_number": 151
    },
    {
     "cell_type": "code",
     "collapsed": false,
     "input": [
      "code"
     ],
     "language": "python",
     "metadata": {},
     "outputs": [
      {
       "metadata": {},
       "output_type": "pyout",
       "prompt_number": 153,
       "text": [
        "array([[ 0.        , -0.8013227 ,  0.        , ...,  0.        ,\n",
        "         0.        ,  0.        ],\n",
        "       [-0.9707785 ,  2.4298817 ,  0.        , ...,  0.        ,\n",
        "        -0.85879627,  0.        ],\n",
        "       [ 0.        ,  0.        ,  0.        , ...,  0.        ,\n",
        "         0.        ,  0.        ],\n",
        "       ..., \n",
        "       [ 0.        ,  8.3818989 ,  0.        , ...,  0.        ,\n",
        "        -0.54558284,  0.        ],\n",
        "       [-2.23410355,  4.11884667,  0.        , ...,  0.        ,\n",
        "        -1.41229993,  0.90624944],\n",
        "       [-2.30645116,  1.25073739,  0.        , ...,  0.        ,\n",
        "         0.        ,  0.        ]])"
       ]
      }
     ],
     "prompt_number": 153
    },
    {
     "cell_type": "code",
     "collapsed": false,
     "input": [
      "code[0,:].shape"
     ],
     "language": "python",
     "metadata": {},
     "outputs": [
      {
       "metadata": {},
       "output_type": "pyout",
       "prompt_number": 165,
       "text": [
        "(50,)"
       ]
      }
     ],
     "prompt_number": 165
    },
    {
     "cell_type": "code",
     "collapsed": false,
     "input": [
      "d"
     ],
     "language": "python",
     "metadata": {},
     "outputs": [
      {
       "metadata": {},
       "output_type": "pyout",
       "prompt_number": 171,
       "text": [
        "array([[ 1.15298172,  0.41756539, -0.05576615, ...,  0.41065883,\n",
        "         1.1473738 ,  0.57777271],\n",
        "       [-0.74900057, -0.62103905, -0.16860634, ...,  1.87594369,\n",
        "         2.02448914,  1.11687276],\n",
        "       [-0.24000406,  0.0274623 ,  0.3547094 , ...,  0.26470987,\n",
        "         0.60176305,  0.22002843],\n",
        "       ..., \n",
        "       [-0.88274681, -0.7537622 , -0.51299482, ...,  0.87664171,\n",
        "         0.64547545,  0.37319991],\n",
        "       [-0.89994926, -0.86166551, -0.73325172, ...,  1.12243651,\n",
        "         0.88892126,  1.29878849],\n",
        "       [-0.65950195, -0.05921683, -0.20670354, ...,  1.21256655,\n",
        "         0.39488219,  0.2652215 ]])"
       ]
      }
     ],
     "prompt_number": 171
    },
    {
     "cell_type": "code",
     "collapsed": false,
     "input": [
      "from admm.lasso import lasso_cost"
     ],
     "language": "python",
     "metadata": {},
     "outputs": [],
     "prompt_number": 157
    },
    {
     "cell_type": "code",
     "collapsed": false,
     "input": [
      "lasso_cost?"
     ],
     "language": "python",
     "metadata": {},
     "outputs": [],
     "prompt_number": 158
    },
    {
     "cell_type": "code",
     "collapsed": false,
     "input": [
      "dictionary.shape"
     ],
     "language": "python",
     "metadata": {},
     "outputs": [
      {
       "metadata": {},
       "output_type": "pyout",
       "prompt_number": 159,
       "text": [
        "(50, 192)"
       ]
      }
     ],
     "prompt_number": 159
    },
    {
     "cell_type": "code",
     "collapsed": false,
     "input": [
      "cost = [lasso_cost(d[x,:], dictionary.T, code[x,:], 1) for x in range(code.shape[0])]"
     ],
     "language": "python",
     "metadata": {},
     "outputs": [],
     "prompt_number": 179
    },
    {
     "cell_type": "code",
     "collapsed": false,
     "input": [
      "len(cost)"
     ],
     "language": "python",
     "metadata": {},
     "outputs": [
      {
       "metadata": {},
       "output_type": "pyout",
       "prompt_number": 181,
       "text": [
        "194235"
       ]
      }
     ],
     "prompt_number": 181
    },
    {
     "cell_type": "code",
     "collapsed": false,
     "input": [
      "plt.plot(cost)"
     ],
     "language": "python",
     "metadata": {},
     "outputs": [
      {
       "metadata": {},
       "output_type": "pyout",
       "prompt_number": 183,
       "text": [
        "[<matplotlib.lines.Line2D at 0x7f48c3a07f10>]"
       ]
      },
      {
       "metadata": {},
       "output_type": "display_data",
       "png": "[encoded data removed]",
       "text": [
        "<matplotlib.figure.Figure at 0x7f48c3a12e10>"
       ]
      }
     ],
     "prompt_number": 183
    },
    {
     "cell_type": "code",
     "collapsed": false,
     "input": [],
     "language": "python",
     "metadata": {},
     "outputs": []
    }
   ],
   "metadata": {}
  }
 ]
}