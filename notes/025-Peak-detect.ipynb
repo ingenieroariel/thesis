{
 "metadata": {
  "name": "",
  "signature": "sha256:bd9293e1cc7bb11245d6266c6284e76c78f4acaeb0414044707dcfed5574610a"
 },
 "nbformat": 3,
 "nbformat_minor": 0,
 "worksheets": [
  {
   "cells": [
    {
     "cell_type": "code",
     "collapsed": false,
     "input": [
      "import numpy as np\n",
      "from math import pi, log\n",
      "import pylab\n",
      "from scipy import fft, ifft\n",
      "from scipy.optimize import curve_fit\n",
      " \n",
      "i = 10000\n",
      "x = np.linspace(0, 3.5 * pi, i)\n",
      "y = (0.3*np.sin(x) + np.sin(1.3 * x) + 0.9 * np.sin(4.2 * x) + 0.06 *\n",
      "    np.random.randn(i))\n",
      " \n",
      " \n",
      "def _datacheck_peakdetect(x_axis, y_axis):\n",
      "    if x_axis is None:\n",
      "        x_axis = range(len(y_axis))\n",
      "    \n",
      "    if len(y_axis) != len(x_axis):\n",
      "        raise (ValueError, \n",
      "                'Input vectors y_axis and x_axis must have same length')\n",
      "    \n",
      "    #needs to be a numpy array\n",
      "    y_axis = np.array(y_axis)\n",
      "    x_axis = np.array(x_axis)\n",
      "    return x_axis, y_axis\n",
      "    \n",
      "\n",
      "    \n",
      "    \n",
      "def peakdetect(y_axis, x_axis = None, lookahead = 300, delta=0):\n",
      "    \"\"\"\n",
      "    Converted from/based on a MATLAB script at: \n",
      "    http://billauer.co.il/peakdet.html\n",
      "    \n",
      "    function for detecting local maximas and minmias in a signal.\n",
      "    Discovers peaks by searching for values which are surrounded by lower\n",
      "    or larger values for maximas and minimas respectively\n",
      "    \n",
      "    keyword arguments:\n",
      "    y_axis -- A list containg the signal over which to find peaks\n",
      "    x_axis -- (optional) A x-axis whose values correspond to the y_axis list\n",
      "        and is used in the return to specify the postion of the peaks. If\n",
      "        omitted an index of the y_axis is used. (default: None)\n",
      "    lookahead -- (optional) distance to look ahead from a peak candidate to\n",
      "        determine if it is the actual peak (default: 200) \n",
      "        '(sample / period) / f' where '4 >= f >= 1.25' might be a good value\n",
      "    delta -- (optional) this specifies a minimum difference between a peak and\n",
      "        the following points, before a peak may be considered a peak. Useful\n",
      "        to hinder the function from picking up false peaks towards to end of\n",
      "        the signal. To work well delta should be set to delta >= RMSnoise * 5.\n",
      "        (default: 0)\n",
      "            delta function causes a 20% decrease in speed, when omitted\n",
      "            Correctly used it can double the speed of the function\n",
      "    \n",
      "    return -- two lists [max_peaks, min_peaks] containing the positive and\n",
      "        negative peaks respectively. Each cell of the lists contains a tupple\n",
      "        of: (position, peak_value) \n",
      "        to get the average peak value do: np.mean(max_peaks, 0)[1] on the\n",
      "        results to unpack one of the lists into x, y coordinates do: \n",
      "        x, y = zip(*tab)\n",
      "    \"\"\"\n",
      "    max_peaks = []\n",
      "    min_peaks = []\n",
      "    dump = []   #Used to pop the first hit which almost always is false\n",
      "       \n",
      "    # check input data\n",
      "    x_axis, y_axis = _datacheck_peakdetect(x_axis, y_axis)\n",
      "    # store data length for later use\n",
      "    length = len(y_axis)\n",
      "    \n",
      "    \n",
      "    #perform some checks\n",
      "    if lookahead < 1:\n",
      "        raise ValueError, \"Lookahead must be '1' or above in value\"\n",
      "    if not (np.isscalar(delta) and delta >= 0):\n",
      "        raise ValueError, \"delta must be a positive number\"\n",
      "    \n",
      "    #maxima and minima candidates are temporarily stored in\n",
      "    #mx and mn respectively\n",
      "    mn, mx = np.Inf, -np.Inf\n",
      "    \n",
      "    #Only detect peak if there is 'lookahead' amount of points after it\n",
      "    for index, (x, y) in enumerate(zip(x_axis[:-lookahead], \n",
      "                                        y_axis[:-lookahead])):\n",
      "        if y > mx:\n",
      "            mx = y\n",
      "            mxpos = x\n",
      "        if y < mn:\n",
      "            mn = y\n",
      "            mnpos = x\n",
      "        \n",
      "        ####look for max####\n",
      "        if y < mx-delta and mx != np.Inf:\n",
      "            #Maxima peak candidate found\n",
      "            #look ahead in signal to ensure that this is a peak and not jitter\n",
      "            if y_axis[index:index+lookahead].max() < mx:\n",
      "                max_peaks.append([mxpos, mx])\n",
      "                dump.append(True)\n",
      "                #set algorithm to only find minima now\n",
      "                mx = np.Inf\n",
      "                mn = np.Inf\n",
      "                if index+lookahead >= length:\n",
      "                    #end is within lookahead no more peaks can be found\n",
      "                    break\n",
      "                continue\n",
      "            #else:  #slows shit down this does\n",
      "            #    mx = ahead\n",
      "            #    mxpos = x_axis[np.where(y_axis[index:index+lookahead]==mx)]\n",
      "        \n",
      "        ####look for min####\n",
      "        if y > mn+delta and mn != -np.Inf:\n",
      "            #Minima peak candidate found \n",
      "            #look ahead in signal to ensure that this is a peak and not jitter\n",
      "            if y_axis[index:index+lookahead].min() > mn:\n",
      "                min_peaks.append([mnpos, mn])\n",
      "                dump.append(False)\n",
      "                #set algorithm to only find maxima now\n",
      "                mn = -np.Inf\n",
      "                mx = -np.Inf\n",
      "                if index+lookahead >= length:\n",
      "                    #end is within lookahead no more peaks can be found\n",
      "                    break\n",
      "            #else:  #slows shit down this does\n",
      "            #    mn = ahead\n",
      "            #    mnpos = x_axis[np.where(y_axis[index:index+lookahead]==mn)]\n",
      "    \n",
      "    \n",
      "    #Remove the false hit on the first value of the y_axis\n",
      "    try:\n",
      "        if dump[0]:\n",
      "            max_peaks.pop(0)\n",
      "        else:\n",
      "            min_peaks.pop(0)\n",
      "        del dump\n",
      "    except IndexError:\n",
      "        #no peaks were found, should the function return empty lists?\n",
      "        pass\n",
      "        \n",
      "    return [max_peaks, min_peaks]\n",
      "\n",
      "    \n",
      "if __name__ == \"__main__\":\n",
      "    from math import pi\n",
      "    import pylab\n",
      "    \n",
      "    i = 10000\n",
      "    x = np.linspace(0,3.7*pi,i)\n",
      "    y = (0.3*np.sin(x) + np.sin(1.3 * x) + 0.9 * np.sin(4.2 * x) + 0.06 * \n",
      "    np.random.randn(i))\n",
      "    y *= -1\n",
      "    \n",
      "    _max, _min = peakdetect(y, x, 750, 0.30)\n",
      "    xm = [p[0] for p in _max]\n",
      "    ym = [p[1] for p in _max]\n",
      "    xn = [p[0] for p in _min]\n",
      "    yn = [p[1] for p in _min]\n",
      "    \n",
      "    plot = pylab.plot(x, y)\n",
      "    pylab.hold(True)\n",
      "    pylab.plot(xm, ym, 'r+')\n",
      "    pylab.plot(xn, yn, 'g+')\n",
      "    \n",
      "    \n",
      "    pylab.show()"
     ],
     "language": "python",
     "metadata": {},
     "outputs": [
      {
       "metadata": {},
       "output_type": "display_data",
       "png": "[encoded data removed]",
       "text": [
        "<matplotlib.figure.Figure at 0x7f66bd36cf50>"
       ]
      }
     ],
     "prompt_number": 18
    },
    {
     "cell_type": "code",
     "collapsed": false,
     "input": [
      "trajectory_file = '/home/x/traj/exit-W10.txt'"
     ],
     "language": "python",
     "metadata": {},
     "outputs": [],
     "prompt_number": 19
    },
    {
     "cell_type": "code",
     "collapsed": false,
     "input": [
      "import pandas\n",
      "import numpy as np\n",
      "from pandas.io.parsers import read_csv\n",
      "\n",
      "metadata_fields = ['frameNum', 'mean_x', 'mean_y', 'var_x', 'var_y', 'length', 'scale', 'x_pos', 'y_pos', 't_pos']\n",
      "norm_trajectory_fields = ['norm_trajectory%s' % n for n in range(60)]\n",
      "trajectory_fields = ['trajectory%s' % n for n in range(60)]\n",
      "hog_fields = ['hog%s' % n for n in range(96)]\n",
      "hof_fields = ['hof%s' % n for n in range(108)]\n",
      "mbh_fields = ['mbh%s' % n for n in range(192)]\n",
      "\n",
      "fields = metadata_fields + norm_trajectory_fields + trajectory_fields + hog_fields + hof_fields + mbh_fields\n",
      "\n",
      "temp_data = read_csv(trajectory_file, delimiter='\\t', names=fields, index_col=False)"
     ],
     "language": "python",
     "metadata": {},
     "outputs": [],
     "prompt_number": 20
    },
    {
     "cell_type": "code",
     "collapsed": false,
     "input": [
      "data = pandas.concat([\n",
      "            temp_data.get(metadata_fields),\n",
      "            pandas.Series(temp_data.get(hog_fields).values.tolist(), index=temp_data.index, name='mbh'),\n",
      "            pandas.Series(temp_data.get(trajectory_fields).values.tolist(), index=temp_data.index, name='trajectory'),\n",
      "], axis=1)"
     ],
     "language": "python",
     "metadata": {},
     "outputs": [],
     "prompt_number": 21
    },
    {
     "cell_type": "code",
     "collapsed": false,
     "input": [
      "# Clear memory after having loaded that big file, we will create a slimmer version later\n",
      "%xdel temp_data"
     ],
     "language": "python",
     "metadata": {},
     "outputs": [],
     "prompt_number": 22
    },
    {
     "cell_type": "code",
     "collapsed": false,
     "input": [
      "mbh = np.array(data.mbh.values.tolist())\n",
      "trajectory = np.array(data.trajectory.values.tolist()).round()"
     ],
     "language": "python",
     "metadata": {},
     "outputs": [],
     "prompt_number": 23
    },
    {
     "cell_type": "code",
     "collapsed": false,
     "input": [
      "mbh_reference = mbh[:1000]\n",
      "intercept = mbh_reference.mean(axis=0)\n",
      "delta_reference =  mbh_reference - intercept\n",
      "deviation = delta_reference.std(axis=0)\n",
      "\n",
      "# Use the intercept and deviation from the initial values:\n",
      "delta = mbh - intercept\n",
      "d = delta / deviation"
     ],
     "language": "python",
     "metadata": {},
     "outputs": [],
     "prompt_number": 24
    },
    {
     "cell_type": "code",
     "collapsed": false,
     "input": [
      "from admm.dict_learning import MiniBatchDictionaryLearning"
     ],
     "language": "python",
     "metadata": {},
     "outputs": [],
     "prompt_number": 25
    },
    {
     "cell_type": "code",
     "collapsed": false,
     "input": [
      "def train(d, components=100, alpha=1, n_iter=100, method='lars', batch_size=3, train_ratio=1, train_scale=1):\n",
      "    dico = MiniBatchDictionaryLearning(n_components=components, alpha=alpha, n_iter=n_iter, batch_size=batch_size)\n",
      "\n",
      "    training_limit = int(np.floor(d.shape[0] * train_ratio))\n",
      "\n",
      "    for i in range(train_scale):    \n",
      "        dictionary = dico.fit(d[:training_limit]).components_\n",
      "\n",
      "    code = dico.transform(d)\n",
      "    patches = np.dot(code, dictionary)\n",
      "    error = ((d - patches) ** 2).mean(axis=1)\n",
      "    \n",
      "    return dictionary, code, error, dico"
     ],
     "language": "python",
     "metadata": {},
     "outputs": [],
     "prompt_number": 26
    },
    {
     "cell_type": "code",
     "collapsed": false,
     "input": [
      "import numpy as np\n",
      "import matplotlib as mpl\n",
      "import matplotlib.pylab as plt\n",
      "\n",
      "groundtruth = np.array( [\n",
      "[550, 780, 0],\n",
      "[2310, 2855, 0],\n",
      "[3730, 3790, 0],\n",
      "[4925, 5570, 0],\n",
      "[5650, 5750, 0],\n",
      "[9680, 9710, 0],\n",
      "[12370, 12500, 0],\n",
      "[14020, 14070, 0],\n",
      "[14760, 14816, 0],\n",
      "[15290, 15500, 1],\n",
      "[15815, 15945, 0],\n",
      "])"
     ],
     "language": "python",
     "metadata": {},
     "outputs": [],
     "prompt_number": 27
    },
    {
     "cell_type": "code",
     "collapsed": false,
     "input": [
      "def draw_groundtruth(y, xstart, xstop, color='b'):\n",
      "    \"\"\"Plot timelines at y from xstart to xstop with given color.\"\"\"   \n",
      "    plt.hlines(y, xstart, xstop, color, lw=4)\n",
      "    plt.vlines(xstart, y+ 0.03, y-0.03, color, lw=2)\n",
      "    plt.vlines(xstop, y+0.03, y-0.03, color, lw=2)"
     ],
     "language": "python",
     "metadata": {},
     "outputs": [],
     "prompt_number": 39
    },
    {
     "cell_type": "code",
     "collapsed": false,
     "input": [
      "def check(input_data, groundtruth, error_limit=0, STEP=8000):\n",
      "\n",
      "    frames = np.array(range(1, 16000))\n",
      "\n",
      "    frame_error = input_data[input_data.error > error_limit].get(['frameNum', 'error'])\n",
      "    # frame error sum\n",
      "    fes  = frame_error.groupby(by='frameNum').agg(np.sum)\n",
      "\n",
      "\n",
      "    for index in range(0, len(frames), STEP):\n",
      "\n",
      "        frames_vect = np.array(range(index, index + STEP+1))\n",
      "\n",
      "        values_vect = np.zeros(frames_vect.shape)\n",
      "\n",
      "        for frame, error in fes[(fes.index > index) & (fes.index < index+STEP)].itertuples():\n",
      "            values_vect[frame - index] = error\n",
      "\n",
      "        plt.figure()\n",
      "        gcf().set_figwidth(15)\n",
      "\n",
      "        YLIM = 50\n",
      "\n",
      "        plt.plot(frames_vect, values_vect, color='green', label='error sum')\n",
      "        hold()\n",
      "\n",
      "        for start, end, value in groundtruth:\n",
      "            color = 'red' if value == 1 else 'black'\n",
      "            height = YLIM * 0.7 if value == 1 else YLIM * 0.3\n",
      "            draw_groundtruth(height, start, end, color=color)        \n",
      "            draw_groundtruth(YLIM - height, start, end, color=color)        \n",
      "\n",
      "        title(\"Frames %s to %s\" % (index, index+STEP))\n",
      "\n",
      "        xlim(index, index + STEP)\n",
      "        ylim((0, YLIM))"
     ],
     "language": "python",
     "metadata": {},
     "outputs": [],
     "prompt_number": 168
    },
    {
     "cell_type": "code",
     "collapsed": false,
     "input": [
      "%time dictionary, code, error, dico = train(d, alpha=1, method='admm', n_iter=50, batch_size=20, train_ratio=0.5)\n",
      "data['error'] = pandas.Series(error, index=data.index, name='error')"
     ],
     "language": "python",
     "metadata": {},
     "outputs": [
      {
       "output_type": "stream",
       "stream": "stdout",
       "text": [
        "CPU times: user 4min 35s, sys: 5.64 s, total: 4min 41s\n",
        "Wall time: 4min 42s\n"
       ]
      }
     ],
     "prompt_number": 137
    },
    {
     "cell_type": "code",
     "collapsed": false,
     "input": [
      "check(data, groundtruth, error_limit=0.8)"
     ],
     "language": "python",
     "metadata": {},
     "outputs": [
      {
       "metadata": {},
       "output_type": "display_data",
       "png": "[encoded data removed]",
       "text": [
        "<matplotlib.figure.Figure at 0x7f66bd390950>"
       ]
      },
      {
       "metadata": {},
       "output_type": "display_data",
       "png": "[encoded data removed]",
       "text": [
        "<matplotlib.figure.Figure at 0x7f66c7c1d1d0>"
       ]
      }
     ],
     "prompt_number": 148
    },
    {
     "cell_type": "code",
     "collapsed": false,
     "input": [
      "frame_error = data.get(['frameNum', 'error']).groupby(by='frameNum').agg(np.sum)"
     ],
     "language": "python",
     "metadata": {},
     "outputs": [],
     "prompt_number": 139
    },
    {
     "cell_type": "code",
     "collapsed": false,
     "input": [
      "peakdetect(frame_error.error.values, frame_error.index.values, lookahead= 300, delta=0)"
     ],
     "language": "python",
     "metadata": {},
     "outputs": [
      {
       "metadata": {},
       "output_type": "pyout",
       "prompt_number": 140,
       "text": [
        "[[[2640, 45.023193310331322],\n",
        "  [3754, 26.83457708506748],\n",
        "  [5699, 23.367964108721623],\n",
        "  [9708, 19.401120883941775],\n",
        "  [10874, 8.0158714533193649],\n",
        "  [12409, 18.618767946525441],\n",
        "  [15328, 36.655839468109804]],\n",
        " [[965, 0.050907700882908302],\n",
        "  [2873, 0.066797687812434337],\n",
        "  [4118, 0.065572458624457333],\n",
        "  [7965, 0.043823913099325686],\n",
        "  [10217, 0.062737200412570401],\n",
        "  [11723, 0.067041914930079896],\n",
        "  [13000, 0.067753416395332514]]]"
       ]
      }
     ],
     "prompt_number": 140
    },
    {
     "cell_type": "code",
     "collapsed": false,
     "input": [
      "frame_error.describe()"
     ],
     "language": "python",
     "metadata": {},
     "outputs": [
      {
       "html": [
        "<div style=\"max-height:1000px;max-width:1500px;overflow:auto;\">\n",
        "<table border=\"1\" class=\"dataframe\">\n",
        "  <thead>\n",
        "    <tr style=\"text-align: right;\">\n",
        "      <th></th>\n",
        "      <th>error</th>\n",
        "    </tr>\n",
        "  </thead>\n",
        "  <tbody>\n",
        "    <tr>\n",
        "      <th>count</th>\n",
        "      <td> 5736.000000</td>\n",
        "    </tr>\n",
        "    <tr>\n",
        "      <th>mean</th>\n",
        "      <td>    2.771549</td>\n",
        "    </tr>\n",
        "    <tr>\n",
        "      <th>std</th>\n",
        "      <td>    5.496589</td>\n",
        "    </tr>\n",
        "    <tr>\n",
        "      <th>min</th>\n",
        "      <td>    0.043824</td>\n",
        "    </tr>\n",
        "    <tr>\n",
        "      <th>25%</th>\n",
        "      <td>    0.215140</td>\n",
        "    </tr>\n",
        "    <tr>\n",
        "      <th>50%</th>\n",
        "      <td>    0.414150</td>\n",
        "    </tr>\n",
        "    <tr>\n",
        "      <th>75%</th>\n",
        "      <td>    2.160274</td>\n",
        "    </tr>\n",
        "    <tr>\n",
        "      <th>max</th>\n",
        "      <td>   45.023193</td>\n",
        "    </tr>\n",
        "  </tbody>\n",
        "</table>\n",
        "</div>"
       ],
       "metadata": {},
       "output_type": "pyout",
       "prompt_number": 141,
       "text": [
        "             error\n",
        "count  5736.000000\n",
        "mean      2.771549\n",
        "std       5.496589\n",
        "min       0.043824\n",
        "25%       0.215140\n",
        "50%       0.414150\n",
        "75%       2.160274\n",
        "max      45.023193"
       ]
      }
     ],
     "prompt_number": 141
    },
    {
     "cell_type": "code",
     "collapsed": false,
     "input": [
      "umbral_error = data[data.error > 0.8].get(['frameNum', 'error']).groupby(by='frameNum').agg(np.sum)"
     ],
     "language": "python",
     "metadata": {},
     "outputs": [],
     "prompt_number": 149
    },
    {
     "cell_type": "code",
     "collapsed": false,
     "input": [
      "umbral_error.describe()"
     ],
     "language": "python",
     "metadata": {},
     "outputs": [
      {
       "html": [
        "<div style=\"max-height:1000px;max-width:1500px;overflow:auto;\">\n",
        "<table border=\"1\" class=\"dataframe\">\n",
        "  <thead>\n",
        "    <tr style=\"text-align: right;\">\n",
        "      <th></th>\n",
        "      <th>error</th>\n",
        "    </tr>\n",
        "  </thead>\n",
        "  <tbody>\n",
        "    <tr>\n",
        "      <th>count</th>\n",
        "      <td> 797.000000</td>\n",
        "    </tr>\n",
        "    <tr>\n",
        "      <th>mean</th>\n",
        "      <td>   2.401554</td>\n",
        "    </tr>\n",
        "    <tr>\n",
        "      <th>std</th>\n",
        "      <td>   2.866507</td>\n",
        "    </tr>\n",
        "    <tr>\n",
        "      <th>min</th>\n",
        "      <td>   0.800509</td>\n",
        "    </tr>\n",
        "    <tr>\n",
        "      <th>25%</th>\n",
        "      <td>   0.882436</td>\n",
        "    </tr>\n",
        "    <tr>\n",
        "      <th>50%</th>\n",
        "      <td>   1.681938</td>\n",
        "    </tr>\n",
        "    <tr>\n",
        "      <th>75%</th>\n",
        "      <td>   2.760792</td>\n",
        "    </tr>\n",
        "    <tr>\n",
        "      <th>max</th>\n",
        "      <td>  30.312168</td>\n",
        "    </tr>\n",
        "  </tbody>\n",
        "</table>\n",
        "</div>"
       ],
       "metadata": {},
       "output_type": "pyout",
       "prompt_number": 150,
       "text": [
        "            error\n",
        "count  797.000000\n",
        "mean     2.401554\n",
        "std      2.866507\n",
        "min      0.800509\n",
        "25%      0.882436\n",
        "50%      1.681938\n",
        "75%      2.760792\n",
        "max     30.312168"
       ]
      }
     ],
     "prompt_number": 150
    },
    {
     "cell_type": "code",
     "collapsed": false,
     "input": [
      "maximos, minimos = peakdetect(umbral_error.error.values, umbral_error.index.values, lookahead= 100, delta=10)"
     ],
     "language": "python",
     "metadata": {},
     "outputs": [],
     "prompt_number": 162
    },
    {
     "cell_type": "code",
     "collapsed": false,
     "input": [
      "maximos"
     ],
     "language": "python",
     "metadata": {},
     "outputs": [
      {
       "metadata": {},
       "output_type": "pyout",
       "prompt_number": 163,
       "text": [
        "[[15327, 30.312167535742407]]"
       ]
      }
     ],
     "prompt_number": 163
    },
    {
     "cell_type": "code",
     "collapsed": false,
     "input": [
      "groundtruth"
     ],
     "language": "python",
     "metadata": {},
     "outputs": [
      {
       "metadata": {},
       "output_type": "pyout",
       "prompt_number": 159,
       "text": [
        "array([[  550,   780,     0],\n",
        "       [ 2310,  2855,     0],\n",
        "       [ 3730,  3790,     0],\n",
        "       [ 4925,  5570,     0],\n",
        "       [ 5650,  5750,     0],\n",
        "       [ 9680,  9710,     0],\n",
        "       [12370, 12500,     0],\n",
        "       [14020, 14070,     0],\n",
        "       [14760, 14816,     0],\n",
        "       [15290, 15500,     1],\n",
        "       [15815, 15945,     0]])"
       ]
      }
     ],
     "prompt_number": 159
    },
    {
     "cell_type": "code",
     "collapsed": false,
     "input": [
      "%time dictionary, code, error, dico = train(d, alpha=1, components=50, method='admm', n_iter=50, batch_size=20, train_ratio=0.5)\n",
      "data['error'] = pandas.Series(error, index=data.index, name='error')"
     ],
     "language": "python",
     "metadata": {},
     "outputs": [
      {
       "output_type": "stream",
       "stream": "stdout",
       "text": [
        "CPU times: user 31.9 s, sys: 50.1 ms, total: 32 s\n",
        "Wall time: 32 s\n"
       ]
      }
     ],
     "prompt_number": 166
    },
    {
     "cell_type": "code",
     "collapsed": false,
     "input": [
      "check(data, groundtruth, error_limit=data.error.quantile(0.9))"
     ],
     "language": "python",
     "metadata": {},
     "outputs": [
      {
       "metadata": {},
       "output_type": "display_data",
       "png": "[encoded data removed]",
       "text": [
        "<matplotlib.figure.Figure at 0x7f66bd3d2850>"
       ]
      },
      {
       "metadata": {},
       "output_type": "display_data",
       "png": "[encoded data removed]",
       "text": [
        "<matplotlib.figure.Figure at 0x7f66bd3904d0>"
       ]
      }
     ],
     "prompt_number": 178
    },
    {
     "cell_type": "code",
     "collapsed": false,
     "input": [
      "delta = umbral_error.quantile(0.99).as_matrix()[0]\n",
      "frames_per_sec = 25\n",
      "maximos, minimos = peakdetect(umbral_error.error.values, umbral_error.index.values, lookahead=frames_per_sec, delta=delta)\n",
      "maximos"
     ],
     "language": "python",
     "metadata": {},
     "outputs": [
      {
       "metadata": {},
       "output_type": "pyout",
       "prompt_number": 216,
       "text": [
        "[[15327, 30.312167535742407]]"
       ]
      }
     ],
     "prompt_number": 216
    },
    {
     "cell_type": "code",
     "collapsed": false,
     "input": [
      "delta"
     ],
     "language": "python",
     "metadata": {},
     "outputs": [
      {
       "metadata": {},
       "output_type": "pyout",
       "prompt_number": 217,
       "text": [
        "14.73628444059891"
       ]
      }
     ],
     "prompt_number": 217
    },
    {
     "cell_type": "code",
     "collapsed": false,
     "input": [
      "result = pandas.DataFrame({\n",
      "                'start': pandas.Series(groundtruth[:,0]),\n",
      "                'end':  pandas.Series(groundtruth[:,1]),\n",
      "                'reference': pandas.Series(groundtruth[:,2]),\n",
      "})"
     ],
     "language": "python",
     "metadata": {},
     "outputs": [],
     "prompt_number": 283
    },
    {
     "cell_type": "code",
     "collapsed": false,
     "input": [
      "result[(result.start < 15327) & (result.end > 15327)]"
     ],
     "language": "python",
     "metadata": {},
     "outputs": [
      {
       "html": [
        "<div style=\"max-height:1000px;max-width:1500px;overflow:auto;\">\n",
        "<table border=\"1\" class=\"dataframe\">\n",
        "  <thead>\n",
        "    <tr style=\"text-align: right;\">\n",
        "      <th></th>\n",
        "      <th>end</th>\n",
        "      <th>reference</th>\n",
        "      <th>start</th>\n",
        "    </tr>\n",
        "  </thead>\n",
        "  <tbody>\n",
        "    <tr>\n",
        "      <th>9</th>\n",
        "      <td> 15500</td>\n",
        "      <td> 1</td>\n",
        "      <td> 15290</td>\n",
        "    </tr>\n",
        "  </tbody>\n",
        "</table>\n",
        "</div>"
       ],
       "metadata": {},
       "output_type": "pyout",
       "prompt_number": 284,
       "text": [
        "     end  reference  start\n",
        "9  15500          1  15290"
       ]
      }
     ],
     "prompt_number": 284
    },
    {
     "cell_type": "code",
     "collapsed": false,
     "input": [
      "detection = pandas.Series(np.zeros(len(result)), index=result.index)"
     ],
     "language": "python",
     "metadata": {},
     "outputs": [],
     "prompt_number": 285
    },
    {
     "cell_type": "code",
     "collapsed": false,
     "input": [
      "delta = umbral_error.quantile(0.99).as_matrix()[0]\n",
      "frames_per_sec = 25\n",
      "\n",
      "peaks, lows = peakdetect(umbral_error.error.values, umbral_error.index.values, lookahead=frames_per_sec, delta=delta)"
     ],
     "language": "python",
     "metadata": {},
     "outputs": [],
     "prompt_number": 286
    },
    {
     "cell_type": "code",
     "collapsed": false,
     "input": [
      "for peak, value in peaks:\n",
      "    detection[(result.start < peak) & (result.end > peak)] += 1"
     ],
     "language": "python",
     "metadata": {},
     "outputs": [],
     "prompt_number": 287
    },
    {
     "cell_type": "code",
     "collapsed": false,
     "input": [
      "result['detection'] = detection"
     ],
     "language": "python",
     "metadata": {},
     "outputs": [],
     "prompt_number": 288
    },
    {
     "cell_type": "code",
     "collapsed": false,
     "input": [
      "result"
     ],
     "language": "python",
     "metadata": {},
     "outputs": [
      {
       "html": [
        "<div style=\"max-height:1000px;max-width:1500px;overflow:auto;\">\n",
        "<table border=\"1\" class=\"dataframe\">\n",
        "  <thead>\n",
        "    <tr style=\"text-align: right;\">\n",
        "      <th></th>\n",
        "      <th>end</th>\n",
        "      <th>reference</th>\n",
        "      <th>start</th>\n",
        "      <th>detection</th>\n",
        "    </tr>\n",
        "  </thead>\n",
        "  <tbody>\n",
        "    <tr>\n",
        "      <th>0 </th>\n",
        "      <td>   780</td>\n",
        "      <td> 0</td>\n",
        "      <td>   550</td>\n",
        "      <td> 0</td>\n",
        "    </tr>\n",
        "    <tr>\n",
        "      <th>1 </th>\n",
        "      <td>  2855</td>\n",
        "      <td> 0</td>\n",
        "      <td>  2310</td>\n",
        "      <td> 0</td>\n",
        "    </tr>\n",
        "    <tr>\n",
        "      <th>2 </th>\n",
        "      <td>  3790</td>\n",
        "      <td> 0</td>\n",
        "      <td>  3730</td>\n",
        "      <td> 0</td>\n",
        "    </tr>\n",
        "    <tr>\n",
        "      <th>3 </th>\n",
        "      <td>  5570</td>\n",
        "      <td> 0</td>\n",
        "      <td>  4925</td>\n",
        "      <td> 0</td>\n",
        "    </tr>\n",
        "    <tr>\n",
        "      <th>4 </th>\n",
        "      <td>  5750</td>\n",
        "      <td> 0</td>\n",
        "      <td>  5650</td>\n",
        "      <td> 0</td>\n",
        "    </tr>\n",
        "    <tr>\n",
        "      <th>5 </th>\n",
        "      <td>  9710</td>\n",
        "      <td> 0</td>\n",
        "      <td>  9680</td>\n",
        "      <td> 0</td>\n",
        "    </tr>\n",
        "    <tr>\n",
        "      <th>6 </th>\n",
        "      <td> 12500</td>\n",
        "      <td> 0</td>\n",
        "      <td> 12370</td>\n",
        "      <td> 0</td>\n",
        "    </tr>\n",
        "    <tr>\n",
        "      <th>7 </th>\n",
        "      <td> 14070</td>\n",
        "      <td> 0</td>\n",
        "      <td> 14020</td>\n",
        "      <td> 0</td>\n",
        "    </tr>\n",
        "    <tr>\n",
        "      <th>8 </th>\n",
        "      <td> 14816</td>\n",
        "      <td> 0</td>\n",
        "      <td> 14760</td>\n",
        "      <td> 0</td>\n",
        "    </tr>\n",
        "    <tr>\n",
        "      <th>9 </th>\n",
        "      <td> 15500</td>\n",
        "      <td> 1</td>\n",
        "      <td> 15290</td>\n",
        "      <td> 1</td>\n",
        "    </tr>\n",
        "    <tr>\n",
        "      <th>10</th>\n",
        "      <td> 15945</td>\n",
        "      <td> 0</td>\n",
        "      <td> 15815</td>\n",
        "      <td> 0</td>\n",
        "    </tr>\n",
        "  </tbody>\n",
        "</table>\n",
        "</div>"
       ],
       "metadata": {},
       "output_type": "pyout",
       "prompt_number": 289,
       "text": [
        "      end  reference  start  detection\n",
        "0     780          0    550          0\n",
        "1    2855          0   2310          0\n",
        "2    3790          0   3730          0\n",
        "3    5570          0   4925          0\n",
        "4    5750          0   5650          0\n",
        "5    9710          0   9680          0\n",
        "6   12500          0  12370          0\n",
        "7   14070          0  14020          0\n",
        "8   14816          0  14760          0\n",
        "9   15500          1  15290          1\n",
        "10  15945          0  15815          0"
       ]
      }
     ],
     "prompt_number": 289
    },
    {
     "cell_type": "code",
     "collapsed": false,
     "input": [
      "from sklearn.metrics import precision_recall_curve\n",
      "from sklearn.metrics import average_precision_score"
     ],
     "language": "python",
     "metadata": {},
     "outputs": [],
     "prompt_number": 291
    },
    {
     "cell_type": "code",
     "collapsed": false,
     "input": [
      "average_precision = average_precision_score(result.detection, result.reference)"
     ],
     "language": "python",
     "metadata": {},
     "outputs": [],
     "prompt_number": 297
    },
    {
     "cell_type": "code",
     "collapsed": false,
     "input": [
      "precision, recall, __ = precision_recall_curve(result.detection, result.reference)"
     ],
     "language": "python",
     "metadata": {},
     "outputs": [],
     "prompt_number": 298
    },
    {
     "cell_type": "code",
     "collapsed": false,
     "input": [
      "# Plot Precision-Recall curve\n",
      "plt.clf()\n",
      "plt.plot(recall, precision, label='Precision-Recall curve')\n",
      "plt.xlabel('Recall')\n",
      "plt.ylabel('Precision')\n",
      "plt.ylim([0.0, 1.05])\n",
      "plt.xlim([0.0, 1.0])\n",
      "plt.title('Precision-Recall example: AUC={0:0.2f}'.format(average_precision))\n",
      "plt.legend(loc=\"lower left\")\n",
      "plt.show()\n"
     ],
     "language": "python",
     "metadata": {},
     "outputs": [
      {
       "metadata": {},
       "output_type": "display_data",
       "png": "[encoded data removed]",
       "text": [
        "<matplotlib.figure.Figure at 0x7f66c26c2a90>"
       ]
      }
     ],
     "prompt_number": 299
    },
    {
     "cell_type": "code",
     "collapsed": false,
     "input": [],
     "language": "python",
     "metadata": {},
     "outputs": []
    }
   ],
   "metadata": {}
  }
 ]
}