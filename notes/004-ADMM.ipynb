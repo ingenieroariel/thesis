{
 "metadata": {
  "name": ""
 },
 "nbformat": 3,
 "nbformat_minor": 0,
 "worksheets": [
  {
   "cells": [
    {
     "cell_type": "heading",
     "level": 1,
     "metadata": {},
     "source": [
      "Teaching myself ADMM"
     ]
    },
    {
     "cell_type": "markdown",
     "metadata": {},
     "source": [
      " * Author: Ariel N\u00fa\u00f1ez ingenieroariel@gmail.com\n",
      " * Background: http://www.stanford.edu/~boyd/papers/pdf/admm_distr_stats.pdf\n",
      " * License: CC-BY-SA for the document, MIT for the code."
     ]
    },
    {
     "cell_type": "code",
     "collapsed": false,
     "input": [
      "%cd admm"
     ],
     "language": "python",
     "metadata": {},
     "outputs": [
      {
       "output_type": "stream",
       "stream": "stdout",
       "text": [
        "/Users/x/work/thesis/notes/admm\n"
       ]
      }
     ],
     "prompt_number": 1
    },
    {
     "cell_type": "code",
     "collapsed": false,
     "input": [
      "%%bash\n",
      "cat run_lasso_and_save_mat.m"
     ],
     "language": "python",
     "metadata": {},
     "outputs": [
      {
       "output_type": "stream",
       "stream": "stdout",
       "text": [
        "A = randn(100,100);\n",
        "X = randn(100,80);\n",
        "tic;\n",
        "[B, cost] = lasso_admm(X, A , 1);\n",
        "toc;\n",
        "save('admm.mat', 'A', 'X', 'B', 'cost')\n"
       ]
      }
     ],
     "prompt_number": 4
    },
    {
     "cell_type": "code",
     "collapsed": false,
     "input": [
      "%%bash\n",
      "matlab -nodisplay -nosplash -r run_lasso_and_save_mat"
     ],
     "language": "python",
     "metadata": {},
     "outputs": [
      {
       "output_type": "stream",
       "stream": "stdout",
       "text": [
        "\n",
        "                            < M A T L A B (R) >\n",
        "                  Copyright 1984-2013 The MathWorks, Inc.\n",
        "                     R2013a (8.1.0.604) 64-bit (maci64)\n",
        "                             February 15, 2013\n",
        "\n",
        " \n",
        "To get started, type one of these: helpwin, helpdesk, or demo.\n",
        "For product information, visit www.mathworks.com.\n",
        " \n",
        "Elapsed time is 0.601970 seconds.\n",
        ">> "
       ]
      }
     ],
     "prompt_number": 5
    },
    {
     "cell_type": "code",
     "collapsed": false,
     "input": [
      "import scipy.io as sio\n",
      "\n",
      "D = sio.loadmat('admm.mat')"
     ],
     "language": "python",
     "metadata": {},
     "outputs": [],
     "prompt_number": 6
    },
    {
     "cell_type": "code",
     "collapsed": false,
     "input": [
      "D.keys()"
     ],
     "language": "python",
     "metadata": {},
     "outputs": [
      {
       "metadata": {},
       "output_type": "pyout",
       "prompt_number": 7,
       "text": [
        "['A', 'B', '__header__', '__globals__', 'cost', 'X', '__version__']"
       ]
      }
     ],
     "prompt_number": 7
    },
    {
     "cell_type": "code",
     "collapsed": false,
     "input": [
      "%%bash\n",
      "cat lasso_admm.m"
     ],
     "language": "python",
     "metadata": {},
     "outputs": [
      {
       "output_type": "stream",
       "stream": "stdout",
       "text": [
        "% Function to perform LASSO regression using Alternating Direction Method\n",
        "% of Multipliers.\n",
        "%\n",
        "% arg min_{B} 0.5*||X - A*B||_{2}^{2} + gamma*||B||_{1}\n",
        "%\n",
        "% Usage:- [B,cost] = lasso_admm(X, A, gamma) \n",
        "%\n",
        "% where:- <in>\n",
        "%         b = bias vector\n",
        "%         lambda = weighting on the l1 penalty\n",
        "%         <out>\n",
        "%         x = solution  \n",
        "%\n",
        "% Written by Simon Lucey 2012\n",
        "\n",
        "function [B,cost] = lasso_admm(X, A, gamma)\n",
        "\n",
        "% Get dimensions of B\n",
        "c = size(X,2);\n",
        "r = size(A,2); \n",
        "\n",
        "L = zeros(size(X)); % Initialize Lagragian to be nothing (seems to work well)\n",
        "rho = 1e-4; % Set rho to be quite low to start with \n",
        "maxIter = 500; % Set the maximum number of iterations (make really big to ensure convergence)\n",
        "I = speye(r); % Set the sparse identity matrix\n",
        "maxRho = 5; % Set the maximum mu\n",
        "C = randn(r,c); % Initialize C randomly\n",
        "\n",
        "% Set the fast soft thresholding function\n",
        "fast_sthresh = @(x,th) sign(x).*max(abs(x) - th,0);\n",
        "\n",
        "% Set the norm functions\n",
        "norm2 = @(x) x(:)'*x(:); \n",
        "norm1 = @(x) sum(abs(x(:))); \n",
        "\n",
        "cost = [];\n",
        "for n = 1:maxIter\n",
        "        \n",
        "    % Solve sub-problem to solve B\n",
        "    B = (A'*A+rho*I)\\(A'*X + rho*C - L); \n",
        "    \n",
        "    % Solve sub-problem to solve C\n",
        "    C = fast_sthresh(B + L/rho, gamma/rho); \n",
        "    \n",
        "    % Update the Lagrangian\n",
        "    L = L + rho*(B - C);  \n",
        "    \n",
        "    %pause; \n",
        "    \n",
        "    % Section 3.3 in Boyd's book describes strategies for adapting rho\n",
        "    % main strategy should be to ensure that \n",
        "    rho = min(maxRho, rho*1.1); \n",
        "    \n",
        "    % get the current cost\n",
        "    cost(n) = 0.5*norm2(X - A*B) + gamma*norm1(B);\n",
        "    \n",
        "end\n"
       ]
      }
     ],
     "prompt_number": 8
    },
    {
     "cell_type": "code",
     "collapsed": false,
     "input": [
      "X = D['X']\n",
      "A = D['A']"
     ],
     "language": "python",
     "metadata": {},
     "outputs": [],
     "prompt_number": 9
    },
    {
     "cell_type": "code",
     "collapsed": false,
     "input": [
      "from lasso import lasso_admm"
     ],
     "language": "python",
     "metadata": {},
     "outputs": [],
     "prompt_number": 11
    },
    {
     "cell_type": "code",
     "collapsed": false,
     "input": [
      "B, cost = lasso_admm(X, A, gamma=1)"
     ],
     "language": "python",
     "metadata": {},
     "outputs": [],
     "prompt_number": 13
    },
    {
     "cell_type": "code",
     "collapsed": false,
     "input": [
      "B.shape"
     ],
     "language": "python",
     "metadata": {},
     "outputs": [
      {
       "metadata": {},
       "output_type": "pyout",
       "prompt_number": 14,
       "text": [
        "(100, 80)"
       ]
      }
     ],
     "prompt_number": 14
    },
    {
     "cell_type": "code",
     "collapsed": false,
     "input": [
      "B_original = D['B']"
     ],
     "language": "python",
     "metadata": {},
     "outputs": [],
     "prompt_number": 15
    },
    {
     "cell_type": "code",
     "collapsed": false,
     "input": [
      "B_original.shape"
     ],
     "language": "python",
     "metadata": {},
     "outputs": [
      {
       "metadata": {},
       "output_type": "pyout",
       "prompt_number": 16,
       "text": [
        "(100, 80)"
       ]
      }
     ],
     "prompt_number": 16
    },
    {
     "cell_type": "code",
     "collapsed": false,
     "input": [
      "np.allclose(B, B_original)"
     ],
     "language": "python",
     "metadata": {},
     "outputs": [
      {
       "metadata": {},
       "output_type": "pyout",
       "prompt_number": 17,
       "text": [
        "False"
       ]
      }
     ],
     "prompt_number": 17
    },
    {
     "cell_type": "code",
     "collapsed": false,
     "input": [
      "B[0][0:5]"
     ],
     "language": "python",
     "metadata": {},
     "outputs": [
      {
       "metadata": {},
       "output_type": "pyout",
       "prompt_number": 23,
       "text": [
        "array([-0.0782547 ,  2.19110882, -0.71593681, -2.97801741, -0.14795076,\n",
        "       -0.09838524, -0.53876321,  0.08986784, -2.95416127])"
       ]
      }
     ],
     "prompt_number": 23
    },
    {
     "cell_type": "code",
     "collapsed": false,
     "input": [
      "B_original[0][0:5]"
     ],
     "language": "python",
     "metadata": {},
     "outputs": [
      {
       "metadata": {},
       "output_type": "pyout",
       "prompt_number": 25,
       "text": [
        "array([  1.26984291e-16,   1.39396168e-02,  -7.35307205e-05,\n",
        "         6.37307010e-02,  -1.15765148e-15])"
       ]
      }
     ],
     "prompt_number": 25
    },
    {
     "cell_type": "code",
     "collapsed": false,
     "input": [],
     "language": "python",
     "metadata": {},
     "outputs": []
    }
   ],
   "metadata": {}
  }
 ]
}