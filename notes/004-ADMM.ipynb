{
 "metadata": {
  "name": ""
 },
 "nbformat": 3,
 "nbformat_minor": 0,
 "worksheets": [
  {
   "cells": [
    {
     "cell_type": "heading",
     "level": 1,
     "metadata": {},
     "source": [
      "Teaching myself ADMM"
     ]
    },
    {
     "cell_type": "markdown",
     "metadata": {},
     "source": [
      " * Author: Ariel N\u00fa\u00f1ez ingenieroariel@gmail.com\n",
      " * Background: http://www.stanford.edu/~boyd/papers/pdf/admm_distr_stats.pdf\n",
      " * License: CC-BY-SA for the document, MIT for the code."
     ]
    },
    {
     "cell_type": "code",
     "collapsed": false,
     "input": [
      "%cd admm"
     ],
     "language": "python",
     "metadata": {},
     "outputs": [
      {
       "output_type": "stream",
       "stream": "stdout",
       "text": [
        "/Users/x/work/thesis/notes/admm\n"
       ]
      }
     ],
     "prompt_number": 1
    },
    {
     "cell_type": "code",
     "collapsed": false,
     "input": [
      "%%bash\n",
      "cat run_lasso_and_save_mat.m"
     ],
     "language": "python",
     "metadata": {},
     "outputs": [
      {
       "output_type": "stream",
       "stream": "stdout",
       "text": [
        "A = randn(100,100);\n",
        "X = randn(100,80);\n",
        "tic;\n",
        "[B, cost] = lasso_admm(X, A , 1);\n",
        "toc;\n",
        "save('admm.mat', 'A', 'X', 'B', 'cost')\n"
       ]
      }
     ],
     "prompt_number": 3
    },
    {
     "cell_type": "code",
     "collapsed": false,
     "input": [
      "%%bash\n",
      "matlab -nodisplay -nosplash -r run_lasso_and_save_mat"
     ],
     "language": "python",
     "metadata": {},
     "outputs": [
      {
       "output_type": "stream",
       "stream": "stdout",
       "text": [
        "\n",
        "                            < M A T L A B (R) >\n",
        "                  Copyright 1984-2013 The MathWorks, Inc.\n",
        "                     R2013a (8.1.0.604) 64-bit (maci64)\n",
        "                             February 15, 2013\n",
        "\n",
        " \n",
        "To get started, type one of these: helpwin, helpdesk, or demo.\n",
        "For product information, visit www.mathworks.com.\n",
        " \n",
        "\n",
        "ans =\n",
        "\n",
        "     1\n",
        "\n",
        "Elapsed time is 0.466547 seconds.\n",
        ">> "
       ]
      }
     ],
     "prompt_number": 5
    },
    {
     "cell_type": "markdown",
     "metadata": {},
     "source": [
      "Using the admm.mat file generated in Matlab, let's run the same experiment in Python along with the other tests:"
     ]
    },
    {
     "cell_type": "code",
     "collapsed": false,
     "input": [
      "%%bash\n",
      "nosetests -v"
     ],
     "language": "python",
     "metadata": {},
     "outputs": [
      {
       "output_type": "stream",
       "stream": "stderr",
       "text": [
        "Test lasso_admm works. ... ok\n",
        "Test lasso_admm works when A is not square ... ok\n",
        "\n",
        "----------------------------------------------------------------------\n",
        "Ran 2 tests in 3.172s\n",
        "\n",
        "OK\n"
       ]
      }
     ],
     "prompt_number": 6
    },
    {
     "cell_type": "code",
     "collapsed": false,
     "input": [
      "import scipy.io as sio\n",
      "\n",
      "D = sio.loadmat('admm.mat')"
     ],
     "language": "python",
     "metadata": {},
     "outputs": [],
     "prompt_number": 7
    },
    {
     "cell_type": "code",
     "collapsed": false,
     "input": [
      "D.keys()"
     ],
     "language": "python",
     "metadata": {},
     "outputs": [
      {
       "metadata": {},
       "output_type": "pyout",
       "prompt_number": 8,
       "text": [
        "['A', 'B', '__header__', '__globals__', 'cost', 'X', '__version__']"
       ]
      }
     ],
     "prompt_number": 8
    },
    {
     "cell_type": "code",
     "collapsed": false,
     "input": [
      "X = D['X']\n",
      "A = D['A']"
     ],
     "language": "python",
     "metadata": {},
     "outputs": [],
     "prompt_number": 9
    },
    {
     "cell_type": "code",
     "collapsed": false,
     "input": [
      "from lasso import lasso_admm"
     ],
     "language": "python",
     "metadata": {},
     "outputs": [],
     "prompt_number": 10
    },
    {
     "cell_type": "code",
     "collapsed": false,
     "input": [
      "B, cost = lasso_admm(X, A, gamma=1)"
     ],
     "language": "python",
     "metadata": {},
     "outputs": [],
     "prompt_number": 11
    },
    {
     "cell_type": "code",
     "collapsed": false,
     "input": [
      "B.shape"
     ],
     "language": "python",
     "metadata": {},
     "outputs": [
      {
       "metadata": {},
       "output_type": "pyout",
       "prompt_number": 12,
       "text": [
        "(100, 80)"
       ]
      }
     ],
     "prompt_number": 12
    },
    {
     "cell_type": "code",
     "collapsed": false,
     "input": [
      "B_original = D['B']"
     ],
     "language": "python",
     "metadata": {},
     "outputs": [],
     "prompt_number": 13
    },
    {
     "cell_type": "code",
     "collapsed": false,
     "input": [
      "B_original.shape"
     ],
     "language": "python",
     "metadata": {},
     "outputs": [
      {
       "metadata": {},
       "output_type": "pyout",
       "prompt_number": 14,
       "text": [
        "(100, 80)"
       ]
      }
     ],
     "prompt_number": 14
    },
    {
     "cell_type": "code",
     "collapsed": false,
     "input": [
      "np.allclose(B, B_original)"
     ],
     "language": "python",
     "metadata": {},
     "outputs": [
      {
       "metadata": {},
       "output_type": "pyout",
       "prompt_number": 15,
       "text": [
        "True"
       ]
      }
     ],
     "prompt_number": 15
    },
    {
     "cell_type": "code",
     "collapsed": false,
     "input": [
      "B[0][0:5]"
     ],
     "language": "python",
     "metadata": {},
     "outputs": [
      {
       "metadata": {},
       "output_type": "pyout",
       "prompt_number": 16,
       "text": [
        "array([  1.24896402e-16,   1.39396168e-02,  -7.35307206e-05,\n",
        "         6.37307010e-02,  -2.51996858e-15])"
       ]
      }
     ],
     "prompt_number": 16
    },
    {
     "cell_type": "code",
     "collapsed": false,
     "input": [
      "B_original[0][0:5]"
     ],
     "language": "python",
     "metadata": {},
     "outputs": [
      {
       "metadata": {},
       "output_type": "pyout",
       "prompt_number": 17,
       "text": [
        "array([  1.26984291e-16,   1.39396168e-02,  -7.35307205e-05,\n",
        "         6.37307010e-02,  -1.15765148e-15])"
       ]
      }
     ],
     "prompt_number": 17
    },
    {
     "cell_type": "code",
     "collapsed": false,
     "input": [
      "# my cost\n",
      "cost[498]"
     ],
     "language": "python",
     "metadata": {},
     "outputs": [
      {
       "metadata": {},
       "output_type": "pyout",
       "prompt_number": 18,
       "text": [
        "1226.4383610096581"
       ]
      }
     ],
     "prompt_number": 18
    },
    {
     "cell_type": "code",
     "collapsed": false,
     "input": [
      "# matlab's cost\n",
      "D['cost'].flatten(1)[498]"
     ],
     "language": "python",
     "metadata": {},
     "outputs": [
      {
       "metadata": {},
       "output_type": "pyout",
       "prompt_number": 19,
       "text": [
        "1226.4383610096579"
       ]
      }
     ],
     "prompt_number": 19
    }
   ],
   "metadata": {}
  }
 ]
}