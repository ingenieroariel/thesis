{
 "metadata": {
  "name": ""
 },
 "nbformat": 3,
 "nbformat_minor": 0,
 "worksheets": [
  {
   "cells": [
    {
     "cell_type": "markdown",
     "metadata": {},
     "source": [
      "$$\n",
      "W_{j,k} = exp \\left [ \\frac{-\\left \\| x_j - x_k \\right \\|^2}{2\\delta^2}-\\frac{\\left \\| y_j - y_k \\right \\|^2}{2\\delta^2}-\\frac{-\\left \\| t_j - t_k \\right \\|^2}{2 \\tau^2} \\right ]\n",
      "$$"
     ]
    },
    {
     "cell_type": "code",
     "collapsed": false,
     "input": [
      "import scipy.io as sio\n",
      "\n",
      "\n",
      "D = sio.loadmat('/home/x/thesis/notes/features_subway_entrance_turnstiles_01.mat')"
     ],
     "language": "python",
     "metadata": {},
     "outputs": [],
     "prompt_number": 3
    },
    {
     "cell_type": "code",
     "collapsed": false,
     "input": [
      "D.keys()"
     ],
     "language": "python",
     "metadata": {},
     "outputs": [
      {
       "metadata": {},
       "output_type": "pyout",
       "prompt_number": 4,
       "text": [
        "['subs',\n",
        " '__header__',\n",
        " '__globals__',\n",
        " 'vals',\n",
        " 'frame2',\n",
        " 'frame1',\n",
        " '__version__',\n",
        " 'desc']"
       ]
      }
     ],
     "prompt_number": 4
    },
    {
     "cell_type": "code",
     "collapsed": false,
     "input": [
      "subs = D['subs']"
     ],
     "language": "python",
     "metadata": {},
     "outputs": [],
     "prompt_number": 5
    },
    {
     "cell_type": "code",
     "collapsed": false,
     "input": [
      "import scipy as sp\n",
      "def adjacency(data, delta=1, tau=1, samples=None):\n",
      "    if samples is None:\n",
      "        samples, _ = data.shape\n",
      "\n",
      "    x = data[:, 0]\n",
      "    y = data[:, 1]\n",
      "    t = data[:, 2]\n",
      "    W = sp.zeros((samples, samples))\n",
      "    for i in range(samples):\n",
      "        for j in range(samples):\n",
      "            xx = (x[i] - x[j])**2.0 / (2.0 * delta ** 2)\n",
      "            yy = (y[i] - y[j])**2.0 / (2.0 * delta ** 2)\n",
      "            tt = (t[i] - t[j])**2.0 / (2.0 * tau ** 2)\n",
      "            W[i,j] = sp.exp(-xx -yy - tt)\n",
      "    return W"
     ],
     "language": "python",
     "metadata": {},
     "outputs": [],
     "prompt_number": 6
    },
    {
     "cell_type": "code",
     "collapsed": false,
     "input": [
      "W = adjacency(subs, delta=10, tau=100)"
     ],
     "language": "python",
     "metadata": {},
     "outputs": [],
     "prompt_number": 10
    },
    {
     "cell_type": "code",
     "collapsed": false,
     "input": [
      "W"
     ],
     "language": "python",
     "metadata": {},
     "outputs": [
      {
       "metadata": {},
       "output_type": "pyout",
       "prompt_number": 11,
       "text": [
        "array([[ 1.        ,  0.        ,  0.04972487, ...,  0.        ,\n",
        "         0.        ,  0.        ],\n",
        "       [ 0.        ,  1.        ,  0.08363861, ...,  0.        ,\n",
        "         0.        ,  0.        ],\n",
        "       [ 0.        ,  0.        ,  1.        , ...,  0.        ,\n",
        "         0.        ,  0.        ],\n",
        "       ..., \n",
        "       [ 0.        ,  0.        ,  0.        , ...,  1.        ,\n",
        "         0.03872577,  0.04393693],\n",
        "       [ 0.        ,  0.        ,  0.        , ...,  0.        ,\n",
        "         1.        ,  0.        ],\n",
        "       [ 0.        ,  0.        ,  0.        , ...,  0.        ,\n",
        "         0.99875078,  1.        ]])"
       ]
      }
     ],
     "prompt_number": 11
    },
    {
     "cell_type": "code",
     "collapsed": false,
     "input": [
      "W.shape"
     ],
     "language": "python",
     "metadata": {},
     "outputs": [
      {
       "metadata": {},
       "output_type": "pyout",
       "prompt_number": 12,
       "text": [
        "(532, 532)"
       ]
      }
     ],
     "prompt_number": 12
    },
    {
     "cell_type": "heading",
     "level": 2,
     "metadata": {},
     "source": [
      "Two subs that are close in space and time should have a W > 0"
     ]
    },
    {
     "cell_type": "code",
     "collapsed": false,
     "input": [
      "W[1,80]"
     ],
     "language": "python",
     "metadata": {},
     "outputs": [
      {
       "metadata": {},
       "output_type": "pyout",
       "prompt_number": 24,
       "text": [
        "0.57622907367179987"
       ]
      }
     ],
     "prompt_number": 24
    },
    {
     "cell_type": "code",
     "collapsed": false,
     "input": [
      "subs[1,:]"
     ],
     "language": "python",
     "metadata": {},
     "outputs": [
      {
       "metadata": {},
       "output_type": "pyout",
       "prompt_number": 25,
       "text": [
        "array([320, 482, 638], dtype=uint16)"
       ]
      }
     ],
     "prompt_number": 25
    },
    {
     "cell_type": "code",
     "collapsed": false,
     "input": [
      "subs[80, :]"
     ],
     "language": "python",
     "metadata": {},
     "outputs": [
      {
       "metadata": {},
       "output_type": "pyout",
       "prompt_number": 26,
       "text": [
        "array([318, 472, 613], dtype=uint16)"
       ]
      }
     ],
     "prompt_number": 26
    }
   ],
   "metadata": {}
  }
 ]
}