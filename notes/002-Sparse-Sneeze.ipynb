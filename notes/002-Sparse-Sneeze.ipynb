{
 "metadata": {
  "name": ""
 },
 "nbformat": 3,
 "nbformat_minor": 0,
 "worksheets": [
  {
   "cells": [
    {
     "cell_type": "heading",
     "level": 1,
     "metadata": {},
     "source": [
      "Sparse coding on a sneezing panda"
     ]
    },
    {
     "cell_type": "markdown",
     "metadata": {},
     "source": [
      "A YouTube video of a sneezing panda will be used to replicate the findings in ZhaoFeiFei [1]. Initially Dollar's cuboids will be used to find interesting events in the video and afterwards, sparse coding on the HOG descriptor will be used to detect unusual events. The first 20% frames of the video will be used for training and the rest for detection."
     ]
    },
    {
     "cell_type": "code",
     "collapsed": false,
     "input": [
      "from IPython.lib.display import YouTubeVideo\n",
      "\n",
      "video_id = \"D-ZBcmcje_s\"\n",
      "vid = YouTubeVideo(video_id)\n",
      "vid"
     ],
     "language": "python",
     "metadata": {},
     "outputs": [
      {
       "html": [
        "\n",
        "        <iframe\n",
        "            width=\"400\"\n",
        "            height=300\"\n",
        "            src=\"http://www.youtube.com/embed/D-ZBcmcje_s\"\n",
        "            frameborder=\"0\"\n",
        "            allowfullscreen\n",
        "        ></iframe>\n",
        "        "
       ],
       "metadata": {},
       "output_type": "pyout",
       "prompt_number": 26,
       "text": [
        "<IPython.lib.display.YouTubeVideo at 0x4106b10>"
       ]
      }
     ],
     "prompt_number": 26
    },
    {
     "cell_type": "heading",
     "level": 2,
     "metadata": {},
     "source": [
      "Step 1: Downloading the videos and converting them to .avi"
     ]
    },
    {
     "cell_type": "markdown",
     "metadata": {},
     "source": [
      "In Ubuntu Linux, we make use of youtube-dl and ffmpeg to download the video and put it in the right format.\n",
      "\n",
      "```\n",
      "$ sudo apt-get install youtube-dl ffmpeg\n",
      "$ youtube-dl -c --id --f 22/18 D-ZBcmcje_s\n",
      "$ ffmpeg -i D-ZBcmcje_s.mp4 D-ZBcmcje_s.avi -codec copy\n",
      "```"
     ]
    },
    {
     "cell_type": "heading",
     "level": 2,
     "metadata": {},
     "source": [
      "Step 2: Generating the cuboids using matlab"
     ]
    },
    {
     "cell_type": "markdown",
     "metadata": {},
     "source": [
      "With Matlab, we run the cuboid generation code against the newly created .avi and let it write a .mat file in the filesystem. Afterwards, we use scipy.io.loadmat to load the data as python objects."
     ]
    },
    {
     "cell_type": "code",
     "collapsed": false,
     "input": [
      "from pymatbridge import Matlab\n",
      "import scipy.io as sio\n",
      "\n",
      "with Matlab() as mlab:\n",
      "    data_location = mlab.run('cuboids.m', 'D-ZBcmcje_s.avi')\n",
      "    D = sio.loadmat(data_location)"
     ],
     "language": "python",
     "metadata": {},
     "outputs": [],
     "prompt_number": 3
    },
    {
     "cell_type": "markdown",
     "metadata": {},
     "source": [
      "The important keys are the following:\n",
      "\n",
      " * **mov**: Input video\n",
      " * **mov_bw**: Input video in black and white\n",
      " * **cuboids**: The detected cuboids\n",
      " * **vals**: Relative feature strengths\n",
      " * **desc**: The array with the HOG descriptors for each cuboid"
     ]
    },
    {
     "cell_type": "code",
     "collapsed": false,
     "input": [
      "mov = D['mov']\n",
      "mov_bw = D['mov_bw']\n",
      "cuboids = D['cuboids']\n",
      "hog = D['desc']\n",
      "vals = D['vals']"
     ],
     "language": "python",
     "metadata": {},
     "outputs": [],
     "prompt_number": 5
    },
    {
     "cell_type": "markdown",
     "metadata": {},
     "source": [
      "Let's inspect the objects to see if we can graph images:"
     ]
    },
    {
     "cell_type": "code",
     "collapsed": false,
     "input": [
      "mov_bw.shape"
     ],
     "language": "python",
     "metadata": {},
     "outputs": [
      {
       "metadata": {},
       "output_type": "pyout",
       "prompt_number": 7,
       "text": [
        "(272, 480, 417)"
       ]
      }
     ],
     "prompt_number": 7
    },
    {
     "cell_type": "code",
     "collapsed": false,
     "input": [
      "mov_bw[0]"
     ],
     "language": "python",
     "metadata": {},
     "outputs": [
      {
       "metadata": {},
       "output_type": "pyout",
       "prompt_number": 8,
       "text": [
        "array([[198, 203, 202, ..., 202, 202, 202],\n",
        "       [206, 214, 214, ..., 212, 212, 212],\n",
        "       [215, 221, 222, ..., 225, 225, 225],\n",
        "       ..., \n",
        "       [163, 168, 168, ..., 178, 178, 178],\n",
        "       [158, 163, 163, ..., 163, 163, 163],\n",
        "       [155, 161, 161, ..., 148, 148, 148]], dtype=uint8)"
       ]
      }
     ],
     "prompt_number": 8
    },
    {
     "cell_type": "code",
     "collapsed": false,
     "input": [
      "import matplotlib.pyplot as plt\n",
      "\n",
      "plt.imshow(mov_bw[:, :,0], cmap='gray')"
     ],
     "language": "python",
     "metadata": {},
     "outputs": [
      {
       "metadata": {},
       "output_type": "pyout",
       "prompt_number": 39,
       "text": [
        "<matplotlib.image.AxesImage at 0x59e35d0>"
       ]
      },
      {
       "metadata": {},
       "output_type": "display_data",
       "png": "[encoded data removed]",
       "text": [
        "<matplotlib.figure.Figure at 0x5d6fd10>"
       ]
      }
     ],
     "prompt_number": 39
    },
    {
     "cell_type": "heading",
     "level": 2,
     "metadata": {},
     "source": [
      "Step 3: Sparse coding of HOG values"
     ]
    },
    {
     "cell_type": "markdown",
     "metadata": {},
     "source": [
      "Now, let's do sparse coding on the HOG values. We take the first 20% as training."
     ]
    },
    {
     "cell_type": "code",
     "collapsed": false,
     "input": [
      "length = hog.shape[0]\n",
      "length"
     ],
     "language": "python",
     "metadata": {},
     "outputs": [
      {
       "metadata": {},
       "output_type": "pyout",
       "prompt_number": 41,
       "text": [
        "1677"
       ]
      }
     ],
     "prompt_number": 41
    },
    {
     "cell_type": "code",
     "collapsed": false,
     "input": [
      "limit = length * 20 / 100\n",
      "limit"
     ],
     "language": "python",
     "metadata": {},
     "outputs": [
      {
       "metadata": {},
       "output_type": "pyout",
       "prompt_number": 44,
       "text": [
        "335"
       ]
      }
     ],
     "prompt_number": 44
    },
    {
     "cell_type": "code",
     "collapsed": false,
     "input": [
      "training = hog[:limit]"
     ],
     "language": "python",
     "metadata": {},
     "outputs": [],
     "prompt_number": 54
    },
    {
     "cell_type": "code",
     "collapsed": false,
     "input": [
      "training.shape"
     ],
     "language": "python",
     "metadata": {},
     "outputs": [
      {
       "metadata": {},
       "output_type": "pyout",
       "prompt_number": 55,
       "text": [
        "(335, 180)"
       ]
      }
     ],
     "prompt_number": 55
    },
    {
     "cell_type": "markdown",
     "metadata": {},
     "source": [
      "We will use that 180 items array on each of the HOG values as the info to reconstruct."
     ]
    },
    {
     "cell_type": "code",
     "collapsed": false,
     "input": [
      "import numpy as np\n",
      "\n",
      "d = training\n",
      "intercept = np.mean(d, axis=0)\n",
      "d -= intercept\n",
      "deviation = np.std(d, axis=0)\n",
      "d /= deviation\n",
      "d.shape"
     ],
     "language": "python",
     "metadata": {},
     "outputs": [
      {
       "metadata": {},
       "output_type": "pyout",
       "prompt_number": 70,
       "text": [
        "(335, 180)"
       ]
      }
     ],
     "prompt_number": 70
    },
    {
     "cell_type": "code",
     "collapsed": false,
     "input": [
      "from sklearn.decomposition import MiniBatchDictionaryLearning\n",
      "\n",
      "dico = MiniBatchDictionaryLearning(n_components=100, alpha=1, n_iter=100)\n",
      "V = dico.fit(d).components_"
     ],
     "language": "python",
     "metadata": {},
     "outputs": [],
     "prompt_number": 71
    },
    {
     "cell_type": "markdown",
     "metadata": {},
     "source": [
      "**V** is the dictionary, it should have 100 components of a 180 chars each."
     ]
    },
    {
     "cell_type": "code",
     "collapsed": false,
     "input": [
      "V.shape"
     ],
     "language": "python",
     "metadata": {},
     "outputs": [
      {
       "metadata": {},
       "output_type": "pyout",
       "prompt_number": 73,
       "text": [
        "(100, 180)"
       ]
      }
     ],
     "prompt_number": 73
    },
    {
     "cell_type": "code",
     "collapsed": false,
     "input": [
      "detection = hog[limit:]"
     ],
     "language": "python",
     "metadata": {},
     "outputs": [],
     "prompt_number": 76
    },
    {
     "cell_type": "code",
     "collapsed": false,
     "input": [
      "d = detection\n",
      "intercept = np.mean(d, axis=0)\n",
      "d -= intercept\n",
      "deviation = np.std(d, axis=0)\n",
      "d /= deviation\n",
      "d.shape"
     ],
     "language": "python",
     "metadata": {},
     "outputs": [
      {
       "metadata": {},
       "output_type": "pyout",
       "prompt_number": 77,
       "text": [
        "(1342, 180)"
       ]
      }
     ],
     "prompt_number": 77
    },
    {
     "cell_type": "code",
     "collapsed": false,
     "input": [
      "dico.set_params(transform_algorithm='lars', transform_n_nonzero_coefs=5)\n",
      "code = dico.transform(d)\n",
      "patches = np.dot(code, V)"
     ],
     "language": "python",
     "metadata": {},
     "outputs": [],
     "prompt_number": 78
    },
    {
     "cell_type": "code",
     "collapsed": false,
     "input": [
      "patches.shape"
     ],
     "language": "python",
     "metadata": {},
     "outputs": [
      {
       "metadata": {},
       "output_type": "pyout",
       "prompt_number": 80,
       "text": [
        "(1342, 180)"
       ]
      }
     ],
     "prompt_number": 80
    },
    {
     "cell_type": "heading",
     "level": 2,
     "metadata": {},
     "source": [
      "Step 4: Comparing reconstructed and original values to find unusual items"
     ]
    },
    {
     "cell_type": "code",
     "collapsed": false,
     "input": [
      "mse = ((detection - patches) ** 2).mean(axis=1)"
     ],
     "language": "python",
     "metadata": {},
     "outputs": [],
     "prompt_number": 92
    },
    {
     "cell_type": "code",
     "collapsed": false,
     "input": [
      "np.max(mse)"
     ],
     "language": "python",
     "metadata": {},
     "outputs": [
      {
       "metadata": {},
       "output_type": "pyout",
       "prompt_number": 93,
       "text": [
        "1.71337040652411"
       ]
      }
     ],
     "prompt_number": 93
    },
    {
     "cell_type": "code",
     "collapsed": false,
     "input": [
      "np.min(mse)"
     ],
     "language": "python",
     "metadata": {},
     "outputs": [
      {
       "metadata": {},
       "output_type": "pyout",
       "prompt_number": 94,
       "text": [
        "0.05476084106722446"
       ]
      }
     ],
     "prompt_number": 94
    },
    {
     "cell_type": "markdown",
     "metadata": {},
     "source": []
    }
   ],
   "metadata": {}
  }
 ]
}