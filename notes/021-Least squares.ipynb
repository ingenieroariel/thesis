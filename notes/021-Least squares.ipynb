{
 "metadata": {
  "name": "",
  "signature": "sha256:deff272bed2634a9dca391de52cdc01e389a70219c94e5880b3b9547e9a05c3d"
 },
 "nbformat": 3,
 "nbformat_minor": 0,
 "worksheets": [
  {
   "cells": [
    {
     "cell_type": "code",
     "collapsed": false,
     "input": [],
     "language": "python",
     "metadata": {},
     "outputs": []
    }
   ],
   "metadata": {}
  }
 ]
}