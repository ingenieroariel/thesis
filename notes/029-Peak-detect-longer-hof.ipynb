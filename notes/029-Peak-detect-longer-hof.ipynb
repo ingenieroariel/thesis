{
 "metadata": {
  "name": "",
  "signature": "sha256:38369d3899199257e3e4f9c2a7769879440984a596167aa95e7e3c28afb4179a"
 },
 "nbformat": 3,
 "nbformat_minor": 0,
 "worksheets": [
  {
   "cells": [
    {
     "cell_type": "code",
     "collapsed": false,
     "input": [
      "import matplotlib\n",
      "import matplotlib.pyplot as plt\n",
      "\n",
      "%matplotlib inline"
     ],
     "language": "python",
     "metadata": {},
     "outputs": [],
     "prompt_number": 1
    },
    {
     "cell_type": "code",
     "collapsed": false,
     "input": [
      "import numpy as np\n",
      "from math import pi, log\n",
      "import pylab\n",
      "from scipy import fft, ifft\n",
      "from scipy.optimize import curve_fit\n",
      " \n",
      "i = 10000\n",
      "x = np.linspace(0, 3.5 * pi, i)\n",
      "y = (0.3*np.sin(x) + np.sin(1.3 * x) + 0.9 * np.sin(4.2 * x) + 0.06 *\n",
      "    np.random.randn(i))\n",
      " \n",
      " \n",
      "def _datacheck_peakdetect(x_axis, y_axis):\n",
      "    if x_axis is None:\n",
      "        x_axis = range(len(y_axis))\n",
      "    \n",
      "    if len(y_axis) != len(x_axis):\n",
      "        raise (ValueError, \n",
      "                'Input vectors y_axis and x_axis must have same length')\n",
      "    \n",
      "    #needs to be a numpy array\n",
      "    y_axis = np.array(y_axis)\n",
      "    x_axis = np.array(x_axis)\n",
      "    return x_axis, y_axis\n",
      "    \n",
      "\n",
      "    \n",
      "    \n",
      "def peakdetect(y_axis, x_axis = None, lookahead = 300, delta=0):\n",
      "    \"\"\"\n",
      "    Converted from/based on a MATLAB script at: \n",
      "    http://billauer.co.il/peakdet.html\n",
      "    \n",
      "    function for detecting local maximas and minmias in a signal.\n",
      "    Discovers peaks by searching for values which are surrounded by lower\n",
      "    or larger values for maximas and minimas respectively\n",
      "    \n",
      "    keyword arguments:\n",
      "    y_axis -- A list containg the signal over which to find peaks\n",
      "    x_axis -- (optional) A x-axis whose values correspond to the y_axis list\n",
      "        and is used in the return to specify the postion of the peaks. If\n",
      "        omitted an index of the y_axis is used. (default: None)\n",
      "    lookahead -- (optional) distance to look ahead from a peak candidate to\n",
      "        determine if it is the actual peak (default: 200) \n",
      "        '(sample / period) / f' where '4 >= f >= 1.25' might be a good value\n",
      "    delta -- (optional) this specifies a minimum difference between a peak and\n",
      "        the following points, before a peak may be considered a peak. Useful\n",
      "        to hinder the function from picking up false peaks towards to end of\n",
      "        the signal. To work well delta should be set to delta >= RMSnoise * 5.\n",
      "        (default: 0)\n",
      "            delta function causes a 20% decrease in speed, when omitted\n",
      "            Correctly used it can double the speed of the function\n",
      "    \n",
      "    return -- two lists [max_peaks, min_peaks] containing the positive and\n",
      "        negative peaks respectively. Each cell of the lists contains a tupple\n",
      "        of: (position, peak_value) \n",
      "        to get the average peak value do: np.mean(max_peaks, 0)[1] on the\n",
      "        results to unpack one of the lists into x, y coordinates do: \n",
      "        x, y = zip(*tab)\n",
      "    \"\"\"\n",
      "    max_peaks = []\n",
      "    min_peaks = []\n",
      "    dump = []   #Used to pop the first hit which almost always is false\n",
      "       \n",
      "    # check input data\n",
      "    x_axis, y_axis = _datacheck_peakdetect(x_axis, y_axis)\n",
      "    # store data length for later use\n",
      "    length = len(y_axis)\n",
      "    \n",
      "    \n",
      "    #perform some checks\n",
      "    if lookahead < 1:\n",
      "        raise ValueError, \"Lookahead must be '1' or above in value\"\n",
      "    if not (np.isscalar(delta) and delta >= 0):\n",
      "        raise ValueError, \"delta must be a positive number\"\n",
      "    \n",
      "    #maxima and minima candidates are temporarily stored in\n",
      "    #mx and mn respectively\n",
      "    mn, mx = np.Inf, -np.Inf\n",
      "    \n",
      "    #Only detect peak if there is 'lookahead' amount of points after it\n",
      "    for index, (x, y) in enumerate(zip(x_axis[:-lookahead], \n",
      "                                        y_axis[:-lookahead])):\n",
      "        if y > mx:\n",
      "            mx = y\n",
      "            mxpos = x\n",
      "        if y < mn:\n",
      "            mn = y\n",
      "            mnpos = x\n",
      "        \n",
      "        ####look for max####\n",
      "        if y < mx-delta and mx != np.Inf:\n",
      "            #Maxima peak candidate found\n",
      "            #look ahead in signal to ensure that this is a peak and not jitter\n",
      "            if y_axis[index:index+lookahead].max() < mx:\n",
      "                max_peaks.append([mxpos, mx])\n",
      "                dump.append(True)\n",
      "                #set algorithm to only find minima now\n",
      "                mx = np.Inf\n",
      "                mn = np.Inf\n",
      "                if index+lookahead >= length:\n",
      "                    #end is within lookahead no more peaks can be found\n",
      "                    break\n",
      "                continue\n",
      "            #else:  #slows shit down this does\n",
      "            #    mx = ahead\n",
      "            #    mxpos = x_axis[np.where(y_axis[index:index+lookahead]==mx)]\n",
      "        \n",
      "        ####look for min####\n",
      "        if y > mn+delta and mn != -np.Inf:\n",
      "            #Minima peak candidate found \n",
      "            #look ahead in signal to ensure that this is a peak and not jitter\n",
      "            if y_axis[index:index+lookahead].min() > mn:\n",
      "                min_peaks.append([mnpos, mn])\n",
      "                dump.append(False)\n",
      "                #set algorithm to only find maxima now\n",
      "                mn = -np.Inf\n",
      "                mx = -np.Inf\n",
      "                if index+lookahead >= length:\n",
      "                    #end is within lookahead no more peaks can be found\n",
      "                    break\n",
      "            #else:  #slows shit down this does\n",
      "            #    mn = ahead\n",
      "            #    mnpos = x_axis[np.where(y_axis[index:index+lookahead]==mn)]\n",
      "    \n",
      "    \n",
      "    #Remove the false hit on the first value of the y_axis\n",
      "    try:\n",
      "        if dump[0]:\n",
      "            max_peaks.pop(0)\n",
      "        else:\n",
      "            min_peaks.pop(0)\n",
      "        del dump\n",
      "    except IndexError:\n",
      "        #no peaks were found, should the function return empty lists?\n",
      "        pass\n",
      "        \n",
      "    return [max_peaks, min_peaks]\n",
      "\n",
      "    \n",
      "if __name__ == \"__main__\":\n",
      "    from math import pi\n",
      "    import pylab\n",
      "    \n",
      "    i = 10000\n",
      "    x = np.linspace(0,3.7*pi,i)\n",
      "    y = (0.3*np.sin(x) + np.sin(1.3 * x) + 0.9 * np.sin(4.2 * x) + 0.06 * \n",
      "    np.random.randn(i))\n",
      "    y *= -1\n",
      "    \n",
      "    _max, _min = peakdetect(y, x, 750, 0.30)\n",
      "    xm = [p[0] for p in _max]\n",
      "    ym = [p[1] for p in _max]\n",
      "    xn = [p[0] for p in _min]\n",
      "    yn = [p[1] for p in _min]\n",
      "    \n",
      "    plot = pylab.plot(x, y)\n",
      "    pylab.hold(True)\n",
      "    pylab.plot(xm, ym, 'r+')\n",
      "    pylab.plot(xn, yn, 'g+')\n",
      "    \n",
      "    \n",
      "    pylab.show()"
     ],
     "language": "python",
     "metadata": {},
     "outputs": [
      {
       "metadata": {},
       "output_type": "display_data",
       "png": "[encoded data removed]",
       "text": [
        "<matplotlib.figure.Figure at 0x7f4237ee56d0>"
       ]
      }
     ],
     "prompt_number": 2
    },
    {
     "cell_type": "code",
     "collapsed": false,
     "input": [
      "trajectory_file = '/home/x/traj/subway-exit-W10-complete.txt'"
     ],
     "language": "python",
     "metadata": {},
     "outputs": [],
     "prompt_number": 3
    },
    {
     "cell_type": "code",
     "collapsed": false,
     "input": [
      "import pandas\n",
      "import numpy as np\n",
      "from pandas.io.parsers import read_csv\n",
      "\n",
      "metadata_fields = ['frameNum', 'mean_x', 'mean_y', 'var_x', 'var_y', 'length', 'scale', 'x_pos', 'y_pos', 't_pos']\n",
      "norm_trajectory_fields = ['norm_trajectory%s' % n for n in range(60)]\n",
      "trajectory_fields = ['trajectory%s' % n for n in range(60)]\n",
      "hog_fields = ['hog%s' % n for n in range(96)]\n",
      "hof_fields = ['hof%s' % n for n in range(108)]\n",
      "mbh_fields = ['mbh%s' % n for n in range(192)]\n",
      "\n",
      "fields = metadata_fields + norm_trajectory_fields + trajectory_fields + hog_fields + hof_fields + mbh_fields\n",
      "\n",
      "temp_data = read_csv(trajectory_file, delimiter='\\t', names=fields, index_col=False)"
     ],
     "language": "python",
     "metadata": {},
     "outputs": [],
     "prompt_number": 4
    },
    {
     "cell_type": "code",
     "collapsed": false,
     "input": [
      "data = pandas.concat([\n",
      "            temp_data.get(metadata_fields),\n",
      "            pandas.Series(temp_data.get(hof_fields).values.tolist(), index=temp_data.index, name='hof'),\n",
      "            pandas.Series(temp_data.get(hog_fields).values.tolist(), index=temp_data.index, name='hog'),\n",
      "            pandas.Series(temp_data.get(mbh_fields).values.tolist(), index=temp_data.index, name='mbh'),\n",
      "            pandas.Series(temp_data.get(trajectory_fields).values.tolist(), index=temp_data.index, name='trajectory'),\n",
      "], axis=1)"
     ],
     "language": "python",
     "metadata": {},
     "outputs": [],
     "prompt_number": 5
    },
    {
     "cell_type": "code",
     "collapsed": false,
     "input": [
      "# Clear memory after having loaded that big file, we will create a slimmer version later\n",
      "%xdel temp_data"
     ],
     "language": "python",
     "metadata": {},
     "outputs": [],
     "prompt_number": 6
    },
    {
     "cell_type": "code",
     "collapsed": false,
     "input": [
      "#hog = np.array(data.hog.values.tolist())\n",
      "hof = np.array(data.hof.values.tolist())\n",
      "#mbh = np.array(data.mbh.values.tolist())\n",
      "#trajectory = np.array(data.trajectory.values.tolist())"
     ],
     "language": "python",
     "metadata": {},
     "outputs": [],
     "prompt_number": 7
    },
    {
     "cell_type": "code",
     "collapsed": false,
     "input": [
      "hof_reference = hof[:1000]\n",
      "intercept = hof_reference.mean(axis=0)\n",
      "delta_reference =  hof_reference - intercept\n",
      "deviation = delta_reference.std(axis=0)\n",
      "\n",
      "# Use the intercept and deviation from the initial values:\n",
      "delta = hof - intercept\n",
      "d = delta / deviation"
     ],
     "language": "python",
     "metadata": {},
     "outputs": [],
     "prompt_number": 8
    },
    {
     "cell_type": "code",
     "collapsed": false,
     "input": [
      "from admm.dict_learning import MiniBatchDictionaryLearning"
     ],
     "language": "python",
     "metadata": {},
     "outputs": [],
     "prompt_number": 9
    },
    {
     "cell_type": "code",
     "collapsed": false,
     "input": [
      "def train(d, components=100, alpha=1, n_iter=100, method='lars', batch_size=3, train_ratio=1, train_scale=1):\n",
      "    dico = MiniBatchDictionaryLearning(n_components=components, alpha=alpha, n_iter=n_iter, batch_size=batch_size)\n",
      "\n",
      "    training_limit = int(np.floor(d.shape[0] * train_ratio))\n",
      "\n",
      "    for i in range(train_scale):    \n",
      "        dictionary = dico.fit(d[:training_limit]).components_\n",
      "\n",
      "    code = dico.transform(d)\n",
      "    patches = np.dot(code, dictionary)\n",
      "    error = ((d - patches) ** 2).mean(axis=1)\n",
      "    \n",
      "    return dictionary, code, error, dico"
     ],
     "language": "python",
     "metadata": {},
     "outputs": [],
     "prompt_number": 10
    },
    {
     "cell_type": "code",
     "collapsed": false,
     "input": [
      "import numpy as np\n",
      "import matplotlib as mpl\n",
      "import matplotlib.pylab as plt\n",
      "\n",
      "groundtruth = np.array( [\n",
      "[550, 780, 0],\n",
      "[2310, 2855, 0],\n",
      "[3730, 3790, 0],\n",
      "[4925, 5570, 0],\n",
      "[5650, 5750, 0],\n",
      "[9680, 9710, 0],\n",
      "[12370, 12500, 0],\n",
      "[14020, 14070, 0],\n",
      "[14760, 14816, 0],\n",
      "[15290, 15500, 1],\n",
      "[15815, 15945, 0],\n",
      "[17340, 17770, 1],\n",
      "[18150, 18970, 1],\n",
      "[18970, 19450, 1],\n",
      "[19875, 19950, 0],\n",
      "[20170, 20225, 0],\n",
      "[20560, 20738, 1],\n",
      "[21760, 21805, 0],\n",
      "[22830, 23610, 0],\n",
      "[24020, 24255, 1],\n",
      "[37185, 37267, 0],\n",
      "[37940, 38005, 0],\n",
      "[40710, 41750, 1],\n",
      "[47020, 47505, 0],\n",
      "[47670, 47910, 1],\n",
      "[49230, 49280, 0],\n",
      "[50365, 50680, 1],\n",
      "[50940, 51295, 1],\n",
      "[52230, 52395, 0],\n",
      "[52765, 53050, 1],\n",
      "[53330, 53425, 0],\n",
      "[54375, 54475, 1],\n",
      "[55315, 56065, 1],\n",
      "[57120, 57615, 0],\n",
      "[59110, 62195, 1],\n",
      "])"
     ],
     "language": "python",
     "metadata": {},
     "outputs": [],
     "prompt_number": 11
    },
    {
     "cell_type": "code",
     "collapsed": false,
     "input": [
      "def draw_groundtruth(y, xstart, xstop, color='b'):\n",
      "    \"\"\"Plot timelines at y from xstart to xstop with given color.\"\"\"   \n",
      "    plt.hlines(y, xstart, xstop, color, lw=4)\n",
      "    plt.vlines(xstart, y+ 0.03, y-0.03, color, lw=2)\n",
      "    plt.vlines(xstop, y+0.03, y-0.03, color, lw=2)"
     ],
     "language": "python",
     "metadata": {},
     "outputs": [],
     "prompt_number": 12
    },
    {
     "cell_type": "code",
     "collapsed": false,
     "input": [
      "def check(input_data, groundtruth, error_limit=0, STEP=8000):\n",
      "\n",
      "    frames = np.array(range(1, 62000))\n",
      "\n",
      "    frame_error = input_data[input_data.error > error_limit].get(['frameNum', 'error'])\n",
      "    # frame error sum\n",
      "    fes  = frame_error.groupby(by='frameNum').agg(np.sum)\n",
      "\n",
      "\n",
      "    for index in range(0, len(frames), STEP):\n",
      "\n",
      "        frames_vect = np.array(range(index, index + STEP+1))\n",
      "\n",
      "        values_vect = np.zeros(frames_vect.shape)\n",
      "\n",
      "        for frame, error in fes[(fes.index > index) & (fes.index < index+STEP)].itertuples():\n",
      "            values_vect[frame - index] = error\n",
      "\n",
      "        plt.figure()\n",
      "        plt.gcf().set_figwidth(15)\n",
      "\n",
      "        YLIM = 50\n",
      "\n",
      "        plt.plot(frames_vect, values_vect, color='green', label='error sum')\n",
      "        plt.hold()\n",
      "\n",
      "        for start, end, value in groundtruth:\n",
      "            color = 'red' if value == 1 else 'black'\n",
      "            height = YLIM * 0.7 if value == 1 else YLIM * 0.3\n",
      "            draw_groundtruth(height, start, end, color=color)        \n",
      "            draw_groundtruth(YLIM - height, start, end, color=color)        \n",
      "\n",
      "        plt.title(\"Frames %s to %s\" % (index, index+STEP))\n",
      "\n",
      "        plt.xlim(index, index + STEP)\n",
      "        plt.ylim((0, YLIM))"
     ],
     "language": "python",
     "metadata": {},
     "outputs": [],
     "prompt_number": 13
    },
    {
     "cell_type": "code",
     "collapsed": false,
     "input": [
      "%time dictionary, code, error, dico = train(d, alpha=1, method='admm', n_iter=50, batch_size=20, train_ratio=0.1, train_scale=20)\n",
      "data['error'] = pandas.Series(error, index=data.index, name='error')"
     ],
     "language": "python",
     "metadata": {},
     "outputs": [
      {
       "output_type": "stream",
       "stream": "stdout",
       "text": [
        "CPU times: user 4min 50s, sys: 1.21 s, total: 4min 51s\n",
        "Wall time: 4min 52s\n"
       ]
      }
     ],
     "prompt_number": 14
    },
    {
     "cell_type": "code",
     "collapsed": false,
     "input": [
      "check(data, groundtruth, error_limit=0.6)"
     ],
     "language": "python",
     "metadata": {},
     "outputs": [
      {
       "metadata": {},
       "output_type": "display_data",
       "png": "[encoded data removed]",
       "text": [
        "<matplotlib.figure.Figure at 0x7f422952ca50>"
       ]
      },
      {
       "metadata": {},
       "output_type": "display_data",
       "png": "[encoded data removed]",
       "text": [
        "<matplotlib.figure.Figure at 0x7f422ecd9350>"
       ]
      },
      {
       "metadata": {},
       "output_type": "display_data",
       "png": "[encoded data removed]",
       "text": [
        "<matplotlib.figure.Figure at 0x7f422e5e8350>"
       ]
      },
      {
       "metadata": {},
       "output_type": "display_data",
       "png": "[encoded data removed]",
       "text": [
        "<matplotlib.figure.Figure at 0x7f422e271950>"
       ]
      },
      {
       "metadata": {},
       "output_type": "display_data",
       "png": "[encoded data removed]",
       "text": [
        "<matplotlib.figure.Figure at 0x7f4226d37e90>"
       ]
      },
      {
       "metadata": {},
       "output_type": "display_data",
       "png": "[encoded data removed]",
       "text": [
        "<matplotlib.figure.Figure at 0x7f4206a5a550>"
       ]
      },
      {
       "metadata": {},
       "output_type": "display_data",
       "png": "[encoded data removed]",
       "text": [
        "<matplotlib.figure.Figure at 0x7f42066e3a50>"
       ]
      },
      {
       "metadata": {},
       "output_type": "display_data",
       "png": "[encoded data removed]",
       "text": [
        "<matplotlib.figure.Figure at 0x7f4206367690>"
       ]
      }
     ],
     "prompt_number": 15
    },
    {
     "cell_type": "code",
     "collapsed": false,
     "input": [
      "frame_error = data.get(['frameNum', 'error']).groupby(by='frameNum').agg(np.sum)"
     ],
     "language": "python",
     "metadata": {},
     "outputs": [],
     "prompt_number": 16
    },
    {
     "cell_type": "code",
     "collapsed": false,
     "input": [
      "peakdetect(frame_error.error.values, frame_error.index.values, lookahead= 300, delta=0)"
     ],
     "language": "python",
     "metadata": {},
     "outputs": [
      {
       "metadata": {},
       "output_type": "pyout",
       "prompt_number": 17,
       "text": [
        "[[[750, 6.4057204462056774],\n",
        "  [2640, 37.772147876820348],\n",
        "  [3765, 25.466559161096608],\n",
        "  [5699, 20.052457573416849],\n",
        "  [6624, 1.1418498266330614],\n",
        "  [8124, 0.90637594550565626],\n",
        "  [8624, 0.84079258454065942],\n",
        "  [9708, 13.863218373393465],\n",
        "  [10874, 3.9943212970172106],\n",
        "  [12409, 17.434519770096315],\n",
        "  [15328, 24.699303465800451],\n",
        "  [18206, 24.205214974774385],\n",
        "  [18347, 7.5244975563196741],\n",
        "  [19904, 20.923849617484755],\n",
        "  [20608, 10.778319429901478],\n",
        "  [21790, 16.844130320804855],\n",
        "  [23500, 39.932947691376597],\n",
        "  [25026, 13.774546029874642],\n",
        "  [27575, 2.9927078979628421],\n",
        "  [32265, 21.622460963079661],\n",
        "  [37970, 19.327730756824032],\n",
        "  [40890, 29.720693922768945],\n",
        "  [41469, 40.668593830273387],\n",
        "  [42979, 1.3119900379316936],\n",
        "  [43873, 0.71953928872656714],\n",
        "  [45540, 12.431976191491202],\n",
        "  [47427, 25.745661993302043],\n",
        "  [49267, 14.533449048346123],\n",
        "  [50423, 16.9173616558232],\n",
        "  [50993, 27.171404266925443],\n",
        "  [52289, 22.043882698234814],\n",
        "  [52994, 17.343665891610584],\n",
        "  [55381, 17.022962947631928],\n",
        "  [57150, 19.259461021238533],\n",
        "  [57477, 18.093454204823882],\n",
        "  [59132, 11.801997461531787],\n",
        "  [59523, 8.0689032388652802],\n",
        "  [60186, 34.801137427607067],\n",
        "  [60574, 44.571738698862667],\n",
        "  [61589, 28.623916090172333],\n",
        "  [62984, 17.450455670673467]],\n",
        " [[977, 0.05486155598061046],\n",
        "  [3074, 0.057122714177824677],\n",
        "  [4708, 0.055998852778062831],\n",
        "  [6013, 0.051447565967533707],\n",
        "  [6658, 0.060550737609644183],\n",
        "  [8481, 0.042562829322434895],\n",
        "  [8875, 0.061683349895837118],\n",
        "  [10582, 0.053695719442291776],\n",
        "  [11323, 0.046087191219297774],\n",
        "  [12630, 0.04820729602470851],\n",
        "  [16095, 0.049904291503061596],\n",
        "  [18274, 0.07607520143027259],\n",
        "  [18846, 0.059794227480868163],\n",
        "  [20474, 0.041191042841485441],\n",
        "  [20845, 0.0550489512728536],\n",
        "  [22282, 0.0472708349478939],\n",
        "  [23876, 0.059702664692384784],\n",
        "  [25176, 0.054079510681758841],\n",
        "  [29284, 0.049260131876716198],\n",
        "  [32822, 0.048116602822855979],\n",
        "  [38501, 0.04946677768604283],\n",
        "  [41079, 0.30608912523626663],\n",
        "  [42352, 0.055390612776062401],\n",
        "  [43338, 0.054292591180724728],\n",
        "  [44693, 0.050173228773879697],\n",
        "  [45834, 0.056885626938047266],\n",
        "  [49193, 0.054011345991202525],\n",
        "  [50153, 0.053299011619569174],\n",
        "  [50924, 0.062758385113785425],\n",
        "  [51594, 0.047932047101025048],\n",
        "  [52544, 0.058321249044290674],\n",
        "  [53445, 0.060008731946766758],\n",
        "  [56856, 0.053561493991031842],\n",
        "  [57198, 0.13400818658816721],\n",
        "  [57727, 0.052301070528205901],\n",
        "  [59257, 0.049205284411125226],\n",
        "  [59861, 0.051015215237262386],\n",
        "  [60274, 0.082193743011959045],\n",
        "  [61047, 0.084292119458272433],\n",
        "  [62855, 0.05092287166805335]]]"
       ]
      }
     ],
     "prompt_number": 17
    },
    {
     "cell_type": "code",
     "collapsed": false,
     "input": [
      "frame_error.describe()"
     ],
     "language": "python",
     "metadata": {},
     "outputs": [
      {
       "html": [
        "<div style=\"max-height:1000px;max-width:1500px;overflow:auto;\">\n",
        "<table border=\"1\" class=\"dataframe\">\n",
        "  <thead>\n",
        "    <tr style=\"text-align: right;\">\n",
        "      <th></th>\n",
        "      <th>error</th>\n",
        "    </tr>\n",
        "  </thead>\n",
        "  <tbody>\n",
        "    <tr>\n",
        "      <th>count</th>\n",
        "      <td> 24952.000000</td>\n",
        "    </tr>\n",
        "    <tr>\n",
        "      <th>mean</th>\n",
        "      <td>     2.891460</td>\n",
        "    </tr>\n",
        "    <tr>\n",
        "      <th>std</th>\n",
        "      <td>     5.361095</td>\n",
        "    </tr>\n",
        "    <tr>\n",
        "      <th>min</th>\n",
        "      <td>     0.041191</td>\n",
        "    </tr>\n",
        "    <tr>\n",
        "      <th>25%</th>\n",
        "      <td>     0.142027</td>\n",
        "    </tr>\n",
        "    <tr>\n",
        "      <th>50%</th>\n",
        "      <td>     0.419343</td>\n",
        "    </tr>\n",
        "    <tr>\n",
        "      <th>75%</th>\n",
        "      <td>     2.947861</td>\n",
        "    </tr>\n",
        "    <tr>\n",
        "      <th>max</th>\n",
        "      <td>    44.571739</td>\n",
        "    </tr>\n",
        "  </tbody>\n",
        "</table>\n",
        "</div>"
       ],
       "metadata": {},
       "output_type": "pyout",
       "prompt_number": 18,
       "text": [
        "              error\n",
        "count  24952.000000\n",
        "mean       2.891460\n",
        "std        5.361095\n",
        "min        0.041191\n",
        "25%        0.142027\n",
        "50%        0.419343\n",
        "75%        2.947861\n",
        "max       44.571739"
       ]
      }
     ],
     "prompt_number": 18
    },
    {
     "cell_type": "code",
     "collapsed": false,
     "input": [
      "umbral_error = data[data.error > data.error.quantile(0.9)].get(['frameNum', 'error']).groupby(by='frameNum').agg(np.sum)"
     ],
     "language": "python",
     "metadata": {},
     "outputs": [],
     "prompt_number": 19
    },
    {
     "cell_type": "code",
     "collapsed": false,
     "input": [
      "umbral_error.describe()"
     ],
     "language": "python",
     "metadata": {},
     "outputs": [
      {
       "html": [
        "<div style=\"max-height:1000px;max-width:1500px;overflow:auto;\">\n",
        "<table border=\"1\" class=\"dataframe\">\n",
        "  <thead>\n",
        "    <tr style=\"text-align: right;\">\n",
        "      <th></th>\n",
        "      <th>error</th>\n",
        "    </tr>\n",
        "  </thead>\n",
        "  <tbody>\n",
        "    <tr>\n",
        "      <th>count</th>\n",
        "      <td> 5012.000000</td>\n",
        "    </tr>\n",
        "    <tr>\n",
        "      <th>mean</th>\n",
        "      <td>    2.797658</td>\n",
        "    </tr>\n",
        "    <tr>\n",
        "      <th>std</th>\n",
        "      <td>    3.148072</td>\n",
        "    </tr>\n",
        "    <tr>\n",
        "      <th>min</th>\n",
        "      <td>    0.603570</td>\n",
        "    </tr>\n",
        "    <tr>\n",
        "      <th>25%</th>\n",
        "      <td>    0.711095</td>\n",
        "    </tr>\n",
        "    <tr>\n",
        "      <th>50%</th>\n",
        "      <td>    1.544719</td>\n",
        "    </tr>\n",
        "    <tr>\n",
        "      <th>75%</th>\n",
        "      <td>    3.473710</td>\n",
        "    </tr>\n",
        "    <tr>\n",
        "      <th>max</th>\n",
        "      <td>   29.496767</td>\n",
        "    </tr>\n",
        "  </tbody>\n",
        "</table>\n",
        "</div>"
       ],
       "metadata": {},
       "output_type": "pyout",
       "prompt_number": 20,
       "text": [
        "             error\n",
        "count  5012.000000\n",
        "mean      2.797658\n",
        "std       3.148072\n",
        "min       0.603570\n",
        "25%       0.711095\n",
        "50%       1.544719\n",
        "75%       3.473710\n",
        "max      29.496767"
       ]
      }
     ],
     "prompt_number": 20
    },
    {
     "cell_type": "code",
     "collapsed": false,
     "input": [
      "maximos, minimos = peakdetect(umbral_error.error.values, umbral_error.index.values, lookahead= 100, delta=10)"
     ],
     "language": "python",
     "metadata": {},
     "outputs": [],
     "prompt_number": 21
    },
    {
     "cell_type": "code",
     "collapsed": false,
     "input": [
      "maximos"
     ],
     "language": "python",
     "metadata": {},
     "outputs": [
      {
       "metadata": {},
       "output_type": "pyout",
       "prompt_number": 22,
       "text": [
        "[[18198, 19.908048893757805],\n",
        " [23500, 12.304682543047099],\n",
        " [40865, 15.834988901919301],\n",
        " [41327, 14.018194396227777],\n",
        " [41530, 17.635233220188962],\n",
        " [50409, 12.80833086746645],\n",
        " [52280, 11.44406591362004],\n",
        " [60186, 28.13157643460676],\n",
        " [60574, 29.496766542586698],\n",
        " [60749, 18.730242868235468]]"
       ]
      }
     ],
     "prompt_number": 22
    },
    {
     "cell_type": "code",
     "collapsed": false,
     "input": [
      "groundtruth"
     ],
     "language": "python",
     "metadata": {},
     "outputs": [
      {
       "metadata": {},
       "output_type": "pyout",
       "prompt_number": 23,
       "text": [
        "array([[  550,   780,     0],\n",
        "       [ 2310,  2855,     0],\n",
        "       [ 3730,  3790,     0],\n",
        "       [ 4925,  5570,     0],\n",
        "       [ 5650,  5750,     0],\n",
        "       [ 9680,  9710,     0],\n",
        "       [12370, 12500,     0],\n",
        "       [14020, 14070,     0],\n",
        "       [14760, 14816,     0],\n",
        "       [15290, 15500,     1],\n",
        "       [15815, 15945,     0],\n",
        "       [17340, 17770,     1],\n",
        "       [18150, 18970,     1],\n",
        "       [18970, 19450,     1],\n",
        "       [19875, 19950,     0],\n",
        "       [20170, 20225,     0],\n",
        "       [20560, 20738,     1],\n",
        "       [21760, 21805,     0],\n",
        "       [22830, 23610,     0],\n",
        "       [24020, 24255,     1],\n",
        "       [37185, 37267,     0],\n",
        "       [37940, 38005,     0],\n",
        "       [40710, 41750,     1],\n",
        "       [47020, 47505,     0],\n",
        "       [47670, 47910,     1],\n",
        "       [49230, 49280,     0],\n",
        "       [50365, 50680,     1],\n",
        "       [50940, 51295,     1],\n",
        "       [52230, 52395,     0],\n",
        "       [52765, 53050,     1],\n",
        "       [53330, 53425,     0],\n",
        "       [54375, 54475,     1],\n",
        "       [55315, 56065,     1],\n",
        "       [57120, 57615,     0],\n",
        "       [59110, 62195,     1]])"
       ]
      }
     ],
     "prompt_number": 23
    },
    {
     "cell_type": "code",
     "collapsed": false,
     "input": [
      "data.error.quantile(0.9)"
     ],
     "language": "python",
     "metadata": {},
     "outputs": [
      {
       "metadata": {},
       "output_type": "pyout",
       "prompt_number": 24,
       "text": [
        "0.60356104532234445"
       ]
      }
     ],
     "prompt_number": 24
    },
    {
     "cell_type": "code",
     "collapsed": false,
     "input": [
      "check(data, groundtruth, error_limit=data.error.quantile(0.9))"
     ],
     "language": "python",
     "metadata": {},
     "outputs": [
      {
       "metadata": {},
       "output_type": "display_data",
       "png": "[encoded data removed]",
       "text": [
        "<matplotlib.figure.Figure at 0x7f42062ddc10>"
       ]
      },
      {
       "metadata": {},
       "output_type": "display_data",
       "png": "[encoded data removed]",
       "text": [
        "<matplotlib.figure.Figure at 0x7f4205e4ec90>"
       ]
      },
      {
       "metadata": {},
       "output_type": "display_data",
       "png": "[encoded data removed]",
       "text": [
        "<matplotlib.figure.Figure at 0x7f422e5941d0>"
       ]
      },
      {
       "metadata": {},
       "output_type": "display_data",
       "png": "[encoded data removed]",
       "text": [
        "<matplotlib.figure.Figure at 0x7f422e91e7d0>"
       ]
      },
      {
       "metadata": {},
       "output_type": "display_data",
       "png": "[encoded data removed]",
       "text": [
        "<matplotlib.figure.Figure at 0x7f422e464d10>"
       ]
      },
      {
       "metadata": {},
       "output_type": "display_data",
       "png": "[encoded data removed]",
       "text": [
        "<matplotlib.figure.Figure at 0x7f422e0363d0>"
       ]
      },
      {
       "metadata": {},
       "output_type": "display_data",
       "png": "[encoded data removed]",
       "text": [
        "<matplotlib.figure.Figure at 0x7f4206b0b8d0>"
       ]
      },
      {
       "metadata": {},
       "output_type": "display_data",
       "png": "[encoded data removed]",
       "text": [
        "<matplotlib.figure.Figure at 0x7f4206611f10>"
       ]
      }
     ],
     "prompt_number": 25
    },
    {
     "cell_type": "code",
     "collapsed": false,
     "input": [
      "delta = umbral_error.quantile(0.9).as_matrix()[0]\n",
      "frames_per_sec = 25\n",
      "maximos, minimos = peakdetect(umbral_error.error.values, umbral_error.index.values, lookahead=frames_per_sec, delta=delta)\n",
      "maximos"
     ],
     "language": "python",
     "metadata": {},
     "outputs": [
      {
       "metadata": {},
       "output_type": "pyout",
       "prompt_number": 26,
       "text": [
        "[[3765, 8.4087386683702725],\n",
        " [12425, 9.3984668160103304],\n",
        " [15330, 13.88441109532768],\n",
        " [15884, 7.8678159056873369],\n",
        " [18198, 19.908048893757805],\n",
        " [21790, 14.993794215873868],\n",
        " [23500, 12.304682543047099],\n",
        " [37967, 8.5921199793849166],\n",
        " [40865, 15.834988901919301],\n",
        " [41327, 14.018194396227777],\n",
        " [41464, 14.148374721576957],\n",
        " [41530, 17.635233220188962],\n",
        " [41605, 13.307586987613286],\n",
        " [47417, 8.1892064705260861],\n",
        " [50409, 12.80833086746645],\n",
        " [50993, 22.01725171201327],\n",
        " [52279, 12.130252463485265],\n",
        " [52327, 10.508405206741841],\n",
        " [55381, 13.357452405023986],\n",
        " [59952, 10.34471180942343],\n",
        " [60186, 28.13157643460676],\n",
        " [60463, 22.428519276387107],\n",
        " [60574, 29.496766542586698],\n",
        " [60700, 11.997837137618394],\n",
        " [60749, 18.730242868235468],\n",
        " [61843, 10.161210413549036],\n",
        " [62154, 10.54433121081416]]"
       ]
      }
     ],
     "prompt_number": 26
    },
    {
     "cell_type": "code",
     "collapsed": false,
     "input": [
      "delta"
     ],
     "language": "python",
     "metadata": {},
     "outputs": [
      {
       "metadata": {},
       "output_type": "pyout",
       "prompt_number": 27,
       "text": [
        "6.2581678955918925"
       ]
      }
     ],
     "prompt_number": 27
    },
    {
     "cell_type": "code",
     "collapsed": false,
     "input": [
      "result = pandas.DataFrame({\n",
      "                'start': pandas.Series(groundtruth[:,0]),\n",
      "                'end':  pandas.Series(groundtruth[:,1]),\n",
      "                'reference': pandas.Series(groundtruth[:,2]),\n",
      "})"
     ],
     "language": "python",
     "metadata": {},
     "outputs": [],
     "prompt_number": 28
    },
    {
     "cell_type": "code",
     "collapsed": false,
     "input": [
      "detection = pandas.Series(np.zeros(len(result)), index=result.index)"
     ],
     "language": "python",
     "metadata": {},
     "outputs": [],
     "prompt_number": 29
    },
    {
     "cell_type": "code",
     "collapsed": false,
     "input": [
      "delta = umbral_error.quantile(0.98).as_matrix()[0]\n",
      "frames_per_sec = 25\n",
      "\n",
      "peaks, lows = peakdetect(umbral_error.error.values, umbral_error.index.values, lookahead=frames_per_sec, delta=delta)"
     ],
     "language": "python",
     "metadata": {},
     "outputs": [],
     "prompt_number": 30
    },
    {
     "cell_type": "code",
     "collapsed": false,
     "input": [
      "for peak, value in peaks:\n",
      "    detection[(result.start < peak) & (result.end > peak)] = 1"
     ],
     "language": "python",
     "metadata": {},
     "outputs": [],
     "prompt_number": 31
    },
    {
     "cell_type": "code",
     "collapsed": false,
     "input": [
      "result['detection'] = detection"
     ],
     "language": "python",
     "metadata": {},
     "outputs": [],
     "prompt_number": 32
    },
    {
     "cell_type": "code",
     "collapsed": false,
     "input": [
      "result"
     ],
     "language": "python",
     "metadata": {},
     "outputs": [
      {
       "html": [
        "<div style=\"max-height:1000px;max-width:1500px;overflow:auto;\">\n",
        "<table border=\"1\" class=\"dataframe\">\n",
        "  <thead>\n",
        "    <tr style=\"text-align: right;\">\n",
        "      <th></th>\n",
        "      <th>end</th>\n",
        "      <th>reference</th>\n",
        "      <th>start</th>\n",
        "      <th>detection</th>\n",
        "    </tr>\n",
        "  </thead>\n",
        "  <tbody>\n",
        "    <tr>\n",
        "      <th>0 </th>\n",
        "      <td>   780</td>\n",
        "      <td> 0</td>\n",
        "      <td>   550</td>\n",
        "      <td> 0</td>\n",
        "    </tr>\n",
        "    <tr>\n",
        "      <th>1 </th>\n",
        "      <td>  2855</td>\n",
        "      <td> 0</td>\n",
        "      <td>  2310</td>\n",
        "      <td> 0</td>\n",
        "    </tr>\n",
        "    <tr>\n",
        "      <th>2 </th>\n",
        "      <td>  3790</td>\n",
        "      <td> 0</td>\n",
        "      <td>  3730</td>\n",
        "      <td> 0</td>\n",
        "    </tr>\n",
        "    <tr>\n",
        "      <th>3 </th>\n",
        "      <td>  5570</td>\n",
        "      <td> 0</td>\n",
        "      <td>  4925</td>\n",
        "      <td> 0</td>\n",
        "    </tr>\n",
        "    <tr>\n",
        "      <th>4 </th>\n",
        "      <td>  5750</td>\n",
        "      <td> 0</td>\n",
        "      <td>  5650</td>\n",
        "      <td> 0</td>\n",
        "    </tr>\n",
        "    <tr>\n",
        "      <th>5 </th>\n",
        "      <td>  9710</td>\n",
        "      <td> 0</td>\n",
        "      <td>  9680</td>\n",
        "      <td> 0</td>\n",
        "    </tr>\n",
        "    <tr>\n",
        "      <th>6 </th>\n",
        "      <td> 12500</td>\n",
        "      <td> 0</td>\n",
        "      <td> 12370</td>\n",
        "      <td> 0</td>\n",
        "    </tr>\n",
        "    <tr>\n",
        "      <th>7 </th>\n",
        "      <td> 14070</td>\n",
        "      <td> 0</td>\n",
        "      <td> 14020</td>\n",
        "      <td> 0</td>\n",
        "    </tr>\n",
        "    <tr>\n",
        "      <th>8 </th>\n",
        "      <td> 14816</td>\n",
        "      <td> 0</td>\n",
        "      <td> 14760</td>\n",
        "      <td> 0</td>\n",
        "    </tr>\n",
        "    <tr>\n",
        "      <th>9 </th>\n",
        "      <td> 15500</td>\n",
        "      <td> 1</td>\n",
        "      <td> 15290</td>\n",
        "      <td> 0</td>\n",
        "    </tr>\n",
        "    <tr>\n",
        "      <th>10</th>\n",
        "      <td> 15945</td>\n",
        "      <td> 0</td>\n",
        "      <td> 15815</td>\n",
        "      <td> 0</td>\n",
        "    </tr>\n",
        "    <tr>\n",
        "      <th>11</th>\n",
        "      <td> 17770</td>\n",
        "      <td> 1</td>\n",
        "      <td> 17340</td>\n",
        "      <td> 0</td>\n",
        "    </tr>\n",
        "    <tr>\n",
        "      <th>12</th>\n",
        "      <td> 18970</td>\n",
        "      <td> 1</td>\n",
        "      <td> 18150</td>\n",
        "      <td> 1</td>\n",
        "    </tr>\n",
        "    <tr>\n",
        "      <th>13</th>\n",
        "      <td> 19450</td>\n",
        "      <td> 1</td>\n",
        "      <td> 18970</td>\n",
        "      <td> 0</td>\n",
        "    </tr>\n",
        "    <tr>\n",
        "      <th>14</th>\n",
        "      <td> 19950</td>\n",
        "      <td> 0</td>\n",
        "      <td> 19875</td>\n",
        "      <td> 0</td>\n",
        "    </tr>\n",
        "    <tr>\n",
        "      <th>15</th>\n",
        "      <td> 20225</td>\n",
        "      <td> 0</td>\n",
        "      <td> 20170</td>\n",
        "      <td> 0</td>\n",
        "    </tr>\n",
        "    <tr>\n",
        "      <th>16</th>\n",
        "      <td> 20738</td>\n",
        "      <td> 1</td>\n",
        "      <td> 20560</td>\n",
        "      <td> 0</td>\n",
        "    </tr>\n",
        "    <tr>\n",
        "      <th>17</th>\n",
        "      <td> 21805</td>\n",
        "      <td> 0</td>\n",
        "      <td> 21760</td>\n",
        "      <td> 0</td>\n",
        "    </tr>\n",
        "    <tr>\n",
        "      <th>18</th>\n",
        "      <td> 23610</td>\n",
        "      <td> 0</td>\n",
        "      <td> 22830</td>\n",
        "      <td> 0</td>\n",
        "    </tr>\n",
        "    <tr>\n",
        "      <th>19</th>\n",
        "      <td> 24255</td>\n",
        "      <td> 1</td>\n",
        "      <td> 24020</td>\n",
        "      <td> 0</td>\n",
        "    </tr>\n",
        "    <tr>\n",
        "      <th>20</th>\n",
        "      <td> 37267</td>\n",
        "      <td> 0</td>\n",
        "      <td> 37185</td>\n",
        "      <td> 0</td>\n",
        "    </tr>\n",
        "    <tr>\n",
        "      <th>21</th>\n",
        "      <td> 38005</td>\n",
        "      <td> 0</td>\n",
        "      <td> 37940</td>\n",
        "      <td> 0</td>\n",
        "    </tr>\n",
        "    <tr>\n",
        "      <th>22</th>\n",
        "      <td> 41750</td>\n",
        "      <td> 1</td>\n",
        "      <td> 40710</td>\n",
        "      <td> 1</td>\n",
        "    </tr>\n",
        "    <tr>\n",
        "      <th>23</th>\n",
        "      <td> 47505</td>\n",
        "      <td> 0</td>\n",
        "      <td> 47020</td>\n",
        "      <td> 0</td>\n",
        "    </tr>\n",
        "    <tr>\n",
        "      <th>24</th>\n",
        "      <td> 47910</td>\n",
        "      <td> 1</td>\n",
        "      <td> 47670</td>\n",
        "      <td> 0</td>\n",
        "    </tr>\n",
        "    <tr>\n",
        "      <th>25</th>\n",
        "      <td> 49280</td>\n",
        "      <td> 0</td>\n",
        "      <td> 49230</td>\n",
        "      <td> 0</td>\n",
        "    </tr>\n",
        "    <tr>\n",
        "      <th>26</th>\n",
        "      <td> 50680</td>\n",
        "      <td> 1</td>\n",
        "      <td> 50365</td>\n",
        "      <td> 0</td>\n",
        "    </tr>\n",
        "    <tr>\n",
        "      <th>27</th>\n",
        "      <td> 51295</td>\n",
        "      <td> 1</td>\n",
        "      <td> 50940</td>\n",
        "      <td> 1</td>\n",
        "    </tr>\n",
        "    <tr>\n",
        "      <th>28</th>\n",
        "      <td> 52395</td>\n",
        "      <td> 0</td>\n",
        "      <td> 52230</td>\n",
        "      <td> 0</td>\n",
        "    </tr>\n",
        "    <tr>\n",
        "      <th>29</th>\n",
        "      <td> 53050</td>\n",
        "      <td> 1</td>\n",
        "      <td> 52765</td>\n",
        "      <td> 0</td>\n",
        "    </tr>\n",
        "    <tr>\n",
        "      <th>30</th>\n",
        "      <td> 53425</td>\n",
        "      <td> 0</td>\n",
        "      <td> 53330</td>\n",
        "      <td> 0</td>\n",
        "    </tr>\n",
        "    <tr>\n",
        "      <th>31</th>\n",
        "      <td> 54475</td>\n",
        "      <td> 1</td>\n",
        "      <td> 54375</td>\n",
        "      <td> 0</td>\n",
        "    </tr>\n",
        "    <tr>\n",
        "      <th>32</th>\n",
        "      <td> 56065</td>\n",
        "      <td> 1</td>\n",
        "      <td> 55315</td>\n",
        "      <td> 0</td>\n",
        "    </tr>\n",
        "    <tr>\n",
        "      <th>33</th>\n",
        "      <td> 57615</td>\n",
        "      <td> 0</td>\n",
        "      <td> 57120</td>\n",
        "      <td> 0</td>\n",
        "    </tr>\n",
        "    <tr>\n",
        "      <th>34</th>\n",
        "      <td> 62195</td>\n",
        "      <td> 1</td>\n",
        "      <td> 59110</td>\n",
        "      <td> 1</td>\n",
        "    </tr>\n",
        "  </tbody>\n",
        "</table>\n",
        "</div>"
       ],
       "metadata": {},
       "output_type": "pyout",
       "prompt_number": 33,
       "text": [
        "      end  reference  start  detection\n",
        "0     780          0    550          0\n",
        "1    2855          0   2310          0\n",
        "2    3790          0   3730          0\n",
        "3    5570          0   4925          0\n",
        "4    5750          0   5650          0\n",
        "5    9710          0   9680          0\n",
        "6   12500          0  12370          0\n",
        "7   14070          0  14020          0\n",
        "8   14816          0  14760          0\n",
        "9   15500          1  15290          0\n",
        "10  15945          0  15815          0\n",
        "11  17770          1  17340          0\n",
        "12  18970          1  18150          1\n",
        "13  19450          1  18970          0\n",
        "14  19950          0  19875          0\n",
        "15  20225          0  20170          0\n",
        "16  20738          1  20560          0\n",
        "17  21805          0  21760          0\n",
        "18  23610          0  22830          0\n",
        "19  24255          1  24020          0\n",
        "20  37267          0  37185          0\n",
        "21  38005          0  37940          0\n",
        "22  41750          1  40710          1\n",
        "23  47505          0  47020          0\n",
        "24  47910          1  47670          0\n",
        "25  49280          0  49230          0\n",
        "26  50680          1  50365          0\n",
        "27  51295          1  50940          1\n",
        "28  52395          0  52230          0\n",
        "29  53050          1  52765          0\n",
        "30  53425          0  53330          0\n",
        "31  54475          1  54375          0\n",
        "32  56065          1  55315          0\n",
        "33  57615          0  57120          0\n",
        "34  62195          1  59110          1"
       ]
      }
     ],
     "prompt_number": 33
    },
    {
     "cell_type": "code",
     "collapsed": false,
     "input": [
      "from sklearn.metrics import precision_recall_curve\n",
      "from sklearn.metrics import average_precision_score"
     ],
     "language": "python",
     "metadata": {},
     "outputs": [],
     "prompt_number": 34
    },
    {
     "cell_type": "code",
     "collapsed": false,
     "input": [
      "average_precision = average_precision_score(result.detection, result.reference)"
     ],
     "language": "python",
     "metadata": {},
     "outputs": [],
     "prompt_number": 35
    },
    {
     "cell_type": "code",
     "collapsed": false,
     "input": [
      "precision, recall, __ = precision_recall_curve(result.detection, result.reference)"
     ],
     "language": "python",
     "metadata": {},
     "outputs": [],
     "prompt_number": 36
    },
    {
     "cell_type": "code",
     "collapsed": false,
     "input": [
      "# Plot Precision-Recall curve\n",
      "plt.clf()\n",
      "plt.plot(recall, precision, label='Precision-Recall curve')\n",
      "plt.xlabel('Recall')\n",
      "plt.ylabel('Precision')\n",
      "plt.ylim([0.0, 1.05])\n",
      "plt.xlim([0.0, 1.0])\n",
      "plt.title('Precision-Recall example: AUC={0:0.2f}'.format(average_precision))\n",
      "plt.legend(loc=\"upper right\")\n",
      "plt.show()\n"
     ],
     "language": "python",
     "metadata": {},
     "outputs": [
      {
       "metadata": {},
       "output_type": "display_data",
       "png": "[encoded data removed]",
       "text": [
        "<matplotlib.figure.Figure at 0x7f4206590390>"
       ]
      }
     ],
     "prompt_number": 37
    },
    {
     "cell_type": "code",
     "collapsed": false,
     "input": [],
     "language": "python",
     "metadata": {},
     "outputs": [],
     "prompt_number": 37
    }
   ],
   "metadata": {}
  }
 ]
}