{
 "metadata": {
  "name": "",
  "signature": "sha256:12a03fba4e6e3df321a0ea3be3caa628b8e0bd9fbfe723f3271e4bc8475b03e8"
 },
 "nbformat": 3,
 "nbformat_minor": 0,
 "worksheets": [
  {
   "cells": [
    {
     "cell_type": "code",
     "collapsed": false,
     "input": [
      "import numpy as np\n",
      "from math import pi, log\n",
      "import pylab\n",
      "from scipy import fft, ifft\n",
      "from scipy.optimize import curve_fit\n",
      " \n",
      "i = 10000\n",
      "x = np.linspace(0, 3.5 * pi, i)\n",
      "y = (0.3*np.sin(x) + np.sin(1.3 * x) + 0.9 * np.sin(4.2 * x) + 0.06 *\n",
      "    np.random.randn(i))\n",
      " \n",
      " \n",
      "def _datacheck_peakdetect(x_axis, y_axis):\n",
      "    if x_axis is None:\n",
      "        x_axis = range(len(y_axis))\n",
      "    \n",
      "    if len(y_axis) != len(x_axis):\n",
      "        raise (ValueError, \n",
      "                'Input vectors y_axis and x_axis must have same length')\n",
      "    \n",
      "    #needs to be a numpy array\n",
      "    y_axis = np.array(y_axis)\n",
      "    x_axis = np.array(x_axis)\n",
      "    return x_axis, y_axis\n",
      "    \n",
      "\n",
      "    \n",
      "    \n",
      "def peakdetect(y_axis, x_axis = None, lookahead = 300, delta=0):\n",
      "    \"\"\"\n",
      "    Converted from/based on a MATLAB script at: \n",
      "    http://billauer.co.il/peakdet.html\n",
      "    \n",
      "    function for detecting local maximas and minmias in a signal.\n",
      "    Discovers peaks by searching for values which are surrounded by lower\n",
      "    or larger values for maximas and minimas respectively\n",
      "    \n",
      "    keyword arguments:\n",
      "    y_axis -- A list containg the signal over which to find peaks\n",
      "    x_axis -- (optional) A x-axis whose values correspond to the y_axis list\n",
      "        and is used in the return to specify the postion of the peaks. If\n",
      "        omitted an index of the y_axis is used. (default: None)\n",
      "    lookahead -- (optional) distance to look ahead from a peak candidate to\n",
      "        determine if it is the actual peak (default: 200) \n",
      "        '(sample / period) / f' where '4 >= f >= 1.25' might be a good value\n",
      "    delta -- (optional) this specifies a minimum difference between a peak and\n",
      "        the following points, before a peak may be considered a peak. Useful\n",
      "        to hinder the function from picking up false peaks towards to end of\n",
      "        the signal. To work well delta should be set to delta >= RMSnoise * 5.\n",
      "        (default: 0)\n",
      "            delta function causes a 20% decrease in speed, when omitted\n",
      "            Correctly used it can double the speed of the function\n",
      "    \n",
      "    return -- two lists [max_peaks, min_peaks] containing the positive and\n",
      "        negative peaks respectively. Each cell of the lists contains a tupple\n",
      "        of: (position, peak_value) \n",
      "        to get the average peak value do: np.mean(max_peaks, 0)[1] on the\n",
      "        results to unpack one of the lists into x, y coordinates do: \n",
      "        x, y = zip(*tab)\n",
      "    \"\"\"\n",
      "    max_peaks = []\n",
      "    min_peaks = []\n",
      "    dump = []   #Used to pop the first hit which almost always is false\n",
      "       \n",
      "    # check input data\n",
      "    x_axis, y_axis = _datacheck_peakdetect(x_axis, y_axis)\n",
      "    # store data length for later use\n",
      "    length = len(y_axis)\n",
      "    \n",
      "    \n",
      "    #perform some checks\n",
      "    if lookahead < 1:\n",
      "        raise ValueError, \"Lookahead must be '1' or above in value\"\n",
      "    if not (np.isscalar(delta) and delta >= 0):\n",
      "        raise ValueError, \"delta must be a positive number\"\n",
      "    \n",
      "    #maxima and minima candidates are temporarily stored in\n",
      "    #mx and mn respectively\n",
      "    mn, mx = np.Inf, -np.Inf\n",
      "    \n",
      "    #Only detect peak if there is 'lookahead' amount of points after it\n",
      "    for index, (x, y) in enumerate(zip(x_axis[:-lookahead], \n",
      "                                        y_axis[:-lookahead])):\n",
      "        if y > mx:\n",
      "            mx = y\n",
      "            mxpos = x\n",
      "        if y < mn:\n",
      "            mn = y\n",
      "            mnpos = x\n",
      "        \n",
      "        ####look for max####\n",
      "        if y < mx-delta and mx != np.Inf:\n",
      "            #Maxima peak candidate found\n",
      "            #look ahead in signal to ensure that this is a peak and not jitter\n",
      "            if y_axis[index:index+lookahead].max() < mx:\n",
      "                max_peaks.append([mxpos, mx])\n",
      "                dump.append(True)\n",
      "                #set algorithm to only find minima now\n",
      "                mx = np.Inf\n",
      "                mn = np.Inf\n",
      "                if index+lookahead >= length:\n",
      "                    #end is within lookahead no more peaks can be found\n",
      "                    break\n",
      "                continue\n",
      "            #else:  #slows shit down this does\n",
      "            #    mx = ahead\n",
      "            #    mxpos = x_axis[np.where(y_axis[index:index+lookahead]==mx)]\n",
      "        \n",
      "        ####look for min####\n",
      "        if y > mn+delta and mn != -np.Inf:\n",
      "            #Minima peak candidate found \n",
      "            #look ahead in signal to ensure that this is a peak and not jitter\n",
      "            if y_axis[index:index+lookahead].min() > mn:\n",
      "                min_peaks.append([mnpos, mn])\n",
      "                dump.append(False)\n",
      "                #set algorithm to only find maxima now\n",
      "                mn = -np.Inf\n",
      "                mx = -np.Inf\n",
      "                if index+lookahead >= length:\n",
      "                    #end is within lookahead no more peaks can be found\n",
      "                    break\n",
      "            #else:  #slows shit down this does\n",
      "            #    mn = ahead\n",
      "            #    mnpos = x_axis[np.where(y_axis[index:index+lookahead]==mn)]\n",
      "    \n",
      "    \n",
      "    #Remove the false hit on the first value of the y_axis\n",
      "    try:\n",
      "        if dump[0]:\n",
      "            max_peaks.pop(0)\n",
      "        else:\n",
      "            min_peaks.pop(0)\n",
      "        del dump\n",
      "    except IndexError:\n",
      "        #no peaks were found, should the function return empty lists?\n",
      "        pass\n",
      "        \n",
      "    return [max_peaks, min_peaks]\n",
      "\n",
      "    \n",
      "if __name__ == \"__main__\":\n",
      "    from math import pi\n",
      "    import pylab\n",
      "    \n",
      "    i = 10000\n",
      "    x = np.linspace(0,3.7*pi,i)\n",
      "    y = (0.3*np.sin(x) + np.sin(1.3 * x) + 0.9 * np.sin(4.2 * x) + 0.06 * \n",
      "    np.random.randn(i))\n",
      "    y *= -1\n",
      "    \n",
      "    _max, _min = peakdetect(y, x, 750, 0.30)\n",
      "    xm = [p[0] for p in _max]\n",
      "    ym = [p[1] for p in _max]\n",
      "    xn = [p[0] for p in _min]\n",
      "    yn = [p[1] for p in _min]\n",
      "    \n",
      "    plot = pylab.plot(x, y)\n",
      "    pylab.hold(True)\n",
      "    pylab.plot(xm, ym, 'r+')\n",
      "    pylab.plot(xn, yn, 'g+')\n",
      "    \n",
      "    \n",
      "    pylab.show()"
     ],
     "language": "python",
     "metadata": {},
     "outputs": [
      {
       "metadata": {},
       "output_type": "display_data",
       "png": "[encoded data removed]",
       "text": [
        "<matplotlib.figure.Figure at 0x7fa474f3ecd0>"
       ]
      }
     ],
     "prompt_number": 1
    },
    {
     "cell_type": "code",
     "collapsed": false,
     "input": [
      "trajectory_file = '/home/x/traj/subway-exit-W10-complete.txt'"
     ],
     "language": "python",
     "metadata": {},
     "outputs": [],
     "prompt_number": 2
    },
    {
     "cell_type": "code",
     "collapsed": false,
     "input": [
      "import pandas\n",
      "import numpy as np\n",
      "from pandas.io.parsers import read_csv\n",
      "\n",
      "metadata_fields = ['frameNum', 'mean_x', 'mean_y', 'var_x', 'var_y', 'length', 'scale', 'x_pos', 'y_pos', 't_pos']\n",
      "norm_trajectory_fields = ['norm_trajectory%s' % n for n in range(60)]\n",
      "trajectory_fields = ['trajectory%s' % n for n in range(60)]\n",
      "hog_fields = ['hog%s' % n for n in range(96)]\n",
      "hof_fields = ['hof%s' % n for n in range(108)]\n",
      "mbh_fields = ['mbh%s' % n for n in range(192)]\n",
      "\n",
      "fields = metadata_fields + norm_trajectory_fields + trajectory_fields + hog_fields + hof_fields + mbh_fields\n",
      "\n",
      "temp_data = read_csv(trajectory_file, delimiter='\\t', names=fields, index_col=False)"
     ],
     "language": "python",
     "metadata": {},
     "outputs": [],
     "prompt_number": 3
    },
    {
     "cell_type": "code",
     "collapsed": false,
     "input": [
      "data = pandas.concat([\n",
      "            temp_data.get(metadata_fields),\n",
      "            pandas.Series(temp_data.get(hog_fields).values.tolist(), index=temp_data.index, name='mbh'),\n",
      "            pandas.Series(temp_data.get(trajectory_fields).values.tolist(), index=temp_data.index, name='trajectory'),\n",
      "], axis=1)"
     ],
     "language": "python",
     "metadata": {},
     "outputs": [],
     "prompt_number": 4
    },
    {
     "cell_type": "code",
     "collapsed": false,
     "input": [
      "# Clear memory after having loaded that big file, we will create a slimmer version later\n",
      "%xdel temp_data"
     ],
     "language": "python",
     "metadata": {},
     "outputs": [],
     "prompt_number": 5
    },
    {
     "cell_type": "code",
     "collapsed": false,
     "input": [
      "mbh = np.array(data.mbh.values.tolist())\n",
      "trajectory = np.array(data.trajectory.values.tolist()).round()"
     ],
     "language": "python",
     "metadata": {},
     "outputs": [],
     "prompt_number": 6
    },
    {
     "cell_type": "code",
     "collapsed": false,
     "input": [
      "mbh_reference = mbh[:1000]\n",
      "intercept = mbh_reference.mean(axis=0)\n",
      "delta_reference =  mbh_reference - intercept\n",
      "deviation = delta_reference.std(axis=0)\n",
      "\n",
      "# Use the intercept and deviation from the initial values:\n",
      "delta = mbh - intercept\n",
      "d = delta / deviation"
     ],
     "language": "python",
     "metadata": {},
     "outputs": [],
     "prompt_number": 12
    },
    {
     "cell_type": "code",
     "collapsed": false,
     "input": [
      "from admm.dict_learning import MiniBatchDictionaryLearning"
     ],
     "language": "python",
     "metadata": {},
     "outputs": [],
     "prompt_number": 13
    },
    {
     "cell_type": "code",
     "collapsed": false,
     "input": [
      "def train(d, components=100, alpha=1, n_iter=100, method='lars', batch_size=3, train_ratio=1, train_scale=1):\n",
      "    dico = MiniBatchDictionaryLearning(n_components=components, alpha=alpha, n_iter=n_iter, batch_size=batch_size)\n",
      "\n",
      "    training_limit = int(np.floor(d.shape[0] * train_ratio))\n",
      "\n",
      "    for i in range(train_scale):    \n",
      "        dictionary = dico.fit(d[:training_limit]).components_\n",
      "\n",
      "    code = dico.transform(d)\n",
      "    patches = np.dot(code, dictionary)\n",
      "    error = ((d - patches) ** 2).mean(axis=1)\n",
      "    \n",
      "    return dictionary, code, error, dico"
     ],
     "language": "python",
     "metadata": {},
     "outputs": [],
     "prompt_number": 14
    },
    {
     "cell_type": "code",
     "collapsed": false,
     "input": [
      "import numpy as np\n",
      "import matplotlib as mpl\n",
      "import matplotlib.pylab as plt\n",
      "\n",
      "groundtruth = np.array( [\n",
      "[550, 780, 0],\n",
      "[2310, 2855, 0],\n",
      "[3730, 3790, 0],\n",
      "[4925, 5570, 0],\n",
      "[5650, 5750, 0],\n",
      "[9680, 9710, 0],\n",
      "[12370, 12500, 0],\n",
      "[14020, 14070, 0],\n",
      "[14760, 14816, 0],\n",
      "[15290, 15500, 1],\n",
      "[15815, 15945, 0],\n",
      "[17340, 17770, 1],\n",
      "[18150, 18970, 1],\n",
      "[18970, 19450, 1],\n",
      "[19875, 19950, 0],\n",
      "[20170, 20225, 0],\n",
      "[20560, 20738, 1],\n",
      "[21760, 21805, 0],\n",
      "[22830, 23610, 0],\n",
      "[24020, 24255, 1],\n",
      "[37185, 37267, 0],\n",
      "[37940, 38005, 0],\n",
      "[40710, 41750, 1],\n",
      "[47020, 47505, 0],\n",
      "[47670, 47910, 1],\n",
      "[49230, 49280, 0],\n",
      "[50365, 50680, 1],\n",
      "[50940, 51295, 1],\n",
      "[52230, 52395, 0],\n",
      "[52765, 53050, 1],\n",
      "[53330, 53425, 0],\n",
      "[54375, 54475, 1],\n",
      "[55315, 56065, 1],\n",
      "[57120, 57615, 0],\n",
      "[59110, 62195, 1],\n",
      "])"
     ],
     "language": "python",
     "metadata": {},
     "outputs": [],
     "prompt_number": 15
    },
    {
     "cell_type": "code",
     "collapsed": false,
     "input": [
      "def draw_groundtruth(y, xstart, xstop, color='b'):\n",
      "    \"\"\"Plot timelines at y from xstart to xstop with given color.\"\"\"   \n",
      "    plt.hlines(y, xstart, xstop, color, lw=4)\n",
      "    plt.vlines(xstart, y+ 0.03, y-0.03, color, lw=2)\n",
      "    plt.vlines(xstop, y+0.03, y-0.03, color, lw=2)"
     ],
     "language": "python",
     "metadata": {},
     "outputs": [],
     "prompt_number": 16
    },
    {
     "cell_type": "code",
     "collapsed": false,
     "input": [
      "def check(input_data, groundtruth, error_limit=0, STEP=8000):\n",
      "\n",
      "    frames = np.array(range(1, 62000))\n",
      "\n",
      "    frame_error = input_data[input_data.error > error_limit].get(['frameNum', 'error'])\n",
      "    # frame error sum\n",
      "    fes  = frame_error.groupby(by='frameNum').agg(np.sum)\n",
      "\n",
      "\n",
      "    for index in range(0, len(frames), STEP):\n",
      "\n",
      "        frames_vect = np.array(range(index, index + STEP+1))\n",
      "\n",
      "        values_vect = np.zeros(frames_vect.shape)\n",
      "\n",
      "        for frame, error in fes[(fes.index > index) & (fes.index < index+STEP)].itertuples():\n",
      "            values_vect[frame - index] = error\n",
      "\n",
      "        plt.figure()\n",
      "        gcf().set_figwidth(15)\n",
      "\n",
      "        YLIM = 50\n",
      "\n",
      "        plt.plot(frames_vect, values_vect, color='green', label='error sum')\n",
      "        hold()\n",
      "\n",
      "        for start, end, value in groundtruth:\n",
      "            color = 'red' if value == 1 else 'black'\n",
      "            height = YLIM * 0.7 if value == 1 else YLIM * 0.3\n",
      "            draw_groundtruth(height, start, end, color=color)        \n",
      "            draw_groundtruth(YLIM - height, start, end, color=color)        \n",
      "\n",
      "        title(\"Frames %s to %s\" % (index, index+STEP))\n",
      "\n",
      "        xlim(index, index + STEP)\n",
      "        ylim((0, YLIM))"
     ],
     "language": "python",
     "metadata": {},
     "outputs": [],
     "prompt_number": 17
    },
    {
     "cell_type": "code",
     "collapsed": false,
     "input": [
      "%time dictionary, code, error, dico = train(d, alpha=1, method='admm', n_iter=50, batch_size=20, train_ratio=0.1, train_scale=20)\n",
      "data['error'] = pandas.Series(error, index=data.index, name='error')"
     ],
     "language": "python",
     "metadata": {},
     "outputs": [
      {
       "output_type": "stream",
       "stream": "stdout",
       "text": [
        "CPU times: user 4min 22s, sys: 530 ms, total: 4min 23s\n",
        "Wall time: 4min 23s\n"
       ]
      }
     ],
     "prompt_number": 21
    },
    {
     "cell_type": "code",
     "collapsed": false,
     "input": [
      "check(data, groundtruth, error_limit=0.7)"
     ],
     "language": "python",
     "metadata": {},
     "outputs": [
      {
       "metadata": {},
       "output_type": "display_data",
       "png": "[encoded data removed]",
       "text": [
        "<matplotlib.figure.Figure at 0x7fa43a5f4f10>"
       ]
      },
      {
       "metadata": {},
       "output_type": "display_data",
       "png": "[encoded data removed]",
       "text": [
        "<matplotlib.figure.Figure at 0x7fa45c265790>"
       ]
      },
      {
       "metadata": {},
       "output_type": "display_data",
       "png": "[encoded data removed]",
       "text": [
        "<matplotlib.figure.Figure at 0x7fa45c13de90>"
       ]
      },
      {
       "metadata": {},
       "output_type": "display_data",
       "png": "[encoded data removed]",
       "text": [
        "<matplotlib.figure.Figure at 0x7fa43a691510>"
       ]
      },
      {
       "metadata": {},
       "output_type": "display_data",
       "png": "[encoded data removed]",
       "text": [
        "<matplotlib.figure.Figure at 0x7fa45cb93a50>"
       ]
      },
      {
       "metadata": {},
       "output_type": "display_data",
       "png": "[encoded data removed]",
       "text": [
        "<matplotlib.figure.Figure at 0x7fa43a7f20d0>"
       ]
      },
      {
       "metadata": {},
       "output_type": "display_data",
       "png": "[encoded data removed]",
       "text": [
        "<matplotlib.figure.Figure at 0x7fa45cead7d0>"
       ]
      },
      {
       "metadata": {},
       "output_type": "display_data",
       "png": "[encoded data removed]",
       "text": [
        "<matplotlib.figure.Figure at 0x7fa45be83410>"
       ]
      }
     ],
     "prompt_number": 121
    },
    {
     "cell_type": "code",
     "collapsed": false,
     "input": [
      "frame_error = data.get(['frameNum', 'error']).groupby(by='frameNum').agg(np.sum)"
     ],
     "language": "python",
     "metadata": {},
     "outputs": [],
     "prompt_number": 23
    },
    {
     "cell_type": "code",
     "collapsed": false,
     "input": [
      "peakdetect(frame_error.error.values, frame_error.index.values, lookahead= 300, delta=0)"
     ],
     "language": "python",
     "metadata": {},
     "outputs": [
      {
       "metadata": {},
       "output_type": "pyout",
       "prompt_number": 24,
       "text": [
        "[[[2640, 45.069088797881413],\n",
        "  [3765, 19.924592822906391],\n",
        "  [5699, 19.709084704621024],\n",
        "  [7199, 1.3808886175269499],\n",
        "  [9708, 16.059545345761951],\n",
        "  [10882, 7.3391604910711816],\n",
        "  [12409, 16.853172105333616],\n",
        "  [15328, 26.249611687253164],\n",
        "  [18206, 24.300832188696148],\n",
        "  [19403, 26.374837825144301],\n",
        "  [21790, 12.789137817992509],\n",
        "  [22530, 8.4800463348827222],\n",
        "  [23500, 42.88845011704489],\n",
        "  [25024, 15.732230792001463],\n",
        "  [27587, 5.7218884227204283],\n",
        "  [32265, 20.350492919646495],\n",
        "  [36790, 12.032428746201379],\n",
        "  [37970, 15.727132949164211],\n",
        "  [40890, 34.220040378644455],\n",
        "  [41379, 53.237011172515572],\n",
        "  [42979, 1.5291621929033363],\n",
        "  [45541, 15.704061401253039],\n",
        "  [47427, 46.728968451102261],\n",
        "  [49274, 18.142080212306389],\n",
        "  [50423, 20.740940189377515],\n",
        "  [50998, 32.006732357426394],\n",
        "  [52289, 23.79060726946987],\n",
        "  [52987, 19.400334107738626],\n",
        "  [54448, 14.315953019713586],\n",
        "  [55381, 13.037499485449793],\n",
        "  [57150, 21.470616846264836],\n",
        "  [57477, 18.931724414255413],\n",
        "  [59132, 10.960985291251678],\n",
        "  [60187, 37.700518919070461],\n",
        "  [60574, 59.455238505730847],\n",
        "  [61589, 34.929594300556346],\n",
        "  [62984, 14.798037778121698]],\n",
        " [[1248, 0.055907956726423284],\n",
        "  [2873, 0.042749025288260072],\n",
        "  [4222, 0.049612855137284813],\n",
        "  [6747, 0.039026842914124012],\n",
        "  [8390, 0.038403938552479637],\n",
        "  [10217, 0.039097977186965199],\n",
        "  [11693, 0.053814987899383389],\n",
        "  [12869, 0.036300283775014784],\n",
        "  [16192, 0.044311317423980111],\n",
        "  [18846, 0.063131538477435897],\n",
        "  [21241, 0.040921897134269254],\n",
        "  [22395, 0.056885138693581465],\n",
        "  [22650, 0.11528062435091156],\n",
        "  [23626, 0.065481181094400973],\n",
        "  [25371, 0.037097101838124223],\n",
        "  [28892, 0.045554848888713396],\n",
        "  [32872, 0.042664940054299327],\n",
        "  [36865, 0.045965072562426185],\n",
        "  [38548, 0.058051713538573683],\n",
        "  [41087, 0.3408689161157113],\n",
        "  [42215, 0.054139228928104188],\n",
        "  [44495, 0.044461817848418732],\n",
        "  [46199, 0.044979807827563507],\n",
        "  [48490, 0.047910415709188171],\n",
        "  [49964, 0.055262477088077848],\n",
        "  [50584, 0.057023969296847783],\n",
        "  [51991, 0.043161889221373956],\n",
        "  [52619, 0.049196452987774912],\n",
        "  [53869, 0.045145364737324473],\n",
        "  [55196, 0.040847764322342314],\n",
        "  [56548, 0.05986487503432808],\n",
        "  [57207, 0.11674838526500918],\n",
        "  [58497, 0.046561000146147336],\n",
        "  [59774, 0.053733690550858158],\n",
        "  [60303, 0.083739442038042192],\n",
        "  [61048, 0.075762877989348568],\n",
        "  [62716, 0.03772691621968622],\n",
        "  [63240, 0.042915989105305814]]]"
       ]
      }
     ],
     "prompt_number": 24
    },
    {
     "cell_type": "code",
     "collapsed": false,
     "input": [
      "frame_error.describe()"
     ],
     "language": "python",
     "metadata": {},
     "outputs": [
      {
       "html": [
        "<div style=\"max-height:1000px;max-width:1500px;overflow:auto;\">\n",
        "<table border=\"1\" class=\"dataframe\">\n",
        "  <thead>\n",
        "    <tr style=\"text-align: right;\">\n",
        "      <th></th>\n",
        "      <th>error</th>\n",
        "    </tr>\n",
        "  </thead>\n",
        "  <tbody>\n",
        "    <tr>\n",
        "      <th>count</th>\n",
        "      <td> 24952.000000</td>\n",
        "    </tr>\n",
        "    <tr>\n",
        "      <th>mean</th>\n",
        "      <td>     3.555262</td>\n",
        "    </tr>\n",
        "    <tr>\n",
        "      <th>std</th>\n",
        "      <td>     6.564159</td>\n",
        "    </tr>\n",
        "    <tr>\n",
        "      <th>min</th>\n",
        "      <td>     0.036300</td>\n",
        "    </tr>\n",
        "    <tr>\n",
        "      <th>25%</th>\n",
        "      <td>     0.249574</td>\n",
        "    </tr>\n",
        "    <tr>\n",
        "      <th>50%</th>\n",
        "      <td>     0.637998</td>\n",
        "    </tr>\n",
        "    <tr>\n",
        "      <th>75%</th>\n",
        "      <td>     3.643569</td>\n",
        "    </tr>\n",
        "    <tr>\n",
        "      <th>max</th>\n",
        "      <td>    59.455239</td>\n",
        "    </tr>\n",
        "  </tbody>\n",
        "</table>\n",
        "</div>"
       ],
       "metadata": {},
       "output_type": "pyout",
       "prompt_number": 25,
       "text": [
        "              error\n",
        "count  24952.000000\n",
        "mean       3.555262\n",
        "std        6.564159\n",
        "min        0.036300\n",
        "25%        0.249574\n",
        "50%        0.637998\n",
        "75%        3.643569\n",
        "max       59.455239"
       ]
      }
     ],
     "prompt_number": 25
    },
    {
     "cell_type": "code",
     "collapsed": false,
     "input": [
      "umbral_error = data[data.error > data.error.quantile(0.9)].get(['frameNum', 'error']).groupby(by='frameNum').agg(np.sum)"
     ],
     "language": "python",
     "metadata": {},
     "outputs": [],
     "prompt_number": 99
    },
    {
     "cell_type": "code",
     "collapsed": false,
     "input": [
      "umbral_error.describe()"
     ],
     "language": "python",
     "metadata": {},
     "outputs": [
      {
       "html": [
        "<div style=\"max-height:1000px;max-width:1500px;overflow:auto;\">\n",
        "<table border=\"1\" class=\"dataframe\">\n",
        "  <thead>\n",
        "    <tr style=\"text-align: right;\">\n",
        "      <th></th>\n",
        "      <th>error</th>\n",
        "    </tr>\n",
        "  </thead>\n",
        "  <tbody>\n",
        "    <tr>\n",
        "      <th>count</th>\n",
        "      <td> 5409.000000</td>\n",
        "    </tr>\n",
        "    <tr>\n",
        "      <th>mean</th>\n",
        "      <td>    3.276430</td>\n",
        "    </tr>\n",
        "    <tr>\n",
        "      <th>std</th>\n",
        "      <td>    3.997344</td>\n",
        "    </tr>\n",
        "    <tr>\n",
        "      <th>min</th>\n",
        "      <td>    0.754534</td>\n",
        "    </tr>\n",
        "    <tr>\n",
        "      <th>25%</th>\n",
        "      <td>    0.869244</td>\n",
        "    </tr>\n",
        "    <tr>\n",
        "      <th>50%</th>\n",
        "      <td>    1.739263</td>\n",
        "    </tr>\n",
        "    <tr>\n",
        "      <th>75%</th>\n",
        "      <td>    3.710187</td>\n",
        "    </tr>\n",
        "    <tr>\n",
        "      <th>max</th>\n",
        "      <td>   40.548435</td>\n",
        "    </tr>\n",
        "  </tbody>\n",
        "</table>\n",
        "</div>"
       ],
       "metadata": {},
       "output_type": "pyout",
       "prompt_number": 100,
       "text": [
        "             error\n",
        "count  5409.000000\n",
        "mean      3.276430\n",
        "std       3.997344\n",
        "min       0.754534\n",
        "25%       0.869244\n",
        "50%       1.739263\n",
        "75%       3.710187\n",
        "max      40.548435"
       ]
      }
     ],
     "prompt_number": 100
    },
    {
     "cell_type": "code",
     "collapsed": false,
     "input": [
      "maximos, minimos = peakdetect(umbral_error.error.values, umbral_error.index.values, lookahead= 100, delta=10)"
     ],
     "language": "python",
     "metadata": {},
     "outputs": [],
     "prompt_number": 101
    },
    {
     "cell_type": "code",
     "collapsed": false,
     "input": [
      "maximos"
     ],
     "language": "python",
     "metadata": {},
     "outputs": [
      {
       "metadata": {},
       "output_type": "pyout",
       "prompt_number": 102,
       "text": [
        "[[15327, 14.557192602756491],\n",
        " [18206, 13.197687395874574],\n",
        " [40889, 18.874608918691653],\n",
        " [41559, 34.024265630423656],\n",
        " [47427, 22.258893065203914],\n",
        " [50408, 16.939057322843198],\n",
        " [50993, 21.865935202946851],\n",
        " [57491, 11.078096570281964],\n",
        " [60191, 20.692133498093661],\n",
        " [60574, 40.548435456434575]]"
       ]
      }
     ],
     "prompt_number": 102
    },
    {
     "cell_type": "code",
     "collapsed": false,
     "input": [
      "groundtruth"
     ],
     "language": "python",
     "metadata": {},
     "outputs": [
      {
       "metadata": {},
       "output_type": "pyout",
       "prompt_number": 103,
       "text": [
        "array([[  550,   780,     0],\n",
        "       [ 2310,  2855,     0],\n",
        "       [ 3730,  3790,     0],\n",
        "       [ 4925,  5570,     0],\n",
        "       [ 5650,  5750,     0],\n",
        "       [ 9680,  9710,     0],\n",
        "       [12370, 12500,     0],\n",
        "       [14020, 14070,     0],\n",
        "       [14760, 14816,     0],\n",
        "       [15290, 15500,     1],\n",
        "       [15815, 15945,     0],\n",
        "       [17340, 17770,     1],\n",
        "       [18150, 18970,     1],\n",
        "       [18970, 19450,     1],\n",
        "       [19875, 19950,     0],\n",
        "       [20170, 20225,     0],\n",
        "       [20560, 20738,     1],\n",
        "       [21760, 21805,     0],\n",
        "       [22830, 23610,     0],\n",
        "       [24020, 24255,     1],\n",
        "       [37185, 37267,     0],\n",
        "       [37940, 38005,     0],\n",
        "       [40710, 41750,     1],\n",
        "       [47020, 47505,     0],\n",
        "       [47670, 47910,     1],\n",
        "       [49230, 49280,     0],\n",
        "       [50365, 50680,     1],\n",
        "       [50940, 51295,     1],\n",
        "       [52230, 52395,     0],\n",
        "       [52765, 53050,     1],\n",
        "       [53330, 53425,     0],\n",
        "       [54375, 54475,     1],\n",
        "       [55315, 56065,     1],\n",
        "       [57120, 57615,     0],\n",
        "       [59110, 62195,     1]])"
       ]
      }
     ],
     "prompt_number": 103
    },
    {
     "cell_type": "code",
     "collapsed": false,
     "input": [
      "data.error.quantile(0.9)"
     ],
     "language": "python",
     "metadata": {},
     "outputs": [
      {
       "metadata": {},
       "output_type": "pyout",
       "prompt_number": 104,
       "text": [
        "0.75439221182120075"
       ]
      }
     ],
     "prompt_number": 104
    },
    {
     "cell_type": "code",
     "collapsed": false,
     "input": [
      "check(data, groundtruth, error_limit=data.error.quantile(0.9))"
     ],
     "language": "python",
     "metadata": {},
     "outputs": [
      {
       "metadata": {},
       "output_type": "display_data",
       "png": "[encoded data removed]",
       "text": [
        "<matplotlib.figure.Figure at 0x7fa44c59c450>"
       ]
      },
      {
       "metadata": {},
       "output_type": "display_data",
       "png": "[encoded data removed]",
       "text": [
        "<matplotlib.figure.Figure at 0x7fa45d2543d0>"
       ]
      },
      {
       "metadata": {},
       "output_type": "display_data",
       "png": "[encoded data removed]",
       "text": [
        "<matplotlib.figure.Figure at 0x7fa45cb18ad0>"
       ]
      },
      {
       "metadata": {},
       "output_type": "display_data",
       "png": "[encoded data removed]",
       "text": [
        "<matplotlib.figure.Figure at 0x7fa45ca5a150>"
       ]
      },
      {
       "metadata": {},
       "output_type": "display_data",
       "png": "[encoded data removed]",
       "text": [
        "<matplotlib.figure.Figure at 0x7fa45c612690>"
       ]
      },
      {
       "metadata": {},
       "output_type": "display_data",
       "png": "[encoded data removed]",
       "text": [
        "<matplotlib.figure.Figure at 0x7fa45bd4ecd0>"
       ]
      },
      {
       "metadata": {},
       "output_type": "display_data",
       "png": "[encoded data removed]",
       "text": [
        "<matplotlib.figure.Figure at 0x7fa45d0b3250>"
       ]
      },
      {
       "metadata": {},
       "output_type": "display_data",
       "png": "[encoded data removed]",
       "text": [
        "<matplotlib.figure.Figure at 0x7fa45c9f8890>"
       ]
      }
     ],
     "prompt_number": 105
    },
    {
     "cell_type": "code",
     "collapsed": false,
     "input": [
      "delta = umbral_error.quantile(0.9).as_matrix()[0]\n",
      "frames_per_sec = 25\n",
      "maximos, minimos = peakdetect(umbral_error.error.values, umbral_error.index.values, lookahead=frames_per_sec, delta=delta)\n",
      "maximos"
     ],
     "language": "python",
     "metadata": {},
     "outputs": [
      {
       "metadata": {},
       "output_type": "pyout",
       "prompt_number": 106,
       "text": [
        "[[2765, 10.610932375848387],\n",
        " [15327, 14.557192602756491],\n",
        " [18206, 13.197687395874574],\n",
        " [23493, 9.4814057157469023],\n",
        " [40889, 18.874608918691653],\n",
        " [41303, 11.204929802698812],\n",
        " [41465, 17.788770471094679],\n",
        " [41559, 34.024265630423656],\n",
        " [47427, 22.258893065203914],\n",
        " [47463, 12.249732966684615],\n",
        " [50408, 16.939057322843198],\n",
        " [50993, 21.865935202946851],\n",
        " [57491, 11.078096570281964],\n",
        " [60191, 20.692133498093661],\n",
        " [60233, 9.4645302163302851],\n",
        " [60485, 18.85194735498926],\n",
        " [60574, 40.548435456434575],\n",
        " [60593, 19.79147171208918],\n",
        " [60679, 24.482026816286378],\n",
        " [60756, 16.131656747529927],\n",
        " [61610, 9.7938748916800318],\n",
        " [61860, 11.151294928736192]]"
       ]
      }
     ],
     "prompt_number": 106
    },
    {
     "cell_type": "code",
     "collapsed": false,
     "input": [
      "delta"
     ],
     "language": "python",
     "metadata": {},
     "outputs": [
      {
       "metadata": {},
       "output_type": "pyout",
       "prompt_number": 107,
       "text": [
        "7.9364644967152209"
       ]
      }
     ],
     "prompt_number": 107
    },
    {
     "cell_type": "code",
     "collapsed": false,
     "input": [
      "result = pandas.DataFrame({\n",
      "                'start': pandas.Series(groundtruth[:,0]),\n",
      "                'end':  pandas.Series(groundtruth[:,1]),\n",
      "                'reference': pandas.Series(groundtruth[:,2]),\n",
      "})"
     ],
     "language": "python",
     "metadata": {},
     "outputs": [],
     "prompt_number": 108
    },
    {
     "cell_type": "code",
     "collapsed": false,
     "input": [
      "detection = pandas.Series(np.zeros(len(result)), index=result.index)"
     ],
     "language": "python",
     "metadata": {},
     "outputs": [],
     "prompt_number": 109
    },
    {
     "cell_type": "code",
     "collapsed": false,
     "input": [
      "delta = umbral_error.quantile(0.9).as_matrix()[0]\n",
      "frames_per_sec = 25\n",
      "\n",
      "peaks, lows = peakdetect(umbral_error.error.values, umbral_error.index.values, lookahead=frames_per_sec, delta=delta)"
     ],
     "language": "python",
     "metadata": {},
     "outputs": [],
     "prompt_number": 110
    },
    {
     "cell_type": "code",
     "collapsed": false,
     "input": [
      "for peak, value in peaks:\n",
      "    detection[(result.start < peak) & (result.end > peak)] = 1"
     ],
     "language": "python",
     "metadata": {},
     "outputs": [],
     "prompt_number": 111
    },
    {
     "cell_type": "code",
     "collapsed": false,
     "input": [
      "result['detection'] = detection"
     ],
     "language": "python",
     "metadata": {},
     "outputs": [],
     "prompt_number": 112
    },
    {
     "cell_type": "code",
     "collapsed": false,
     "input": [
      "result"
     ],
     "language": "python",
     "metadata": {},
     "outputs": [
      {
       "html": [
        "<div style=\"max-height:1000px;max-width:1500px;overflow:auto;\">\n",
        "<table border=\"1\" class=\"dataframe\">\n",
        "  <thead>\n",
        "    <tr style=\"text-align: right;\">\n",
        "      <th></th>\n",
        "      <th>end</th>\n",
        "      <th>reference</th>\n",
        "      <th>start</th>\n",
        "      <th>detection</th>\n",
        "    </tr>\n",
        "  </thead>\n",
        "  <tbody>\n",
        "    <tr>\n",
        "      <th>0 </th>\n",
        "      <td>   780</td>\n",
        "      <td> 0</td>\n",
        "      <td>   550</td>\n",
        "      <td> 0</td>\n",
        "    </tr>\n",
        "    <tr>\n",
        "      <th>1 </th>\n",
        "      <td>  2855</td>\n",
        "      <td> 0</td>\n",
        "      <td>  2310</td>\n",
        "      <td> 1</td>\n",
        "    </tr>\n",
        "    <tr>\n",
        "      <th>2 </th>\n",
        "      <td>  3790</td>\n",
        "      <td> 0</td>\n",
        "      <td>  3730</td>\n",
        "      <td> 0</td>\n",
        "    </tr>\n",
        "    <tr>\n",
        "      <th>3 </th>\n",
        "      <td>  5570</td>\n",
        "      <td> 0</td>\n",
        "      <td>  4925</td>\n",
        "      <td> 0</td>\n",
        "    </tr>\n",
        "    <tr>\n",
        "      <th>4 </th>\n",
        "      <td>  5750</td>\n",
        "      <td> 0</td>\n",
        "      <td>  5650</td>\n",
        "      <td> 0</td>\n",
        "    </tr>\n",
        "    <tr>\n",
        "      <th>5 </th>\n",
        "      <td>  9710</td>\n",
        "      <td> 0</td>\n",
        "      <td>  9680</td>\n",
        "      <td> 0</td>\n",
        "    </tr>\n",
        "    <tr>\n",
        "      <th>6 </th>\n",
        "      <td> 12500</td>\n",
        "      <td> 0</td>\n",
        "      <td> 12370</td>\n",
        "      <td> 0</td>\n",
        "    </tr>\n",
        "    <tr>\n",
        "      <th>7 </th>\n",
        "      <td> 14070</td>\n",
        "      <td> 0</td>\n",
        "      <td> 14020</td>\n",
        "      <td> 0</td>\n",
        "    </tr>\n",
        "    <tr>\n",
        "      <th>8 </th>\n",
        "      <td> 14816</td>\n",
        "      <td> 0</td>\n",
        "      <td> 14760</td>\n",
        "      <td> 0</td>\n",
        "    </tr>\n",
        "    <tr>\n",
        "      <th>9 </th>\n",
        "      <td> 15500</td>\n",
        "      <td> 1</td>\n",
        "      <td> 15290</td>\n",
        "      <td> 1</td>\n",
        "    </tr>\n",
        "    <tr>\n",
        "      <th>10</th>\n",
        "      <td> 15945</td>\n",
        "      <td> 0</td>\n",
        "      <td> 15815</td>\n",
        "      <td> 0</td>\n",
        "    </tr>\n",
        "    <tr>\n",
        "      <th>11</th>\n",
        "      <td> 17770</td>\n",
        "      <td> 1</td>\n",
        "      <td> 17340</td>\n",
        "      <td> 0</td>\n",
        "    </tr>\n",
        "    <tr>\n",
        "      <th>12</th>\n",
        "      <td> 18970</td>\n",
        "      <td> 1</td>\n",
        "      <td> 18150</td>\n",
        "      <td> 1</td>\n",
        "    </tr>\n",
        "    <tr>\n",
        "      <th>13</th>\n",
        "      <td> 19450</td>\n",
        "      <td> 1</td>\n",
        "      <td> 18970</td>\n",
        "      <td> 0</td>\n",
        "    </tr>\n",
        "    <tr>\n",
        "      <th>14</th>\n",
        "      <td> 19950</td>\n",
        "      <td> 0</td>\n",
        "      <td> 19875</td>\n",
        "      <td> 0</td>\n",
        "    </tr>\n",
        "    <tr>\n",
        "      <th>15</th>\n",
        "      <td> 20225</td>\n",
        "      <td> 0</td>\n",
        "      <td> 20170</td>\n",
        "      <td> 0</td>\n",
        "    </tr>\n",
        "    <tr>\n",
        "      <th>16</th>\n",
        "      <td> 20738</td>\n",
        "      <td> 1</td>\n",
        "      <td> 20560</td>\n",
        "      <td> 0</td>\n",
        "    </tr>\n",
        "    <tr>\n",
        "      <th>17</th>\n",
        "      <td> 21805</td>\n",
        "      <td> 0</td>\n",
        "      <td> 21760</td>\n",
        "      <td> 0</td>\n",
        "    </tr>\n",
        "    <tr>\n",
        "      <th>18</th>\n",
        "      <td> 23610</td>\n",
        "      <td> 0</td>\n",
        "      <td> 22830</td>\n",
        "      <td> 1</td>\n",
        "    </tr>\n",
        "    <tr>\n",
        "      <th>19</th>\n",
        "      <td> 24255</td>\n",
        "      <td> 1</td>\n",
        "      <td> 24020</td>\n",
        "      <td> 0</td>\n",
        "    </tr>\n",
        "    <tr>\n",
        "      <th>20</th>\n",
        "      <td> 37267</td>\n",
        "      <td> 0</td>\n",
        "      <td> 37185</td>\n",
        "      <td> 0</td>\n",
        "    </tr>\n",
        "    <tr>\n",
        "      <th>21</th>\n",
        "      <td> 38005</td>\n",
        "      <td> 0</td>\n",
        "      <td> 37940</td>\n",
        "      <td> 0</td>\n",
        "    </tr>\n",
        "    <tr>\n",
        "      <th>22</th>\n",
        "      <td> 41750</td>\n",
        "      <td> 1</td>\n",
        "      <td> 40710</td>\n",
        "      <td> 1</td>\n",
        "    </tr>\n",
        "    <tr>\n",
        "      <th>23</th>\n",
        "      <td> 47505</td>\n",
        "      <td> 0</td>\n",
        "      <td> 47020</td>\n",
        "      <td> 1</td>\n",
        "    </tr>\n",
        "    <tr>\n",
        "      <th>24</th>\n",
        "      <td> 47910</td>\n",
        "      <td> 1</td>\n",
        "      <td> 47670</td>\n",
        "      <td> 0</td>\n",
        "    </tr>\n",
        "    <tr>\n",
        "      <th>25</th>\n",
        "      <td> 49280</td>\n",
        "      <td> 0</td>\n",
        "      <td> 49230</td>\n",
        "      <td> 0</td>\n",
        "    </tr>\n",
        "    <tr>\n",
        "      <th>26</th>\n",
        "      <td> 50680</td>\n",
        "      <td> 1</td>\n",
        "      <td> 50365</td>\n",
        "      <td> 1</td>\n",
        "    </tr>\n",
        "    <tr>\n",
        "      <th>27</th>\n",
        "      <td> 51295</td>\n",
        "      <td> 1</td>\n",
        "      <td> 50940</td>\n",
        "      <td> 1</td>\n",
        "    </tr>\n",
        "    <tr>\n",
        "      <th>28</th>\n",
        "      <td> 52395</td>\n",
        "      <td> 0</td>\n",
        "      <td> 52230</td>\n",
        "      <td> 0</td>\n",
        "    </tr>\n",
        "    <tr>\n",
        "      <th>29</th>\n",
        "      <td> 53050</td>\n",
        "      <td> 1</td>\n",
        "      <td> 52765</td>\n",
        "      <td> 0</td>\n",
        "    </tr>\n",
        "    <tr>\n",
        "      <th>30</th>\n",
        "      <td> 53425</td>\n",
        "      <td> 0</td>\n",
        "      <td> 53330</td>\n",
        "      <td> 0</td>\n",
        "    </tr>\n",
        "    <tr>\n",
        "      <th>31</th>\n",
        "      <td> 54475</td>\n",
        "      <td> 1</td>\n",
        "      <td> 54375</td>\n",
        "      <td> 0</td>\n",
        "    </tr>\n",
        "    <tr>\n",
        "      <th>32</th>\n",
        "      <td> 56065</td>\n",
        "      <td> 1</td>\n",
        "      <td> 55315</td>\n",
        "      <td> 0</td>\n",
        "    </tr>\n",
        "    <tr>\n",
        "      <th>33</th>\n",
        "      <td> 57615</td>\n",
        "      <td> 0</td>\n",
        "      <td> 57120</td>\n",
        "      <td> 1</td>\n",
        "    </tr>\n",
        "    <tr>\n",
        "      <th>34</th>\n",
        "      <td> 62195</td>\n",
        "      <td> 1</td>\n",
        "      <td> 59110</td>\n",
        "      <td> 1</td>\n",
        "    </tr>\n",
        "  </tbody>\n",
        "</table>\n",
        "</div>"
       ],
       "metadata": {},
       "output_type": "pyout",
       "prompt_number": 113,
       "text": [
        "      end  reference  start  detection\n",
        "0     780          0    550          0\n",
        "1    2855          0   2310          1\n",
        "2    3790          0   3730          0\n",
        "3    5570          0   4925          0\n",
        "4    5750          0   5650          0\n",
        "5    9710          0   9680          0\n",
        "6   12500          0  12370          0\n",
        "7   14070          0  14020          0\n",
        "8   14816          0  14760          0\n",
        "9   15500          1  15290          1\n",
        "10  15945          0  15815          0\n",
        "11  17770          1  17340          0\n",
        "12  18970          1  18150          1\n",
        "13  19450          1  18970          0\n",
        "14  19950          0  19875          0\n",
        "15  20225          0  20170          0\n",
        "16  20738          1  20560          0\n",
        "17  21805          0  21760          0\n",
        "18  23610          0  22830          1\n",
        "19  24255          1  24020          0\n",
        "20  37267          0  37185          0\n",
        "21  38005          0  37940          0\n",
        "22  41750          1  40710          1\n",
        "23  47505          0  47020          1\n",
        "24  47910          1  47670          0\n",
        "25  49280          0  49230          0\n",
        "26  50680          1  50365          1\n",
        "27  51295          1  50940          1\n",
        "28  52395          0  52230          0\n",
        "29  53050          1  52765          0\n",
        "30  53425          0  53330          0\n",
        "31  54475          1  54375          0\n",
        "32  56065          1  55315          0\n",
        "33  57615          0  57120          1\n",
        "34  62195          1  59110          1"
       ]
      }
     ],
     "prompt_number": 113
    },
    {
     "cell_type": "code",
     "collapsed": false,
     "input": [
      "from sklearn.metrics import precision_recall_curve\n",
      "from sklearn.metrics import average_precision_score"
     ],
     "language": "python",
     "metadata": {},
     "outputs": [],
     "prompt_number": 114
    },
    {
     "cell_type": "code",
     "collapsed": false,
     "input": [
      "average_precision = average_precision_score(result.detection, result.reference)"
     ],
     "language": "python",
     "metadata": {},
     "outputs": [],
     "prompt_number": 115
    },
    {
     "cell_type": "code",
     "collapsed": false,
     "input": [
      "precision, recall, __ = precision_recall_curve(result.detection, result.reference)"
     ],
     "language": "python",
     "metadata": {},
     "outputs": [],
     "prompt_number": 116
    },
    {
     "cell_type": "code",
     "collapsed": false,
     "input": [
      "# Plot Precision-Recall curve\n",
      "plt.clf()\n",
      "plt.plot(recall, precision, label='Precision-Recall curve')\n",
      "plt.xlabel('Recall')\n",
      "plt.ylabel('Precision')\n",
      "plt.ylim([0.0, 1.05])\n",
      "plt.xlim([0.0, 1.0])\n",
      "plt.title('Precision-Recall example: AUC={0:0.2f}'.format(average_precision))\n",
      "plt.legend(loc=\"upper right\")\n",
      "plt.show()\n"
     ],
     "language": "python",
     "metadata": {},
     "outputs": [
      {
       "metadata": {},
       "output_type": "display_data",
       "png": "[encoded data removed]",
       "text": [
        "<matplotlib.figure.Figure at 0x7fa45c982350>"
       ]
      }
     ],
     "prompt_number": 117
    },
    {
     "cell_type": "code",
     "collapsed": false,
     "input": [],
     "language": "python",
     "metadata": {},
     "outputs": []
    }
   ],
   "metadata": {}
  }
 ]
}