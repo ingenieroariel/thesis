{
 "metadata": {
  "name": ""
 },
 "nbformat": 3,
 "nbformat_minor": 0,
 "worksheets": [
  {
   "cells": [
    {
     "cell_type": "heading",
     "level": 1,
     "metadata": {},
     "source": [
      "Teaching myself ADMM"
     ]
    },
    {
     "cell_type": "markdown",
     "metadata": {},
     "source": [
      " * Author: Ariel N\u00fa\u00f1ez ingenieroariel@gmail.com\n",
      " * Background: http://www.stanford.edu/~boyd/papers/pdf/admm_distr_stats.pdf\n",
      " * License: CC-BY-SA for the document, MIT for the code."
     ]
    },
    {
     "cell_type": "code",
     "collapsed": false,
     "input": [],
     "language": "python",
     "metadata": {},
     "outputs": []
    }
   ],
   "metadata": {}
  }
 ]
}