{
 "metadata": {
  "name": ""
 },
 "nbformat": 3,
 "nbformat_minor": 0,
 "worksheets": [
  {
   "cells": [
    {
     "cell_type": "heading",
     "level": 1,
     "metadata": {},
     "source": [
      "T\u00e9rmino de vecindad en Zhao et al."
     ]
    },
    {
     "cell_type": "code",
     "collapsed": false,
     "input": [
      "from sympy.physics.quantum import matrixutils as mu\n",
      "from sympy.interactive import printing\n",
      "import sympy as sy\n",
      "printing.init_printing()"
     ],
     "language": "python",
     "metadata": {},
     "outputs": [],
     "prompt_number": 1
    },
    {
     "cell_type": "code",
     "collapsed": false,
     "input": [
      "n_patches = 3\n",
      "n_dictionary = 2"
     ],
     "language": "python",
     "metadata": {},
     "outputs": [],
     "prompt_number": 2
    },
    {
     "cell_type": "code",
     "collapsed": false,
     "input": [
      "w = sy.MatrixSymbol('W', n_patches, n_patches)"
     ],
     "language": "python",
     "metadata": {},
     "outputs": [],
     "prompt_number": 3
    },
    {
     "cell_type": "code",
     "collapsed": false,
     "input": [
      "w = sy.Matrix(w).subs(w[0,0],0)\n",
      "w = sy.Matrix(w).subs(w[1,1],0)\n",
      "w = sy.Matrix(w).subs(w[2,2],0)\n",
      "w"
     ],
     "language": "python",
     "metadata": {},
     "outputs": [
      {
       "metadata": {},
       "output_type": "pyout",
       "prompt_number": 4,
       "text": [
        "\u23a1 0   W\u2080\u2081  W\u2080\u2082\u23a4\n",
        "\u23a2             \u23a5\n",
        "\u23a2W\u2081\u2080   0   W\u2081\u2082\u23a5\n",
        "\u23a2             \u23a5\n",
        "\u23a3W\u2082\u2080  W\u2082\u2081   0 \u23a6"
       ]
      }
     ],
     "prompt_number": 4
    },
    {
     "cell_type": "code",
     "collapsed": false,
     "input": [
      "s = sy.eye(n_patches)\n",
      "s[0,0] = sum(w[0,:])\n",
      "s[1,1] = sum(w[1,:])\n",
      "s[2,2] = sum(w[2,:])\n",
      "s"
     ],
     "language": "python",
     "metadata": {},
     "outputs": [
      {
       "metadata": {},
       "output_type": "pyout",
       "prompt_number": 5,
       "text": [
        "\u23a1W\u2080\u2081 + W\u2080\u2082      0          0    \u23a4\n",
        "\u23a2                               \u23a5\n",
        "\u23a2    0      W\u2081\u2080 + W\u2081\u2082      0    \u23a5\n",
        "\u23a2                               \u23a5\n",
        "\u23a3    0          0      W\u2082\u2080 + W\u2082\u2081\u23a6"
       ]
      }
     ],
     "prompt_number": 5
    },
    {
     "cell_type": "code",
     "collapsed": false,
     "input": [
      "L = s - w\n",
      "L"
     ],
     "language": "python",
     "metadata": {},
     "outputs": [
      {
       "metadata": {},
       "output_type": "pyout",
       "prompt_number": 6,
       "text": [
        "\u23a1W\u2080\u2081 + W\u2080\u2082    -W\u2080\u2081       -W\u2080\u2082   \u23a4\n",
        "\u23a2                               \u23a5\n",
        "\u23a2  -W\u2081\u2080     W\u2081\u2080 + W\u2081\u2082    -W\u2081\u2082   \u23a5\n",
        "\u23a2                               \u23a5\n",
        "\u23a3  -W\u2082\u2080       -W\u2082\u2081     W\u2082\u2080 + W\u2082\u2081\u23a6"
       ]
      }
     ],
     "prompt_number": 6
    },
    {
     "cell_type": "code",
     "collapsed": false,
     "input": [
      "L_exp = mu._sympy_tensor_product(L, sy.eye(2))\n",
      "L_exp"
     ],
     "language": "python",
     "metadata": {},
     "outputs": [
      {
       "metadata": {},
       "output_type": "pyout",
       "prompt_number": 7,
       "text": [
        "\u23a1W\u2080\u2081 + W\u2080\u2082      0        -W\u2080\u2081         0        -W\u2080\u2082         0    \u23a4\n",
        "\u23a2                                                                \u23a5\n",
        "\u23a2    0      W\u2080\u2081 + W\u2080\u2082      0        -W\u2080\u2081         0        -W\u2080\u2082   \u23a5\n",
        "\u23a2                                                                \u23a5\n",
        "\u23a2  -W\u2081\u2080         0      W\u2081\u2080 + W\u2081\u2082      0        -W\u2081\u2082         0    \u23a5\n",
        "\u23a2                                                                \u23a5\n",
        "\u23a2    0        -W\u2081\u2080         0      W\u2081\u2080 + W\u2081\u2082      0        -W\u2081\u2082   \u23a5\n",
        "\u23a2                                                                \u23a5\n",
        "\u23a2  -W\u2082\u2080         0        -W\u2082\u2081         0      W\u2082\u2080 + W\u2082\u2081      0    \u23a5\n",
        "\u23a2                                                                \u23a5\n",
        "\u23a3    0        -W\u2082\u2080         0        -W\u2082\u2081         0      W\u2082\u2080 + W\u2082\u2081\u23a6"
       ]
      }
     ],
     "prompt_number": 7
    },
    {
     "cell_type": "code",
     "collapsed": false,
     "input": [
      "alpha = sy.MatrixSymbol('alpha', n_dictionary,n_patches)\n",
      "sy.Matrix(alpha)"
     ],
     "language": "python",
     "metadata": {},
     "outputs": [
      {
       "metadata": {},
       "output_type": "pyout",
       "prompt_number": 8,
       "text": [
        "\u23a1\u03b1\u2080\u2080  \u03b1\u2080\u2081  \u03b1\u2080\u2082\u23a4\n",
        "\u23a2             \u23a5\n",
        "\u23a3\u03b1\u2081\u2080  \u03b1\u2081\u2081  \u03b1\u2081\u2082\u23a6"
       ]
      }
     ],
     "prompt_number": 8
    },
    {
     "cell_type": "code",
     "collapsed": false,
     "input": [
      "A = sy.Matrix(alpha.T).reshape(n_dictionary*n_patches,1)\n",
      "A"
     ],
     "language": "python",
     "metadata": {},
     "outputs": [
      {
       "metadata": {},
       "output_type": "pyout",
       "prompt_number": 9,
       "text": [
        "\u23a1\u03b1\u2080\u2080\u23a4\n",
        "\u23a2   \u23a5\n",
        "\u23a2\u03b1\u2081\u2080\u23a5\n",
        "\u23a2   \u23a5\n",
        "\u23a2\u03b1\u2080\u2081\u23a5\n",
        "\u23a2   \u23a5\n",
        "\u23a2\u03b1\u2081\u2081\u23a5\n",
        "\u23a2   \u23a5\n",
        "\u23a2\u03b1\u2080\u2082\u23a5\n",
        "\u23a2   \u23a5\n",
        "\u23a3\u03b1\u2081\u2082\u23a6"
       ]
      }
     ],
     "prompt_number": 9
    },
    {
     "cell_type": "code",
     "collapsed": false,
     "input": [
      "new = A.T*L_exp*A\n",
      "f = new[0]"
     ],
     "language": "python",
     "metadata": {},
     "outputs": [],
     "prompt_number": 10
    },
    {
     "cell_type": "code",
     "collapsed": false,
     "input": [
      "f.subs(w[0,1],w[1,0]).subs(w[0,2],w[2,0]).subs(w[1,2],w[2,1]).expand()"
     ],
     "language": "python",
     "metadata": {},
     "outputs": [
      {
       "metadata": {},
       "output_type": "pyout",
       "prompt_number": 11,
       "text": [
        "       2                          2          2                          2     \n",
        "W\u2081\u2080\u22c5\u03b1\u2080\u2080  - 2\u22c5W\u2081\u2080\u22c5\u03b1\u2080\u2080\u22c5\u03b1\u2080\u2081 + W\u2081\u2080\u22c5\u03b1\u2080\u2081  + W\u2081\u2080\u22c5\u03b1\u2081\u2080  - 2\u22c5W\u2081\u2080\u22c5\u03b1\u2081\u2080\u22c5\u03b1\u2081\u2081 + W\u2081\u2080\u22c5\u03b1\u2081\u2081  + W\u2082\n",
        "\n",
        "     2                          2          2                          2       \n",
        "\u2080\u22c5\u03b1\u2080\u2080  - 2\u22c5W\u2082\u2080\u22c5\u03b1\u2080\u2080\u22c5\u03b1\u2080\u2082 + W\u2082\u2080\u22c5\u03b1\u2080\u2082  + W\u2082\u2080\u22c5\u03b1\u2081\u2080  - 2\u22c5W\u2082\u2080\u22c5\u03b1\u2081\u2080\u22c5\u03b1\u2081\u2082 + W\u2082\u2080\u22c5\u03b1\u2081\u2082  + W\u2082\u2081\u22c5\n",
        "\n",
        "   2                          2          2                          2\n",
        "\u03b1\u2080\u2081  - 2\u22c5W\u2082\u2081\u22c5\u03b1\u2080\u2081\u22c5\u03b1\u2080\u2082 + W\u2082\u2081\u22c5\u03b1\u2080\u2082  + W\u2082\u2081\u22c5\u03b1\u2081\u2081  - 2\u22c5W\u2082\u2081\u22c5\u03b1\u2081\u2081\u22c5\u03b1\u2081\u2082 + W\u2082\u2081\u22c5\u03b1\u2081\u2082 "
       ]
      }
     ],
     "prompt_number": 11
    },
    {
     "cell_type": "code",
     "collapsed": false,
     "input": [
      "f.collect(w)"
     ],
     "language": "python",
     "metadata": {},
     "outputs": [
      {
       "metadata": {},
       "output_type": "pyout",
       "prompt_number": 12,
       "text": [
        "\u03b1\u2080\u2080\u22c5(-W\u2081\u2080\u22c5\u03b1\u2080\u2081 - W\u2082\u2080\u22c5\u03b1\u2080\u2082 + \u03b1\u2080\u2080\u22c5(W\u2080\u2081 + W\u2080\u2082)) + \u03b1\u2080\u2081\u22c5(-W\u2080\u2081\u22c5\u03b1\u2080\u2080 - W\u2082\u2081\u22c5\u03b1\u2080\u2082 + \u03b1\u2080\u2081\u22c5(W\u2081\n",
        "\u2080 + W\u2081\u2082)) + \u03b1\u2080\u2082\u22c5(-W\u2080\u2082\u22c5\u03b1\u2080\u2080 - W\u2081\u2082\u22c5\u03b1\u2080\u2081 + \u03b1\u2080\u2082\u22c5(W\u2082\u2080 + W\u2082\u2081)) + \u03b1\u2081\u2080\u22c5(-W\u2081\u2080\u22c5\u03b1\u2081\u2081 - W\u2082\u2080\u22c5\u03b1\n",
        "\u2081\u2082 + \u03b1\u2081\u2080\u22c5(W\u2080\u2081 + W\u2080\u2082)) + \u03b1\u2081\u2081\u22c5(-W\u2080\u2081\u22c5\u03b1\u2081\u2080 - W\u2082\u2081\u22c5\u03b1\u2081\u2082 + \u03b1\u2081\u2081\u22c5(W\u2081\u2080 + W\u2081\u2082)) + \u03b1\u2081\u2082\u22c5(-W\u2080\u2082\n",
        "\u22c5\u03b1\u2081\u2080 - W\u2081\u2082\u22c5\u03b1\u2081\u2081 + \u03b1\u2081\u2082\u22c5(W\u2082\u2080 + W\u2082\u2081))"
       ]
      }
     ],
     "prompt_number": 12
    }
   ],
   "metadata": {}
  }
 ]
}